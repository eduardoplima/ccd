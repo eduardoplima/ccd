{
 "cells": [
  {
   "cell_type": "code",
   "execution_count": 2,
   "metadata": {},
   "outputs": [],
   "source": [
    "import os\n",
    "import pymssql\n",
    "\n",
    "import pandas as pd\n",
    "import numpy as np\n",
    "\n",
    "from dotenv import load_dotenv\n",
    "from utils_ccd import get_connection\n",
    "\n",
    "load_dotenv()\n",
    "conn = get_connection()\n"
   ]
  },
  {
   "cell_type": "code",
   "execution_count": 3,
   "metadata": {},
   "outputs": [],
   "source": [
    "cpf_luzenildo = '10839844468'\n",
    "cpf_jumara = '49766210225'"
   ]
  },
  {
   "cell_type": "code",
   "execution_count": 9,
   "metadata": {},
   "outputs": [
    {
     "name": "stderr",
     "output_type": "stream",
     "text": [
      "/tmp/ipykernel_93399/1484115643.py:18: UserWarning: pandas only supports SQLAlchemy connectable (engine/connection) or database string URI or sqlite3 DBAPI2 connection. Other DBAPI2 objects are not tested. Please consider using SQLAlchemy.\n",
      "  info_luzenildo = pd.read_sql(consulta_informacoes.format(cpf_luzenildo), conn)\n",
      "/tmp/ipykernel_93399/1484115643.py:19: UserWarning: pandas only supports SQLAlchemy connectable (engine/connection) or database string URI or sqlite3 DBAPI2 connection. Other DBAPI2 objects are not tested. Please consider using SQLAlchemy.\n",
      "  info_jumara = pd.read_sql(consulta_informacoes.format(cpf_jumara), conn)\n"
     ]
    }
   ],
   "source": [
    "consulta_informacoes = '''\n",
    "\n",
    "SELECT pm.Descricao, pm.datainclusao, ai.*\n",
    "FROM processo.dbo.Ata_Informacao ai \n",
    "LEFT JOIN processo.dbo.Processos p ON p.IdProcesso = ai.IdProcesso\n",
    "LEFT JOIN processo.dbo.Pro_MarcadorProcesso pmp ON pmp.IdProcesso = p.IdProcesso\n",
    "LEFT JOIN processo.dbo.Pro_Marcador pm ON pm.IdMarcador = pm.IdMarcador\n",
    "LEFT JOIN processo.dbo.Setor s ON s.idSetor = pm.IdSetor\n",
    "WHERE ai.UsuarioInclusao = '{}'\n",
    "AND year(ai.datainclusao) = 2025\n",
    "AND s.codigo = 'CCD' \n",
    "\n",
    "select * from processo.dbo.Setor s where s.codigo = 'CCD'\n",
    "\n",
    "\n",
    "'''\n",
    "\n",
    "info_luzenildo = pd.read_sql(consulta_informacoes.format(cpf_luzenildo), conn)\n",
    "info_jumara = pd.read_sql(consulta_informacoes.format(cpf_jumara), conn)"
   ]
  },
  {
   "cell_type": "code",
   "execution_count": 14,
   "metadata": {},
   "outputs": [
    {
     "data": {
      "text/plain": [
       "933"
      ]
     },
     "execution_count": 14,
     "metadata": {},
     "output_type": "execute_result"
    }
   ],
   "source": [
    "len(info_luzenildo.idInformacao.unique())"
   ]
  },
  {
   "cell_type": "code",
   "execution_count": 15,
   "metadata": {},
   "outputs": [
    {
     "data": {
      "text/plain": [
       "1835"
      ]
     },
     "execution_count": 15,
     "metadata": {},
     "output_type": "execute_result"
    }
   ],
   "source": [
    "len(info_jumara.idInformacao.unique())"
   ]
  },
  {
   "cell_type": "code",
   "execution_count": null,
   "metadata": {},
   "outputs": [],
   "source": []
  }
 ],
 "metadata": {
  "kernelspec": {
   "display_name": ".venv",
   "language": "python",
   "name": "python3"
  },
  "language_info": {
   "codemirror_mode": {
    "name": "ipython",
    "version": 3
   },
   "file_extension": ".py",
   "mimetype": "text/x-python",
   "name": "python",
   "nbconvert_exporter": "python",
   "pygments_lexer": "ipython3",
   "version": "3.12.3"
  }
 },
 "nbformat": 4,
 "nbformat_minor": 2
}
