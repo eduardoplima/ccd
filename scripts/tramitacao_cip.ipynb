{
 "cells": [
  {
   "cell_type": "code",
   "execution_count": 2,
   "metadata": {},
   "outputs": [],
   "source": [
    "import os\n",
    "import pymssql\n",
    "\n",
    "import pandas as pd\n",
    "\n",
    "from dotenv import load_dotenv"
   ]
  },
  {
   "cell_type": "code",
   "execution_count": 1,
   "metadata": {},
   "outputs": [],
   "source": [
    "def get_connection():\n",
    "    load_dotenv()\n",
    "    return pymssql.connect(\n",
    "        server=os.getenv(\"SQL_SERVER_HOST\"),\n",
    "        user=os.getenv(\"SQL_SERVER_USER\"),\n",
    "        password=os.getenv(\"SQL_SERVER_PASS\"),\n",
    "        port=os.getenv(\"SQL_SERVER_PORT\"),\n",
    "        database='processo'\n",
    "    )"
   ]
  },
  {
   "cell_type": "code",
   "execution_count": 4,
   "metadata": {},
   "outputs": [],
   "source": [
    "with open('consultas/processos_tramitacao_cip.sql', 'r') as f:\n",
    "    tramitacao_sql = f.read()"
   ]
  },
  {
   "cell_type": "code",
   "execution_count": 5,
   "metadata": {},
   "outputs": [
    {
     "name": "stderr",
     "output_type": "stream",
     "text": [
      "/tmp/ipykernel_12561/2479143534.py:1: UserWarning: pandas only supports SQLAlchemy connectable (engine/connection) or database string URI or sqlite3 DBAPI2 connection. Other DBAPI2 objects are not tested. Please consider using SQLAlchemy.\n",
      "  df_tramitacao = pd.read_sql(tramitacao_sql, get_connection())\n"
     ]
    }
   ],
   "source": [
    "df_tramitacao = pd.read_sql(tramitacao_sql, get_connection())"
   ]
  },
  {
   "cell_type": "code",
   "execution_count": 42,
   "metadata": {},
   "outputs": [],
   "source": [
    "def get_recebido_dam(row):\n",
    "    with open('consultas/lotes_tramitacao_cip.sql', 'r') as f:\n",
    "        lotes = f.read()\n",
    "    lotes = pd.read_sql(lotes.format(numero_processo=row.numero_processo, ano_processo=row.ano_processo), get_connection())\n",
    "    lotes.destino = lotes.destino.apply(lambda x: x.strip())\n",
    "    return lotes[lotes.destino == 'DAM'].recebido_em.values[0]"
   ]
  },
  {
   "cell_type": "code",
   "execution_count": 45,
   "metadata": {},
   "outputs": [
    {
     "name": "stderr",
     "output_type": "stream",
     "text": [
      "/tmp/ipykernel_12561/2252254553.py:4: UserWarning: pandas only supports SQLAlchemy connectable (engine/connection) or database string URI or sqlite3 DBAPI2 connection. Other DBAPI2 objects are not tested. Please consider using SQLAlchemy.\n",
      "  lotes = pd.read_sql(lotes.format(numero_processo=row.numero_processo, ano_processo=row.ano_processo), get_connection())\n"
     ]
    }
   ],
   "source": [
    "df_tramitacao['recebido_dam'] = df_tramitacao.apply(get_recebido_dam, axis=1)"
   ]
  },
  {
   "cell_type": "code",
   "execution_count": 48,
   "metadata": {},
   "outputs": [],
   "source": [
    "rel_tramitacao = df_tramitacao[['numero_processo', 'ano_processo', 'recebido_dam']]"
   ]
  },
  {
   "cell_type": "code",
   "execution_count": 52,
   "metadata": {},
   "outputs": [
    {
     "name": "stderr",
     "output_type": "stream",
     "text": [
      "/tmp/ipykernel_12561/894465215.py:1: SettingWithCopyWarning: \n",
      "A value is trying to be set on a copy of a slice from a DataFrame.\n",
      "Try using .loc[row_indexer,col_indexer] = value instead\n",
      "\n",
      "See the caveats in the documentation: https://pandas.pydata.org/pandas-docs/stable/user_guide/indexing.html#returning-a-view-versus-a-copy\n",
      "  rel_tramitacao['recebido_dam'] = pd.to_datetime(rel_tramitacao['recebido_dam']).dt.strftime('%d/%m/%Y')\n"
     ]
    }
   ],
   "source": [
    "rel_tramitacao['recebido_dam'] = pd.to_datetime(rel_tramitacao['recebido_dam']).dt.strftime('%d/%m/%Y')"
   ]
  },
  {
   "cell_type": "code",
   "execution_count": 55,
   "metadata": {},
   "outputs": [],
   "source": [
    "rel_tramitacao.to_excel('saidas/tramitacao/tramitacao_dam.xlsx', index=False)"
   ]
  },
  {
   "cell_type": "code",
   "execution_count": null,
   "metadata": {},
   "outputs": [],
   "source": []
  }
 ],
 "metadata": {
  "kernelspec": {
   "display_name": ".venv",
   "language": "python",
   "name": "python3"
  },
  "language_info": {
   "codemirror_mode": {
    "name": "ipython",
    "version": 3
   },
   "file_extension": ".py",
   "mimetype": "text/x-python",
   "name": "python",
   "nbconvert_exporter": "python",
   "pygments_lexer": "ipython3",
   "version": "3.12.7"
  }
 },
 "nbformat": 4,
 "nbformat_minor": 2
}
