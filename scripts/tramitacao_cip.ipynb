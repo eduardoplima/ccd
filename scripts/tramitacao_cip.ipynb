{
 "cells": [
  {
   "cell_type": "code",
   "execution_count": 2,
   "metadata": {},
   "outputs": [],
   "source": [
    "import os\n",
    "import pymssql\n",
    "\n",
    "import pandas as pd\n",
    "\n",
    "from dotenv import load_dotenv"
   ]
  },
  {
   "cell_type": "code",
   "execution_count": 1,
   "metadata": {},
   "outputs": [],
   "source": [
    "def get_connection():\n",
    "    load_dotenv()\n",
    "    return pymssql.connect(\n",
    "        server=os.getenv(\"SQL_SERVER_HOST\"),\n",
    "        user=os.getenv(\"SQL_SERVER_USER\"),\n",
    "        password=os.getenv(\"SQL_SERVER_PASS\"),\n",
    "        port=os.getenv(\"SQL_SERVER_PORT\"),\n",
    "        database='processo'\n",
    "    )"
   ]
  },
  {
   "cell_type": "code",
   "execution_count": 4,
   "metadata": {},
   "outputs": [],
   "source": [
    "with open('consultas/processos_tramitacao_cip.sql', 'r') as f:\n",
    "    tramitacao_sql = f.read()"
   ]
  },
  {
   "cell_type": "code",
   "execution_count": 5,
   "metadata": {},
   "outputs": [
    {
     "name": "stderr",
     "output_type": "stream",
     "text": [
      "/tmp/ipykernel_12561/2479143534.py:1: UserWarning: pandas only supports SQLAlchemy connectable (engine/connection) or database string URI or sqlite3 DBAPI2 connection. Other DBAPI2 objects are not tested. Please consider using SQLAlchemy.\n",
      "  df_tramitacao = pd.read_sql(tramitacao_sql, get_connection())\n"
     ]
    }
   ],
   "source": [
    "df_tramitacao = pd.read_sql(tramitacao_sql, get_connection())"
   ]
  },
  {
   "cell_type": "code",
   "execution_count": 61,
   "metadata": {},
   "outputs": [],
   "source": [
    "def get_recebido_dam(row):\n",
    "    with open('consultas/lotes_tramitacao_cip.sql', 'r') as f:\n",
    "        lotes = f.read()\n",
    "    lotes = pd.read_sql(lotes.format(numero_processo=row.numero_processo, ano_processo=row.ano_processo), get_connection())\n",
    "    lotes.destino = lotes.destino.apply(lambda x: x.strip())\n",
    "    return lotes[lotes.destino == 'DAM'].sort_values('recebido_em', ascending=False).recebido_em.values[0]"
   ]
  },
  {
   "cell_type": "code",
   "execution_count": 62,
   "metadata": {},
   "outputs": [
    {
     "name": "stderr",
     "output_type": "stream",
     "text": [
      "/tmp/ipykernel_12561/430621077.py:4: UserWarning: pandas only supports SQLAlchemy connectable (engine/connection) or database string URI or sqlite3 DBAPI2 connection. Other DBAPI2 objects are not tested. Please consider using SQLAlchemy.\n",
      "  lotes = pd.read_sql(lotes.format(numero_processo=row.numero_processo, ano_processo=row.ano_processo), get_connection())\n"
     ]
    }
   ],
   "source": [
    "df_tramitacao['recebido_dam'] = df_tramitacao.apply(get_recebido_dam, axis=1)"
   ]
  },
  {
   "cell_type": "code",
   "execution_count": 68,
   "metadata": {},
   "outputs": [
    {
     "name": "stderr",
     "output_type": "stream",
     "text": [
      "/tmp/ipykernel_12561/1584935855.py:2: SettingWithCopyWarning: \n",
      "A value is trying to be set on a copy of a slice from a DataFrame.\n",
      "Try using .loc[row_indexer,col_indexer] = value instead\n",
      "\n",
      "See the caveats in the documentation: https://pandas.pydata.org/pandas-docs/stable/user_guide/indexing.html#returning-a-view-versus-a-copy\n",
      "  rel_tramitacao['recebido_dam'] = pd.to_datetime(rel_tramitacao['recebido_dam']).dt.strftime('%d/%m/%Y')\n"
     ]
    }
   ],
   "source": [
    "rel_tramitacao = df_tramitacao[['numero_processo', 'ano_processo', 'recebido_dam']]\n",
    "rel_tramitacao['recebido_dam'] = pd.to_datetime(rel_tramitacao['recebido_dam']).dt.strftime('%d/%m/%Y')\n",
    "rel_tramitacao.to_excel('saidas/tramitacao/tramitacao_dam.xlsx', index=False)"
   ]
  },
  {
   "cell_type": "code",
   "execution_count": 57,
   "metadata": {},
   "outputs": [],
   "source": [
    "row = rel_tramitacao[(rel_tramitacao.numero_processo == '701032') & (rel_tramitacao.ano_processo == '2012')].iloc[0]"
   ]
  },
  {
   "cell_type": "code",
   "execution_count": 58,
   "metadata": {},
   "outputs": [
    {
     "name": "stderr",
     "output_type": "stream",
     "text": [
      "/tmp/ipykernel_12561/1342611402.py:3: UserWarning: pandas only supports SQLAlchemy connectable (engine/connection) or database string URI or sqlite3 DBAPI2 connection. Other DBAPI2 objects are not tested. Please consider using SQLAlchemy.\n",
      "  lotes = pd.read_sql(lotes.format(numero_processo=row.numero_processo, ano_processo=row.ano_processo), get_connection())\n"
     ]
    },
    {
     "data": {
      "text/plain": [
       "0    2012-04-25 11:14:12.403\n",
       "2    2014-02-18 10:01:49.920\n",
       "15   2014-05-08 13:39:48.920\n",
       "18   2017-08-14 15:22:53.280\n",
       "20   2017-08-15 16:31:28.737\n",
       "22   2019-03-22 08:17:30.873\n",
       "37   2020-10-09 11:14:38.670\n",
       "39   2021-02-01 09:28:12.823\n",
       "41   2021-02-03 08:35:29.060\n",
       "Name: recebido_em, dtype: datetime64[ns]"
      ]
     },
     "execution_count": 58,
     "metadata": {},
     "output_type": "execute_result"
    }
   ],
   "source": [
    "\n",
    "with open('consultas/lotes_tramitacao_cip.sql', 'r') as f:\n",
    "    lotes = f.read()\n",
    "lotes = pd.read_sql(lotes.format(numero_processo=row.numero_processo, ano_processo=row.ano_processo), get_connection())\n",
    "lotes.destino = lotes.destino.apply(lambda x: x.strip())\n",
    "lotes[lotes.destino == 'DAM'].recebido_em"
   ]
  },
  {
   "cell_type": "code",
   "execution_count": 65,
   "metadata": {},
   "outputs": [
    {
     "data": {
      "text/html": [
       "<div>\n",
       "<style scoped>\n",
       "    .dataframe tbody tr th:only-of-type {\n",
       "        vertical-align: middle;\n",
       "    }\n",
       "\n",
       "    .dataframe tbody tr th {\n",
       "        vertical-align: top;\n",
       "    }\n",
       "\n",
       "    .dataframe thead th {\n",
       "        text-align: right;\n",
       "    }\n",
       "</style>\n",
       "<table border=\"1\" class=\"dataframe\">\n",
       "  <thead>\n",
       "    <tr style=\"text-align: right;\">\n",
       "      <th></th>\n",
       "      <th>numero_processo</th>\n",
       "      <th>ano_processo</th>\n",
       "      <th>recebido_dam</th>\n",
       "    </tr>\n",
       "  </thead>\n",
       "  <tbody>\n",
       "    <tr>\n",
       "      <th>186</th>\n",
       "      <td>701032</td>\n",
       "      <td>2012</td>\n",
       "      <td>2021-02-03 08:35:29.060</td>\n",
       "    </tr>\n",
       "  </tbody>\n",
       "</table>\n",
       "</div>"
      ],
      "text/plain": [
       "    numero_processo ano_processo            recebido_dam\n",
       "186          701032         2012 2021-02-03 08:35:29.060"
      ]
     },
     "execution_count": 65,
     "metadata": {},
     "output_type": "execute_result"
    }
   ],
   "source": [
    "rel_tramitacao[(rel_tramitacao.numero_processo == '701032') & (rel_tramitacao.ano_processo == '2012')]"
   ]
  },
  {
   "cell_type": "code",
   "execution_count": 66,
   "metadata": {},
   "outputs": [
    {
     "data": {
      "text/plain": [
       "41   2021-02-03 08:35:29.060\n",
       "39   2021-02-01 09:28:12.823\n",
       "37   2020-10-09 11:14:38.670\n",
       "22   2019-03-22 08:17:30.873\n",
       "20   2017-08-15 16:31:28.737\n",
       "18   2017-08-14 15:22:53.280\n",
       "15   2014-05-08 13:39:48.920\n",
       "2    2014-02-18 10:01:49.920\n",
       "0    2012-04-25 11:14:12.403\n",
       "Name: recebido_em, dtype: datetime64[ns]"
      ]
     },
     "execution_count": 66,
     "metadata": {},
     "output_type": "execute_result"
    }
   ],
   "source": [
    "lotes[lotes.destino == 'DAM'].sort_values('recebido_em', ascending=False).recebido_em"
   ]
  },
  {
   "cell_type": "code",
   "execution_count": null,
   "metadata": {},
   "outputs": [],
   "source": []
  }
 ],
 "metadata": {
  "kernelspec": {
   "display_name": ".venv",
   "language": "python",
   "name": "python3"
  },
  "language_info": {
   "codemirror_mode": {
    "name": "ipython",
    "version": 3
   },
   "file_extension": ".py",
   "mimetype": "text/x-python",
   "name": "python",
   "nbconvert_exporter": "python",
   "pygments_lexer": "ipython3",
   "version": "3.12.7"
  }
 },
 "nbformat": 4,
 "nbformat_minor": 2
}
