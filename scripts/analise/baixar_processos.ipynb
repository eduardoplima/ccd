{
 "cells": [
  {
   "cell_type": "code",
   "execution_count": 1,
   "id": "bebe49bb",
   "metadata": {},
   "outputs": [],
   "source": [
    "from pathlib import Path\n",
    "from utils_ccd import get_connection, merge_pdfs, get_pdf_files_processo"
   ]
  },
  {
   "cell_type": "code",
   "execution_count": 3,
   "id": "ac2c9970",
   "metadata": {},
   "outputs": [],
   "source": [
    "merge_pdfs(get_pdf_files_processo('002667/2025', get_connection()), Path('saidas/processo_002667_2025.pdf'))\n",
    "merge_pdfs(get_pdf_files_processo('000606/2025', get_connection()), Path('saidas/processo_000606_2025.pdf'))\n",
    "merge_pdfs(get_pdf_files_processo('002709/2023', get_connection()), Path('saidas/processo_002709_2023.pdf'))\n",
    "merge_pdfs(get_pdf_files_processo('002815/2023', get_connection()), Path('saidas/processo_002815_2023.pdf'))\n",
    "\n"
   ]
  },
  {
   "cell_type": "code",
   "execution_count": null,
   "id": "e108d2be",
   "metadata": {},
   "outputs": [],
   "source": []
  }
 ],
 "metadata": {
  "kernelspec": {
   "display_name": ".venv",
   "language": "python",
   "name": "python3"
  },
  "language_info": {
   "codemirror_mode": {
    "name": "ipython",
    "version": 3
   },
   "file_extension": ".py",
   "mimetype": "text/x-python",
   "name": "python",
   "nbconvert_exporter": "python",
   "pygments_lexer": "ipython3",
   "version": "3.12.10"
  }
 },
 "nbformat": 4,
 "nbformat_minor": 5
}
