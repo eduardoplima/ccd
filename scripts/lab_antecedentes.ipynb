{
 "cells": [
  {
   "cell_type": "code",
   "execution_count": 2,
   "metadata": {},
   "outputs": [],
   "source": [
    "import pandas as pd"
   ]
  },
  {
   "cell_type": "code",
   "execution_count": 3,
   "metadata": {},
   "outputs": [],
   "source": [
    "df = pd.read_pickle('df_antecedentes.pkl')"
   ]
  },
  {
   "cell_type": "code",
   "execution_count": 4,
   "metadata": {},
   "outputs": [
    {
     "data": {
      "text/html": [
       "<div>\n",
       "<style scoped>\n",
       "    .dataframe tbody tr th:only-of-type {\n",
       "        vertical-align: middle;\n",
       "    }\n",
       "\n",
       "    .dataframe tbody tr th {\n",
       "        vertical-align: top;\n",
       "    }\n",
       "\n",
       "    .dataframe thead th {\n",
       "        text-align: right;\n",
       "    }\n",
       "</style>\n",
       "<table border=\"1\" class=\"dataframe\">\n",
       "  <thead>\n",
       "    <tr style=\"text-align: right;\">\n",
       "      <th></th>\n",
       "      <th>debito</th>\n",
       "      <th>debito_anterior</th>\n",
       "      <th>processo_origem</th>\n",
       "      <th>processo_execucao</th>\n",
       "      <th>tipo_debito</th>\n",
       "      <th>valor_original</th>\n",
       "      <th>valor_atualizado</th>\n",
       "      <th>transito_julgado</th>\n",
       "      <th>situacao_divida</th>\n",
       "      <th>status_protesto</th>\n",
       "      <th>status_pge</th>\n",
       "    </tr>\n",
       "  </thead>\n",
       "  <tbody>\n",
       "    <tr>\n",
       "      <th>0</th>\n",
       "      <td>23493</td>\n",
       "      <td>None</td>\n",
       "      <td>003107/2018</td>\n",
       "      <td>003264/2023</td>\n",
       "      <td>Multa</td>\n",
       "      <td>5000.0</td>\n",
       "      <td>NaN</td>\n",
       "      <td>31/05/2023</td>\n",
       "      <td>Pago parcialmente</td>\n",
       "      <td>Solicitação de Autorização de Cancelamento (Dí...</td>\n",
       "      <td>None</td>\n",
       "    </tr>\n",
       "    <tr>\n",
       "      <th>1</th>\n",
       "      <td>27055</td>\n",
       "      <td>23493</td>\n",
       "      <td>003107/2018</td>\n",
       "      <td>003264/2023</td>\n",
       "      <td>Multa</td>\n",
       "      <td>4000.0</td>\n",
       "      <td>1094.02</td>\n",
       "      <td>31/05/2023</td>\n",
       "      <td>Pago Integralmente</td>\n",
       "      <td>None</td>\n",
       "      <td>None</td>\n",
       "    </tr>\n",
       "    <tr>\n",
       "      <th>2</th>\n",
       "      <td>27311</td>\n",
       "      <td>27055</td>\n",
       "      <td>003107/2018</td>\n",
       "      <td>003264/2023</td>\n",
       "      <td>Multa</td>\n",
       "      <td>3000.0</td>\n",
       "      <td>NaN</td>\n",
       "      <td>31/05/2023</td>\n",
       "      <td>Cancelada por Reabertura de Parcelamento</td>\n",
       "      <td>None</td>\n",
       "      <td>None</td>\n",
       "    </tr>\n",
       "  </tbody>\n",
       "</table>\n",
       "</div>"
      ],
      "text/plain": [
       "  debito debito_anterior processo_origem processo_execucao tipo_debito  \\\n",
       "0  23493            None     003107/2018       003264/2023       Multa   \n",
       "1  27055           23493     003107/2018       003264/2023       Multa   \n",
       "2  27311           27055     003107/2018       003264/2023       Multa   \n",
       "\n",
       "   valor_original  valor_atualizado transito_julgado  \\\n",
       "0          5000.0               NaN       31/05/2023   \n",
       "1          4000.0           1094.02       31/05/2023   \n",
       "2          3000.0               NaN       31/05/2023   \n",
       "\n",
       "                            situacao_divida  \\\n",
       "0                         Pago parcialmente   \n",
       "1                        Pago Integralmente   \n",
       "2  Cancelada por Reabertura de Parcelamento   \n",
       "\n",
       "                                     status_protesto status_pge  \n",
       "0  Solicitação de Autorização de Cancelamento (Dí...       None  \n",
       "1                                               None       None  \n",
       "2                                               None       None  "
      ]
     },
     "execution_count": 4,
     "metadata": {},
     "output_type": "execute_result"
    }
   ],
   "source": [
    "df"
   ]
  },
  {
   "cell_type": "code",
   "execution_count": null,
   "metadata": {},
   "outputs": [],
   "source": [
    "for i,r in df.iterrows():\n",
    "    chain = []\n",
    "    cur_row = r\n",
    "    if not r['debito_anterior']:\n",
    "        debito_filho = df[df['debito_anterior'] == r['debito']].iloc[0]\n",
    "        if debito_filho['debito']:\n",
    "            chain.append([r['debito'], debito_filho['debito'], debito_filho['situacao_divida']])\n",
    "            cur_row = debito_filho\n",
    "            while cur_row['debito_anterior']:\n",
    "                prox_filho = df[df['debito_anterior'] == cur_row['debito']]\n",
    "                if prox_filho.empty:\n",
    "                    break\n",
    "                debito_filho = prox_filho.iloc[0]\n",
    "                chain.append([cur_row['debito'], debito_filho['debito'], debito_filho['situacao_divida']])\n",
    "                cur_row = debito_filho\n"
   ]
  },
  {
   "cell_type": "code",
   "execution_count": 28,
   "metadata": {},
   "outputs": [
    {
     "data": {
      "text/plain": [
       "[]"
      ]
     },
     "execution_count": 28,
     "metadata": {},
     "output_type": "execute_result"
    }
   ],
   "source": [
    "chain"
   ]
  },
  {
   "cell_type": "code",
   "execution_count": 26,
   "metadata": {},
   "outputs": [
    {
     "data": {
      "text/plain": [
       "debito                                                  27311\n",
       "debito_anterior                                         27055\n",
       "processo_origem                                   003107/2018\n",
       "processo_execucao                                 003264/2023\n",
       "tipo_debito                                             Multa\n",
       "valor_original                                         3000.0\n",
       "valor_atualizado                                          NaN\n",
       "transito_julgado                                   31/05/2023\n",
       "situacao_divida      Cancelada por Reabertura de Parcelamento\n",
       "status_protesto                                          None\n",
       "status_pge                                               None\n",
       "Name: 2, dtype: object"
      ]
     },
     "execution_count": 26,
     "metadata": {},
     "output_type": "execute_result"
    }
   ],
   "source": [
    "r"
   ]
  },
  {
   "cell_type": "code",
   "execution_count": null,
   "metadata": {},
   "outputs": [],
   "source": []
  }
 ],
 "metadata": {
  "kernelspec": {
   "display_name": ".venv",
   "language": "python",
   "name": "python3"
  },
  "language_info": {
   "codemirror_mode": {
    "name": "ipython",
    "version": 3
   },
   "file_extension": ".py",
   "mimetype": "text/x-python",
   "name": "python",
   "nbconvert_exporter": "python",
   "pygments_lexer": "ipython3",
   "version": "3.12.7"
  }
 },
 "nbformat": 4,
 "nbformat_minor": 2
}
