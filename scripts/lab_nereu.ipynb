{
 "cells": [
  {
   "cell_type": "code",
   "execution_count": 17,
   "metadata": {},
   "outputs": [],
   "source": [
    "import pandas as pd\n",
    "import numpy as np\n",
    "import matplotlib.pyplot as plt\n",
    "import seaborn as sns\n",
    "\n",
    "from utils_ccd import get_connection\n",
    "\n",
    "conn = get_connection()"
   ]
  },
  {
   "cell_type": "code",
   "execution_count": 2,
   "metadata": {},
   "outputs": [],
   "source": [
    "conn = get_connection()"
   ]
  },
  {
   "cell_type": "code",
   "execution_count": 7,
   "metadata": {},
   "outputs": [
    {
     "name": "stderr",
     "output_type": "stream",
     "text": [
      "/tmp/ipykernel_235576/2968565797.py:10: UserWarning: pandas only supports SQLAlchemy connectable (engine/connection) or database string URI or sqlite3 DBAPI2 connection. Other DBAPI2 objects are not tested. Please consider using SQLAlchemy.\n",
      "  processos_nereu = pd.read_sql(sql_nereu, conn)\n"
     ]
    }
   ],
   "source": [
    "sql_nereu = \"\"\"\n",
    "SELECT p.numero_processo, p.ano_processo, p.codigo_tipo_processo, p.assunto, r.nome, pm.Descricao as marcador\n",
    "FROM processo.dbo.Processos p \n",
    "\tINNER JOIN processo.dbo.Pro_MarcadorProcesso pmp ON p.IdProcesso = pmp.IdProcesso\n",
    "\tINNER JOIN processo.dbo.Pro_Marcador pm ON pm.IdMarcador = pmp.IdMarcador \n",
    "\tINNER JOIN processo.dbo.Relator r ON r.codigo = p.codigo_relator \n",
    "WHERE setor_atual = 'CCD' \n",
    "\tAND lower(pm.Descricao) = 'DESCONTO EM FOLHA - Nereu'\n",
    "\"\"\"\n",
    "processos_nereu = pd.read_sql(sql_nereu, conn)"
   ]
  },
  {
   "cell_type": "code",
   "execution_count": 8,
   "metadata": {},
   "outputs": [
    {
     "data": {
      "text/html": [
       "<div>\n",
       "<style scoped>\n",
       "    .dataframe tbody tr th:only-of-type {\n",
       "        vertical-align: middle;\n",
       "    }\n",
       "\n",
       "    .dataframe tbody tr th {\n",
       "        vertical-align: top;\n",
       "    }\n",
       "\n",
       "    .dataframe thead th {\n",
       "        text-align: right;\n",
       "    }\n",
       "</style>\n",
       "<table border=\"1\" class=\"dataframe\">\n",
       "  <thead>\n",
       "    <tr style=\"text-align: right;\">\n",
       "      <th></th>\n",
       "      <th>numero_processo</th>\n",
       "      <th>ano_processo</th>\n",
       "      <th>codigo_tipo_processo</th>\n",
       "      <th>assunto</th>\n",
       "      <th>nome</th>\n",
       "      <th>marcador</th>\n",
       "    </tr>\n",
       "  </thead>\n",
       "  <tbody>\n",
       "    <tr>\n",
       "      <th>0</th>\n",
       "      <td>011525</td>\n",
       "      <td>2009</td>\n",
       "      <td>APO</td>\n",
       "      <td>APOSENTADORIA                                 ...</td>\n",
       "      <td>CARLOS THOMPSON COSTA FERNANDES</td>\n",
       "      <td>DESCONTO EM FOLHA - Nereu</td>\n",
       "    </tr>\n",
       "    <tr>\n",
       "      <th>1</th>\n",
       "      <td>012970</td>\n",
       "      <td>2017</td>\n",
       "      <td>EXE</td>\n",
       "      <td>EXECUÇÃO DA DECISÃO PROFERIDA NOS AUTOS DO PRO...</td>\n",
       "      <td>CARLOS THOMPSON COSTA FERNANDES</td>\n",
       "      <td>DESCONTO EM FOLHA - Nereu</td>\n",
       "    </tr>\n",
       "    <tr>\n",
       "      <th>2</th>\n",
       "      <td>000096</td>\n",
       "      <td>2022</td>\n",
       "      <td>EXE</td>\n",
       "      <td>EXECUÇÃO DA DECISÃO PROFERIDA NOS AUTOS DO PRO...</td>\n",
       "      <td>ANTONIO ED SOUZA SANTANA</td>\n",
       "      <td>DESCONTO EM FOLHA - Nereu</td>\n",
       "    </tr>\n",
       "    <tr>\n",
       "      <th>3</th>\n",
       "      <td>000098</td>\n",
       "      <td>2022</td>\n",
       "      <td>EXE</td>\n",
       "      <td>EXECUÇÃO DA DECISÃO PROFERIDA NOS AUTOS DO PRO...</td>\n",
       "      <td>ANTONIO ED SOUZA SANTANA</td>\n",
       "      <td>DESCONTO EM FOLHA - Nereu</td>\n",
       "    </tr>\n",
       "    <tr>\n",
       "      <th>4</th>\n",
       "      <td>000099</td>\n",
       "      <td>2022</td>\n",
       "      <td>EXE</td>\n",
       "      <td>EXECUÇÃO DA DECISÃO PROFERIDA NOS AUTOS DO PRO...</td>\n",
       "      <td>ANTONIO ED SOUZA SANTANA</td>\n",
       "      <td>DESCONTO EM FOLHA - Nereu</td>\n",
       "    </tr>\n",
       "    <tr>\n",
       "      <th>...</th>\n",
       "      <td>...</td>\n",
       "      <td>...</td>\n",
       "      <td>...</td>\n",
       "      <td>...</td>\n",
       "      <td>...</td>\n",
       "      <td>...</td>\n",
       "    </tr>\n",
       "    <tr>\n",
       "      <th>338</th>\n",
       "      <td>004898</td>\n",
       "      <td>2024</td>\n",
       "      <td>EXE</td>\n",
       "      <td>EXECUÇÃO DA DECISÃO PROFERIDA NOS AUTOS DO PRO...</td>\n",
       "      <td>ANTONIO ED SOUZA SANTANA</td>\n",
       "      <td>DESCONTO EM FOLHA - Nereu</td>\n",
       "    </tr>\n",
       "    <tr>\n",
       "      <th>339</th>\n",
       "      <td>004901</td>\n",
       "      <td>2024</td>\n",
       "      <td>EXE</td>\n",
       "      <td>EXECUÇÃO DA DECISÃO PROFERIDA NOS AUTOS DO PRO...</td>\n",
       "      <td>PAULO ROBERTO CHAVES ALVES</td>\n",
       "      <td>DESCONTO EM FOLHA - Nereu</td>\n",
       "    </tr>\n",
       "    <tr>\n",
       "      <th>340</th>\n",
       "      <td>004908</td>\n",
       "      <td>2024</td>\n",
       "      <td>EXE</td>\n",
       "      <td>EXECUÇÃO DA DECISÃO PROFERIDA NOS AUTOS DO PRO...</td>\n",
       "      <td>FRANCISCO POTIGUAR CAVALCANTI JÚNIOR</td>\n",
       "      <td>DESCONTO EM FOLHA - Nereu</td>\n",
       "    </tr>\n",
       "    <tr>\n",
       "      <th>341</th>\n",
       "      <td>000069</td>\n",
       "      <td>2025</td>\n",
       "      <td>EXE</td>\n",
       "      <td>EXECUÇÃO DA DECISÃO PROFERIDA NOS AUTOS DO PRO...</td>\n",
       "      <td>CARLOS THOMPSON COSTA FERNANDES</td>\n",
       "      <td>DESCONTO EM FOLHA - Nereu</td>\n",
       "    </tr>\n",
       "    <tr>\n",
       "      <th>342</th>\n",
       "      <td>002018</td>\n",
       "      <td>2025</td>\n",
       "      <td>EXE</td>\n",
       "      <td>EXECUÇÃO DA DECISÃO PROFERIDA NOS AUTOS DO PRO...</td>\n",
       "      <td>ANTONIO GILBERTO DE OLIVEIRA JALES</td>\n",
       "      <td>DESCONTO EM FOLHA - Nereu</td>\n",
       "    </tr>\n",
       "  </tbody>\n",
       "</table>\n",
       "<p>343 rows × 6 columns</p>\n",
       "</div>"
      ],
      "text/plain": [
       "    numero_processo ano_processo codigo_tipo_processo  \\\n",
       "0            011525         2009                  APO   \n",
       "1            012970         2017                  EXE   \n",
       "2            000096         2022                  EXE   \n",
       "3            000098         2022                  EXE   \n",
       "4            000099         2022                  EXE   \n",
       "..              ...          ...                  ...   \n",
       "338          004898         2024                  EXE   \n",
       "339          004901         2024                  EXE   \n",
       "340          004908         2024                  EXE   \n",
       "341          000069         2025                  EXE   \n",
       "342          002018         2025                  EXE   \n",
       "\n",
       "                                               assunto  \\\n",
       "0    APOSENTADORIA                                 ...   \n",
       "1    EXECUÇÃO DA DECISÃO PROFERIDA NOS AUTOS DO PRO...   \n",
       "2    EXECUÇÃO DA DECISÃO PROFERIDA NOS AUTOS DO PRO...   \n",
       "3    EXECUÇÃO DA DECISÃO PROFERIDA NOS AUTOS DO PRO...   \n",
       "4    EXECUÇÃO DA DECISÃO PROFERIDA NOS AUTOS DO PRO...   \n",
       "..                                                 ...   \n",
       "338  EXECUÇÃO DA DECISÃO PROFERIDA NOS AUTOS DO PRO...   \n",
       "339  EXECUÇÃO DA DECISÃO PROFERIDA NOS AUTOS DO PRO...   \n",
       "340  EXECUÇÃO DA DECISÃO PROFERIDA NOS AUTOS DO PRO...   \n",
       "341  EXECUÇÃO DA DECISÃO PROFERIDA NOS AUTOS DO PRO...   \n",
       "342  EXECUÇÃO DA DECISÃO PROFERIDA NOS AUTOS DO PRO...   \n",
       "\n",
       "                                     nome                   marcador  \n",
       "0         CARLOS THOMPSON COSTA FERNANDES  DESCONTO EM FOLHA - Nereu  \n",
       "1         CARLOS THOMPSON COSTA FERNANDES  DESCONTO EM FOLHA - Nereu  \n",
       "2                ANTONIO ED SOUZA SANTANA  DESCONTO EM FOLHA - Nereu  \n",
       "3                ANTONIO ED SOUZA SANTANA  DESCONTO EM FOLHA - Nereu  \n",
       "4                ANTONIO ED SOUZA SANTANA  DESCONTO EM FOLHA - Nereu  \n",
       "..                                    ...                        ...  \n",
       "338              ANTONIO ED SOUZA SANTANA  DESCONTO EM FOLHA - Nereu  \n",
       "339            PAULO ROBERTO CHAVES ALVES  DESCONTO EM FOLHA - Nereu  \n",
       "340  FRANCISCO POTIGUAR CAVALCANTI JÚNIOR  DESCONTO EM FOLHA - Nereu  \n",
       "341       CARLOS THOMPSON COSTA FERNANDES  DESCONTO EM FOLHA - Nereu  \n",
       "342    ANTONIO GILBERTO DE OLIVEIRA JALES  DESCONTO EM FOLHA - Nereu  \n",
       "\n",
       "[343 rows x 6 columns]"
      ]
     },
     "execution_count": 8,
     "metadata": {},
     "output_type": "execute_result"
    }
   ],
   "source": [
    "processos_nereu"
   ]
  },
  {
   "cell_type": "code",
   "execution_count": 13,
   "metadata": {},
   "outputs": [],
   "source": [
    "nereu_relator = processos_nereu.groupby('nome').numero_processo.count().reset_index().sort_values('numero_processo', ascending=False)"
   ]
  },
  {
   "cell_type": "code",
   "execution_count": 15,
   "metadata": {},
   "outputs": [],
   "source": [
    "nereu_relator.columns = ['Relator', 'Quantidade']"
   ]
  },
  {
   "cell_type": "code",
   "execution_count": 16,
   "metadata": {},
   "outputs": [
    {
     "data": {
      "text/html": [
       "<div>\n",
       "<style scoped>\n",
       "    .dataframe tbody tr th:only-of-type {\n",
       "        vertical-align: middle;\n",
       "    }\n",
       "\n",
       "    .dataframe tbody tr th {\n",
       "        vertical-align: top;\n",
       "    }\n",
       "\n",
       "    .dataframe thead th {\n",
       "        text-align: right;\n",
       "    }\n",
       "</style>\n",
       "<table border=\"1\" class=\"dataframe\">\n",
       "  <thead>\n",
       "    <tr style=\"text-align: right;\">\n",
       "      <th></th>\n",
       "      <th>Relator</th>\n",
       "      <th>Quantidade</th>\n",
       "    </tr>\n",
       "  </thead>\n",
       "  <tbody>\n",
       "    <tr>\n",
       "      <th>1</th>\n",
       "      <td>ANTONIO ED SOUZA SANTANA</td>\n",
       "      <td>158</td>\n",
       "    </tr>\n",
       "    <tr>\n",
       "      <th>5</th>\n",
       "      <td>PAULO ROBERTO CHAVES ALVES</td>\n",
       "      <td>82</td>\n",
       "    </tr>\n",
       "    <tr>\n",
       "      <th>3</th>\n",
       "      <td>CARLOS THOMPSON COSTA FERNANDES</td>\n",
       "      <td>55</td>\n",
       "    </tr>\n",
       "    <tr>\n",
       "      <th>2</th>\n",
       "      <td>ANTONIO GILBERTO DE OLIVEIRA JALES</td>\n",
       "      <td>34</td>\n",
       "    </tr>\n",
       "    <tr>\n",
       "      <th>0</th>\n",
       "      <td>ANA PAULA DE OLIVEIRA GOMES</td>\n",
       "      <td>13</td>\n",
       "    </tr>\n",
       "    <tr>\n",
       "      <th>4</th>\n",
       "      <td>FRANCISCO POTIGUAR CAVALCANTI JÚNIOR</td>\n",
       "      <td>1</td>\n",
       "    </tr>\n",
       "  </tbody>\n",
       "</table>\n",
       "</div>"
      ],
      "text/plain": [
       "                                Relator  Quantidade\n",
       "1              ANTONIO ED SOUZA SANTANA         158\n",
       "5            PAULO ROBERTO CHAVES ALVES          82\n",
       "3       CARLOS THOMPSON COSTA FERNANDES          55\n",
       "2    ANTONIO GILBERTO DE OLIVEIRA JALES          34\n",
       "0           ANA PAULA DE OLIVEIRA GOMES          13\n",
       "4  FRANCISCO POTIGUAR CAVALCANTI JÚNIOR           1"
      ]
     },
     "execution_count": 16,
     "metadata": {},
     "output_type": "execute_result"
    }
   ],
   "source": [
    "nereu_relator"
   ]
  },
  {
   "cell_type": "code",
   "execution_count": 19,
   "metadata": {},
   "outputs": [
    {
     "name": "stderr",
     "output_type": "stream",
     "text": [
      "/tmp/ipykernel_235576/1614309008.py:2: FutureWarning: \n",
      "\n",
      "Passing `palette` without assigning `hue` is deprecated and will be removed in v0.14.0. Assign the `x` variable to `hue` and set `legend=False` for the same effect.\n",
      "\n",
      "  sns.barplot(data=nereu_relator, x='Relator', y='Quantidade', palette='viridis')\n"
     ]
    },
    {
     "data": {
      "image/png": "[encoded data removed]",
      "text/plain": [
       "<Figure size 1000x600 with 1 Axes>"
      ]
     },
     "metadata": {},
     "output_type": "display_data"
    }
   ],
   "source": [
    "plt.figure(figsize=(10, 6))\n",
    "sns.barplot(data=nereu_relator, x='Relator', y='Quantidade', palette='viridis')\n",
    "plt.xticks(rotation=45, ha='right')\n",
    "sns.despine(right=True, top=True)\n",
    "plt.title('Desconto em Folha Nereu - Relator')\n",
    "plt.xlabel('Relator')\n",
    "plt.ylabel('Quantidade de Processos na CCD')\n",
    "plt.show()"
   ]
  },
  {
   "cell_type": "code",
   "execution_count": 22,
   "metadata": {},
   "outputs": [],
   "source": [
    "processos_ed = processos_nereu[processos_nereu.nome == 'ANTONIO ED SOUZA SANTANA']"
   ]
  },
  {
   "cell_type": "code",
   "execution_count": 24,
   "metadata": {},
   "outputs": [
    {
     "data": {
      "text/plain": [
       "array(['EXE'], dtype=object)"
      ]
     },
     "execution_count": 24,
     "metadata": {},
     "output_type": "execute_result"
    }
   ],
   "source": [
    "processos_ed.codigo_tipo_processo.unique()"
   ]
  },
  {
   "cell_type": "code",
   "execution_count": 25,
   "metadata": {},
   "outputs": [
    {
     "data": {
      "text/html": [
       "<div>\n",
       "<style scoped>\n",
       "    .dataframe tbody tr th:only-of-type {\n",
       "        vertical-align: middle;\n",
       "    }\n",
       "\n",
       "    .dataframe tbody tr th {\n",
       "        vertical-align: top;\n",
       "    }\n",
       "\n",
       "    .dataframe thead th {\n",
       "        text-align: right;\n",
       "    }\n",
       "</style>\n",
       "<table border=\"1\" class=\"dataframe\">\n",
       "  <thead>\n",
       "    <tr style=\"text-align: right;\">\n",
       "      <th></th>\n",
       "      <th>numero_processo</th>\n",
       "      <th>ano_processo</th>\n",
       "      <th>codigo_tipo_processo</th>\n",
       "      <th>assunto</th>\n",
       "      <th>nome</th>\n",
       "      <th>marcador</th>\n",
       "    </tr>\n",
       "  </thead>\n",
       "  <tbody>\n",
       "    <tr>\n",
       "      <th>2</th>\n",
       "      <td>000096</td>\n",
       "      <td>2022</td>\n",
       "      <td>EXE</td>\n",
       "      <td>EXECUÇÃO DA DECISÃO PROFERIDA NOS AUTOS DO PRO...</td>\n",
       "      <td>ANTONIO ED SOUZA SANTANA</td>\n",
       "      <td>DESCONTO EM FOLHA - Nereu</td>\n",
       "    </tr>\n",
       "    <tr>\n",
       "      <th>3</th>\n",
       "      <td>000098</td>\n",
       "      <td>2022</td>\n",
       "      <td>EXE</td>\n",
       "      <td>EXECUÇÃO DA DECISÃO PROFERIDA NOS AUTOS DO PRO...</td>\n",
       "      <td>ANTONIO ED SOUZA SANTANA</td>\n",
       "      <td>DESCONTO EM FOLHA - Nereu</td>\n",
       "    </tr>\n",
       "    <tr>\n",
       "      <th>4</th>\n",
       "      <td>000099</td>\n",
       "      <td>2022</td>\n",
       "      <td>EXE</td>\n",
       "      <td>EXECUÇÃO DA DECISÃO PROFERIDA NOS AUTOS DO PRO...</td>\n",
       "      <td>ANTONIO ED SOUZA SANTANA</td>\n",
       "      <td>DESCONTO EM FOLHA - Nereu</td>\n",
       "    </tr>\n",
       "    <tr>\n",
       "      <th>6</th>\n",
       "      <td>000110</td>\n",
       "      <td>2022</td>\n",
       "      <td>EXE</td>\n",
       "      <td>EXECUÇÃO DA DECISÃO PROFERIDA NOS AUTOS DO PRO...</td>\n",
       "      <td>ANTONIO ED SOUZA SANTANA</td>\n",
       "      <td>DESCONTO EM FOLHA - Nereu</td>\n",
       "    </tr>\n",
       "    <tr>\n",
       "      <th>7</th>\n",
       "      <td>000137</td>\n",
       "      <td>2022</td>\n",
       "      <td>EXE</td>\n",
       "      <td>EXECUÇÃO DA DECISÃO PROFERIDA NOS AUTOS DO PRO...</td>\n",
       "      <td>ANTONIO ED SOUZA SANTANA</td>\n",
       "      <td>DESCONTO EM FOLHA - Nereu</td>\n",
       "    </tr>\n",
       "    <tr>\n",
       "      <th>...</th>\n",
       "      <td>...</td>\n",
       "      <td>...</td>\n",
       "      <td>...</td>\n",
       "      <td>...</td>\n",
       "      <td>...</td>\n",
       "      <td>...</td>\n",
       "    </tr>\n",
       "    <tr>\n",
       "      <th>326</th>\n",
       "      <td>003397</td>\n",
       "      <td>2024</td>\n",
       "      <td>EXE</td>\n",
       "      <td>EXECUÇÃO DA DECISÃO PROFERIDA NOS AUTOS DO PRO...</td>\n",
       "      <td>ANTONIO ED SOUZA SANTANA</td>\n",
       "      <td>DESCONTO EM FOLHA - Nereu</td>\n",
       "    </tr>\n",
       "    <tr>\n",
       "      <th>327</th>\n",
       "      <td>003401</td>\n",
       "      <td>2024</td>\n",
       "      <td>EXE</td>\n",
       "      <td>EXECUÇÃO DA DECISÃO PROFERIDA NOS AUTOS DO PRO...</td>\n",
       "      <td>ANTONIO ED SOUZA SANTANA</td>\n",
       "      <td>DESCONTO EM FOLHA - Nereu</td>\n",
       "    </tr>\n",
       "    <tr>\n",
       "      <th>328</th>\n",
       "      <td>003409</td>\n",
       "      <td>2024</td>\n",
       "      <td>EXE</td>\n",
       "      <td>EXECUÇÃO DA DECISÃO PROFERIDA NOS AUTOS DO PRO...</td>\n",
       "      <td>ANTONIO ED SOUZA SANTANA</td>\n",
       "      <td>DESCONTO EM FOLHA - Nereu</td>\n",
       "    </tr>\n",
       "    <tr>\n",
       "      <th>329</th>\n",
       "      <td>003410</td>\n",
       "      <td>2024</td>\n",
       "      <td>EXE</td>\n",
       "      <td>EXECUÇÃO DA DECISÃO PROFERIDA NOS AUTOS DO PRO...</td>\n",
       "      <td>ANTONIO ED SOUZA SANTANA</td>\n",
       "      <td>DESCONTO EM FOLHA - Nereu</td>\n",
       "    </tr>\n",
       "    <tr>\n",
       "      <th>338</th>\n",
       "      <td>004898</td>\n",
       "      <td>2024</td>\n",
       "      <td>EXE</td>\n",
       "      <td>EXECUÇÃO DA DECISÃO PROFERIDA NOS AUTOS DO PRO...</td>\n",
       "      <td>ANTONIO ED SOUZA SANTANA</td>\n",
       "      <td>DESCONTO EM FOLHA - Nereu</td>\n",
       "    </tr>\n",
       "  </tbody>\n",
       "</table>\n",
       "<p>158 rows × 6 columns</p>\n",
       "</div>"
      ],
      "text/plain": [
       "    numero_processo ano_processo codigo_tipo_processo  \\\n",
       "2            000096         2022                  EXE   \n",
       "3            000098         2022                  EXE   \n",
       "4            000099         2022                  EXE   \n",
       "6            000110         2022                  EXE   \n",
       "7            000137         2022                  EXE   \n",
       "..              ...          ...                  ...   \n",
       "326          003397         2024                  EXE   \n",
       "327          003401         2024                  EXE   \n",
       "328          003409         2024                  EXE   \n",
       "329          003410         2024                  EXE   \n",
       "338          004898         2024                  EXE   \n",
       "\n",
       "                                               assunto  \\\n",
       "2    EXECUÇÃO DA DECISÃO PROFERIDA NOS AUTOS DO PRO...   \n",
       "3    EXECUÇÃO DA DECISÃO PROFERIDA NOS AUTOS DO PRO...   \n",
       "4    EXECUÇÃO DA DECISÃO PROFERIDA NOS AUTOS DO PRO...   \n",
       "6    EXECUÇÃO DA DECISÃO PROFERIDA NOS AUTOS DO PRO...   \n",
       "7    EXECUÇÃO DA DECISÃO PROFERIDA NOS AUTOS DO PRO...   \n",
       "..                                                 ...   \n",
       "326  EXECUÇÃO DA DECISÃO PROFERIDA NOS AUTOS DO PRO...   \n",
       "327  EXECUÇÃO DA DECISÃO PROFERIDA NOS AUTOS DO PRO...   \n",
       "328  EXECUÇÃO DA DECISÃO PROFERIDA NOS AUTOS DO PRO...   \n",
       "329  EXECUÇÃO DA DECISÃO PROFERIDA NOS AUTOS DO PRO...   \n",
       "338  EXECUÇÃO DA DECISÃO PROFERIDA NOS AUTOS DO PRO...   \n",
       "\n",
       "                         nome                   marcador  \n",
       "2    ANTONIO ED SOUZA SANTANA  DESCONTO EM FOLHA - Nereu  \n",
       "3    ANTONIO ED SOUZA SANTANA  DESCONTO EM FOLHA - Nereu  \n",
       "4    ANTONIO ED SOUZA SANTANA  DESCONTO EM FOLHA - Nereu  \n",
       "6    ANTONIO ED SOUZA SANTANA  DESCONTO EM FOLHA - Nereu  \n",
       "7    ANTONIO ED SOUZA SANTANA  DESCONTO EM FOLHA - Nereu  \n",
       "..                        ...                        ...  \n",
       "326  ANTONIO ED SOUZA SANTANA  DESCONTO EM FOLHA - Nereu  \n",
       "327  ANTONIO ED SOUZA SANTANA  DESCONTO EM FOLHA - Nereu  \n",
       "328  ANTONIO ED SOUZA SANTANA  DESCONTO EM FOLHA - Nereu  \n",
       "329  ANTONIO ED SOUZA SANTANA  DESCONTO EM FOLHA - Nereu  \n",
       "338  ANTONIO ED SOUZA SANTANA  DESCONTO EM FOLHA - Nereu  \n",
       "\n",
       "[158 rows x 6 columns]"
      ]
     },
     "execution_count": 25,
     "metadata": {},
     "output_type": "execute_result"
    }
   ],
   "source": [
    "processos_ed"
   ]
  },
  {
   "cell_type": "code",
   "execution_count": 27,
   "metadata": {},
   "outputs": [
    {
     "name": "stderr",
     "output_type": "stream",
     "text": [
      "/tmp/ipykernel_235576/985335495.py:22: UserWarning: pandas only supports SQLAlchemy connectable (engine/connection) or database string URI or sqlite3 DBAPI2 connection. Other DBAPI2 objects are not tested. Please consider using SQLAlchemy.\n",
      "  debitos = pd.read_sql(sql_debitos, conn)\n"
     ]
    }
   ],
   "source": [
    "sql_debitos = '''  \n",
    "SELECT DISTINCT pro.numero_processo,\n",
    "       pro.ano_processo,\n",
    "       pro.assunto,\n",
    "       pm.Descricao as descricao,\n",
    "       CONCAT(gp.Nome, ' (CPF: ', gp.Documento, ')') as nome,\n",
    "       processo.dbo.fn_Exe_RetornaValorAtualizado(ed.IdDebito) as valor_multa,\n",
    "       ed.CodigoStatusDivida as status_divida,\n",
    "       r.nome as relator\n",
    "       \n",
    "FROM processo.dbo.Processos pro\n",
    "INNER JOIN processo.dbo.Pro_MarcadorProcesso pmp ON pmp.IdProcesso = pro.IdProcesso\n",
    "INNER JOIN processo.dbo.Pro_Marcador pm ON pmp.IdMarcador = pm.IdMarcador\n",
    "INNER JOIN processo.dbo.Relator r ON r.codigo = pro.codigo_relator \n",
    "LEFT JOIN processo.dbo.Exe_Debito ed ON ed.IdProcessoExecucao = pro.IdProcesso\n",
    "LEFT JOIN processo.dbo.Exe_DebitoPessoa edp ON edp.IDDebito = ed.IdDebito\n",
    "LEFT JOIN processo.dbo.GenPessoa gp ON gp.IdPessoa = edp.IDPessoa\n",
    "WHERE pro.setor_atual = 'CCD'\n",
    "AND pm.Descricao = 'DESCONTO EM FOLHA - Nereu'\n",
    "'''\n",
    "\n",
    "debitos = pd.read_sql(sql_debitos, conn)"
   ]
  },
  {
   "cell_type": "code",
   "execution_count": 29,
   "metadata": {},
   "outputs": [],
   "source": [
    "debitos_ed = debitos[debitos.relator == 'ANTONIO ED SOUZA SANTANA']"
   ]
  },
  {
   "cell_type": "code",
   "execution_count": 52,
   "metadata": {},
   "outputs": [],
   "source": [
    "graph_debitos = debitos_ed.groupby('ano_processo').agg({'valor_multa': 'sum', 'numero_processo': 'count'}).reset_index()"
   ]
  },
  {
   "cell_type": "code",
   "execution_count": 53,
   "metadata": {},
   "outputs": [],
   "source": [
    "pd.options.display.float_format = '{:,.2f}'.format"
   ]
  },
  {
   "cell_type": "code",
   "execution_count": 54,
   "metadata": {},
   "outputs": [
    {
     "data": {
      "text/html": [
       "<div>\n",
       "<style scoped>\n",
       "    .dataframe tbody tr th:only-of-type {\n",
       "        vertical-align: middle;\n",
       "    }\n",
       "\n",
       "    .dataframe tbody tr th {\n",
       "        vertical-align: top;\n",
       "    }\n",
       "\n",
       "    .dataframe thead th {\n",
       "        text-align: right;\n",
       "    }\n",
       "</style>\n",
       "<table border=\"1\" class=\"dataframe\">\n",
       "  <thead>\n",
       "    <tr style=\"text-align: right;\">\n",
       "      <th></th>\n",
       "      <th>ano_processo</th>\n",
       "      <th>valor_multa</th>\n",
       "      <th>numero_processo</th>\n",
       "    </tr>\n",
       "  </thead>\n",
       "  <tbody>\n",
       "    <tr>\n",
       "      <th>0</th>\n",
       "      <td>2022</td>\n",
       "      <td>1,253,040.88</td>\n",
       "      <td>95</td>\n",
       "    </tr>\n",
       "    <tr>\n",
       "      <th>1</th>\n",
       "      <td>2023</td>\n",
       "      <td>23,714.69</td>\n",
       "      <td>2</td>\n",
       "    </tr>\n",
       "    <tr>\n",
       "      <th>2</th>\n",
       "      <td>2024</td>\n",
       "      <td>779,431.97</td>\n",
       "      <td>65</td>\n",
       "    </tr>\n",
       "  </tbody>\n",
       "</table>\n",
       "</div>"
      ],
      "text/plain": [
       "  ano_processo  valor_multa  numero_processo\n",
       "0         2022 1,253,040.88               95\n",
       "1         2023    23,714.69                2\n",
       "2         2024   779,431.97               65"
      ]
     },
     "execution_count": 54,
     "metadata": {},
     "output_type": "execute_result"
    }
   ],
   "source": [
    "graph_debitos"
   ]
  },
  {
   "cell_type": "code",
   "execution_count": 55,
   "metadata": {},
   "outputs": [
    {
     "name": "stderr",
     "output_type": "stream",
     "text": [
      "/tmp/ipykernel_235576/2399697021.py:2: FutureWarning: \n",
      "\n",
      "Passing `palette` without assigning `hue` is deprecated and will be removed in v0.14.0. Assign the `x` variable to `hue` and set `legend=False` for the same effect.\n",
      "\n",
      "  ax = sns.barplot(data=graph_debitos, x='ano_processo', y='valor_multa', palette='viridis')\n"
     ]
    },
    {
     "data": {
      "image/png": "[encoded data removed]",
      "text/plain": [
       "<Figure size 1000x600 with 1 Axes>"
      ]
     },
     "metadata": {},
     "output_type": "display_data"
    }
   ],
   "source": [
    "plt.figure(figsize=(10, 6))\n",
    "ax = sns.barplot(data=graph_debitos, x='ano_processo', y='valor_multa', palette='viridis')\n",
    "plt.xticks(rotation=45, ha='right')\n",
    "sns.despine(right=True, top=True)\n",
    "plt.title('Total Multa por Ano de Processo')\n",
    "plt.xlabel('Ano do Processo')\n",
    "plt.ylabel('Valor Total da Multa')\n",
    "plt.show()"
   ]
  },
  {
   "cell_type": "code",
   "execution_count": 57,
   "metadata": {},
   "outputs": [
    {
     "name": "stderr",
     "output_type": "stream",
     "text": [
      "/tmp/ipykernel_235576/3441831980.py:2: FutureWarning: \n",
      "\n",
      "Passing `palette` without assigning `hue` is deprecated and will be removed in v0.14.0. Assign the `x` variable to `hue` and set `legend=False` for the same effect.\n",
      "\n",
      "  ax = sns.barplot(data=graph_debitos, x='ano_processo', y='valor_multa', palette='viridis')\n"
     ]
    },
    {
     "data": {
      "image/png": "[encoded data removed]",
      "text/plain": [
       "<Figure size 1000x600 with 1 Axes>"
      ]
     },
     "metadata": {},
     "output_type": "display_data"
    }
   ],
   "source": [
    "plt.figure(figsize=(10, 6))\n",
    "ax = sns.barplot(data=graph_debitos, x='ano_processo', y='valor_multa', palette='viridis')\n",
    "plt.xticks(rotation=45, ha='right')\n",
    "sns.despine(right=True, top=True)\n",
    "plt.title('Total Multa por Ano de Processo')\n",
    "plt.xlabel('Ano do Processo')\n",
    "plt.ylabel('Valor Total da Multa')\n",
    "\n",
    "# Format y-axis to avoid scientific notation\n",
    "ax.get_yaxis().set_major_formatter(plt.FuncFormatter(lambda x, loc: \"{:,}\".format(int(x)).replace(',', '.')))\n",
    "\n",
    "plt.show()"
   ]
  },
  {
   "cell_type": "code",
   "execution_count": null,
   "metadata": {},
   "outputs": [
    {
     "data": {
      "text/plain": [
       "np.float64(2056187.5351)"
      ]
     },
     "execution_count": 58,
     "metadata": {},
     "output_type": "execute_result"
    }
   ],
   "source": [
    "graph_debitos['valor_multa'].sum()"
   ]
  },
  {
   "cell_type": "code",
   "execution_count": 59,
   "metadata": {},
   "outputs": [
    {
     "name": "stdout",
     "output_type": "stream",
     "text": [
      "R$ 2.056.187,54\n"
     ]
    }
   ],
   "source": [
    "import locale\n",
    "\n",
    "# Set locale to Brazilian Portuguese\n",
    "locale.setlocale(locale.LC_ALL, 'pt_BR.UTF-8')\n",
    "\n",
    "# Sum of valor_multa\n",
    "total_valor_multa = graph_debitos['valor_multa'].sum()\n",
    "\n",
    "# Print the sum in BRL currency format\n",
    "print(locale.currency(total_valor_multa, grouping=True))"
   ]
  },
  {
   "cell_type": "code",
   "execution_count": 61,
   "metadata": {},
   "outputs": [
    {
     "name": "stdout",
     "output_type": "stream",
     "text": [
      "162\n"
     ]
    }
   ],
   "source": [
    "print(len(debitos_ed))"
   ]
  },
  {
   "cell_type": "code",
   "execution_count": null,
   "metadata": {},
   "outputs": [],
   "source": []
  }
 ],
 "metadata": {
  "kernelspec": {
   "display_name": ".venv",
   "language": "python",
   "name": "python3"
  },
  "language_info": {
   "codemirror_mode": {
    "name": "ipython",
    "version": 3
   },
   "file_extension": ".py",
   "mimetype": "text/x-python",
   "name": "python",
   "nbconvert_exporter": "python",
   "pygments_lexer": "ipython3",
   "version": "3.12.7"
  }
 },
 "nbformat": 4,
 "nbformat_minor": 2
}
