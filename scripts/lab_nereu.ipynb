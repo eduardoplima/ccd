{
 "cells": [
  {
   "cell_type": "code",
   "execution_count": 24,
   "metadata": {},
   "outputs": [],
   "source": [
    "import pandas as pd\n",
    "import numpy as np\n",
    "import matplotlib.pyplot as plt\n",
    "import seaborn as sns   \n",
    "\n",
    "from utils_ccd import get_connection\n",
    "\n",
    "conn = get_connection()"
   ]
  },
  {
   "cell_type": "code",
   "execution_count": 25,
   "metadata": {},
   "outputs": [
    {
     "name": "stderr",
     "output_type": "stream",
     "text": [
      "/tmp/ipykernel_29582/2147694724.py:11: UserWarning: pandas only supports SQLAlchemy connectable (engine/connection) or database string URI or sqlite3 DBAPI2 connection. Other DBAPI2 objects are not tested. Please consider using SQLAlchemy.\n",
      "  processos_nereu = pd.read_sql(sql_nereu, conn)\n"
     ]
    }
   ],
   "source": [
    "sql_nereu = \"\"\"\n",
    "SELECT p.numero_processo, p.ano_processo, p.codigo_tipo_processo, p.assunto, \n",
    "r.nome, pm.Descricao as marcador, p.IdProcesso as id_processo\n",
    "FROM processo.dbo.Processos p \n",
    "\tINNER JOIN processo.dbo.Pro_MarcadorProcesso pmp ON p.IdProcesso = pmp.IdProcesso\n",
    "\tINNER JOIN processo.dbo.Pro_Marcador pm ON pm.IdMarcador = pmp.IdMarcador \n",
    "\tINNER JOIN processo.dbo.Relator r ON r.codigo = p.codigo_relator \n",
    "WHERE setor_atual = 'CCD' \n",
    "\tAND lower(pm.Descricao) = 'DESCONTO EM FOLHA - Nereu'\n",
    "\"\"\"\n",
    "processos_nereu = pd.read_sql(sql_nereu, conn)"
   ]
  },
  {
   "cell_type": "code",
   "execution_count": 26,
   "metadata": {},
   "outputs": [
    {
     "name": "stderr",
     "output_type": "stream",
     "text": [
      "/tmp/ipykernel_29582/2219335553.py:39: UserWarning: pandas only supports SQLAlchemy connectable (engine/connection) or database string URI or sqlite3 DBAPI2 connection. Other DBAPI2 objects are not tested. Please consider using SQLAlchemy.\n",
      "  debitos = pd.read_sql(sql_debitos, conn)\n"
     ]
    }
   ],
   "source": [
    "sql_debitos = '''  \n",
    "SELECT DISTINCT \n",
    "        ed.IdDebito as id_debito,\n",
    "        pro.numero_processo,\n",
    "       pro.ano_processo,\n",
    "       pro.assunto,\n",
    "       etd.Descricao as tipo_multa,\n",
    "       edmc.DataFinalImputacaoMultaCominatoria as data_final_cominatoria,\n",
    "       pm.Descricao as descricao,\n",
    "       CONCAT(gp.Nome, ' (CPF: ', gp.Documento, ')') as nome,\n",
    "       processo.dbo.fn_Exe_RetornaValorAtualizado(ed.IdDebito) as valor_multa,\n",
    "       r.nome as relator,\n",
    "       ed.IdProcessoOrigem as id_processo_origem,\n",
    "       (\n",
    "        SELECT CONCAT(numero_processo, '/', ano_processo)\n",
    "        FROM processo.dbo.Processos\n",
    "        WHERE IdProcesso = ed.IdProcessoOrigem\n",
    "       ) as processo_origem,\n",
    "       ed.IdProcessoExecucao as id_processo_execucao,\n",
    "       (\n",
    "       SELECT CONCAT(numero_processo, '/', ano_processo)\n",
    "        FROM processo.dbo.Processos\n",
    "        WHERE IdProcesso = ed.IdProcessoExecucao\n",
    "       ) as processo_execucao\n",
    "\tFROM processo.dbo.Processos pro\n",
    "\tINNER JOIN processo.dbo.Pro_MarcadorProcesso pmp ON pmp.IdProcesso = pro.IdProcesso\n",
    "\tINNER JOIN processo.dbo.Pro_Marcador pm ON pmp.IdMarcador = pm.IdMarcador\n",
    "\tINNER JOIN processo.dbo.Relator r ON r.codigo = pro.codigo_relator \n",
    "\tLEFT JOIN processo.dbo.Exe_Debito ed ON ed.IdProcessoExecucao = pro.IdProcesso\n",
    "\tLEFT JOIN processo.dbo.Exe_DebitoPessoa edp ON edp.IDDebito = ed.IdDebito\n",
    "\tLEFT JOIN processo.dbo.Exe_TipoDebito etd ON etd.CodigoTipoDebito = ed.CodigoTipoDebito\n",
    "\tLEFT JOIN processo.dbo.GenPessoa gp ON gp.IdPessoa = edp.IDPessoa\n",
    "\tLEFT JOIN processo.dbo.Exe_Debito_MultaCominatoria edmc ON ed.IdDebito = edmc.IdDebito\n",
    "\tWHERE pro.setor_atual = 'CCD'\n",
    "\tAND pm.Descricao = 'DESCONTO EM FOLHA - Nereu'\n",
    "\tAND ed.CodigoStatusDivida = 1\n",
    "'''\n",
    "\n",
    "debitos = pd.read_sql(sql_debitos, conn)\n",
    "\n",
    "debitos['id_processo_origem'] = debitos['id_processo_origem'].fillna(0).astype(int).astype(str)\n",
    "debitos['id_processo_execucao'] = debitos['id_processo_execucao'].fillna(0).astype(int).astype(str)\n",
    "\n",
    "debitos_ed = debitos[debitos.relator == 'ANTONIO ED SOUZA SANTANA']\n",
    "processos_ed = processos_nereu[processos_nereu.nome == 'ANTONIO ED SOUZA SANTANA']"
   ]
  },
  {
   "cell_type": "markdown",
   "metadata": {},
   "source": [
    "## Estatísticas"
   ]
  },
  {
   "cell_type": "code",
   "execution_count": 74,
   "metadata": {},
   "outputs": [
    {
     "data": {
      "text/plain": [
       "True"
      ]
     },
     "execution_count": 74,
     "metadata": {},
     "output_type": "execute_result"
    }
   ],
   "source": [
    "'000096' in processos_ed['numero_processo'].unique().astype(list)"
   ]
  },
  {
   "cell_type": "code",
   "execution_count": 27,
   "metadata": {},
   "outputs": [],
   "source": [
    "nereu_relator = processos_nereu.groupby('nome').numero_processo.count().reset_index().sort_values('numero_processo', ascending=False)"
   ]
  },
  {
   "cell_type": "code",
   "execution_count": 28,
   "metadata": {},
   "outputs": [],
   "source": [
    "nereu_relator.columns = ['Relator', 'Quantidade']"
   ]
  },
  {
   "cell_type": "code",
   "execution_count": 29,
   "metadata": {},
   "outputs": [
    {
     "data": {
      "text/html": [
       "<div>\n",
       "<style scoped>\n",
       "    .dataframe tbody tr th:only-of-type {\n",
       "        vertical-align: middle;\n",
       "    }\n",
       "\n",
       "    .dataframe tbody tr th {\n",
       "        vertical-align: top;\n",
       "    }\n",
       "\n",
       "    .dataframe thead th {\n",
       "        text-align: right;\n",
       "    }\n",
       "</style>\n",
       "<table border=\"1\" class=\"dataframe\">\n",
       "  <thead>\n",
       "    <tr style=\"text-align: right;\">\n",
       "      <th></th>\n",
       "      <th>Relator</th>\n",
       "      <th>Quantidade</th>\n",
       "    </tr>\n",
       "  </thead>\n",
       "  <tbody>\n",
       "    <tr>\n",
       "      <th>1</th>\n",
       "      <td>ANTONIO ED SOUZA SANTANA</td>\n",
       "      <td>158</td>\n",
       "    </tr>\n",
       "    <tr>\n",
       "      <th>5</th>\n",
       "      <td>PAULO ROBERTO CHAVES ALVES</td>\n",
       "      <td>82</td>\n",
       "    </tr>\n",
       "    <tr>\n",
       "      <th>3</th>\n",
       "      <td>CARLOS THOMPSON COSTA FERNANDES</td>\n",
       "      <td>54</td>\n",
       "    </tr>\n",
       "    <tr>\n",
       "      <th>2</th>\n",
       "      <td>ANTONIO GILBERTO DE OLIVEIRA JALES</td>\n",
       "      <td>35</td>\n",
       "    </tr>\n",
       "    <tr>\n",
       "      <th>0</th>\n",
       "      <td>ANA PAULA DE OLIVEIRA GOMES</td>\n",
       "      <td>13</td>\n",
       "    </tr>\n",
       "    <tr>\n",
       "      <th>4</th>\n",
       "      <td>FRANCISCO POTIGUAR CAVALCANTI JÚNIOR</td>\n",
       "      <td>1</td>\n",
       "    </tr>\n",
       "  </tbody>\n",
       "</table>\n",
       "</div>"
      ],
      "text/plain": [
       "                                Relator  Quantidade\n",
       "1              ANTONIO ED SOUZA SANTANA         158\n",
       "5            PAULO ROBERTO CHAVES ALVES          82\n",
       "3       CARLOS THOMPSON COSTA FERNANDES          54\n",
       "2    ANTONIO GILBERTO DE OLIVEIRA JALES          35\n",
       "0           ANA PAULA DE OLIVEIRA GOMES          13\n",
       "4  FRANCISCO POTIGUAR CAVALCANTI JÚNIOR           1"
      ]
     },
     "execution_count": 29,
     "metadata": {},
     "output_type": "execute_result"
    }
   ],
   "source": [
    "nereu_relator"
   ]
  },
  {
   "cell_type": "code",
   "execution_count": 30,
   "metadata": {},
   "outputs": [
    {
     "name": "stderr",
     "output_type": "stream",
     "text": [
      "/tmp/ipykernel_29582/1614309008.py:2: FutureWarning: \n",
      "\n",
      "Passing `palette` without assigning `hue` is deprecated and will be removed in v0.14.0. Assign the `x` variable to `hue` and set `legend=False` for the same effect.\n",
      "\n",
      "  sns.barplot(data=nereu_relator, x='Relator', y='Quantidade', palette='viridis')\n"
     ]
    },
    {
     "data": {
      "image/png": "[encoded data removed]",
      "text/plain": [
       "<Figure size 1000x600 with 1 Axes>"
      ]
     },
     "metadata": {},
     "output_type": "display_data"
    }
   ],
   "source": [
    "plt.figure(figsize=(10, 6))\n",
    "sns.barplot(data=nereu_relator, x='Relator', y='Quantidade', palette='viridis')\n",
    "plt.xticks(rotation=45, ha='right')\n",
    "sns.despine(right=True, top=True)\n",
    "plt.title('Desconto em Folha Nereu - Relator')\n",
    "plt.xlabel('Relator')\n",
    "plt.ylabel('Quantidade de Processos na CCD')\n",
    "plt.show()"
   ]
  },
  {
   "cell_type": "code",
   "execution_count": 31,
   "metadata": {},
   "outputs": [],
   "source": [
    "graph_debitos = debitos_ed.groupby('tipo_multa').agg({'valor_multa': 'sum', 'numero_processo': 'count'}).reset_index()"
   ]
  },
  {
   "cell_type": "code",
   "execution_count": 32,
   "metadata": {},
   "outputs": [],
   "source": [
    "pd.options.display.float_format = '{:,.2f}'.format"
   ]
  },
  {
   "cell_type": "code",
   "execution_count": 98,
   "metadata": {},
   "outputs": [
    {
     "data": {
      "text/plain": [
       "'pt_BR.UTF-8'"
      ]
     },
     "execution_count": 98,
     "metadata": {},
     "output_type": "execute_result"
    }
   ],
   "source": [
    "import locale\n",
    "locale.setlocale(locale.LC_ALL, 'pt_BR.UTF-8')"
   ]
  },
  {
   "cell_type": "code",
   "execution_count": 102,
   "metadata": {},
   "outputs": [
    {
     "data": {
      "text/plain": [
       "2017159.8510000003"
      ]
     },
     "execution_count": 102,
     "metadata": {},
     "output_type": "execute_result"
    }
   ],
   "source": [
    "graph_debitos.valor_multa.sum()"
   ]
  },
  {
   "cell_type": "code",
   "execution_count": null,
   "metadata": {},
   "outputs": [
    {
     "data": {
      "text/html": [
       "<div>\n",
       "<style scoped>\n",
       "    .dataframe tbody tr th:only-of-type {\n",
       "        vertical-align: middle;\n",
       "    }\n",
       "\n",
       "    .dataframe tbody tr th {\n",
       "        vertical-align: top;\n",
       "    }\n",
       "\n",
       "    .dataframe thead th {\n",
       "        text-align: right;\n",
       "    }\n",
       "</style>\n",
       "<table border=\"1\" class=\"dataframe\">\n",
       "  <thead>\n",
       "    <tr style=\"text-align: right;\">\n",
       "      <th></th>\n",
       "      <th>tipo_multa</th>\n",
       "      <th>valor_multa</th>\n",
       "      <th>numero_processo</th>\n",
       "    </tr>\n",
       "  </thead>\n",
       "  <tbody>\n",
       "    <tr>\n",
       "      <th>0</th>\n",
       "      <td>Multa</td>\n",
       "      <td>1,210,914.20</td>\n",
       "      <td>92</td>\n",
       "    </tr>\n",
       "    <tr>\n",
       "      <th>1</th>\n",
       "      <td>Multa Cominatória</td>\n",
       "      <td>806,245.66</td>\n",
       "      <td>66</td>\n",
       "    </tr>\n",
       "  </tbody>\n",
       "</table>\n",
       "</div>"
      ],
      "text/plain": [
       "          tipo_multa  valor_multa  numero_processo\n",
       "0              Multa 1,210,914.20               92\n",
       "1  Multa Cominatória   806,245.66               66"
      ]
     },
     "execution_count": 33,
     "metadata": {},
     "output_type": "execute_result"
    }
   ],
   "source": [
    "graph_debitos.columns = ['Tipo de Multa', 'Valor Total', 'Quantidade de Processos']\n",
    "graph_debitos['Valor Total'] = graph_debitos['Valor Total'].apply(lambda x: locale.currency(x, grouping=True))    \n",
    "graph_debitos['Quantidade de Processos'] = graph_debitos['Quantidade de Processos'].astype(int)"
   ]
  },
  {
   "cell_type": "code",
   "execution_count": 34,
   "metadata": {},
   "outputs": [
    {
     "name": "stderr",
     "output_type": "stream",
     "text": [
      "/tmp/ipykernel_29582/4127177992.py:2: FutureWarning: \n",
      "\n",
      "Passing `palette` without assigning `hue` is deprecated and will be removed in v0.14.0. Assign the `x` variable to `hue` and set `legend=False` for the same effect.\n",
      "\n",
      "  ax = sns.barplot(data=graph_debitos, x='tipo_multa', y='valor_multa', palette='viridis')\n"
     ]
    },
    {
     "data": {
      "image/png": "[encoded data removed]",
      "text/plain": [
       "<Figure size 1000x600 with 1 Axes>"
      ]
     },
     "metadata": {},
     "output_type": "display_data"
    }
   ],
   "source": [
    "plt.figure(figsize=(10, 6))\n",
    "ax = sns.barplot(data=graph_debitos, x='tipo_multa', y='valor_multa', palette='viridis')\n",
    "plt.xticks(rotation=45, ha='right')\n",
    "sns.despine(right=True, top=True)\n",
    "plt.title('Total Multa por Tipo da Multa - Nereu')\n",
    "plt.xlabel('Tipo da Multa')\n",
    "plt.ylabel('Valor Total da Multa')\n",
    "plt.show()"
   ]
  },
  {
   "cell_type": "code",
   "execution_count": 35,
   "metadata": {},
   "outputs": [
    {
     "data": {
      "text/plain": [
       "2017159.8510000003"
      ]
     },
     "execution_count": 35,
     "metadata": {},
     "output_type": "execute_result"
    }
   ],
   "source": [
    "graph_debitos['valor_multa'].sum()"
   ]
  },
  {
   "cell_type": "code",
   "execution_count": 36,
   "metadata": {},
   "outputs": [
    {
     "name": "stdout",
     "output_type": "stream",
     "text": [
      "R$ 2.017.159,85\n"
     ]
    }
   ],
   "source": [
    "import locale\n",
    "\n",
    "# Set locale to Brazilian Portuguese\n",
    "locale.setlocale(locale.LC_ALL, 'pt_BR.UTF-8')\n",
    "\n",
    "# Sum of valor_multa\n",
    "total_valor_multa = graph_debitos['valor_multa'].sum()\n",
    "\n",
    "# Print the sum in BRL currency format\n",
    "print(locale.currency(total_valor_multa, grouping=True))"
   ]
  },
  {
   "cell_type": "markdown",
   "metadata": {},
   "source": [
    "## Processos originários"
   ]
  },
  {
   "cell_type": "code",
   "execution_count": 37,
   "metadata": {},
   "outputs": [
    {
     "name": "stderr",
     "output_type": "stream",
     "text": [
      "/tmp/ipykernel_29582/475517431.py:1: SettingWithCopyWarning: \n",
      "A value is trying to be set on a copy of a slice from a DataFrame.\n",
      "Try using .loc[row_indexer,col_indexer] = value instead\n",
      "\n",
      "See the caveats in the documentation: https://pandas.pydata.org/pandas-docs/stable/user_guide/indexing.html#returning-a-view-versus-a-copy\n",
      "  processos_ed['processo'] = processos_ed['numero_processo'].astype(str) + '/' + processos_ed['ano_processo'].astype(str)\n"
     ]
    }
   ],
   "source": [
    "processos_ed['processo'] = processos_ed['numero_processo'].astype(str) + '/' + processos_ed['ano_processo'].astype(str)"
   ]
  },
  {
   "cell_type": "code",
   "execution_count": 38,
   "metadata": {},
   "outputs": [
    {
     "name": "stderr",
     "output_type": "stream",
     "text": [
      "/tmp/ipykernel_29582/2970968769.py:6: UserWarning: pandas only supports SQLAlchemy connectable (engine/connection) or database string URI or sqlite3 DBAPI2 connection. Other DBAPI2 objects are not tested. Please consider using SQLAlchemy.\n",
      "  df_orig = pd.read_sql(\n"
     ]
    }
   ],
   "source": [
    "sql_orig = '''\n",
    "SELECT * FROM \n",
    "processo.dbo.Processos pro\n",
    "WHERE IdProcesso IN ({})\n",
    "'''\n",
    "df_orig = pd.read_sql(\n",
    "    sql_orig.format(','.join([\"'{}'\".format(i) for i in debitos_ed['id_processo_origem'].unique()])),\n",
    "    conn\n",
    ")\n",
    "df_orig['processo'] = df_orig['numero_processo'].astype(str) + '/' + df_orig['ano_processo'].astype(str)\n"
   ]
  },
  {
   "cell_type": "markdown",
   "metadata": {},
   "source": [
    "## Processo 3474/2021 - Lista de processos para retirar"
   ]
  },
  {
   "cell_type": "code",
   "execution_count": 39,
   "metadata": {},
   "outputs": [],
   "source": [
    "\n",
    "df_planilha_1 = pd.read_excel('docs/planilha_processos_nereu_cut.xlsx', sheet_name='Table 1')\n",
    "df_planilha_2 = pd.read_excel('docs/planilha_processos_nereu_cut.xlsx', sheet_name='Table 2')\n",
    "df_planilha_3 = pd.read_excel('docs/planilha_processos_nereu_cut.xlsx', sheet_name='Table 3')\n",
    "df_planilha_4 = pd.read_excel('docs/planilha_processos_nereu_cut.xlsx', sheet_name='Table 4')\n",
    "df_planilha = pd.concat([df_planilha_1, df_planilha_2, df_planilha_3, df_planilha_4])\n",
    "df_planilha['Nº do Processo'].fillna('/', inplace=True)\n",
    "df_planilha['numero_processo'] = df_planilha['Nº do Processo'].apply(lambda x: x.split('/')[0].strip())\n",
    "df_planilha['ano_processo'] = df_planilha['Nº do Processo'].apply(lambda x: x.split('/')[1].strip())\n",
    "df_planilha['processo'] = df_planilha['numero_processo'] + '/' + df_planilha['ano_processo']"
   ]
  },
  {
   "cell_type": "code",
   "execution_count": 40,
   "metadata": {},
   "outputs": [
    {
     "name": "stderr",
     "output_type": "stream",
     "text": [
      "/tmp/ipykernel_29582/2106493369.py:4: SettingWithCopyWarning: \n",
      "A value is trying to be set on a copy of a slice from a DataFrame.\n",
      "Try using .loc[row_indexer,col_indexer] = value instead\n",
      "\n",
      "See the caveats in the documentation: https://pandas.pydata.org/pandas-docs/stable/user_guide/indexing.html#returning-a-view-versus-a-copy\n",
      "  debitos_ed['esta_no_processo_3474_2021'] = debitos_ed['processo_origem'].apply(in_processo_3474_2021)\n",
      "/tmp/ipykernel_29582/2106493369.py:5: SettingWithCopyWarning: \n",
      "A value is trying to be set on a copy of a slice from a DataFrame.\n",
      "Try using .loc[row_indexer,col_indexer] = value instead\n",
      "\n",
      "See the caveats in the documentation: https://pandas.pydata.org/pandas-docs/stable/user_guide/indexing.html#returning-a-view-versus-a-copy\n",
      "  debitos_ed['valor_multa'] = debitos_ed['valor_multa'].apply(lambda x: locale.currency(x, grouping=True, symbol=False))\n",
      "/tmp/ipykernel_29582/2106493369.py:6: SettingWithCopyWarning: \n",
      "A value is trying to be set on a copy of a slice from a DataFrame.\n",
      "Try using .loc[row_indexer,col_indexer] = value instead\n",
      "\n",
      "See the caveats in the documentation: https://pandas.pydata.org/pandas-docs/stable/user_guide/indexing.html#returning-a-view-versus-a-copy\n",
      "  debitos_ed['data_final_cominatoria'] = pd.to_datetime(debitos_ed['data_final_cominatoria']).dt.strftime('%d/%m/%Y')\n"
     ]
    }
   ],
   "source": [
    "def in_processo_3474_2021(processo):\n",
    "    return 'SIM' if len(df_planilha[df_planilha['processo'].isin([processo])]) else 'NÃO'\n",
    "\n",
    "debitos_ed['esta_no_processo_3474_2021'] = debitos_ed['processo_origem'].apply(in_processo_3474_2021)\n",
    "debitos_ed['valor_multa'] = debitos_ed['valor_multa'].apply(lambda x: locale.currency(x, grouping=True, symbol=False))\n",
    "debitos_ed['data_final_cominatoria'] = pd.to_datetime(debitos_ed['data_final_cominatoria']).dt.strftime('%d/%m/%Y')   "
   ]
  },
  {
   "cell_type": "code",
   "execution_count": 41,
   "metadata": {},
   "outputs": [],
   "source": [
    "tab_debitos_ed = debitos_ed[['id_debito', 'processo_origem', 'processo_execucao', 'tipo_multa', 'valor_multa', 'data_final_cominatoria', 'esta_no_processo_3474_2021']]"
   ]
  },
  {
   "cell_type": "code",
   "execution_count": 42,
   "metadata": {},
   "outputs": [],
   "source": [
    "tab_debitos_ed.to_excel('docs/debitos_ed.xlsx', index=False)"
   ]
  },
  {
   "cell_type": "code",
   "execution_count": null,
   "metadata": {},
   "outputs": [],
   "source": []
  },
  {
   "cell_type": "markdown",
   "metadata": {},
   "source": [
    "## Checar Informação Consultoria Jurídica"
   ]
  },
  {
   "cell_type": "code",
   "execution_count": 43,
   "metadata": {},
   "outputs": [
    {
     "name": "stderr",
     "output_type": "stream",
     "text": [
      "/tmp/ipykernel_29582/475517431.py:1: SettingWithCopyWarning: \n",
      "A value is trying to be set on a copy of a slice from a DataFrame.\n",
      "Try using .loc[row_indexer,col_indexer] = value instead\n",
      "\n",
      "See the caveats in the documentation: https://pandas.pydata.org/pandas-docs/stable/user_guide/indexing.html#returning-a-view-versus-a-copy\n",
      "  processos_ed['processo'] = processos_ed['numero_processo'].astype(str) + '/' + processos_ed['ano_processo'].astype(str)\n"
     ]
    }
   ],
   "source": [
    "processos_ed['processo'] = processos_ed['numero_processo'].astype(str) + '/' + processos_ed['ano_processo'].astype(str)"
   ]
  },
  {
   "cell_type": "code",
   "execution_count": 76,
   "metadata": {},
   "outputs": [
    {
     "name": "stderr",
     "output_type": "stream",
     "text": [
      "/tmp/ipykernel_29582/1801061274.py:7: UserWarning: pandas only supports SQLAlchemy connectable (engine/connection) or database string URI or sqlite3 DBAPI2 connection. Other DBAPI2 objects are not tested. Please consider using SQLAlchemy.\n",
      "  df_informacoes_origem = pd.read_sql(sql_informacoes.format(','.join([f\"'{x}'\" for x in debitos_ed['processo_origem'].unique()])), conn)\n"
     ]
    }
   ],
   "source": [
    "sql_informacoes = '''\n",
    "SELECT *\n",
    "FROM vw_ata_informacao\n",
    "WHERE CONCAT(numero_processo, '/', ano_processo) IN ({})\n",
    "'''\n",
    "\n",
    "df_informacoes_origem = pd.read_sql(sql_informacoes.format(','.join([f\"'{x}'\" for x in debitos_ed['processo_origem'].unique()])), conn)"
   ]
  },
  {
   "cell_type": "code",
   "execution_count": 77,
   "metadata": {},
   "outputs": [
    {
     "data": {
      "text/html": [
       "<div>\n",
       "<style scoped>\n",
       "    .dataframe tbody tr th:only-of-type {\n",
       "        vertical-align: middle;\n",
       "    }\n",
       "\n",
       "    .dataframe tbody tr th {\n",
       "        vertical-align: top;\n",
       "    }\n",
       "\n",
       "    .dataframe thead th {\n",
       "        text-align: right;\n",
       "    }\n",
       "</style>\n",
       "<table border=\"1\" class=\"dataframe\">\n",
       "  <thead>\n",
       "    <tr style=\"text-align: right;\">\n",
       "      <th></th>\n",
       "      <th>setor</th>\n",
       "      <th>numero_processo</th>\n",
       "      <th>ano_processo</th>\n",
       "      <th>ordem</th>\n",
       "      <th>data_resumo</th>\n",
       "      <th>resumo</th>\n",
       "      <th>sigilo</th>\n",
       "      <th>usuario</th>\n",
       "      <th>data_ultima_atualizacao</th>\n",
       "      <th>informacao_efetuada_por</th>\n",
       "      <th>...</th>\n",
       "      <th>Inativa</th>\n",
       "      <th>DataPublicacao</th>\n",
       "      <th>IdInformacaoSubstituida</th>\n",
       "      <th>UsuarioInformacaoSubstituida</th>\n",
       "      <th>DataInformacaoSubstituida</th>\n",
       "      <th>IdTipoParecer</th>\n",
       "      <th>Observacao</th>\n",
       "      <th>IdProcesso</th>\n",
       "      <th>E_Relatorio_Inicial</th>\n",
       "      <th>E_Relatorio_Auditoria</th>\n",
       "    </tr>\n",
       "  </thead>\n",
       "  <tbody>\n",
       "  </tbody>\n",
       "</table>\n",
       "<p>0 rows × 36 columns</p>\n",
       "</div>"
      ],
      "text/plain": [
       "Empty DataFrame\n",
       "Columns: [setor, numero_processo, ano_processo, ordem, data_resumo, resumo, sigilo, usuario, data_ultima_atualizacao, informacao_efetuada_por, nome_informacao, Titulo_Modelo_informacao, Tipo_documento, Decisao, idInformacao, infConvPdf, dataConversaoPDF, codigo_camara, IdSessao, DataInclusao, UsuarioInclusao, ErroConversao, Assinado, ProcessoEletronico, Publicado, IdModelo, Inativa, DataPublicacao, IdInformacaoSubstituida, UsuarioInformacaoSubstituida, DataInformacaoSubstituida, IdTipoParecer, Observacao, IdProcesso, E_Relatorio_Inicial, E_Relatorio_Auditoria]\n",
       "Index: []\n",
       "\n",
       "[0 rows x 36 columns]"
      ]
     },
     "execution_count": 77,
     "metadata": {},
     "output_type": "execute_result"
    }
   ],
   "source": [
    "df_informacoes_origem[df_informacoes_origem.setor == 'CONJU']"
   ]
  },
  {
   "cell_type": "code",
   "execution_count": 79,
   "metadata": {},
   "outputs": [
    {
     "name": "stderr",
     "output_type": "stream",
     "text": [
      "/tmp/ipykernel_29582/3682414726.py:7: UserWarning: pandas only supports SQLAlchemy connectable (engine/connection) or database string URI or sqlite3 DBAPI2 connection. Other DBAPI2 objects are not tested. Please consider using SQLAlchemy.\n",
      "  df_informacoes = pd.read_sql(sql_informacoes.format(','.join([f\"'{x}'\" for x in processos_ed['processo'].unique()])), conn)\n"
     ]
    }
   ],
   "source": [
    "sql_informacoes = '''\n",
    "SELECT *\n",
    "FROM vw_ata_informacao\n",
    "WHERE CONCAT(numero_processo, '/', ano_processo) IN ({})\n",
    "'''\n",
    "\n",
    "df_informacoes = pd.read_sql(sql_informacoes.format(','.join([f\"'{x}'\" for x in processos_ed['processo'].unique()])), conn)"
   ]
  },
  {
   "cell_type": "markdown",
   "metadata": {},
   "source": [
    "## Informação Processo 000096/2022"
   ]
  },
  {
   "cell_type": "code",
   "execution_count": 47,
   "metadata": {},
   "outputs": [
    {
     "data": {
      "text/plain": [
       "array(['EXE'], dtype=object)"
      ]
     },
     "execution_count": 47,
     "metadata": {},
     "output_type": "execute_result"
    }
   ],
   "source": [
    "processos_ed['codigo_tipo_processo'].unique()"
   ]
  },
  {
   "cell_type": "code",
   "execution_count": 85,
   "metadata": {},
   "outputs": [],
   "source": [
    "df_informacoes['processo'] = df_informacoes['numero_processo'].astype(str) + '/' + df_informacoes['ano_processo'].astype(str)"
   ]
  },
  {
   "cell_type": "code",
   "execution_count": 82,
   "metadata": {},
   "outputs": [],
   "source": [
    "df_informacoes['resumo'].fillna('', inplace=True)"
   ]
  },
  {
   "cell_type": "code",
   "execution_count": 86,
   "metadata": {},
   "outputs": [],
   "source": [
    "com_protesto = df_informacoes[df_informacoes['resumo'].str.contains('PROTESTO')]"
   ]
  },
  {
   "cell_type": "code",
   "execution_count": 88,
   "metadata": {},
   "outputs": [
    {
     "data": {
      "text/html": [
       "<div>\n",
       "<style scoped>\n",
       "    .dataframe tbody tr th:only-of-type {\n",
       "        vertical-align: middle;\n",
       "    }\n",
       "\n",
       "    .dataframe tbody tr th {\n",
       "        vertical-align: top;\n",
       "    }\n",
       "\n",
       "    .dataframe thead th {\n",
       "        text-align: right;\n",
       "    }\n",
       "</style>\n",
       "<table border=\"1\" class=\"dataframe\">\n",
       "  <thead>\n",
       "    <tr style=\"text-align: right;\">\n",
       "      <th></th>\n",
       "      <th>setor</th>\n",
       "      <th>numero_processo</th>\n",
       "      <th>ano_processo</th>\n",
       "      <th>ordem</th>\n",
       "      <th>data_resumo</th>\n",
       "      <th>resumo</th>\n",
       "      <th>sigilo</th>\n",
       "      <th>usuario</th>\n",
       "      <th>data_ultima_atualizacao</th>\n",
       "      <th>informacao_efetuada_por</th>\n",
       "      <th>...</th>\n",
       "      <th>DataPublicacao</th>\n",
       "      <th>IdInformacaoSubstituida</th>\n",
       "      <th>UsuarioInformacaoSubstituida</th>\n",
       "      <th>DataInformacaoSubstituida</th>\n",
       "      <th>IdTipoParecer</th>\n",
       "      <th>Observacao</th>\n",
       "      <th>IdProcesso</th>\n",
       "      <th>E_Relatorio_Inicial</th>\n",
       "      <th>E_Relatorio_Auditoria</th>\n",
       "      <th>processo</th>\n",
       "    </tr>\n",
       "  </thead>\n",
       "  <tbody>\n",
       "    <tr>\n",
       "      <th>964</th>\n",
       "      <td>DAE_SEI</td>\n",
       "      <td>001385</td>\n",
       "      <td>2022</td>\n",
       "      <td>43</td>\n",
       "      <td>2023-02-16 09:54:51.717</td>\n",
       "      <td>PROTESTO SEM ÊXITO...</td>\n",
       "      <td>None</td>\n",
       "      <td>49766210225</td>\n",
       "      <td>2023-02-16 09:54:51.717</td>\n",
       "      <td>49766210225</td>\n",
       "      <td>...</td>\n",
       "      <td>2023-02-16 09:56:28.460</td>\n",
       "      <td>None</td>\n",
       "      <td>None</td>\n",
       "      <td>None</td>\n",
       "      <td>None</td>\n",
       "      <td>None</td>\n",
       "      <td>None</td>\n",
       "      <td>None</td>\n",
       "      <td>None</td>\n",
       "      <td>001385/2022</td>\n",
       "    </tr>\n",
       "    <tr>\n",
       "      <th>965</th>\n",
       "      <td>DAE_SEI</td>\n",
       "      <td>000096</td>\n",
       "      <td>2022</td>\n",
       "      <td>43</td>\n",
       "      <td>2022-10-07 14:00:18.023</td>\n",
       "      <td>PROTESTO SEM ÊXITO...</td>\n",
       "      <td>None</td>\n",
       "      <td>49766210225</td>\n",
       "      <td>2022-10-07 14:00:18.023</td>\n",
       "      <td>49766210225</td>\n",
       "      <td>...</td>\n",
       "      <td>2022-10-07 14:02:05.477</td>\n",
       "      <td>None</td>\n",
       "      <td>None</td>\n",
       "      <td>None</td>\n",
       "      <td>None</td>\n",
       "      <td>None</td>\n",
       "      <td>None</td>\n",
       "      <td>None</td>\n",
       "      <td>None</td>\n",
       "      <td>000096/2022</td>\n",
       "    </tr>\n",
       "    <tr>\n",
       "      <th>966</th>\n",
       "      <td>DAE_SEI</td>\n",
       "      <td>000098</td>\n",
       "      <td>2022</td>\n",
       "      <td>51</td>\n",
       "      <td>2022-10-07 14:02:34.163</td>\n",
       "      <td>PROTESTO SEM ÊXITO...</td>\n",
       "      <td>None</td>\n",
       "      <td>49766210225</td>\n",
       "      <td>2022-10-07 14:02:34.163</td>\n",
       "      <td>49766210225</td>\n",
       "      <td>...</td>\n",
       "      <td>2022-10-07 14:03:48.780</td>\n",
       "      <td>None</td>\n",
       "      <td>None</td>\n",
       "      <td>None</td>\n",
       "      <td>None</td>\n",
       "      <td>None</td>\n",
       "      <td>None</td>\n",
       "      <td>None</td>\n",
       "      <td>None</td>\n",
       "      <td>000098/2022</td>\n",
       "    </tr>\n",
       "    <tr>\n",
       "      <th>2488</th>\n",
       "      <td>DAE_SEI</td>\n",
       "      <td>001386</td>\n",
       "      <td>2022</td>\n",
       "      <td>50</td>\n",
       "      <td>2023-01-17 10:35:19.773</td>\n",
       "      <td>PROTESTO SEM ÊXITO...</td>\n",
       "      <td>None</td>\n",
       "      <td>49766210225</td>\n",
       "      <td>2023-01-17 10:35:19.773</td>\n",
       "      <td>49766210225</td>\n",
       "      <td>...</td>\n",
       "      <td>2023-01-17 10:36:49.327</td>\n",
       "      <td>None</td>\n",
       "      <td>None</td>\n",
       "      <td>None</td>\n",
       "      <td>None</td>\n",
       "      <td>None</td>\n",
       "      <td>None</td>\n",
       "      <td>None</td>\n",
       "      <td>None</td>\n",
       "      <td>001386/2022</td>\n",
       "    </tr>\n",
       "    <tr>\n",
       "      <th>4671</th>\n",
       "      <td>DAE_SEI</td>\n",
       "      <td>002564</td>\n",
       "      <td>2024</td>\n",
       "      <td>52</td>\n",
       "      <td>2024-08-15 09:43:51.857</td>\n",
       "      <td>PROTESTO SEM ÊXITO...</td>\n",
       "      <td>None</td>\n",
       "      <td>49766210225</td>\n",
       "      <td>2024-08-15 09:43:51.857</td>\n",
       "      <td>49766210225</td>\n",
       "      <td>...</td>\n",
       "      <td>2024-08-15 09:48:10.593</td>\n",
       "      <td>None</td>\n",
       "      <td>None</td>\n",
       "      <td>None</td>\n",
       "      <td>None</td>\n",
       "      <td>None</td>\n",
       "      <td>None</td>\n",
       "      <td>None</td>\n",
       "      <td>None</td>\n",
       "      <td>002564/2024</td>\n",
       "    </tr>\n",
       "    <tr>\n",
       "      <th>...</th>\n",
       "      <td>...</td>\n",
       "      <td>...</td>\n",
       "      <td>...</td>\n",
       "      <td>...</td>\n",
       "      <td>...</td>\n",
       "      <td>...</td>\n",
       "      <td>...</td>\n",
       "      <td>...</td>\n",
       "      <td>...</td>\n",
       "      <td>...</td>\n",
       "      <td>...</td>\n",
       "      <td>...</td>\n",
       "      <td>...</td>\n",
       "      <td>...</td>\n",
       "      <td>...</td>\n",
       "      <td>...</td>\n",
       "      <td>...</td>\n",
       "      <td>...</td>\n",
       "      <td>...</td>\n",
       "      <td>...</td>\n",
       "      <td>...</td>\n",
       "    </tr>\n",
       "    <tr>\n",
       "      <th>6061</th>\n",
       "      <td>DAE_SEI</td>\n",
       "      <td>002582</td>\n",
       "      <td>2024</td>\n",
       "      <td>47</td>\n",
       "      <td>2024-10-09 10:43:36.557</td>\n",
       "      <td>PROTESTO SEM ÊXITO...</td>\n",
       "      <td>None</td>\n",
       "      <td>49766210225</td>\n",
       "      <td>2024-10-09 10:43:36.557</td>\n",
       "      <td>49766210225</td>\n",
       "      <td>...</td>\n",
       "      <td>2024-10-09 10:45:57.490</td>\n",
       "      <td>None</td>\n",
       "      <td>None</td>\n",
       "      <td>None</td>\n",
       "      <td>None</td>\n",
       "      <td>None</td>\n",
       "      <td>None</td>\n",
       "      <td>None</td>\n",
       "      <td>None</td>\n",
       "      <td>002582/2024</td>\n",
       "    </tr>\n",
       "    <tr>\n",
       "      <th>6062</th>\n",
       "      <td>DAE_SEI</td>\n",
       "      <td>002580</td>\n",
       "      <td>2024</td>\n",
       "      <td>50</td>\n",
       "      <td>2024-10-09 11:25:02.727</td>\n",
       "      <td>PROTESTO SEM ÊXITO...</td>\n",
       "      <td>None</td>\n",
       "      <td>49766210225</td>\n",
       "      <td>2024-10-09 11:25:02.727</td>\n",
       "      <td>49766210225</td>\n",
       "      <td>...</td>\n",
       "      <td>2024-10-09 11:27:02.913</td>\n",
       "      <td>None</td>\n",
       "      <td>None</td>\n",
       "      <td>None</td>\n",
       "      <td>None</td>\n",
       "      <td>None</td>\n",
       "      <td>None</td>\n",
       "      <td>None</td>\n",
       "      <td>None</td>\n",
       "      <td>002580/2024</td>\n",
       "    </tr>\n",
       "    <tr>\n",
       "      <th>6066</th>\n",
       "      <td>DAE_SEI</td>\n",
       "      <td>002567</td>\n",
       "      <td>2024</td>\n",
       "      <td>52</td>\n",
       "      <td>2024-10-10 11:03:22.623</td>\n",
       "      <td>PROTESTO SEM ÊXITO...</td>\n",
       "      <td>None</td>\n",
       "      <td>49766210225</td>\n",
       "      <td>2024-10-10 11:03:22.623</td>\n",
       "      <td>49766210225</td>\n",
       "      <td>...</td>\n",
       "      <td>2024-10-10 11:05:05.283</td>\n",
       "      <td>None</td>\n",
       "      <td>None</td>\n",
       "      <td>None</td>\n",
       "      <td>None</td>\n",
       "      <td>None</td>\n",
       "      <td>None</td>\n",
       "      <td>None</td>\n",
       "      <td>None</td>\n",
       "      <td>002567/2024</td>\n",
       "    </tr>\n",
       "    <tr>\n",
       "      <th>6067</th>\n",
       "      <td>DAE_SEI</td>\n",
       "      <td>002566</td>\n",
       "      <td>2024</td>\n",
       "      <td>49</td>\n",
       "      <td>2024-10-10 11:05:59.203</td>\n",
       "      <td>PROTESTO SEM ÊXITO...</td>\n",
       "      <td>None</td>\n",
       "      <td>49766210225</td>\n",
       "      <td>2024-10-10 11:05:59.203</td>\n",
       "      <td>49766210225</td>\n",
       "      <td>...</td>\n",
       "      <td>2024-10-10 11:07:18.240</td>\n",
       "      <td>None</td>\n",
       "      <td>None</td>\n",
       "      <td>None</td>\n",
       "      <td>None</td>\n",
       "      <td>None</td>\n",
       "      <td>None</td>\n",
       "      <td>None</td>\n",
       "      <td>None</td>\n",
       "      <td>002566/2024</td>\n",
       "    </tr>\n",
       "    <tr>\n",
       "      <th>6068</th>\n",
       "      <td>DAE_SEI</td>\n",
       "      <td>002565</td>\n",
       "      <td>2024</td>\n",
       "      <td>54</td>\n",
       "      <td>2024-10-10 11:08:43.353</td>\n",
       "      <td>PROTESTO SEM ÊXITO...</td>\n",
       "      <td>None</td>\n",
       "      <td>49766210225</td>\n",
       "      <td>2024-10-10 11:08:43.353</td>\n",
       "      <td>49766210225</td>\n",
       "      <td>...</td>\n",
       "      <td>2024-10-10 11:14:52.570</td>\n",
       "      <td>None</td>\n",
       "      <td>None</td>\n",
       "      <td>None</td>\n",
       "      <td>None</td>\n",
       "      <td>None</td>\n",
       "      <td>None</td>\n",
       "      <td>None</td>\n",
       "      <td>None</td>\n",
       "      <td>002565/2024</td>\n",
       "    </tr>\n",
       "  </tbody>\n",
       "</table>\n",
       "<p>62 rows × 37 columns</p>\n",
       "</div>"
      ],
      "text/plain": [
       "        setor numero_processo ano_processo  ordem             data_resumo  \\\n",
       "964   DAE_SEI          001385         2022     43 2023-02-16 09:54:51.717   \n",
       "965   DAE_SEI          000096         2022     43 2022-10-07 14:00:18.023   \n",
       "966   DAE_SEI          000098         2022     51 2022-10-07 14:02:34.163   \n",
       "2488  DAE_SEI          001386         2022     50 2023-01-17 10:35:19.773   \n",
       "4671  DAE_SEI          002564         2024     52 2024-08-15 09:43:51.857   \n",
       "...       ...             ...          ...    ...                     ...   \n",
       "6061  DAE_SEI          002582         2024     47 2024-10-09 10:43:36.557   \n",
       "6062  DAE_SEI          002580         2024     50 2024-10-09 11:25:02.727   \n",
       "6066  DAE_SEI          002567         2024     52 2024-10-10 11:03:22.623   \n",
       "6067  DAE_SEI          002566         2024     49 2024-10-10 11:05:59.203   \n",
       "6068  DAE_SEI          002565         2024     54 2024-10-10 11:08:43.353   \n",
       "\n",
       "                     resumo sigilo      usuario data_ultima_atualizacao  \\\n",
       "964   PROTESTO SEM ÊXITO...   None  49766210225 2023-02-16 09:54:51.717   \n",
       "965   PROTESTO SEM ÊXITO...   None  49766210225 2022-10-07 14:00:18.023   \n",
       "966   PROTESTO SEM ÊXITO...   None  49766210225 2022-10-07 14:02:34.163   \n",
       "2488  PROTESTO SEM ÊXITO...   None  49766210225 2023-01-17 10:35:19.773   \n",
       "4671  PROTESTO SEM ÊXITO...   None  49766210225 2024-08-15 09:43:51.857   \n",
       "...                     ...    ...          ...                     ...   \n",
       "6061  PROTESTO SEM ÊXITO...   None  49766210225 2024-10-09 10:43:36.557   \n",
       "6062  PROTESTO SEM ÊXITO...   None  49766210225 2024-10-09 11:25:02.727   \n",
       "6066  PROTESTO SEM ÊXITO...   None  49766210225 2024-10-10 11:03:22.623   \n",
       "6067  PROTESTO SEM ÊXITO...   None  49766210225 2024-10-10 11:05:59.203   \n",
       "6068  PROTESTO SEM ÊXITO...   None  49766210225 2024-10-10 11:08:43.353   \n",
       "\n",
       "     informacao_efetuada_por  ...          DataPublicacao  \\\n",
       "964              49766210225  ... 2023-02-16 09:56:28.460   \n",
       "965              49766210225  ... 2022-10-07 14:02:05.477   \n",
       "966              49766210225  ... 2022-10-07 14:03:48.780   \n",
       "2488             49766210225  ... 2023-01-17 10:36:49.327   \n",
       "4671             49766210225  ... 2024-08-15 09:48:10.593   \n",
       "...                      ...  ...                     ...   \n",
       "6061             49766210225  ... 2024-10-09 10:45:57.490   \n",
       "6062             49766210225  ... 2024-10-09 11:27:02.913   \n",
       "6066             49766210225  ... 2024-10-10 11:05:05.283   \n",
       "6067             49766210225  ... 2024-10-10 11:07:18.240   \n",
       "6068             49766210225  ... 2024-10-10 11:14:52.570   \n",
       "\n",
       "     IdInformacaoSubstituida UsuarioInformacaoSubstituida  \\\n",
       "964                     None                         None   \n",
       "965                     None                         None   \n",
       "966                     None                         None   \n",
       "2488                    None                         None   \n",
       "4671                    None                         None   \n",
       "...                      ...                          ...   \n",
       "6061                    None                         None   \n",
       "6062                    None                         None   \n",
       "6066                    None                         None   \n",
       "6067                    None                         None   \n",
       "6068                    None                         None   \n",
       "\n",
       "     DataInformacaoSubstituida  IdTipoParecer  Observacao IdProcesso  \\\n",
       "964                       None           None        None       None   \n",
       "965                       None           None        None       None   \n",
       "966                       None           None        None       None   \n",
       "2488                      None           None        None       None   \n",
       "4671                      None           None        None       None   \n",
       "...                        ...            ...         ...        ...   \n",
       "6061                      None           None        None       None   \n",
       "6062                      None           None        None       None   \n",
       "6066                      None           None        None       None   \n",
       "6067                      None           None        None       None   \n",
       "6068                      None           None        None       None   \n",
       "\n",
       "     E_Relatorio_Inicial  E_Relatorio_Auditoria     processo  \n",
       "964                 None                   None  001385/2022  \n",
       "965                 None                   None  000096/2022  \n",
       "966                 None                   None  000098/2022  \n",
       "2488                None                   None  001386/2022  \n",
       "4671                None                   None  002564/2024  \n",
       "...                  ...                    ...          ...  \n",
       "6061                None                   None  002582/2024  \n",
       "6062                None                   None  002580/2024  \n",
       "6066                None                   None  002567/2024  \n",
       "6067                None                   None  002566/2024  \n",
       "6068                None                   None  002565/2024  \n",
       "\n",
       "[62 rows x 37 columns]"
      ]
     },
     "execution_count": 88,
     "metadata": {},
     "output_type": "execute_result"
    }
   ],
   "source": [
    "com_protesto"
   ]
  },
  {
   "cell_type": "code",
   "execution_count": 91,
   "metadata": {},
   "outputs": [
    {
     "data": {
      "text/html": [
       "<div>\n",
       "<style scoped>\n",
       "    .dataframe tbody tr th:only-of-type {\n",
       "        vertical-align: middle;\n",
       "    }\n",
       "\n",
       "    .dataframe tbody tr th {\n",
       "        vertical-align: top;\n",
       "    }\n",
       "\n",
       "    .dataframe thead th {\n",
       "        text-align: right;\n",
       "    }\n",
       "</style>\n",
       "<table border=\"1\" class=\"dataframe\">\n",
       "  <thead>\n",
       "    <tr style=\"text-align: right;\">\n",
       "      <th></th>\n",
       "      <th>numero_processo</th>\n",
       "      <th>ano_processo</th>\n",
       "      <th>codigo_tipo_processo</th>\n",
       "      <th>assunto</th>\n",
       "      <th>nome</th>\n",
       "      <th>marcador</th>\n",
       "      <th>id_processo</th>\n",
       "      <th>processo</th>\n",
       "    </tr>\n",
       "  </thead>\n",
       "  <tbody>\n",
       "    <tr>\n",
       "      <th>4</th>\n",
       "      <td>000099</td>\n",
       "      <td>2022</td>\n",
       "      <td>EXE</td>\n",
       "      <td>EXECUÇÃO DA DECISÃO PROFERIDA NOS AUTOS DO PRO...</td>\n",
       "      <td>ANTONIO ED SOUZA SANTANA</td>\n",
       "      <td>DESCONTO EM FOLHA - Nereu</td>\n",
       "      <td>561836</td>\n",
       "      <td>000099/2022</td>\n",
       "    </tr>\n",
       "    <tr>\n",
       "      <th>6</th>\n",
       "      <td>000110</td>\n",
       "      <td>2022</td>\n",
       "      <td>EXE</td>\n",
       "      <td>EXECUÇÃO DA DECISÃO PROFERIDA NOS AUTOS DO PRO...</td>\n",
       "      <td>ANTONIO ED SOUZA SANTANA</td>\n",
       "      <td>DESCONTO EM FOLHA - Nereu</td>\n",
       "      <td>561924</td>\n",
       "      <td>000110/2022</td>\n",
       "    </tr>\n",
       "    <tr>\n",
       "      <th>7</th>\n",
       "      <td>000137</td>\n",
       "      <td>2022</td>\n",
       "      <td>EXE</td>\n",
       "      <td>EXECUÇÃO DA DECISÃO PROFERIDA NOS AUTOS DO PRO...</td>\n",
       "      <td>ANTONIO ED SOUZA SANTANA</td>\n",
       "      <td>DESCONTO EM FOLHA - Nereu</td>\n",
       "      <td>561925</td>\n",
       "      <td>000137/2022</td>\n",
       "    </tr>\n",
       "    <tr>\n",
       "      <th>10</th>\n",
       "      <td>000113</td>\n",
       "      <td>2022</td>\n",
       "      <td>EXE</td>\n",
       "      <td>EXECUÇÃO DA DECISÃO PROFERIDA NOS AUTOS DO PRO...</td>\n",
       "      <td>ANTONIO ED SOUZA SANTANA</td>\n",
       "      <td>DESCONTO EM FOLHA - Nereu</td>\n",
       "      <td>561930</td>\n",
       "      <td>000113/2022</td>\n",
       "    </tr>\n",
       "    <tr>\n",
       "      <th>11</th>\n",
       "      <td>000114</td>\n",
       "      <td>2022</td>\n",
       "      <td>EXE</td>\n",
       "      <td>EXECUÇÃO DA DECISÃO PROFERIDA NOS AUTOS DO PRO...</td>\n",
       "      <td>ANTONIO ED SOUZA SANTANA</td>\n",
       "      <td>DESCONTO EM FOLHA - Nereu</td>\n",
       "      <td>561931</td>\n",
       "      <td>000114/2022</td>\n",
       "    </tr>\n",
       "    <tr>\n",
       "      <th>...</th>\n",
       "      <td>...</td>\n",
       "      <td>...</td>\n",
       "      <td>...</td>\n",
       "      <td>...</td>\n",
       "      <td>...</td>\n",
       "      <td>...</td>\n",
       "      <td>...</td>\n",
       "      <td>...</td>\n",
       "    </tr>\n",
       "    <tr>\n",
       "      <th>326</th>\n",
       "      <td>003397</td>\n",
       "      <td>2024</td>\n",
       "      <td>EXE</td>\n",
       "      <td>EXECUÇÃO DA DECISÃO PROFERIDA NOS AUTOS DO PRO...</td>\n",
       "      <td>ANTONIO ED SOUZA SANTANA</td>\n",
       "      <td>DESCONTO EM FOLHA - Nereu</td>\n",
       "      <td>604844</td>\n",
       "      <td>003397/2024</td>\n",
       "    </tr>\n",
       "    <tr>\n",
       "      <th>327</th>\n",
       "      <td>003401</td>\n",
       "      <td>2024</td>\n",
       "      <td>EXE</td>\n",
       "      <td>EXECUÇÃO DA DECISÃO PROFERIDA NOS AUTOS DO PRO...</td>\n",
       "      <td>ANTONIO ED SOUZA SANTANA</td>\n",
       "      <td>DESCONTO EM FOLHA - Nereu</td>\n",
       "      <td>605437</td>\n",
       "      <td>003401/2024</td>\n",
       "    </tr>\n",
       "    <tr>\n",
       "      <th>328</th>\n",
       "      <td>003409</td>\n",
       "      <td>2024</td>\n",
       "      <td>EXE</td>\n",
       "      <td>EXECUÇÃO DA DECISÃO PROFERIDA NOS AUTOS DO PRO...</td>\n",
       "      <td>ANTONIO ED SOUZA SANTANA</td>\n",
       "      <td>DESCONTO EM FOLHA - Nereu</td>\n",
       "      <td>605629</td>\n",
       "      <td>003409/2024</td>\n",
       "    </tr>\n",
       "    <tr>\n",
       "      <th>329</th>\n",
       "      <td>003410</td>\n",
       "      <td>2024</td>\n",
       "      <td>EXE</td>\n",
       "      <td>EXECUÇÃO DA DECISÃO PROFERIDA NOS AUTOS DO PRO...</td>\n",
       "      <td>ANTONIO ED SOUZA SANTANA</td>\n",
       "      <td>DESCONTO EM FOLHA - Nereu</td>\n",
       "      <td>605634</td>\n",
       "      <td>003410/2024</td>\n",
       "    </tr>\n",
       "    <tr>\n",
       "      <th>337</th>\n",
       "      <td>004898</td>\n",
       "      <td>2024</td>\n",
       "      <td>EXE</td>\n",
       "      <td>EXECUÇÃO DA DECISÃO PROFERIDA NOS AUTOS DO PRO...</td>\n",
       "      <td>ANTONIO ED SOUZA SANTANA</td>\n",
       "      <td>DESCONTO EM FOLHA - Nereu</td>\n",
       "      <td>607127</td>\n",
       "      <td>004898/2024</td>\n",
       "    </tr>\n",
       "  </tbody>\n",
       "</table>\n",
       "<p>96 rows × 8 columns</p>\n",
       "</div>"
      ],
      "text/plain": [
       "    numero_processo ano_processo codigo_tipo_processo  \\\n",
       "4            000099         2022                  EXE   \n",
       "6            000110         2022                  EXE   \n",
       "7            000137         2022                  EXE   \n",
       "10           000113         2022                  EXE   \n",
       "11           000114         2022                  EXE   \n",
       "..              ...          ...                  ...   \n",
       "326          003397         2024                  EXE   \n",
       "327          003401         2024                  EXE   \n",
       "328          003409         2024                  EXE   \n",
       "329          003410         2024                  EXE   \n",
       "337          004898         2024                  EXE   \n",
       "\n",
       "                                               assunto  \\\n",
       "4    EXECUÇÃO DA DECISÃO PROFERIDA NOS AUTOS DO PRO...   \n",
       "6    EXECUÇÃO DA DECISÃO PROFERIDA NOS AUTOS DO PRO...   \n",
       "7    EXECUÇÃO DA DECISÃO PROFERIDA NOS AUTOS DO PRO...   \n",
       "10   EXECUÇÃO DA DECISÃO PROFERIDA NOS AUTOS DO PRO...   \n",
       "11   EXECUÇÃO DA DECISÃO PROFERIDA NOS AUTOS DO PRO...   \n",
       "..                                                 ...   \n",
       "326  EXECUÇÃO DA DECISÃO PROFERIDA NOS AUTOS DO PRO...   \n",
       "327  EXECUÇÃO DA DECISÃO PROFERIDA NOS AUTOS DO PRO...   \n",
       "328  EXECUÇÃO DA DECISÃO PROFERIDA NOS AUTOS DO PRO...   \n",
       "329  EXECUÇÃO DA DECISÃO PROFERIDA NOS AUTOS DO PRO...   \n",
       "337  EXECUÇÃO DA DECISÃO PROFERIDA NOS AUTOS DO PRO...   \n",
       "\n",
       "                         nome                   marcador  id_processo  \\\n",
       "4    ANTONIO ED SOUZA SANTANA  DESCONTO EM FOLHA - Nereu       561836   \n",
       "6    ANTONIO ED SOUZA SANTANA  DESCONTO EM FOLHA - Nereu       561924   \n",
       "7    ANTONIO ED SOUZA SANTANA  DESCONTO EM FOLHA - Nereu       561925   \n",
       "10   ANTONIO ED SOUZA SANTANA  DESCONTO EM FOLHA - Nereu       561930   \n",
       "11   ANTONIO ED SOUZA SANTANA  DESCONTO EM FOLHA - Nereu       561931   \n",
       "..                        ...                        ...          ...   \n",
       "326  ANTONIO ED SOUZA SANTANA  DESCONTO EM FOLHA - Nereu       604844   \n",
       "327  ANTONIO ED SOUZA SANTANA  DESCONTO EM FOLHA - Nereu       605437   \n",
       "328  ANTONIO ED SOUZA SANTANA  DESCONTO EM FOLHA - Nereu       605629   \n",
       "329  ANTONIO ED SOUZA SANTANA  DESCONTO EM FOLHA - Nereu       605634   \n",
       "337  ANTONIO ED SOUZA SANTANA  DESCONTO EM FOLHA - Nereu       607127   \n",
       "\n",
       "        processo  \n",
       "4    000099/2022  \n",
       "6    000110/2022  \n",
       "7    000137/2022  \n",
       "10   000113/2022  \n",
       "11   000114/2022  \n",
       "..           ...  \n",
       "326  003397/2024  \n",
       "327  003401/2024  \n",
       "328  003409/2024  \n",
       "329  003410/2024  \n",
       "337  004898/2024  \n",
       "\n",
       "[96 rows x 8 columns]"
      ]
     },
     "execution_count": 91,
     "metadata": {},
     "output_type": "execute_result"
    }
   ],
   "source": [
    "processos_ed[~processos_ed.processo.isin(com_protesto['processo'])]"
   ]
  },
  {
   "cell_type": "code",
   "execution_count": 94,
   "metadata": {},
   "outputs": [
    {
     "name": "stderr",
     "output_type": "stream",
     "text": [
      "/tmp/ipykernel_29582/2177528228.py:1: SettingWithCopyWarning: \n",
      "A value is trying to be set on a copy of a slice from a DataFrame.\n",
      "Try using .loc[row_indexer,col_indexer] = value instead\n",
      "\n",
      "See the caveats in the documentation: https://pandas.pydata.org/pandas-docs/stable/user_guide/indexing.html#returning-a-view-versus-a-copy\n",
      "  debitos_ed['processo'] = debitos_ed['numero_processo'].astype(str) + '/' + debitos_ed['ano_processo'].astype(str)\n"
     ]
    }
   ],
   "source": [
    "debitos_ed['processo'] = debitos_ed['numero_processo'].astype(str) + '/' + debitos_ed['ano_processo'].astype(str)"
   ]
  },
  {
   "cell_type": "code",
   "execution_count": null,
   "metadata": {},
   "outputs": [],
   "source": []
  }
 ],
 "metadata": {
  "kernelspec": {
   "display_name": ".venv",
   "language": "python",
   "name": "python3"
  },
  "language_info": {
   "codemirror_mode": {
    "name": "ipython",
    "version": 3
   },
   "file_extension": ".py",
   "mimetype": "text/x-python",
   "name": "python",
   "nbconvert_exporter": "python",
   "pygments_lexer": "ipython3",
   "version": "3.12.7"
  }
 },
 "nbformat": 4,
 "nbformat_minor": 2
}
