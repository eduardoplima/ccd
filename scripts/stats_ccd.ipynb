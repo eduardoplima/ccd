{
 "cells": [
  {
   "cell_type": "markdown",
   "metadata": {},
   "source": [
    "# Estatísticas da CCD"
   ]
  },
  {
   "cell_type": "code",
   "execution_count": 33,
   "metadata": {},
   "outputs": [],
   "source": [
    "import os\n",
    "\n",
    "import pandas as pd\n",
    "import numpy as np\n",
    "import matplotlib.pyplot as plt\n",
    "import seaborn as sns\n",
    "\n",
    "from utils_ccd import get_connection\n",
    "\n",
    "conn = get_connection(db=\"BdDIP\")\n",
    "conn_processo = get_connection()"
   ]
  },
  {
   "cell_type": "markdown",
   "metadata": {},
   "source": [
    "## Decisões"
   ]
  },
  {
   "cell_type": "code",
   "execution_count": 7,
   "metadata": {},
   "outputs": [],
   "source": [
    "sql_decisoes = \"\"\"\n",
    "SELECT *\n",
    "FROM vwDecisao\n",
    "\"\"\""
   ]
  },
  {
   "cell_type": "code",
   "execution_count": 8,
   "metadata": {},
   "outputs": [
    {
     "name": "stderr",
     "output_type": "stream",
     "text": [
      "/tmp/ipykernel_183691/3741850577.py:1: UserWarning: pandas only supports SQLAlchemy connectable (engine/connection) or database string URI or sqlite3 DBAPI2 connection. Other DBAPI2 objects are not tested. Please consider using SQLAlchemy.\n",
      "  df_decisoes = pd.read_sql(sql_decisoes, conn)\n"
     ]
    }
   ],
   "source": [
    "df_decisoes = pd.read_sql(sql_decisoes, conn)"
   ]
  },
  {
   "cell_type": "code",
   "execution_count": 9,
   "metadata": {},
   "outputs": [
    {
     "data": {
      "text/plain": [
       "109431"
      ]
     },
     "execution_count": 9,
     "metadata": {},
     "output_type": "execute_result"
    }
   ],
   "source": [
    "len(df_decisoes)"
   ]
  },
  {
   "cell_type": "code",
   "execution_count": 10,
   "metadata": {},
   "outputs": [
    {
     "data": {
      "text/html": [
       "<div>\n",
       "<style scoped>\n",
       "    .dataframe tbody tr th:only-of-type {\n",
       "        vertical-align: middle;\n",
       "    }\n",
       "\n",
       "    .dataframe tbody tr th {\n",
       "        vertical-align: top;\n",
       "    }\n",
       "\n",
       "    .dataframe thead th {\n",
       "        text-align: right;\n",
       "    }\n",
       "</style>\n",
       "<table border=\"1\" class=\"dataframe\">\n",
       "  <thead>\n",
       "    <tr style=\"text-align: right;\">\n",
       "      <th></th>\n",
       "      <th>IdInformacao</th>\n",
       "      <th>numero_processo</th>\n",
       "      <th>ano_processo</th>\n",
       "      <th>codigo_tipo_processo</th>\n",
       "      <th>assunto</th>\n",
       "      <th>setor</th>\n",
       "      <th>resumo</th>\n",
       "      <th>data_resumo</th>\n",
       "      <th>arquivo</th>\n",
       "      <th>datapublicacao</th>\n",
       "    </tr>\n",
       "  </thead>\n",
       "  <tbody>\n",
       "    <tr>\n",
       "      <th>0</th>\n",
       "      <td>183468</td>\n",
       "      <td>000739</td>\n",
       "      <td>2006</td>\n",
       "      <td>INE</td>\n",
       "      <td>INEXIGIBILIDADE DE LICITAÇÃO (EM ATENDIMENTO À...</td>\n",
       "      <td>secsc</td>\n",
       "      <td>EMENTA: INEXIGIBILIDADE DE LICITAÇÃO E PAGAMEN...</td>\n",
       "      <td>2010-07-14 09:04:53.827</td>\n",
       "      <td>secsc/secsc_000739_2006_0005.pdf</td>\n",
       "      <td>NaT</td>\n",
       "    </tr>\n",
       "    <tr>\n",
       "      <th>1</th>\n",
       "      <td>235433</td>\n",
       "      <td>011136</td>\n",
       "      <td>2003</td>\n",
       "      <td>CTR</td>\n",
       "      <td>CONTRATO Nº003/AGN 2003(EM ATENDIMENTO A DILIG...</td>\n",
       "      <td>secsc</td>\n",
       "      <td>EMENTA: APURAÇÃO DE RESPONSABILIDADE POR ATRAS...</td>\n",
       "      <td>2011-10-11 11:32:39.200</td>\n",
       "      <td>secsc/secsc_011136_2003_0011.pdf</td>\n",
       "      <td>NaT</td>\n",
       "    </tr>\n",
       "    <tr>\n",
       "      <th>2</th>\n",
       "      <td>235434</td>\n",
       "      <td>011136</td>\n",
       "      <td>2003</td>\n",
       "      <td>CTR</td>\n",
       "      <td>CONTRATO Nº003/AGN 2003(EM ATENDIMENTO A DILIG...</td>\n",
       "      <td>secsc</td>\n",
       "      <td>EMENTA: APURAÇÃO DE RESPONSABILIDADE POR ATRAS...</td>\n",
       "      <td>2011-10-11 11:32:54.297</td>\n",
       "      <td>secsc/secsc_011136_2003_0012.pdf</td>\n",
       "      <td>NaT</td>\n",
       "    </tr>\n",
       "    <tr>\n",
       "      <th>3</th>\n",
       "      <td>235443</td>\n",
       "      <td>011136</td>\n",
       "      <td>2003</td>\n",
       "      <td>CTR</td>\n",
       "      <td>CONTRATO Nº003/AGN 2003(EM ATENDIMENTO A DILIG...</td>\n",
       "      <td>secsc</td>\n",
       "      <td>EMENTA: APURAÇÃO DE RESPONSABILIDADE POR ATRAS...</td>\n",
       "      <td>2011-10-11 11:39:03.977</td>\n",
       "      <td>secsc/secsc_011136_2003_0013.pdf</td>\n",
       "      <td>NaT</td>\n",
       "    </tr>\n",
       "    <tr>\n",
       "      <th>4</th>\n",
       "      <td>235460</td>\n",
       "      <td>011136</td>\n",
       "      <td>2003</td>\n",
       "      <td>CTR</td>\n",
       "      <td>CONTRATO Nº003/AGN 2003(EM ATENDIMENTO A DILIG...</td>\n",
       "      <td>secsc</td>\n",
       "      <td>EMENTA: APURAÇÃO DE RESPONSABILIDADE POR ATRAS...</td>\n",
       "      <td>2011-10-11 11:56:10.370</td>\n",
       "      <td>secsc/secsc_011136_2003_0014.pdf</td>\n",
       "      <td>NaT</td>\n",
       "    </tr>\n",
       "  </tbody>\n",
       "</table>\n",
       "</div>"
      ],
      "text/plain": [
       "   IdInformacao numero_processo ano_processo codigo_tipo_processo  \\\n",
       "0        183468          000739         2006                  INE   \n",
       "1        235433          011136         2003                  CTR   \n",
       "2        235434          011136         2003                  CTR   \n",
       "3        235443          011136         2003                  CTR   \n",
       "4        235460          011136         2003                  CTR   \n",
       "\n",
       "                                             assunto  setor  \\\n",
       "0  INEXIGIBILIDADE DE LICITAÇÃO (EM ATENDIMENTO À...  secsc   \n",
       "1  CONTRATO Nº003/AGN 2003(EM ATENDIMENTO A DILIG...  secsc   \n",
       "2  CONTRATO Nº003/AGN 2003(EM ATENDIMENTO A DILIG...  secsc   \n",
       "3  CONTRATO Nº003/AGN 2003(EM ATENDIMENTO A DILIG...  secsc   \n",
       "4  CONTRATO Nº003/AGN 2003(EM ATENDIMENTO A DILIG...  secsc   \n",
       "\n",
       "                                              resumo             data_resumo  \\\n",
       "0  EMENTA: INEXIGIBILIDADE DE LICITAÇÃO E PAGAMEN... 2010-07-14 09:04:53.827   \n",
       "1  EMENTA: APURAÇÃO DE RESPONSABILIDADE POR ATRAS... 2011-10-11 11:32:39.200   \n",
       "2  EMENTA: APURAÇÃO DE RESPONSABILIDADE POR ATRAS... 2011-10-11 11:32:54.297   \n",
       "3  EMENTA: APURAÇÃO DE RESPONSABILIDADE POR ATRAS... 2011-10-11 11:39:03.977   \n",
       "4  EMENTA: APURAÇÃO DE RESPONSABILIDADE POR ATRAS... 2011-10-11 11:56:10.370   \n",
       "\n",
       "                            arquivo datapublicacao  \n",
       "0  secsc/secsc_000739_2006_0005.pdf            NaT  \n",
       "1  secsc/secsc_011136_2003_0011.pdf            NaT  \n",
       "2  secsc/secsc_011136_2003_0012.pdf            NaT  \n",
       "3  secsc/secsc_011136_2003_0013.pdf            NaT  \n",
       "4  secsc/secsc_011136_2003_0014.pdf            NaT  "
      ]
     },
     "execution_count": 10,
     "metadata": {},
     "output_type": "execute_result"
    }
   ],
   "source": [
    "df_decisoes.head()"
   ]
  },
  {
   "cell_type": "code",
   "execution_count": 15,
   "metadata": {},
   "outputs": [],
   "source": [
    "df_decisoes['ano'] = df_decisoes.data_resumo.dt.year\n",
    "df_decisoes['mes'] = df_decisoes.data_resumo.dt.month\n",
    "df_decisoes['ano_mes'] = df_decisoes.data_resumo.dt.to_period('M')"
   ]
  },
  {
   "cell_type": "code",
   "execution_count": 32,
   "metadata": {},
   "outputs": [
    {
     "data": {
      "text/plain": [
       "109431"
      ]
     },
     "execution_count": 32,
     "metadata": {},
     "output_type": "execute_result"
    }
   ],
   "source": [
    "len(df_decisoes)"
   ]
  },
  {
   "cell_type": "code",
   "execution_count": 16,
   "metadata": {},
   "outputs": [
    {
     "data": {
      "text/plain": [
       "np.float64(441.2540322580645)"
      ]
     },
     "execution_count": 16,
     "metadata": {},
     "output_type": "execute_result"
    }
   ],
   "source": [
    "df_decisoes.groupby(['ano_mes']).count().reset_index()['IdInformacao'].mean()"
   ]
  },
  {
   "cell_type": "code",
   "execution_count": 31,
   "metadata": {},
   "outputs": [
    {
     "data": {
      "image/png": "[encoded data removed]",
      "text/plain": [
       "<Figure size 1000x600 with 1 Axes>"
      ]
     },
     "metadata": {},
     "output_type": "display_data"
    }
   ],
   "source": [
    "import locale\n",
    "\n",
    "plt.figure(figsize=(10, 6))\n",
    "sns.barplot(x=df_decisoes['ano'].value_counts().index, y=df_decisoes['ano'].value_counts().values)\n",
    "plt.title('Decisões por ano')\n",
    "plt.xlabel('Ano')\n",
    "plt.ylabel('Quantidade')\n",
    "plt.xticks(rotation=45)\n",
    "sns.despine()\n",
    "locale.setlocale(locale.LC_ALL, 'pt_BR.UTF-8')\n",
    "plt.gca().get_yaxis().set_major_formatter(plt.FuncFormatter(lambda x, loc: locale.format_string(\"%d\", x, grouping=True)))\n",
    "plt.show()"
   ]
  },
  {
   "cell_type": "markdown",
   "metadata": {},
   "source": [
    "## Obrigações"
   ]
  },
  {
   "cell_type": "code",
   "execution_count": 38,
   "metadata": {},
   "outputs": [
    {
     "name": "stderr",
     "output_type": "stream",
     "text": [
      "/tmp/ipykernel_183691/3852579996.py:6: UserWarning: pandas only supports SQLAlchemy connectable (engine/connection) or database string URI or sqlite3 DBAPI2 connection. Other DBAPI2 objects are not tested. Please consider using SQLAlchemy.\n",
      "  df_obg = pd.read_sql(sql_obrigacoes, conn_processo)\n",
      "/tmp/ipykernel_183691/3852579996.py:13: UserWarning: pandas only supports SQLAlchemy connectable (engine/connection) or database string URI or sqlite3 DBAPI2 connection. Other DBAPI2 objects are not tested. Please consider using SQLAlchemy.\n",
      "  df_obg_ret = pd.read_sql(sql_obrigacoes_retiradas, conn_processo)\n"
     ]
    }
   ],
   "source": [
    "sql_obrigacoes = \"\"\"\n",
    "SELECT *\n",
    "FROM Obg_Obrigacao\n",
    "\"\"\"\n",
    "\n",
    "df_obg = pd.read_sql(sql_obrigacoes, conn_processo)\n",
    "\n",
    "sql_obrigacoes_retiradas = \"\"\"\n",
    "SELECT *\n",
    "FROM Obg_ObrigacaoRetirada\n",
    "\"\"\"\n",
    "\n",
    "df_obg_ret = pd.read_sql(sql_obrigacoes_retiradas, conn_processo)"
   ]
  },
  {
   "cell_type": "code",
   "execution_count": 39,
   "metadata": {},
   "outputs": [
    {
     "data": {
      "text/plain": [
       "(948, 504)"
      ]
     },
     "execution_count": 39,
     "metadata": {},
     "output_type": "execute_result"
    }
   ],
   "source": [
    "len(df_obg), len(df_obg_ret)"
   ]
  },
  {
   "cell_type": "code",
   "execution_count": 63,
   "metadata": {},
   "outputs": [],
   "source": [
    "df_obg['ano'] = df_obg.DataInclusao.dt.year\n",
    "df_obg['mes'] = df_obg.DataInclusao.dt.month\n",
    "df_obg['ano_mes'] = df_obg.DataInclusao.dt.to_period('M')"
   ]
  },
  {
   "cell_type": "code",
   "execution_count": 67,
   "metadata": {},
   "outputs": [
    {
     "data": {
      "text/plain": [
       "Index(['IdObrigacao', 'TipoObrigacao', 'TextoObrigacao', 'IdStatusObrigacao',\n",
       "       'PrazoInicioDeterminacao', 'PrazoFimDeterminacao',\n",
       "       'IdProcessoOriginario', 'IdComposicaoPautaFinalizacao',\n",
       "       'ClassificacaoObrigacao', 'IdMonitoramento', 'CodOrgaoObrigacao',\n",
       "       'UsuarioInclusao', 'DataInclusao', 'IdSessao', 'IdComposicaoPauta',\n",
       "       'IdObrigacaoRenovada', 'PossuiPrazo', 'IdInformacao', 'ano', 'mes',\n",
       "       'ano_mes'],\n",
       "      dtype='object')"
      ]
     },
     "execution_count": 67,
     "metadata": {},
     "output_type": "execute_result"
    }
   ],
   "source": [
    "df_obg.columns"
   ]
  },
  {
   "cell_type": "code",
   "execution_count": 64,
   "metadata": {},
   "outputs": [
    {
     "data": {
      "image/png": "[encoded data removed]",
      "text/plain": [
       "<Figure size 1000x600 with 1 Axes>"
      ]
     },
     "metadata": {},
     "output_type": "display_data"
    }
   ],
   "source": [
    "import locale\n",
    "\n",
    "plt.figure(figsize=(10, 6))\n",
    "sns.barplot(x=df_obg['ano'].value_counts().index, y=df_obg['ano'].value_counts().values)\n",
    "plt.title('Obrigações por ano')\n",
    "plt.xlabel('Ano')\n",
    "plt.ylabel('Quantidade')\n",
    "plt.xticks(rotation=45)\n",
    "sns.despine()\n",
    "locale.setlocale(locale.LC_ALL, 'pt_BR.UTF-8')\n",
    "plt.gca().get_yaxis().set_major_formatter(plt.FuncFormatter(lambda x, loc: locale.format_string(\"%d\", x, grouping=True)))\n",
    "plt.show()"
   ]
  },
  {
   "cell_type": "code",
   "execution_count": 75,
   "metadata": {},
   "outputs": [
    {
     "data": {
      "text/html": [
       "<div>\n",
       "<style scoped>\n",
       "    .dataframe tbody tr th:only-of-type {\n",
       "        vertical-align: middle;\n",
       "    }\n",
       "\n",
       "    .dataframe tbody tr th {\n",
       "        vertical-align: top;\n",
       "    }\n",
       "\n",
       "    .dataframe thead th {\n",
       "        text-align: right;\n",
       "    }\n",
       "</style>\n",
       "<table border=\"1\" class=\"dataframe\">\n",
       "  <thead>\n",
       "    <tr style=\"text-align: right;\">\n",
       "      <th></th>\n",
       "      <th>IdObrigacao</th>\n",
       "      <th>TipoObrigacao</th>\n",
       "      <th>TextoObrigacao</th>\n",
       "      <th>IdStatusObrigacao</th>\n",
       "      <th>PrazoInicioDeterminacao</th>\n",
       "      <th>PrazoFimDeterminacao</th>\n",
       "      <th>IdProcessoOriginario</th>\n",
       "      <th>IdComposicaoPautaFinalizacao</th>\n",
       "      <th>ClassificacaoObrigacao</th>\n",
       "      <th>IdMonitoramento</th>\n",
       "      <th>...</th>\n",
       "      <th>DataInclusao</th>\n",
       "      <th>IdSessao</th>\n",
       "      <th>IdComposicaoPauta</th>\n",
       "      <th>IdObrigacaoRenovada</th>\n",
       "      <th>PossuiPrazo</th>\n",
       "      <th>IdInformacao</th>\n",
       "      <th>ano</th>\n",
       "      <th>mes</th>\n",
       "      <th>ano_mes</th>\n",
       "      <th>TextoObrigacao_cleaned</th>\n",
       "    </tr>\n",
       "  </thead>\n",
       "  <tbody>\n",
       "    <tr>\n",
       "      <th>0</th>\n",
       "      <td>1</td>\n",
       "      <td>Recomendacao</td>\n",
       "      <td>ACORDAM os Conselheiros, nos termos do voto pr...</td>\n",
       "      <td>1</td>\n",
       "      <td>None</td>\n",
       "      <td>None</td>\n",
       "      <td>539600</td>\n",
       "      <td>None</td>\n",
       "      <td>Provisorio</td>\n",
       "      <td>None</td>\n",
       "      <td>...</td>\n",
       "      <td>2020-12-03 13:02:49.267</td>\n",
       "      <td>8894988</td>\n",
       "      <td>94836</td>\n",
       "      <td>None</td>\n",
       "      <td>False</td>\n",
       "      <td>1840062.0</td>\n",
       "      <td>2020</td>\n",
       "      <td>12</td>\n",
       "      <td>2020-12</td>\n",
       "      <td>ACORDAM os Conselheiros, nos termos do voto pr...</td>\n",
       "    </tr>\n",
       "    <tr>\n",
       "      <th>1</th>\n",
       "      <td>2</td>\n",
       "      <td>Recomendacao</td>\n",
       "      <td>ACORDAM os Conselheiros, nos termos do voto pr...</td>\n",
       "      <td>1</td>\n",
       "      <td>None</td>\n",
       "      <td>None</td>\n",
       "      <td>539600</td>\n",
       "      <td>None</td>\n",
       "      <td>Provisorio</td>\n",
       "      <td>None</td>\n",
       "      <td>...</td>\n",
       "      <td>2020-12-03 13:05:24.397</td>\n",
       "      <td>8894988</td>\n",
       "      <td>94836</td>\n",
       "      <td>None</td>\n",
       "      <td>False</td>\n",
       "      <td>1840062.0</td>\n",
       "      <td>2020</td>\n",
       "      <td>12</td>\n",
       "      <td>2020-12</td>\n",
       "      <td>ACORDAM os Conselheiros, nos termos do voto pr...</td>\n",
       "    </tr>\n",
       "    <tr>\n",
       "      <th>2</th>\n",
       "      <td>3</td>\n",
       "      <td>Recomendacao</td>\n",
       "      <td>ACORDAM os Conselheiros, nos termos do voto pr...</td>\n",
       "      <td>1</td>\n",
       "      <td>None</td>\n",
       "      <td>None</td>\n",
       "      <td>325697</td>\n",
       "      <td>None</td>\n",
       "      <td>Definitivo</td>\n",
       "      <td>None</td>\n",
       "      <td>...</td>\n",
       "      <td>2020-12-03 14:11:11.943</td>\n",
       "      <td>8894988</td>\n",
       "      <td>79258</td>\n",
       "      <td>None</td>\n",
       "      <td>False</td>\n",
       "      <td>1840063.0</td>\n",
       "      <td>2020</td>\n",
       "      <td>12</td>\n",
       "      <td>2020-12</td>\n",
       "      <td>ACORDAM os Conselheiros, nos termos do voto pr...</td>\n",
       "    </tr>\n",
       "    <tr>\n",
       "      <th>3</th>\n",
       "      <td>4</td>\n",
       "      <td>Recomendacao</td>\n",
       "      <td>ACORDAM os Conselheiros, nos termos do voto pr...</td>\n",
       "      <td>1</td>\n",
       "      <td>None</td>\n",
       "      <td>None</td>\n",
       "      <td>539600</td>\n",
       "      <td>None</td>\n",
       "      <td>Provisorio</td>\n",
       "      <td>None</td>\n",
       "      <td>...</td>\n",
       "      <td>2020-12-03 14:15:38.083</td>\n",
       "      <td>8894988</td>\n",
       "      <td>94836</td>\n",
       "      <td>None</td>\n",
       "      <td>False</td>\n",
       "      <td>1840062.0</td>\n",
       "      <td>2020</td>\n",
       "      <td>12</td>\n",
       "      <td>2020-12</td>\n",
       "      <td>ACORDAM os Conselheiros, nos termos do voto pr...</td>\n",
       "    </tr>\n",
       "    <tr>\n",
       "      <th>4</th>\n",
       "      <td>5</td>\n",
       "      <td>Recomendacao</td>\n",
       "      <td>a) pelo DEFERIMENTO DA MEDIDA CAUTELAR para qu...</td>\n",
       "      <td>1</td>\n",
       "      <td>None</td>\n",
       "      <td>None</td>\n",
       "      <td>533281</td>\n",
       "      <td>None</td>\n",
       "      <td>Definitivo</td>\n",
       "      <td>None</td>\n",
       "      <td>...</td>\n",
       "      <td>2021-01-08 13:16:22.490</td>\n",
       "      <td>8906686</td>\n",
       "      <td>94786</td>\n",
       "      <td>None</td>\n",
       "      <td>False</td>\n",
       "      <td>1864068.0</td>\n",
       "      <td>2021</td>\n",
       "      <td>1</td>\n",
       "      <td>2021-01</td>\n",
       "      <td>a) DEFERIMENTO MEDIDA CAUTELAR para a Prefeita...</td>\n",
       "    </tr>\n",
       "  </tbody>\n",
       "</table>\n",
       "<p>5 rows × 22 columns</p>\n",
       "</div>"
      ],
      "text/plain": [
       "   IdObrigacao TipoObrigacao  \\\n",
       "0            1  Recomendacao   \n",
       "1            2  Recomendacao   \n",
       "2            3  Recomendacao   \n",
       "3            4  Recomendacao   \n",
       "4            5  Recomendacao   \n",
       "\n",
       "                                      TextoObrigacao  IdStatusObrigacao  \\\n",
       "0  ACORDAM os Conselheiros, nos termos do voto pr...                  1   \n",
       "1  ACORDAM os Conselheiros, nos termos do voto pr...                  1   \n",
       "2  ACORDAM os Conselheiros, nos termos do voto pr...                  1   \n",
       "3  ACORDAM os Conselheiros, nos termos do voto pr...                  1   \n",
       "4  a) pelo DEFERIMENTO DA MEDIDA CAUTELAR para qu...                  1   \n",
       "\n",
       "  PrazoInicioDeterminacao PrazoFimDeterminacao  IdProcessoOriginario  \\\n",
       "0                    None                 None                539600   \n",
       "1                    None                 None                539600   \n",
       "2                    None                 None                325697   \n",
       "3                    None                 None                539600   \n",
       "4                    None                 None                533281   \n",
       "\n",
       "  IdComposicaoPautaFinalizacao ClassificacaoObrigacao IdMonitoramento  ...  \\\n",
       "0                         None             Provisorio            None  ...   \n",
       "1                         None             Provisorio            None  ...   \n",
       "2                         None             Definitivo            None  ...   \n",
       "3                         None             Provisorio            None  ...   \n",
       "4                         None             Definitivo            None  ...   \n",
       "\n",
       "             DataInclusao IdSessao IdComposicaoPauta  IdObrigacaoRenovada  \\\n",
       "0 2020-12-03 13:02:49.267  8894988             94836                 None   \n",
       "1 2020-12-03 13:05:24.397  8894988             94836                 None   \n",
       "2 2020-12-03 14:11:11.943  8894988             79258                 None   \n",
       "3 2020-12-03 14:15:38.083  8894988             94836                 None   \n",
       "4 2021-01-08 13:16:22.490  8906686             94786                 None   \n",
       "\n",
       "   PossuiPrazo IdInformacao   ano  mes  ano_mes  \\\n",
       "0        False    1840062.0  2020   12  2020-12   \n",
       "1        False    1840062.0  2020   12  2020-12   \n",
       "2        False    1840063.0  2020   12  2020-12   \n",
       "3        False    1840062.0  2020   12  2020-12   \n",
       "4        False    1864068.0  2021    1  2021-01   \n",
       "\n",
       "                              TextoObrigacao_cleaned  \n",
       "0  ACORDAM os Conselheiros, nos termos do voto pr...  \n",
       "1  ACORDAM os Conselheiros, nos termos do voto pr...  \n",
       "2  ACORDAM os Conselheiros, nos termos do voto pr...  \n",
       "3  ACORDAM os Conselheiros, nos termos do voto pr...  \n",
       "4  a) DEFERIMENTO MEDIDA CAUTELAR para a Prefeita...  \n",
       "\n",
       "[5 rows x 22 columns]"
      ]
     },
     "execution_count": 75,
     "metadata": {},
     "output_type": "execute_result"
    }
   ],
   "source": [
    "df_obg.head()"
   ]
  },
  {
   "cell_type": "code",
   "execution_count": 79,
   "metadata": {},
   "outputs": [
    {
     "name": "stdout",
     "output_type": "stream",
     "text": [
      "ACORDAM os Conselheiros, nos termos do voto proferido\n",
      "pela Conselheira Relatora, julgar pela homologação do Termo de Ajustamento de Gestão nº\n",
      "003/2020-pg celebrado entre o Ministério Público de Contas e o Governo do Estado do Rio\n",
      "Grande do Norte, por meio da Controladoria-Geral do Estado, Secretaria de Estado do\n",
      "Planejamento e das Finanças e Procuradoria-Geral do Estado, conforme as cláusulas\n",
      "encartadas na referida avença, devendo a Secretaria das Sessões proceder com a publicação\n",
      "integral do referido termo.\n",
      "Em virtude da referida homologação, pelo SOBRESTAMENTO dos autos pelo período do\n",
      "cumprimento integral do TAG ora homologado, restando ainda SUSPENSO o prazo\n",
      "prescricional (art. 113 da LCE nº 464/12 c/c art. 330, inciso III, do RITCERN).\n",
      "Após a publicação do Acórdão e Termo de Ajustamento de Gestão por parte da Secretaria das\n",
      "Sessões, os autos deverão seguir ao Ministério Público de Contas para sobrestamento do\n",
      "feito e monitoramento do TAG.\n"
     ]
    }
   ],
   "source": [
    "print(df_obg.iloc[0].TextoObrigacao)"
   ]
  },
  {
   "cell_type": "code",
   "execution_count": 76,
   "metadata": {},
   "outputs": [
    {
     "data": {
      "text/plain": [
       "TipoObrigacao\n",
       "Recomendacao    861\n",
       "Determinacao     87\n",
       "Name: count, dtype: int64"
      ]
     },
     "execution_count": 76,
     "metadata": {},
     "output_type": "execute_result"
    }
   ],
   "source": [
    "df_obg.TipoObrigacao.value_counts()"
   ]
  },
  {
   "cell_type": "code",
   "execution_count": 62,
   "metadata": {},
   "outputs": [
    {
     "data": {
      "text/plain": [
       "155"
      ]
     },
     "execution_count": 62,
     "metadata": {},
     "output_type": "execute_result"
    }
   ],
   "source": [
    "len(df_obg.CodOrgaoObrigacao.unique())"
   ]
  },
  {
   "cell_type": "code",
   "execution_count": null,
   "metadata": {},
   "outputs": [],
   "source": []
  },
  {
   "cell_type": "markdown",
   "metadata": {},
   "source": [
    "## Multas"
   ]
  },
  {
   "cell_type": "code",
   "execution_count": 46,
   "metadata": {},
   "outputs": [
    {
     "name": "stderr",
     "output_type": "stream",
     "text": [
      "/tmp/ipykernel_183691/1331304471.py:6: UserWarning: pandas only supports SQLAlchemy connectable (engine/connection) or database string URI or sqlite3 DBAPI2 connection. Other DBAPI2 objects are not tested. Please consider using SQLAlchemy.\n",
      "  df_multas = pd.read_sql(sql_multas, conn_processo)\n"
     ]
    }
   ],
   "source": [
    "sql_multas = \"\"\" \n",
    "SELECT * \n",
    "    FROM processo.dbo.Exe_Debito\n",
    "\"\"\"\n",
    "\n",
    "df_multas = pd.read_sql(sql_multas, conn_processo)"
   ]
  },
  {
   "cell_type": "code",
   "execution_count": 47,
   "metadata": {},
   "outputs": [
    {
     "data": {
      "text/plain": [
       "26574"
      ]
     },
     "execution_count": 47,
     "metadata": {},
     "output_type": "execute_result"
    }
   ],
   "source": [
    "len(df_multas)"
   ]
  },
  {
   "cell_type": "code",
   "execution_count": 55,
   "metadata": {},
   "outputs": [],
   "source": [
    "df_multas['ano'] = df_multas.datainclusao.dt.year\n",
    "df_multas['mes'] = df_multas.datainclusao.dt.month\n",
    "df_multas['ano_mes'] = df_multas.datainclusao.dt.to_period('M')"
   ]
  },
  {
   "cell_type": "code",
   "execution_count": 60,
   "metadata": {},
   "outputs": [
    {
     "data": {
      "text/plain": [
       "np.float64(219.6198347107438)"
      ]
     },
     "execution_count": 60,
     "metadata": {},
     "output_type": "execute_result"
    }
   ],
   "source": [
    "df_multas['ano_mes'].value_counts().mean()"
   ]
  },
  {
   "cell_type": "code",
   "execution_count": 58,
   "metadata": {},
   "outputs": [
    {
     "data": {
      "image/png": "[encoded data removed]",
      "text/plain": [
       "<Figure size 1000x600 with 1 Axes>"
      ]
     },
     "metadata": {},
     "output_type": "display_data"
    }
   ],
   "source": [
    "import locale\n",
    "\n",
    "plt.figure(figsize=(10, 6))\n",
    "sns.barplot(x=df_multas['ano'].value_counts().index, y=df_multas['ano'].value_counts().values)\n",
    "plt.title('Multas por ano')\n",
    "plt.xlabel('Ano')\n",
    "plt.ylabel('Quantidade')\n",
    "plt.xticks(rotation=45)\n",
    "sns.despine()\n",
    "locale.setlocale(locale.LC_ALL, 'pt_BR.UTF-8')\n",
    "plt.gca().get_yaxis().set_major_formatter(plt.FuncFormatter(lambda x, loc: locale.format_string(\"%d\", x, grouping=True)))\n",
    "plt.show()"
   ]
  },
  {
   "cell_type": "code",
   "execution_count": 50,
   "metadata": {},
   "outputs": [
    {
     "data": {
      "text/plain": [
       "array([None, False, True], dtype=object)"
      ]
     },
     "execution_count": 50,
     "metadata": {},
     "output_type": "execute_result"
    }
   ],
   "source": [
    "df_multas.TipodeBaixa.unique()"
   ]
  },
  {
   "cell_type": "code",
   "execution_count": null,
   "metadata": {},
   "outputs": [
    {
     "data": {
      "text/plain": [
       "np.float64(1994.0)"
      ]
     },
     "execution_count": 53,
     "metadata": {},
     "output_type": "execute_result"
    }
   ],
   "source": [
    "df_multas.datainclusao"
   ]
  },
  {
   "cell_type": "code",
   "execution_count": null,
   "metadata": {},
   "outputs": [],
   "source": []
  }
 ],
 "metadata": {
  "kernelspec": {
   "display_name": ".venv",
   "language": "python",
   "name": "python3"
  },
  "language_info": {
   "codemirror_mode": {
    "name": "ipython",
    "version": 3
   },
   "file_extension": ".py",
   "mimetype": "text/x-python",
   "name": "python",
   "nbconvert_exporter": "python",
   "pygments_lexer": "ipython3",
   "version": "3.12.3"
  }
 },
 "nbformat": 4,
 "nbformat_minor": 2
}
