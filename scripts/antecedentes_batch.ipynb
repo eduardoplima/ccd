{
 "cells": [
  {
   "cell_type": "code",
   "execution_count": 81,
   "metadata": {},
   "outputs": [],
   "source": [
    "import os\n",
    "import locale\n",
    "import math\n",
    "\n",
    "import pandas as pd\n",
    "import numpy as np\n",
    "\n",
    "from dotenv import load_dotenv\n",
    "from utils_ccd import get_connection\n",
    "from docxtpl import DocxTemplate\n",
    "\n",
    "load_dotenv()\n",
    "conn = get_connection()\n",
    "\n",
    "locale.setlocale(locale.LC_ALL, 'pt_BR.UTF-8')\n",
    "\n",
    "from antecedentes import create_antecedentes_doc\n",
    "\n",
    "import pypdf\n",
    "from pathlib import Path\n",
    "\n",
    "from langchain_openai import AzureOpenAI, AzureChatOpenAI\n",
    "from langchain.prompts import PromptTemplate, ChatPromptTemplate, FewShotChatMessagePromptTemplate\n",
    "\n",
    "from docx2pdf import convert"
   ]
  },
  {
   "cell_type": "code",
   "execution_count": 2,
   "metadata": {},
   "outputs": [],
   "source": [
    "import subprocess\n",
    "\n",
    "def generate_pdf(doc_path, path):\n",
    "\n",
    "    subprocess.call(['soffice',\n",
    "                  '--headless',\n",
    "                 '--convert-to',\n",
    "                 'pdf',\n",
    "                 '--outdir',\n",
    "                 path,\n",
    "                 doc_path])\n",
    "    return doc_path"
   ]
  },
  {
   "cell_type": "code",
   "execution_count": 3,
   "metadata": {},
   "outputs": [],
   "source": [
    "def get_file_path(row):\n",
    "    return Path('/media/informacoes_pdf/') / row['setor'].strip() / row['arquivo']\n"
   ]
  },
  {
   "cell_type": "code",
   "execution_count": 13,
   "metadata": {},
   "outputs": [],
   "source": [
    "def get_pdf_text(row):\n",
    "    arquivo = get_file_path(row)\n",
    "    print(f'File {arquivo} to pypdf text')\n",
    "    try:\n",
    "        pdf = pypdf.PdfReader(arquivo)\n",
    "        text = []\n",
    "        for page in pdf.pages:\n",
    "            text.append(page.extract_text())\n",
    "        return ' '.join(text)\n",
    "    except FileNotFoundError:\n",
    "        print(f'File not found: {arquivo}')\n",
    "        return ''"
   ]
  },
  {
   "cell_type": "code",
   "execution_count": 14,
   "metadata": {},
   "outputs": [
    {
     "name": "stderr",
     "output_type": "stream",
     "text": [
      "/tmp/ipykernel_19154/146702693.py:18: UserWarning: pandas only supports SQLAlchemy connectable (engine/connection) or database string URI or sqlite3 DBAPI2 connection. Other DBAPI2 objects are not tested. Please consider using SQLAlchemy.\n",
      "  processos_antecedentes = pd.read_sql(antecedentes_sql, conn)\n"
     ]
    }
   ],
   "source": [
    "antecedentes_sql = ''' \n",
    "\n",
    "SELECT DISTINCT pro.numero_processo,\n",
    "       pro.ano_processo,\n",
    "       pro.assunto,\n",
    "       pro.interessado,\n",
    "       pm.Descricao as marcador      \n",
    "       \n",
    "FROM processo.dbo.Processos pro\n",
    "INNER JOIN processo.dbo.Pro_MarcadorProcesso pmp ON pmp.IdProcesso = pro.IdProcesso\n",
    "INNER JOIN processo.dbo.Pro_Marcador pm ON pmp.IdMarcador = pm.IdMarcador\n",
    "LEFT JOIN processo.dbo.Exe_Debito ed ON ed.IdProcessoExecucao = pro.IdProcesso\n",
    "LEFT JOIN processo.dbo.Exe_DebitoPessoa edp ON edp.IDDebito = ed.IdDebito\n",
    "LEFT JOIN processo.dbo.GenPessoa gp ON gp.IdPessoa = edp.IDPessoa\n",
    "WHERE pro.setor_atual = 'CCD'\n",
    "AND lower(pm.Descricao) like '%antecedente%'\n",
    "'''\n",
    "processos_antecedentes = pd.read_sql(antecedentes_sql, conn)"
   ]
  },
  {
   "cell_type": "code",
   "execution_count": 15,
   "metadata": {},
   "outputs": [
    {
     "data": {
      "text/html": [
       "<div>\n",
       "<style scoped>\n",
       "    .dataframe tbody tr th:only-of-type {\n",
       "        vertical-align: middle;\n",
       "    }\n",
       "\n",
       "    .dataframe tbody tr th {\n",
       "        vertical-align: top;\n",
       "    }\n",
       "\n",
       "    .dataframe thead th {\n",
       "        text-align: right;\n",
       "    }\n",
       "</style>\n",
       "<table border=\"1\" class=\"dataframe\">\n",
       "  <thead>\n",
       "    <tr style=\"text-align: right;\">\n",
       "      <th></th>\n",
       "      <th>numero_processo</th>\n",
       "      <th>ano_processo</th>\n",
       "      <th>assunto</th>\n",
       "      <th>interessado</th>\n",
       "      <th>marcador</th>\n",
       "    </tr>\n",
       "  </thead>\n",
       "  <tbody>\n",
       "    <tr>\n",
       "      <th>0</th>\n",
       "      <td>000761</td>\n",
       "      <td>2022</td>\n",
       "      <td>APURAÇÃO DE RESPONSABILIDADE EM ATENDIMENTO AO...</td>\n",
       "      <td>PREFEITURA MUNICIPAL DE CANGUARETAMA          ...</td>\n",
       "      <td>Antecedentes</td>\n",
       "    </tr>\n",
       "    <tr>\n",
       "      <th>1</th>\n",
       "      <td>000913</td>\n",
       "      <td>2023</td>\n",
       "      <td>COMUNICAÇÃO DE IRREGULARIDADE                 ...</td>\n",
       "      <td>SIGILOSO                                      ...</td>\n",
       "      <td>Antecedentes</td>\n",
       "    </tr>\n",
       "    <tr>\n",
       "      <th>2</th>\n",
       "      <td>001749</td>\n",
       "      <td>2019</td>\n",
       "      <td>CONTAS DO CHEFE DO PODER EXECUTIVO MUNICIPAL, ...</td>\n",
       "      <td>PREFEITURA MUNICIPAL DE VIÇOSA                ...</td>\n",
       "      <td>Antecedentes</td>\n",
       "    </tr>\n",
       "    <tr>\n",
       "      <th>3</th>\n",
       "      <td>003277</td>\n",
       "      <td>2020</td>\n",
       "      <td>AUMENTO REMUNERATÓRIO DURANTE A PANDEMIA - REM...</td>\n",
       "      <td>CÂMARA MUNICIPAL DE ANTÔNIO MARTINS           ...</td>\n",
       "      <td>Antecedentes</td>\n",
       "    </tr>\n",
       "    <tr>\n",
       "      <th>4</th>\n",
       "      <td>003980</td>\n",
       "      <td>2022</td>\n",
       "      <td>APURAÇÃO DE RESPONSABILIDADE, REFERENTE AO PRO...</td>\n",
       "      <td>PREFEITURA MUNICIPAL DE CEARÁ-MIRIM           ...</td>\n",
       "      <td>Antecedentes</td>\n",
       "    </tr>\n",
       "    <tr>\n",
       "      <th>5</th>\n",
       "      <td>004072</td>\n",
       "      <td>2021</td>\n",
       "      <td>MONITORAMENTO                                 ...</td>\n",
       "      <td>AGÊNCIA DE FOMENTO DO RN S/A                  ...</td>\n",
       "      <td>Antecedentes</td>\n",
       "    </tr>\n",
       "    <tr>\n",
       "      <th>6</th>\n",
       "      <td>005181</td>\n",
       "      <td>2020</td>\n",
       "      <td>AUDITORIA DE CONFORMIDADE-EXERCÍCIO 2018      ...</td>\n",
       "      <td>PREFEITURA MUNICIPAL DE MOSSORÓ               ...</td>\n",
       "      <td>Antecedentes</td>\n",
       "    </tr>\n",
       "    <tr>\n",
       "      <th>7</th>\n",
       "      <td>006621</td>\n",
       "      <td>2015</td>\n",
       "      <td>CONTAS DO CHEFE DO PODER EXECUTIVO REFERENTE A...</td>\n",
       "      <td>PREF.MUN.UPANEMA                              ...</td>\n",
       "      <td>Antecedentes</td>\n",
       "    </tr>\n",
       "  </tbody>\n",
       "</table>\n",
       "</div>"
      ],
      "text/plain": [
       "  numero_processo ano_processo  \\\n",
       "0          000761         2022   \n",
       "1          000913         2023   \n",
       "2          001749         2019   \n",
       "3          003277         2020   \n",
       "4          003980         2022   \n",
       "5          004072         2021   \n",
       "6          005181         2020   \n",
       "7          006621         2015   \n",
       "\n",
       "                                             assunto  \\\n",
       "0  APURAÇÃO DE RESPONSABILIDADE EM ATENDIMENTO AO...   \n",
       "1  COMUNICAÇÃO DE IRREGULARIDADE                 ...   \n",
       "2  CONTAS DO CHEFE DO PODER EXECUTIVO MUNICIPAL, ...   \n",
       "3  AUMENTO REMUNERATÓRIO DURANTE A PANDEMIA - REM...   \n",
       "4  APURAÇÃO DE RESPONSABILIDADE, REFERENTE AO PRO...   \n",
       "5  MONITORAMENTO                                 ...   \n",
       "6  AUDITORIA DE CONFORMIDADE-EXERCÍCIO 2018      ...   \n",
       "7  CONTAS DO CHEFE DO PODER EXECUTIVO REFERENTE A...   \n",
       "\n",
       "                                         interessado      marcador  \n",
       "0  PREFEITURA MUNICIPAL DE CANGUARETAMA          ...  Antecedentes  \n",
       "1  SIGILOSO                                      ...  Antecedentes  \n",
       "2  PREFEITURA MUNICIPAL DE VIÇOSA                ...  Antecedentes  \n",
       "3  CÂMARA MUNICIPAL DE ANTÔNIO MARTINS           ...  Antecedentes  \n",
       "4  PREFEITURA MUNICIPAL DE CEARÁ-MIRIM           ...  Antecedentes  \n",
       "5  AGÊNCIA DE FOMENTO DO RN S/A                  ...  Antecedentes  \n",
       "6  PREFEITURA MUNICIPAL DE MOSSORÓ               ...  Antecedentes  \n",
       "7  PREF.MUN.UPANEMA                              ...  Antecedentes  "
      ]
     },
     "execution_count": 15,
     "metadata": {},
     "output_type": "execute_result"
    }
   ],
   "source": [
    "processos_antecedentes"
   ]
  },
  {
   "cell_type": "code",
   "execution_count": 16,
   "metadata": {},
   "outputs": [
    {
     "name": "stderr",
     "output_type": "stream",
     "text": [
      "/tmp/ipykernel_19154/2358130519.py:49: UserWarning: pandas only supports SQLAlchemy connectable (engine/connection) or database string URI or sqlite3 DBAPI2 connection. Other DBAPI2 objects are not tested. Please consider using SQLAlchemy.\n",
      "  df_info_gaana = pd.read_sql(sql_info_antecedentes_gaana, conn)\n"
     ]
    }
   ],
   "source": [
    "sql_info_antecedentes_gaana = ''' \n",
    "WITH RankedData AS (\n",
    "    SELECT \n",
    "    \tai.setor,\n",
    "        concat(pro.numero_processo, '/', pro.ano_processo) as processo,\n",
    "        pro.assunto,\n",
    "        pro.interessado,\n",
    "        concat(rtrim(ai.setor),'_',\n",
    "        ai.numero_processo ,'_',\n",
    "        ai.ano_processo,'_',RIGHT(concat('0000',ai.ordem),4),'.pdf') as arquivo,\n",
    "        ai.datapublicacao, \n",
    "        ppe.SequencialProcessoEvento, \n",
    "        ai.numero_processo, \n",
    "        ai.ano_processo,\n",
    "        ROW_NUMBER() OVER (\n",
    "            PARTITION BY CONCAT(ai.numero_processo, '/', ai.ano_processo)\n",
    "            ORDER BY ppe.SequencialProcessoEvento DESC\n",
    "        ) AS rn\n",
    "    FROM processo.dbo.Ata_Informacao ai \n",
    "    LEFT JOIN processo.dbo.Pro_ProcessoEvento ppe \n",
    "        ON ai.idInformacao = ppe.IdInformacao\n",
    "    LEFT JOIN processo.dbo.Processos pro\n",
    "    \tON pro.numero_processo = ai.numero_processo AND pro.ano_processo = ai.ano_processo\n",
    "    WHERE CONCAT(ai.numero_processo, '/', ai.ano_processo) IN (\n",
    "        SELECT CONCAT(pro.numero_processo, '/', pro.ano_processo)\n",
    "        FROM processo.dbo.Processos pro\n",
    "        INNER JOIN processo.dbo.Pro_MarcadorProcesso pmp \n",
    "            ON pmp.IdProcesso = pro.IdProcesso\n",
    "        INNER JOIN processo.dbo.Pro_Marcador pm \n",
    "            ON pmp.IdMarcador = pm.IdMarcador\n",
    "        LEFT JOIN processo.dbo.Exe_Debito ed \n",
    "            ON ed.IdProcessoExecucao = pro.IdProcesso\n",
    "        LEFT JOIN processo.dbo.Exe_DebitoPessoa edp \n",
    "            ON edp.IDDebito = ed.IdDebito\n",
    "        LEFT JOIN processo.dbo.GenPessoa gp \n",
    "            ON gp.IdPessoa = edp.IDPessoa\n",
    "        WHERE pro.setor_atual = 'CCD'\n",
    "        AND lower(pm.Descricao) LIKE '%antecedente%'\n",
    "    )\n",
    "    AND ai.setor LIKE '%GAANA%'\n",
    ")\n",
    "SELECT * \n",
    "FROM RankedData \n",
    "WHERE rn = 1\n",
    "ORDER BY numero_processo, ano_processo;\n",
    "\n",
    "\n",
    "'''\n",
    "df_info_gaana = pd.read_sql(sql_info_antecedentes_gaana, conn)"
   ]
  },
  {
   "cell_type": "code",
   "execution_count": 99,
   "metadata": {},
   "outputs": [],
   "source": [
    "def get_transito(nome):\n",
    "    with open(\"consultas/processos_transito_cpf.sql\") as f:\n",
    "        query = f.read()\n",
    "    with get_connection() as conn:\n",
    "        q = query.format(nome=nome)\n",
    "        #print(q)\n",
    "        df = pd.read_sql(q, conn)\n",
    "        df['valor_original'] = df['valor_original'].apply(lambda x: locale.currency(x, grouping=True, symbol=False) if x and not math.isnan(x) else '-')\n",
    "        df['valor_atualizado'] = df['valor_atualizado'].apply(lambda x: locale.currency(x, grouping=True, symbol=False) if x and not math.isnan(x) else '-')\n",
    "        df.fillna('', inplace=True)\n",
    "        return df.to_dict(orient='records')\n",
    "    \n",
    "def get_processos_transito_by_cpf(pessoas_cpfs):\n",
    "    transitos = []\n",
    "    for pessoa in pessoas_cpfs:\n",
    "        if pessoa['nome']:\n",
    "            transitos.append({'nome': pessoa['nome'], 'cpf': pessoa['cpf'], 'transitos': get_transito(pessoa['nome'])})\n",
    "    return transitos   \n",
    "\n",
    "def get_genpessoa(pessoa_strc):\n",
    "    cpfs = []\n",
    "    for pessoa in pessoa_strc.pessoas:\n",
    "        nome_pessoa = pessoa.nome_pessoa\n",
    "        sql = f'''\n",
    "        SELECT gp.Documento\n",
    "            FROM Processo.dbo.GenPessoa gp \n",
    "            WHERE lower(gp.nome) = '{nome_pessoa.lower()}'\n",
    "        '''\n",
    "        ret = pd.read_sql(sql, get_connection())\n",
    "        if ret.shape[0] == 0 or ret.shape[0] > 1:\n",
    "            cpfs.append({'nome': nome_pessoa, 'cpf': None})\n",
    "        else:\n",
    "            cpfs.append({'nome': nome_pessoa, 'cpf': ret.iloc[0]['Documento']})\n",
    "    return cpfs\n",
    "\n",
    "def is_vazio(valores):\n",
    "    return all([not bool(v['transitos']) for v in valores])\n",
    "    "
   ]
  },
  {
   "cell_type": "code",
   "execution_count": 21,
   "metadata": {},
   "outputs": [
    {
     "name": "stdout",
     "output_type": "stream",
     "text": [
      "File /media/informacoes_pdf/GAANA/GAANA_000761_2022_0028.pdf to pypdf text\n",
      "File /media/informacoes_pdf/GAANA/GAANA_000913_2023_0027.pdf to pypdf text\n",
      "File /media/informacoes_pdf/GAANA/GAANA_001749_2019_0042.pdf to pypdf text\n",
      "File /media/informacoes_pdf/GAANA/GAANA_003277_2020_0124.pdf to pypdf text\n",
      "File /media/informacoes_pdf/GAANA/GAANA_003980_2022_0029.pdf to pypdf text\n",
      "File /media/informacoes_pdf/GAANA/GAANA_004072_2021_0039.pdf to pypdf text\n",
      "File /media/informacoes_pdf/GAANA/GAANA_005181_2020_0084.pdf to pypdf text\n",
      "File /media/informacoes_pdf/GAANA/GAANA_006621_2015_0037.pdf to pypdf text\n"
     ]
    }
   ],
   "source": [
    "df_info_gaana['texto_pdf'] = df_info_gaana.apply(get_pdf_text, axis=1)"
   ]
  },
  {
   "cell_type": "code",
   "execution_count": 22,
   "metadata": {},
   "outputs": [],
   "source": [
    "llm = AzureChatOpenAI(model_name=\"gpt-4o\")"
   ]
  },
  {
   "cell_type": "code",
   "execution_count": 23,
   "metadata": {},
   "outputs": [],
   "source": [
    "from typing import List\n",
    "\n",
    "from pydantic import BaseModel, Field\n",
    "\n",
    "class PessoaAntecedentes(BaseModel):\n",
    "  \"\"\"Pessoa cujo antecedente deve ser buscado\"\"\"\n",
    "  nome_pessoa: str = Field(description=\"Nome da pessoa para buscar antecedentes\")\n",
    "\n",
    "class PessoasAntecedentes(BaseModel):\n",
    "  \"\"\"Lista de pessoas cujos antecedentes devem ser buscados\"\"\"\n",
    "  pessoas: List[PessoaAntecedentes] = Field(description=\"Lista de pessoas para buscar antecedentes\")\n"
   ]
  },
  {
   "cell_type": "code",
   "execution_count": 24,
   "metadata": {},
   "outputs": [],
   "source": [
    "def get_pessoas_llm(texto_despacho):\n",
    "\n",
    "  prompt = PromptTemplate.from_template(\"\"\"\n",
    "    Você é um agente que identifica listas de pessoas em requisições de antecedentes. \n",
    "      Você recebeu uma requisição para buscar antecedentes de pessoas em um processo. Remova qualquer vocativo do nome da pessoa, tal como Sr., Sra., Dr., Dra., etc.\n",
    "      O texto da requisição é o seguinte:\n",
    "      \"{input}\"\n",
    "      Encontre os antecedentes das pessoas listadas na requisição.\n",
    "\n",
    "    Sua resposta:\n",
    "    \"\"\")\n",
    "\n",
    "  structured_llm = llm.with_structured_output(schema=PessoasAntecedentes)\n",
    "  chain = prompt | structured_llm\n",
    "  return chain.invoke(texto_despacho)"
   ]
  },
  {
   "cell_type": "code",
   "execution_count": 25,
   "metadata": {},
   "outputs": [],
   "source": [
    "df_info_gaana['pessoas'] = df_info_gaana['texto_pdf'].apply(get_pessoas_llm)"
   ]
  },
  {
   "cell_type": "code",
   "execution_count": 49,
   "metadata": {},
   "outputs": [
    {
     "name": "stderr",
     "output_type": "stream",
     "text": [
      "/tmp/ipykernel_19154/1252809892.py:10: UserWarning: pandas only supports SQLAlchemy connectable (engine/connection) or database string URI or sqlite3 DBAPI2 connection. Other DBAPI2 objects are not tested. Please consider using SQLAlchemy.\n",
      "  ret = pd.read_sql(sql, get_connection())\n",
      "/tmp/ipykernel_19154/1252809892.py:10: UserWarning: pandas only supports SQLAlchemy connectable (engine/connection) or database string URI or sqlite3 DBAPI2 connection. Other DBAPI2 objects are not tested. Please consider using SQLAlchemy.\n",
      "  ret = pd.read_sql(sql, get_connection())\n",
      "/tmp/ipykernel_19154/1252809892.py:10: UserWarning: pandas only supports SQLAlchemy connectable (engine/connection) or database string URI or sqlite3 DBAPI2 connection. Other DBAPI2 objects are not tested. Please consider using SQLAlchemy.\n",
      "  ret = pd.read_sql(sql, get_connection())\n"
     ]
    }
   ],
   "source": [
    "df_info_gaana['cpf'] = df_info_gaana['pessoas'].apply(get_genpessoa)"
   ]
  },
  {
   "cell_type": "code",
   "execution_count": 82,
   "metadata": {},
   "outputs": [
    {
     "name": "stderr",
     "output_type": "stream",
     "text": [
      "/tmp/ipykernel_19154/1905053526.py:7: UserWarning: pandas only supports SQLAlchemy connectable (engine/connection) or database string URI or sqlite3 DBAPI2 connection. Other DBAPI2 objects are not tested. Please consider using SQLAlchemy.\n",
      "  df = pd.read_sql(q, conn)\n",
      "/tmp/ipykernel_19154/1905053526.py:7: UserWarning: pandas only supports SQLAlchemy connectable (engine/connection) or database string URI or sqlite3 DBAPI2 connection. Other DBAPI2 objects are not tested. Please consider using SQLAlchemy.\n",
      "  df = pd.read_sql(q, conn)\n",
      "/tmp/ipykernel_19154/1905053526.py:7: UserWarning: pandas only supports SQLAlchemy connectable (engine/connection) or database string URI or sqlite3 DBAPI2 connection. Other DBAPI2 objects are not tested. Please consider using SQLAlchemy.\n",
      "  df = pd.read_sql(q, conn)\n",
      "/tmp/ipykernel_19154/1905053526.py:7: UserWarning: pandas only supports SQLAlchemy connectable (engine/connection) or database string URI or sqlite3 DBAPI2 connection. Other DBAPI2 objects are not tested. Please consider using SQLAlchemy.\n",
      "  df = pd.read_sql(q, conn)\n",
      "/tmp/ipykernel_19154/1905053526.py:7: UserWarning: pandas only supports SQLAlchemy connectable (engine/connection) or database string URI or sqlite3 DBAPI2 connection. Other DBAPI2 objects are not tested. Please consider using SQLAlchemy.\n",
      "  df = pd.read_sql(q, conn)\n",
      "/tmp/ipykernel_19154/1905053526.py:7: UserWarning: pandas only supports SQLAlchemy connectable (engine/connection) or database string URI or sqlite3 DBAPI2 connection. Other DBAPI2 objects are not tested. Please consider using SQLAlchemy.\n",
      "  df = pd.read_sql(q, conn)\n",
      "/tmp/ipykernel_19154/1905053526.py:7: UserWarning: pandas only supports SQLAlchemy connectable (engine/connection) or database string URI or sqlite3 DBAPI2 connection. Other DBAPI2 objects are not tested. Please consider using SQLAlchemy.\n",
      "  df = pd.read_sql(q, conn)\n",
      "/tmp/ipykernel_19154/1905053526.py:7: UserWarning: pandas only supports SQLAlchemy connectable (engine/connection) or database string URI or sqlite3 DBAPI2 connection. Other DBAPI2 objects are not tested. Please consider using SQLAlchemy.\n",
      "  df = pd.read_sql(q, conn)\n",
      "/tmp/ipykernel_19154/1905053526.py:7: UserWarning: pandas only supports SQLAlchemy connectable (engine/connection) or database string URI or sqlite3 DBAPI2 connection. Other DBAPI2 objects are not tested. Please consider using SQLAlchemy.\n",
      "  df = pd.read_sql(q, conn)\n",
      "/tmp/ipykernel_19154/1905053526.py:7: UserWarning: pandas only supports SQLAlchemy connectable (engine/connection) or database string URI or sqlite3 DBAPI2 connection. Other DBAPI2 objects are not tested. Please consider using SQLAlchemy.\n",
      "  df = pd.read_sql(q, conn)\n",
      "/tmp/ipykernel_19154/1905053526.py:7: UserWarning: pandas only supports SQLAlchemy connectable (engine/connection) or database string URI or sqlite3 DBAPI2 connection. Other DBAPI2 objects are not tested. Please consider using SQLAlchemy.\n",
      "  df = pd.read_sql(q, conn)\n",
      "/tmp/ipykernel_19154/1905053526.py:7: UserWarning: pandas only supports SQLAlchemy connectable (engine/connection) or database string URI or sqlite3 DBAPI2 connection. Other DBAPI2 objects are not tested. Please consider using SQLAlchemy.\n",
      "  df = pd.read_sql(q, conn)\n",
      "/tmp/ipykernel_19154/1905053526.py:7: UserWarning: pandas only supports SQLAlchemy connectable (engine/connection) or database string URI or sqlite3 DBAPI2 connection. Other DBAPI2 objects are not tested. Please consider using SQLAlchemy.\n",
      "  df = pd.read_sql(q, conn)\n",
      "/tmp/ipykernel_19154/1905053526.py:7: UserWarning: pandas only supports SQLAlchemy connectable (engine/connection) or database string URI or sqlite3 DBAPI2 connection. Other DBAPI2 objects are not tested. Please consider using SQLAlchemy.\n",
      "  df = pd.read_sql(q, conn)\n"
     ]
    }
   ],
   "source": [
    "df_info_gaana['valores'] = df_info_gaana['cpf'].apply(get_processos_transito_by_cpf)"
   ]
  },
  {
   "cell_type": "code",
   "execution_count": null,
   "metadata": {},
   "outputs": [],
   "source": []
  },
  {
   "cell_type": "code",
   "execution_count": null,
   "metadata": {},
   "outputs": [
    {
     "data": {
      "text/plain": [
       "0    False\n",
       "1     True\n",
       "2    False\n",
       "3    False\n",
       "4     True\n",
       "5     True\n",
       "6    False\n",
       "7    False\n",
       "Name: valores, dtype: bool"
      ]
     },
     "execution_count": 95,
     "metadata": {},
     "output_type": "execute_result"
    }
   ],
   "source": [
    "df_info_gaana['vazio'] = df_info_gaana['valores'].apply(is_vazio)"
   ]
  },
  {
   "cell_type": "code",
   "execution_count": 98,
   "metadata": {},
   "outputs": [
    {
     "data": {
      "text/plain": [
       "[{'nome': 'Edivane Vilar de Souza', 'cpf': '45583005491', 'transitos': []}]"
      ]
     },
     "execution_count": 98,
     "metadata": {},
     "output_type": "execute_result"
    }
   ],
   "source": [
    "df_info_gaana['valores'].iloc[5]"
   ]
  },
  {
   "cell_type": "code",
   "execution_count": 83,
   "metadata": {},
   "outputs": [
    {
     "data": {
      "text/plain": [
       "[{'nome': 'Ana Paula de Oliveira Gomes',\n",
       "  'cpf': '45639027304',\n",
       "  'transitos': []},\n",
       " {'nome': 'Antônio Gomes de Amorim',\n",
       "  'cpf': '18249604415',\n",
       "  'transitos': [{'processo_origem': '009308/2004',\n",
       "    'processo_execucao': '',\n",
       "    'tipo_debito': 'Ressarcimento ',\n",
       "    'valor_original': '61.950,00',\n",
       "    'valor_atualizado': '-',\n",
       "    'transito_julgado': '13/03/2013',\n",
       "    'situacao_divida': 'Cancelada por Decisão Judicial',\n",
       "    'status_protesto': '',\n",
       "    'status_pge': ''},\n",
       "   {'processo_origem': '009308/2004',\n",
       "    'processo_execucao': '',\n",
       "    'tipo_debito': 'Multa Percentual',\n",
       "    'valor_original': '18.585,00',\n",
       "    'valor_atualizado': '-',\n",
       "    'transito_julgado': '13/03/2013',\n",
       "    'situacao_divida': 'Cancelada por Decisão Judicial',\n",
       "    'status_protesto': '',\n",
       "    'status_pge': ''},\n",
       "   {'processo_origem': '009308/2004',\n",
       "    'processo_execucao': '',\n",
       "    'tipo_debito': 'Multa',\n",
       "    'valor_original': '2.200,00',\n",
       "    'valor_atualizado': '2.222,00',\n",
       "    'transito_julgado': '13/03/2013',\n",
       "    'situacao_divida': 'Pago parcialmente',\n",
       "    'status_protesto': '',\n",
       "    'status_pge': ''},\n",
       "   {'processo_origem': '701238/2012',\n",
       "    'processo_execucao': '',\n",
       "    'tipo_debito': 'Multa',\n",
       "    'valor_original': '1.964,00',\n",
       "    'valor_atualizado': '2.033,87',\n",
       "    'transito_julgado': '14/09/2015',\n",
       "    'situacao_divida': 'Pago Integralmente',\n",
       "    'status_protesto': '',\n",
       "    'status_pge': ''},\n",
       "   {'processo_origem': '011892/2014',\n",
       "    'processo_execucao': '',\n",
       "    'tipo_debito': 'Multa',\n",
       "    'valor_original': '2.250,00',\n",
       "    'valor_atualizado': '2.303,45',\n",
       "    'transito_julgado': '27/04/2016',\n",
       "    'situacao_divida': 'Pago Integralmente',\n",
       "    'status_protesto': '',\n",
       "    'status_pge': ''},\n",
       "   {'processo_origem': '008504/2018',\n",
       "    'processo_execucao': '',\n",
       "    'tipo_debito': 'Multa',\n",
       "    'valor_original': '1.500,00',\n",
       "    'valor_atualizado': '305,97',\n",
       "    'transito_julgado': '13/02/2020',\n",
       "    'situacao_divida': 'Pago Integralmente',\n",
       "    'status_protesto': '',\n",
       "    'status_pge': ''},\n",
       "   {'processo_origem': '009863/2018',\n",
       "    'processo_execucao': '',\n",
       "    'tipo_debito': 'Multa',\n",
       "    'valor_original': '185,29',\n",
       "    'valor_atualizado': '185,60',\n",
       "    'transito_julgado': '27/11/2024',\n",
       "    'situacao_divida': 'Pago Integralmente',\n",
       "    'status_protesto': '',\n",
       "    'status_pge': ''},\n",
       "   {'processo_origem': '004412/2020',\n",
       "    'processo_execucao': '',\n",
       "    'tipo_debito': 'Multa',\n",
       "    'valor_original': '5.000,00',\n",
       "    'valor_atualizado': '1.009,90',\n",
       "    'transito_julgado': '31/05/2022',\n",
       "    'situacao_divida': 'Pago Integralmente',\n",
       "    'status_protesto': '',\n",
       "    'status_pge': ''},\n",
       "   {'processo_origem': '009848/2004',\n",
       "    'processo_execucao': '009177/2014',\n",
       "    'tipo_debito': 'Ressarcimento ',\n",
       "    'valor_original': '3.400,00',\n",
       "    'valor_atualizado': '-',\n",
       "    'transito_julgado': '18/06/2013',\n",
       "    'situacao_divida': 'Em Aberto',\n",
       "    'status_protesto': '',\n",
       "    'status_pge': ''},\n",
       "   {'processo_origem': '009848/2004',\n",
       "    'processo_execucao': '009177/2014',\n",
       "    'tipo_debito': 'Multa',\n",
       "    'valor_original': '5.300,00',\n",
       "    'valor_atualizado': '7.042,17',\n",
       "    'transito_julgado': '18/06/2013',\n",
       "    'situacao_divida': 'Pago parcialmente',\n",
       "    'status_protesto': '',\n",
       "    'status_pge': 'Inscrito em Dívida Ativa'},\n",
       "   {'processo_origem': '009848/2004',\n",
       "    'processo_execucao': '009177/2014',\n",
       "    'tipo_debito': 'Multa Percentual',\n",
       "    'valor_original': '1.700,00',\n",
       "    'valor_atualizado': '3.654,13',\n",
       "    'transito_julgado': '18/03/2013',\n",
       "    'situacao_divida': 'Pago parcialmente',\n",
       "    'status_protesto': '',\n",
       "    'status_pge': 'Inscrito em Dívida Ativa'},\n",
       "   {'processo_origem': '005063/2003',\n",
       "    'processo_execucao': '013591/2014',\n",
       "    'tipo_debito': 'Ressarcimento ',\n",
       "    'valor_original': '17.650,00',\n",
       "    'valor_atualizado': '-',\n",
       "    'transito_julgado': '08/02/2013',\n",
       "    'situacao_divida': 'Cancelada por decisão do relator',\n",
       "    'status_protesto': '',\n",
       "    'status_pge': ''},\n",
       "   {'processo_origem': '005063/2003',\n",
       "    'processo_execucao': '013591/2014',\n",
       "    'tipo_debito': 'Multa',\n",
       "    'valor_original': '6.400,00',\n",
       "    'valor_atualizado': '8.395,13',\n",
       "    'transito_julgado': '08/02/2013',\n",
       "    'situacao_divida': 'Pago parcialmente',\n",
       "    'status_protesto': '',\n",
       "    'status_pge': 'Inscrito em Dívida Ativa'},\n",
       "   {'processo_origem': '005063/2003',\n",
       "    'processo_execucao': '013591/2014',\n",
       "    'tipo_debito': 'Multa Percentual',\n",
       "    'valor_original': '5.295,00',\n",
       "    'valor_atualizado': '16.481,68',\n",
       "    'transito_julgado': '08/02/2013',\n",
       "    'situacao_divida': 'Pago parcialmente',\n",
       "    'status_protesto': '',\n",
       "    'status_pge': 'Inscrito em Dívida Ativa'},\n",
       "   {'processo_origem': '005090/2003',\n",
       "    'processo_execucao': '016815/2014',\n",
       "    'tipo_debito': 'Multa',\n",
       "    'valor_original': '2.000,00',\n",
       "    'valor_atualizado': '-',\n",
       "    'transito_julgado': '14/12/2012',\n",
       "    'situacao_divida': 'Em Aberto',\n",
       "    'status_protesto': '',\n",
       "    'status_pge': ''},\n",
       "   {'processo_origem': '002438/2003',\n",
       "    'processo_execucao': '001859/2015',\n",
       "    'tipo_debito': 'Ressarcimento ',\n",
       "    'valor_original': '230.241,80',\n",
       "    'valor_atualizado': '-',\n",
       "    'transito_julgado': '04/11/2013',\n",
       "    'situacao_divida': 'Em Aberto',\n",
       "    'status_protesto': '',\n",
       "    'status_pge': ''},\n",
       "   {'processo_origem': '002438/2003',\n",
       "    'processo_execucao': '001859/2015',\n",
       "    'tipo_debito': 'Multa',\n",
       "    'valor_original': '500,00',\n",
       "    'valor_atualizado': '806,86',\n",
       "    'transito_julgado': '04/11/2013',\n",
       "    'situacao_divida': 'Pago Integralmente',\n",
       "    'status_protesto': '',\n",
       "    'status_pge': ''},\n",
       "   {'processo_origem': '002438/2003',\n",
       "    'processo_execucao': '001859/2015',\n",
       "    'tipo_debito': 'Multa Percentual',\n",
       "    'valor_original': '23.024,18',\n",
       "    'valor_atualizado': '-',\n",
       "    'transito_julgado': '04/11/2013',\n",
       "    'situacao_divida': 'Em Aberto',\n",
       "    'status_protesto': 'Cancelada antes do Protesto',\n",
       "    'status_pge': ''},\n",
       "   {'processo_origem': '002248/2008',\n",
       "    'processo_execucao': '015355/2017',\n",
       "    'tipo_debito': 'Multa',\n",
       "    'valor_original': '6.051,60',\n",
       "    'valor_atualizado': '7.813,90',\n",
       "    'transito_julgado': '31/01/2013',\n",
       "    'situacao_divida': 'Pago parcialmente',\n",
       "    'status_protesto': '',\n",
       "    'status_pge': ''},\n",
       "   {'processo_origem': '002248/2008',\n",
       "    'processo_execucao': '015355/2017',\n",
       "    'tipo_debito': 'Multa',\n",
       "    'valor_original': '17.400,00',\n",
       "    'valor_atualizado': '22.467,09',\n",
       "    'transito_julgado': '31/01/2013',\n",
       "    'situacao_divida': 'Pago parcialmente',\n",
       "    'status_protesto': '',\n",
       "    'status_pge': ''},\n",
       "   {'processo_origem': '001978/2001',\n",
       "    'processo_execucao': '000817/2019',\n",
       "    'tipo_debito': 'Ressarcimento ',\n",
       "    'valor_original': '3.716,90',\n",
       "    'valor_atualizado': '-',\n",
       "    'transito_julgado': '14/03/2013',\n",
       "    'situacao_divida': 'Cancelada por Erro de Cadastro',\n",
       "    'status_protesto': '',\n",
       "    'status_pge': ''},\n",
       "   {'processo_origem': '001978/2001',\n",
       "    'processo_execucao': '000817/2019',\n",
       "    'tipo_debito': 'Multa Percentual',\n",
       "    'valor_original': '1.115,07',\n",
       "    'valor_atualizado': '-',\n",
       "    'transito_julgado': '14/03/2013',\n",
       "    'situacao_divida': 'Cancelada por Erro de Cadastro',\n",
       "    'status_protesto': '',\n",
       "    'status_pge': ''},\n",
       "   {'processo_origem': '001978/2001',\n",
       "    'processo_execucao': '000817/2019',\n",
       "    'tipo_debito': 'Ressarcimento ',\n",
       "    'valor_original': '3.716,90',\n",
       "    'valor_atualizado': '-',\n",
       "    'transito_julgado': '14/03/2013',\n",
       "    'situacao_divida': 'Cancelada por Erro de Cadastro',\n",
       "    'status_protesto': '',\n",
       "    'status_pge': ''},\n",
       "   {'processo_origem': '001978/2001',\n",
       "    'processo_execucao': '000817/2019',\n",
       "    'tipo_debito': 'Multa Percentual',\n",
       "    'valor_original': '1.115,07',\n",
       "    'valor_atualizado': '-',\n",
       "    'transito_julgado': '14/03/2013',\n",
       "    'situacao_divida': 'Pago Integralmente',\n",
       "    'status_protesto': 'Paga',\n",
       "    'status_pge': ''},\n",
       "   {'processo_origem': '001978/2001',\n",
       "    'processo_execucao': '000817/2019',\n",
       "    'tipo_debito': 'Multa',\n",
       "    'valor_original': '800,00',\n",
       "    'valor_atualizado': '908,08',\n",
       "    'transito_julgado': '14/03/2013',\n",
       "    'situacao_divida': 'Pago Integralmente',\n",
       "    'status_protesto': '',\n",
       "    'status_pge': ''},\n",
       "   {'processo_origem': '001978/2001',\n",
       "    'processo_execucao': '000817/2019',\n",
       "    'tipo_debito': 'Ressarcimento ',\n",
       "    'valor_original': '3.716,90',\n",
       "    'valor_atualizado': '-',\n",
       "    'transito_julgado': '14/03/2013',\n",
       "    'situacao_divida': 'Em Aberto',\n",
       "    'status_protesto': '',\n",
       "    'status_pge': ''},\n",
       "   {'processo_origem': '003108/2018',\n",
       "    'processo_execucao': '000101/2021',\n",
       "    'tipo_debito': 'Multa',\n",
       "    'valor_original': '5.000,00',\n",
       "    'valor_atualizado': '-',\n",
       "    'transito_julgado': '21/10/2020',\n",
       "    'situacao_divida': 'Pago Integralmente',\n",
       "    'status_protesto': 'Paga',\n",
       "    'status_pge': ''},\n",
       "   {'processo_origem': '002931/2018',\n",
       "    'processo_execucao': '000125/2021',\n",
       "    'tipo_debito': 'Multa',\n",
       "    'valor_original': '5.000,00',\n",
       "    'valor_atualizado': '-',\n",
       "    'transito_julgado': '21/10/2020',\n",
       "    'situacao_divida': 'Pago parcialmente',\n",
       "    'status_protesto': '',\n",
       "    'status_pge': ''}]}]"
      ]
     },
     "execution_count": 83,
     "metadata": {},
     "output_type": "execute_result"
    }
   ],
   "source": [
    "df_info_gaana.valores[2]"
   ]
  },
  {
   "cell_type": "code",
   "execution_count": null,
   "metadata": {},
   "outputs": [],
   "source": []
  },
  {
   "cell_type": "code",
   "execution_count": 58,
   "metadata": {},
   "outputs": [
    {
     "data": {
      "text/plain": [
       "[{'nome': 'Maria de Fátima Borges Marinho', 'cpf': '12627690434'}]"
      ]
     },
     "execution_count": 58,
     "metadata": {},
     "output_type": "execute_result"
    }
   ],
   "source": [
    "df_info_gaana.cpf.iloc[0]"
   ]
  },
  {
   "cell_type": "code",
   "execution_count": null,
   "metadata": {},
   "outputs": [],
   "source": [
    "df_info_gaana['processo'] = df_info_gaana['numero_processo'] + '/' + df_info_gaana['ano_processo']\n"
   ]
  },
  {
   "cell_type": "code",
   "execution_count": null,
   "metadata": {},
   "outputs": [
    {
     "data": {
      "text/plain": [
       "setor                                                                   GAANA\n",
       "arquivo                                            GAANA_000761_2022_0028.pdf\n",
       "datapublicacao                                     2025-02-07 08:51:56.317000\n",
       "SequencialProcessoEvento                                                   51\n",
       "numero_processo                                                        000761\n",
       "ano_processo                                                             2022\n",
       "rn                                                                          1\n",
       "texto_pdf                                \\n \\n1 \\n \\n \\nProcesso nº: 761/2...\n",
       "pessoas                     pessoas=[PessoaAntecedentes(nome_pessoa='Maria...\n",
       "cpf                                                               12627690434\n",
       "Name: 0, dtype: object"
      ]
     },
     "execution_count": 20,
     "metadata": {},
     "output_type": "execute_result"
    }
   ],
   "source": [
    "df_info_gaana.iloc[0]"
   ]
  },
  {
   "cell_type": "code",
   "execution_count": null,
   "metadata": {},
   "outputs": [
    {
     "name": "stderr",
     "output_type": "stream",
     "text": [
      "/tmp/ipykernel_30906/941986394.py:5: UserWarning: pandas only supports SQLAlchemy connectable (engine/connection) or database string URI or sqlite3 DBAPI2 connection. Other DBAPI2 objects are not tested. Please consider using SQLAlchemy.\n",
      "  return pd.read_sql(query.format(cpf=cpf), conn)\n",
      "/tmp/ipykernel_30906/941986394.py:5: UserWarning: pandas only supports SQLAlchemy connectable (engine/connection) or database string URI or sqlite3 DBAPI2 connection. Other DBAPI2 objects are not tested. Please consider using SQLAlchemy.\n",
      "  return pd.read_sql(query.format(cpf=cpf), conn)\n",
      "/tmp/ipykernel_30906/941986394.py:5: UserWarning: pandas only supports SQLAlchemy connectable (engine/connection) or database string URI or sqlite3 DBAPI2 connection. Other DBAPI2 objects are not tested. Please consider using SQLAlchemy.\n",
      "  return pd.read_sql(query.format(cpf=cpf), conn)\n",
      "/tmp/ipykernel_30906/941986394.py:5: UserWarning: pandas only supports SQLAlchemy connectable (engine/connection) or database string URI or sqlite3 DBAPI2 connection. Other DBAPI2 objects are not tested. Please consider using SQLAlchemy.\n",
      "  return pd.read_sql(query.format(cpf=cpf), conn)\n",
      "/tmp/ipykernel_30906/941986394.py:5: UserWarning: pandas only supports SQLAlchemy connectable (engine/connection) or database string URI or sqlite3 DBAPI2 connection. Other DBAPI2 objects are not tested. Please consider using SQLAlchemy.\n",
      "  return pd.read_sql(query.format(cpf=cpf), conn)\n",
      "/tmp/ipykernel_30906/941986394.py:5: UserWarning: pandas only supports SQLAlchemy connectable (engine/connection) or database string URI or sqlite3 DBAPI2 connection. Other DBAPI2 objects are not tested. Please consider using SQLAlchemy.\n",
      "  return pd.read_sql(query.format(cpf=cpf), conn)\n",
      "/tmp/ipykernel_30906/941986394.py:5: UserWarning: pandas only supports SQLAlchemy connectable (engine/connection) or database string URI or sqlite3 DBAPI2 connection. Other DBAPI2 objects are not tested. Please consider using SQLAlchemy.\n",
      "  return pd.read_sql(query.format(cpf=cpf), conn)\n",
      "/tmp/ipykernel_30906/941986394.py:5: UserWarning: pandas only supports SQLAlchemy connectable (engine/connection) or database string URI or sqlite3 DBAPI2 connection. Other DBAPI2 objects are not tested. Please consider using SQLAlchemy.\n",
      "  return pd.read_sql(query.format(cpf=cpf), conn)\n"
     ]
    }
   ],
   "source": [
    "for i,row in df_info_gaana.iterrows():\n",
    "    row['valores'] = get_processos_transito_by_cpf(row['cpf'])"
   ]
  },
  {
   "cell_type": "code",
   "execution_count": null,
   "metadata": {},
   "outputs": [
    {
     "name": "stderr",
     "output_type": "stream",
     "text": [
      "/tmp/ipykernel_30906/941986394.py:5: UserWarning: pandas only supports SQLAlchemy connectable (engine/connection) or database string URI or sqlite3 DBAPI2 connection. Other DBAPI2 objects are not tested. Please consider using SQLAlchemy.\n",
      "  return pd.read_sql(query.format(cpf=cpf), conn)\n",
      "/tmp/ipykernel_30906/941986394.py:5: UserWarning: pandas only supports SQLAlchemy connectable (engine/connection) or database string URI or sqlite3 DBAPI2 connection. Other DBAPI2 objects are not tested. Please consider using SQLAlchemy.\n",
      "  return pd.read_sql(query.format(cpf=cpf), conn)\n",
      "/tmp/ipykernel_30906/941986394.py:5: UserWarning: pandas only supports SQLAlchemy connectable (engine/connection) or database string URI or sqlite3 DBAPI2 connection. Other DBAPI2 objects are not tested. Please consider using SQLAlchemy.\n",
      "  return pd.read_sql(query.format(cpf=cpf), conn)\n",
      "/tmp/ipykernel_30906/941986394.py:5: UserWarning: pandas only supports SQLAlchemy connectable (engine/connection) or database string URI or sqlite3 DBAPI2 connection. Other DBAPI2 objects are not tested. Please consider using SQLAlchemy.\n",
      "  return pd.read_sql(query.format(cpf=cpf), conn)\n"
     ]
    }
   ],
   "source": []
  },
  {
   "cell_type": "code",
   "execution_count": null,
   "metadata": {},
   "outputs": [],
   "source": []
  }
 ],
 "metadata": {
  "kernelspec": {
   "display_name": ".venv",
   "language": "python",
   "name": "python3"
  },
  "language_info": {
   "codemirror_mode": {
    "name": "ipython",
    "version": 3
   },
   "file_extension": ".py",
   "mimetype": "text/x-python",
   "name": "python",
   "nbconvert_exporter": "python",
   "pygments_lexer": "ipython3",
   "version": "3.12.7"
  }
 },
 "nbformat": 4,
 "nbformat_minor": 2
}
