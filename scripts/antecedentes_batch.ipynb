{
 "cells": [
  {
   "cell_type": "code",
   "execution_count": 1,
   "metadata": {},
   "outputs": [
    {
     "name": "stderr",
     "output_type": "stream",
     "text": [
      "/home/eduardo/Dev/ccd/.venv/lib/python3.12/site-packages/tqdm/auto.py:21: TqdmWarning: IProgress not found. Please update jupyter and ipywidgets. See https://ipywidgets.readthedocs.io/en/stable/user_install.html\n",
      "  from .autonotebook import tqdm as notebook_tqdm\n"
     ]
    }
   ],
   "source": [
    "import os\n",
    "import pandas as pd\n",
    "import numpy as np\n",
    "import locale\n",
    "\n",
    "from dotenv import load_dotenv\n",
    "from utils_ccd import get_connection\n",
    "from docxtpl import DocxTemplate\n",
    "\n",
    "\n",
    "load_dotenv()\n",
    "conn = get_connection()\n",
    "\n",
    "locale.setlocale(locale.LC_ALL, 'pt_BR.UTF-8')\n",
    "\n",
    "from antecedentes import create_antecedentes_doc\n",
    "\n",
    "import pypdf\n",
    "from pathlib import Path\n",
    "\n",
    "from langchain_openai import AzureOpenAI, AzureChatOpenAI\n",
    "from langchain.prompts import PromptTemplate, ChatPromptTemplate, FewShotChatMessagePromptTemplate\n",
    "\n",
    "from docx2pdf import convert"
   ]
  },
  {
   "cell_type": "code",
   "execution_count": 2,
   "metadata": {},
   "outputs": [],
   "source": [
    "import subprocess\n",
    "\n",
    "def generate_pdf(doc_path, path):\n",
    "\n",
    "    subprocess.call(['soffice',\n",
    "                  '--headless',\n",
    "                 '--convert-to',\n",
    "                 'pdf',\n",
    "                 '--outdir',\n",
    "                 path,\n",
    "                 doc_path])\n",
    "    return doc_path"
   ]
  },
  {
   "cell_type": "code",
   "execution_count": 3,
   "metadata": {},
   "outputs": [],
   "source": [
    "def get_file_path(row):\n",
    "    return Path('/media/informacoes_pdf/') / row['setor'].strip() / row['arquivo']\n",
    "\n",
    "def get_pdf_text(row):\n",
    "    arquivo = get_file_path(row)\n",
    "    print(f'File {arquivo} to pypdf text')\n",
    "    try:\n",
    "        pdf = pypdf.PdfReader(arquivo)\n",
    "        text = []\n",
    "        for page in pdf.pages:\n",
    "            text.append(page.extract_text())\n",
    "        return ' '.join(text)\n",
    "    except FileNotFoundError:\n",
    "        print(f'File not found: {arquivo}')\n",
    "        return ''"
   ]
  },
  {
   "cell_type": "code",
   "execution_count": 4,
   "metadata": {},
   "outputs": [
    {
     "name": "stderr",
     "output_type": "stream",
     "text": [
      "/tmp/ipykernel_30906/146702693.py:18: UserWarning: pandas only supports SQLAlchemy connectable (engine/connection) or database string URI or sqlite3 DBAPI2 connection. Other DBAPI2 objects are not tested. Please consider using SQLAlchemy.\n",
      "  processos_antecedentes = pd.read_sql(antecedentes_sql, conn)\n"
     ]
    }
   ],
   "source": [
    "antecedentes_sql = ''' \n",
    "\n",
    "SELECT DISTINCT pro.numero_processo,\n",
    "       pro.ano_processo,\n",
    "       pro.assunto,\n",
    "       pro.interessado,\n",
    "       pm.Descricao as marcador      \n",
    "       \n",
    "FROM processo.dbo.Processos pro\n",
    "INNER JOIN processo.dbo.Pro_MarcadorProcesso pmp ON pmp.IdProcesso = pro.IdProcesso\n",
    "INNER JOIN processo.dbo.Pro_Marcador pm ON pmp.IdMarcador = pm.IdMarcador\n",
    "LEFT JOIN processo.dbo.Exe_Debito ed ON ed.IdProcessoExecucao = pro.IdProcesso\n",
    "LEFT JOIN processo.dbo.Exe_DebitoPessoa edp ON edp.IDDebito = ed.IdDebito\n",
    "LEFT JOIN processo.dbo.GenPessoa gp ON gp.IdPessoa = edp.IDPessoa\n",
    "WHERE pro.setor_atual = 'CCD'\n",
    "AND lower(pm.Descricao) like '%antecedente%'\n",
    "'''\n",
    "processos_antecedentes = pd.read_sql(antecedentes_sql, conn)"
   ]
  },
  {
   "cell_type": "code",
   "execution_count": 5,
   "metadata": {},
   "outputs": [
    {
     "data": {
      "text/html": [
       "<div>\n",
       "<style scoped>\n",
       "    .dataframe tbody tr th:only-of-type {\n",
       "        vertical-align: middle;\n",
       "    }\n",
       "\n",
       "    .dataframe tbody tr th {\n",
       "        vertical-align: top;\n",
       "    }\n",
       "\n",
       "    .dataframe thead th {\n",
       "        text-align: right;\n",
       "    }\n",
       "</style>\n",
       "<table border=\"1\" class=\"dataframe\">\n",
       "  <thead>\n",
       "    <tr style=\"text-align: right;\">\n",
       "      <th></th>\n",
       "      <th>numero_processo</th>\n",
       "      <th>ano_processo</th>\n",
       "      <th>assunto</th>\n",
       "      <th>interessado</th>\n",
       "      <th>marcador</th>\n",
       "    </tr>\n",
       "  </thead>\n",
       "  <tbody>\n",
       "    <tr>\n",
       "      <th>0</th>\n",
       "      <td>000761</td>\n",
       "      <td>2022</td>\n",
       "      <td>APURAÇÃO DE RESPONSABILIDADE EM ATENDIMENTO AO...</td>\n",
       "      <td>PREFEITURA MUNICIPAL DE CANGUARETAMA          ...</td>\n",
       "      <td>Antecedentes</td>\n",
       "    </tr>\n",
       "    <tr>\n",
       "      <th>1</th>\n",
       "      <td>000913</td>\n",
       "      <td>2023</td>\n",
       "      <td>COMUNICAÇÃO DE IRREGULARIDADE                 ...</td>\n",
       "      <td>SIGILOSO                                      ...</td>\n",
       "      <td>Antecedentes</td>\n",
       "    </tr>\n",
       "    <tr>\n",
       "      <th>2</th>\n",
       "      <td>001749</td>\n",
       "      <td>2019</td>\n",
       "      <td>CONTAS DO CHEFE DO PODER EXECUTIVO MUNICIPAL, ...</td>\n",
       "      <td>PREFEITURA MUNICIPAL DE VIÇOSA                ...</td>\n",
       "      <td>Antecedentes</td>\n",
       "    </tr>\n",
       "    <tr>\n",
       "      <th>3</th>\n",
       "      <td>003277</td>\n",
       "      <td>2020</td>\n",
       "      <td>AUMENTO REMUNERATÓRIO DURANTE A PANDEMIA - REM...</td>\n",
       "      <td>CÂMARA MUNICIPAL DE ANTÔNIO MARTINS           ...</td>\n",
       "      <td>Antecedentes</td>\n",
       "    </tr>\n",
       "    <tr>\n",
       "      <th>4</th>\n",
       "      <td>003980</td>\n",
       "      <td>2022</td>\n",
       "      <td>APURAÇÃO DE RESPONSABILIDADE, REFERENTE AO PRO...</td>\n",
       "      <td>PREFEITURA MUNICIPAL DE CEARÁ-MIRIM           ...</td>\n",
       "      <td>Antecedentes</td>\n",
       "    </tr>\n",
       "    <tr>\n",
       "      <th>5</th>\n",
       "      <td>004072</td>\n",
       "      <td>2021</td>\n",
       "      <td>MONITORAMENTO                                 ...</td>\n",
       "      <td>AGÊNCIA DE FOMENTO DO RN S/A                  ...</td>\n",
       "      <td>Antecedentes</td>\n",
       "    </tr>\n",
       "    <tr>\n",
       "      <th>6</th>\n",
       "      <td>005181</td>\n",
       "      <td>2020</td>\n",
       "      <td>AUDITORIA DE CONFORMIDADE-EXERCÍCIO 2018      ...</td>\n",
       "      <td>PREFEITURA MUNICIPAL DE MOSSORÓ               ...</td>\n",
       "      <td>Antecedentes</td>\n",
       "    </tr>\n",
       "    <tr>\n",
       "      <th>7</th>\n",
       "      <td>006621</td>\n",
       "      <td>2015</td>\n",
       "      <td>CONTAS DO CHEFE DO PODER EXECUTIVO REFERENTE A...</td>\n",
       "      <td>PREF.MUN.UPANEMA                              ...</td>\n",
       "      <td>Antecedentes</td>\n",
       "    </tr>\n",
       "  </tbody>\n",
       "</table>\n",
       "</div>"
      ],
      "text/plain": [
       "  numero_processo ano_processo  \\\n",
       "0          000761         2022   \n",
       "1          000913         2023   \n",
       "2          001749         2019   \n",
       "3          003277         2020   \n",
       "4          003980         2022   \n",
       "5          004072         2021   \n",
       "6          005181         2020   \n",
       "7          006621         2015   \n",
       "\n",
       "                                             assunto  \\\n",
       "0  APURAÇÃO DE RESPONSABILIDADE EM ATENDIMENTO AO...   \n",
       "1  COMUNICAÇÃO DE IRREGULARIDADE                 ...   \n",
       "2  CONTAS DO CHEFE DO PODER EXECUTIVO MUNICIPAL, ...   \n",
       "3  AUMENTO REMUNERATÓRIO DURANTE A PANDEMIA - REM...   \n",
       "4  APURAÇÃO DE RESPONSABILIDADE, REFERENTE AO PRO...   \n",
       "5  MONITORAMENTO                                 ...   \n",
       "6  AUDITORIA DE CONFORMIDADE-EXERCÍCIO 2018      ...   \n",
       "7  CONTAS DO CHEFE DO PODER EXECUTIVO REFERENTE A...   \n",
       "\n",
       "                                         interessado      marcador  \n",
       "0  PREFEITURA MUNICIPAL DE CANGUARETAMA          ...  Antecedentes  \n",
       "1  SIGILOSO                                      ...  Antecedentes  \n",
       "2  PREFEITURA MUNICIPAL DE VIÇOSA                ...  Antecedentes  \n",
       "3  CÂMARA MUNICIPAL DE ANTÔNIO MARTINS           ...  Antecedentes  \n",
       "4  PREFEITURA MUNICIPAL DE CEARÁ-MIRIM           ...  Antecedentes  \n",
       "5  AGÊNCIA DE FOMENTO DO RN S/A                  ...  Antecedentes  \n",
       "6  PREFEITURA MUNICIPAL DE MOSSORÓ               ...  Antecedentes  \n",
       "7  PREF.MUN.UPANEMA                              ...  Antecedentes  "
      ]
     },
     "execution_count": 5,
     "metadata": {},
     "output_type": "execute_result"
    }
   ],
   "source": [
    "processos_antecedentes"
   ]
  },
  {
   "cell_type": "code",
   "execution_count": null,
   "metadata": {},
   "outputs": [
    {
     "name": "stderr",
     "output_type": "stream",
     "text": [
      "/tmp/ipykernel_30906/14474292.py:44: UserWarning: pandas only supports SQLAlchemy connectable (engine/connection) or database string URI or sqlite3 DBAPI2 connection. Other DBAPI2 objects are not tested. Please consider using SQLAlchemy.\n",
      "  df_info_gaana = pd.read_sql(sql_info_antecedentes_gaana, conn)\n"
     ]
    }
   ],
   "source": [
    "sql_info_antecedentes_gaana = ''' \n",
    "WITH RankedData AS (\n",
    "    SELECT \n",
    "    \tai.setor,\n",
    "        concat(pro.numero_processo, '/', pro.ano_processo) as processo,\n",
    "        pro.assunto,\n",
    "        pro.interessado,\n",
    "        concat(rtrim(ai.setor),'_',\n",
    "        ai.numero_processo ,'_',\n",
    "        ai.ano_processo,'_',RIGHT(concat('0000',ai.ordem),4),'.pdf') as arquivo,\n",
    "        ai.datapublicacao, \n",
    "        ppe.SequencialProcessoEvento, \n",
    "        ai.numero_processo, \n",
    "        ai.ano_processo,\n",
    "        ROW_NUMBER() OVER (\n",
    "            PARTITION BY CONCAT(ai.numero_processo, '/', ai.ano_processo)\n",
    "            ORDER BY ppe.SequencialProcessoEvento DESC\n",
    "        ) AS rn\n",
    "    FROM processo.dbo.Ata_Informacao ai \n",
    "    LEFT JOIN processo.dbo.Pro_ProcessoEvento ppe \n",
    "        ON ai.idInformacao = ppe.IdInformacao\n",
    "    LEFT JOIN processo.dbo.Processos pro\n",
    "    \tON pro.numero_processo = ai.numero_processo AND pro.ano_processo = ai.ano_processo\n",
    "    WHERE CONCAT(ai.numero_processo, '/', ai.ano_processo) IN (\n",
    "        SELECT CONCAT(pro.numero_processo, '/', pro.ano_processo)\n",
    "        FROM processo.dbo.Processos pro\n",
    "        INNER JOIN processo.dbo.Pro_MarcadorProcesso pmp \n",
    "            ON pmp.IdProcesso = pro.IdProcesso\n",
    "        INNER JOIN processo.dbo.Pro_Marcador pm \n",
    "            ON pmp.IdMarcador = pm.IdMarcador\n",
    "        LEFT JOIN processo.dbo.Exe_Debito ed \n",
    "            ON ed.IdProcessoExecucao = pro.IdProcesso\n",
    "        LEFT JOIN processo.dbo.Exe_DebitoPessoa edp \n",
    "            ON edp.IDDebito = ed.IdDebito\n",
    "        LEFT JOIN processo.dbo.GenPessoa gp \n",
    "            ON gp.IdPessoa = edp.IDPessoa\n",
    "        WHERE pro.setor_atual = 'CCD'\n",
    "        AND lower(pm.Descricao) LIKE '%antecedente%'\n",
    "    )\n",
    "    AND ai.setor LIKE '%GAANA%'\n",
    ")\n",
    "SELECT * \n",
    "FROM RankedData \n",
    "WHERE rn = 1\n",
    "ORDER BY numero_processo, ano_processo;\n",
    "\n",
    "\n",
    "'''\n",
    "df_info_gaana = pd.read_sql(sql_info_antecedentes_gaana, conn)"
   ]
  },
  {
   "cell_type": "code",
   "execution_count": 31,
   "metadata": {},
   "outputs": [],
   "source": [
    "def get_processos_transito_by_cpf(cpf):\n",
    "    with open(\"consultas/processos_transito_cpf.sql\") as f:\n",
    "        query = f.read()\n",
    "    with get_connection() as conn:\n",
    "        return pd.read_sql(query.format(cpf=cpf), conn).to_dict('records')"
   ]
  },
  {
   "cell_type": "code",
   "execution_count": 7,
   "metadata": {},
   "outputs": [],
   "source": [
    "def get_genpessoa(pessoa):\n",
    "    nome_pessoa = pessoa.pessoas[0].nome_pessoa\n",
    "    sql = f'''\n",
    "    SELECT gp.Documento\n",
    "        FROM Processo.dbo.GenPessoa gp \n",
    "        WHERE lower(gp.nome) = '{nome_pessoa.lower()}'\n",
    "    '''\n",
    "    ret = pd.read_sql(sql, get_connection())\n",
    "    if ret.shape[0] == 0 or ret.shape[0] > 1:\n",
    "        return ''\n",
    "    else:\n",
    "        return ret.iloc[0]['Documento']"
   ]
  },
  {
   "cell_type": "code",
   "execution_count": 9,
   "metadata": {},
   "outputs": [
    {
     "name": "stdout",
     "output_type": "stream",
     "text": [
      "File /media/informacoes_pdf/GAANA/GAANA_000761_2022_0028.pdf to pypdf text\n",
      "File /media/informacoes_pdf/GAANA/GAANA_000913_2023_0027.pdf to pypdf text\n",
      "File /media/informacoes_pdf/GAANA/GAANA_001749_2019_0042.pdf to pypdf text\n",
      "File /media/informacoes_pdf/GAANA/GAANA_003277_2020_0124.pdf to pypdf text\n",
      "File /media/informacoes_pdf/GAANA/GAANA_003980_2022_0029.pdf to pypdf text\n",
      "File /media/informacoes_pdf/GAANA/GAANA_004072_2021_0039.pdf to pypdf text\n",
      "File /media/informacoes_pdf/GAANA/GAANA_005181_2020_0084.pdf to pypdf text\n",
      "File /media/informacoes_pdf/GAANA/GAANA_006621_2015_0037.pdf to pypdf text\n"
     ]
    }
   ],
   "source": [
    "df_info_gaana['texto_pdf'] = df_info_gaana.apply(get_pdf_text, axis=1)"
   ]
  },
  {
   "cell_type": "code",
   "execution_count": 10,
   "metadata": {},
   "outputs": [],
   "source": [
    "llm = AzureChatOpenAI(model_name=\"gpt-4o\")"
   ]
  },
  {
   "cell_type": "code",
   "execution_count": 11,
   "metadata": {},
   "outputs": [],
   "source": [
    "from typing import List\n",
    "\n",
    "from pydantic import BaseModel, Field\n",
    "\n",
    "class PessoaAntecedentes(BaseModel):\n",
    "  \"\"\"Pessoa cujo antecedente deve ser buscado\"\"\"\n",
    "  nome_pessoa: str = Field(description=\"Nome da pessoa para buscar antecedentes\")\n",
    "\n",
    "class PessoasAntecedentes(BaseModel):\n",
    "  \"\"\"Lista de pessoas cujos antecedentes devem ser buscados\"\"\"\n",
    "  pessoas: List[PessoaAntecedentes] = Field(description=\"Lista de pessoas para buscar antecedentes\")\n"
   ]
  },
  {
   "cell_type": "code",
   "execution_count": 12,
   "metadata": {},
   "outputs": [],
   "source": [
    "def get_pessoas_llm(texto_despacho):\n",
    "\n",
    "  prompt = PromptTemplate.from_template(\"\"\"\n",
    "    Você é um agente que identifica listas de pessoas em requisições de antecedentes. \n",
    "      Você recebeu uma requisição para buscar antecedentes de pessoas em um processo. Remova qualquer vocativo do nome da pessoa, tal como Sr., Sra., Dr., Dra., etc.\n",
    "      O texto da requisição é o seguinte:\n",
    "      \"{input}\"\n",
    "      Encontre os antecedentes das pessoas listadas na requisição.\n",
    "\n",
    "    Sua resposta:\n",
    "    \"\"\")\n",
    "\n",
    "  structured_llm = llm.with_structured_output(schema=PessoasAntecedentes)\n",
    "  chain = prompt | structured_llm\n",
    "  return chain.invoke(texto_despacho)"
   ]
  },
  {
   "cell_type": "code",
   "execution_count": 14,
   "metadata": {},
   "outputs": [],
   "source": [
    "df_info_gaana['pessoas'] = df_info_gaana['texto_pdf'].apply(get_pessoas_llm)"
   ]
  },
  {
   "cell_type": "code",
   "execution_count": 16,
   "metadata": {},
   "outputs": [
    {
     "name": "stderr",
     "output_type": "stream",
     "text": [
      "/tmp/ipykernel_30906/481916593.py:8: UserWarning: pandas only supports SQLAlchemy connectable (engine/connection) or database string URI or sqlite3 DBAPI2 connection. Other DBAPI2 objects are not tested. Please consider using SQLAlchemy.\n",
      "  ret = pd.read_sql(sql, get_connection())\n",
      "/tmp/ipykernel_30906/481916593.py:8: UserWarning: pandas only supports SQLAlchemy connectable (engine/connection) or database string URI or sqlite3 DBAPI2 connection. Other DBAPI2 objects are not tested. Please consider using SQLAlchemy.\n",
      "  ret = pd.read_sql(sql, get_connection())\n"
     ]
    }
   ],
   "source": [
    "df_info_gaana['cpf'] = df_info_gaana['pessoas'].apply(get_genpessoa)"
   ]
  },
  {
   "cell_type": "code",
   "execution_count": 32,
   "metadata": {},
   "outputs": [
    {
     "name": "stderr",
     "output_type": "stream",
     "text": [
      "/tmp/ipykernel_30906/4201028048.py:5: UserWarning: pandas only supports SQLAlchemy connectable (engine/connection) or database string URI or sqlite3 DBAPI2 connection. Other DBAPI2 objects are not tested. Please consider using SQLAlchemy.\n",
      "  return pd.read_sql(query.format(cpf=cpf), conn).to_dict('records')\n",
      "/tmp/ipykernel_30906/4201028048.py:5: UserWarning: pandas only supports SQLAlchemy connectable (engine/connection) or database string URI or sqlite3 DBAPI2 connection. Other DBAPI2 objects are not tested. Please consider using SQLAlchemy.\n",
      "  return pd.read_sql(query.format(cpf=cpf), conn).to_dict('records')\n",
      "/tmp/ipykernel_30906/4201028048.py:5: UserWarning: pandas only supports SQLAlchemy connectable (engine/connection) or database string URI or sqlite3 DBAPI2 connection. Other DBAPI2 objects are not tested. Please consider using SQLAlchemy.\n",
      "  return pd.read_sql(query.format(cpf=cpf), conn).to_dict('records')\n",
      "/tmp/ipykernel_30906/4201028048.py:5: UserWarning: pandas only supports SQLAlchemy connectable (engine/connection) or database string URI or sqlite3 DBAPI2 connection. Other DBAPI2 objects are not tested. Please consider using SQLAlchemy.\n",
      "  return pd.read_sql(query.format(cpf=cpf), conn).to_dict('records')\n",
      "/tmp/ipykernel_30906/4201028048.py:5: UserWarning: pandas only supports SQLAlchemy connectable (engine/connection) or database string URI or sqlite3 DBAPI2 connection. Other DBAPI2 objects are not tested. Please consider using SQLAlchemy.\n",
      "  return pd.read_sql(query.format(cpf=cpf), conn).to_dict('records')\n",
      "/tmp/ipykernel_30906/4201028048.py:5: UserWarning: pandas only supports SQLAlchemy connectable (engine/connection) or database string URI or sqlite3 DBAPI2 connection. Other DBAPI2 objects are not tested. Please consider using SQLAlchemy.\n",
      "  return pd.read_sql(query.format(cpf=cpf), conn).to_dict('records')\n",
      "/tmp/ipykernel_30906/4201028048.py:5: UserWarning: pandas only supports SQLAlchemy connectable (engine/connection) or database string URI or sqlite3 DBAPI2 connection. Other DBAPI2 objects are not tested. Please consider using SQLAlchemy.\n",
      "  return pd.read_sql(query.format(cpf=cpf), conn).to_dict('records')\n",
      "/tmp/ipykernel_30906/4201028048.py:5: UserWarning: pandas only supports SQLAlchemy connectable (engine/connection) or database string URI or sqlite3 DBAPI2 connection. Other DBAPI2 objects are not tested. Please consider using SQLAlchemy.\n",
      "  return pd.read_sql(query.format(cpf=cpf), conn).to_dict('records')\n"
     ]
    }
   ],
   "source": [
    "df_info_gaana['valores'] = df_info_gaana['cpf'].apply(get_processos_transito_by_cpf)"
   ]
  },
  {
   "cell_type": "code",
   "execution_count": 34,
   "metadata": {},
   "outputs": [
    {
     "data": {
      "text/plain": [
       "0    12627690434\n",
       "1    08170244412\n",
       "2    18249604415\n",
       "3               \n",
       "4    41310217491\n",
       "5    45583005491\n",
       "6    21439605491\n",
       "7    42349028453\n",
       "Name: cpf, dtype: object"
      ]
     },
     "execution_count": 34,
     "metadata": {},
     "output_type": "execute_result"
    }
   ],
   "source": [
    "df_info_gaana['cpf']"
   ]
  },
  {
   "cell_type": "code",
   "execution_count": null,
   "metadata": {},
   "outputs": [
    {
     "data": {
      "text/plain": [
       "PessoasAntecedentes(pessoas=[PessoaAntecedentes(nome_pessoa='Jorge Vinicius de Oliveira Fernandes'), PessoaAntecedentes(nome_pessoa='Aldeísa Lemos da Silva')])"
      ]
     },
     "execution_count": 37,
     "metadata": {},
     "output_type": "execute_result"
    }
   ],
   "source": [
    "df_info_gaana.loc"
   ]
  },
  {
   "cell_type": "code",
   "execution_count": null,
   "metadata": {},
   "outputs": [],
   "source": [
    "df_info_gaana['processo'] = df_info_gaana['numero_processo'] + '/' + df_info_gaana['ano_processo']\n"
   ]
  },
  {
   "cell_type": "code",
   "execution_count": 20,
   "metadata": {},
   "outputs": [
    {
     "data": {
      "text/plain": [
       "setor                                                                   GAANA\n",
       "arquivo                                            GAANA_000761_2022_0028.pdf\n",
       "datapublicacao                                     2025-02-07 08:51:56.317000\n",
       "SequencialProcessoEvento                                                   51\n",
       "numero_processo                                                        000761\n",
       "ano_processo                                                             2022\n",
       "rn                                                                          1\n",
       "texto_pdf                                \\n \\n1 \\n \\n \\nProcesso nº: 761/2...\n",
       "pessoas                     pessoas=[PessoaAntecedentes(nome_pessoa='Maria...\n",
       "cpf                                                               12627690434\n",
       "Name: 0, dtype: object"
      ]
     },
     "execution_count": 20,
     "metadata": {},
     "output_type": "execute_result"
    }
   ],
   "source": [
    "df_info_gaana.iloc[0]"
   ]
  },
  {
   "cell_type": "code",
   "execution_count": 22,
   "metadata": {},
   "outputs": [
    {
     "name": "stderr",
     "output_type": "stream",
     "text": [
      "/tmp/ipykernel_30906/941986394.py:5: UserWarning: pandas only supports SQLAlchemy connectable (engine/connection) or database string URI or sqlite3 DBAPI2 connection. Other DBAPI2 objects are not tested. Please consider using SQLAlchemy.\n",
      "  return pd.read_sql(query.format(cpf=cpf), conn)\n",
      "/tmp/ipykernel_30906/941986394.py:5: UserWarning: pandas only supports SQLAlchemy connectable (engine/connection) or database string URI or sqlite3 DBAPI2 connection. Other DBAPI2 objects are not tested. Please consider using SQLAlchemy.\n",
      "  return pd.read_sql(query.format(cpf=cpf), conn)\n",
      "/tmp/ipykernel_30906/941986394.py:5: UserWarning: pandas only supports SQLAlchemy connectable (engine/connection) or database string URI or sqlite3 DBAPI2 connection. Other DBAPI2 objects are not tested. Please consider using SQLAlchemy.\n",
      "  return pd.read_sql(query.format(cpf=cpf), conn)\n",
      "/tmp/ipykernel_30906/941986394.py:5: UserWarning: pandas only supports SQLAlchemy connectable (engine/connection) or database string URI or sqlite3 DBAPI2 connection. Other DBAPI2 objects are not tested. Please consider using SQLAlchemy.\n",
      "  return pd.read_sql(query.format(cpf=cpf), conn)\n",
      "/tmp/ipykernel_30906/941986394.py:5: UserWarning: pandas only supports SQLAlchemy connectable (engine/connection) or database string URI or sqlite3 DBAPI2 connection. Other DBAPI2 objects are not tested. Please consider using SQLAlchemy.\n",
      "  return pd.read_sql(query.format(cpf=cpf), conn)\n",
      "/tmp/ipykernel_30906/941986394.py:5: UserWarning: pandas only supports SQLAlchemy connectable (engine/connection) or database string URI or sqlite3 DBAPI2 connection. Other DBAPI2 objects are not tested. Please consider using SQLAlchemy.\n",
      "  return pd.read_sql(query.format(cpf=cpf), conn)\n",
      "/tmp/ipykernel_30906/941986394.py:5: UserWarning: pandas only supports SQLAlchemy connectable (engine/connection) or database string URI or sqlite3 DBAPI2 connection. Other DBAPI2 objects are not tested. Please consider using SQLAlchemy.\n",
      "  return pd.read_sql(query.format(cpf=cpf), conn)\n",
      "/tmp/ipykernel_30906/941986394.py:5: UserWarning: pandas only supports SQLAlchemy connectable (engine/connection) or database string URI or sqlite3 DBAPI2 connection. Other DBAPI2 objects are not tested. Please consider using SQLAlchemy.\n",
      "  return pd.read_sql(query.format(cpf=cpf), conn)\n"
     ]
    }
   ],
   "source": [
    "for i,row in df_info_gaana.iterrows():\n",
    "    row['valores'] = get_processos_transito_by_cpf(row['cpf'])"
   ]
  },
  {
   "cell_type": "code",
   "execution_count": null,
   "metadata": {},
   "outputs": [
    {
     "name": "stderr",
     "output_type": "stream",
     "text": [
      "/tmp/ipykernel_30906/941986394.py:5: UserWarning: pandas only supports SQLAlchemy connectable (engine/connection) or database string URI or sqlite3 DBAPI2 connection. Other DBAPI2 objects are not tested. Please consider using SQLAlchemy.\n",
      "  return pd.read_sql(query.format(cpf=cpf), conn)\n",
      "/tmp/ipykernel_30906/941986394.py:5: UserWarning: pandas only supports SQLAlchemy connectable (engine/connection) or database string URI or sqlite3 DBAPI2 connection. Other DBAPI2 objects are not tested. Please consider using SQLAlchemy.\n",
      "  return pd.read_sql(query.format(cpf=cpf), conn)\n",
      "/tmp/ipykernel_30906/941986394.py:5: UserWarning: pandas only supports SQLAlchemy connectable (engine/connection) or database string URI or sqlite3 DBAPI2 connection. Other DBAPI2 objects are not tested. Please consider using SQLAlchemy.\n",
      "  return pd.read_sql(query.format(cpf=cpf), conn)\n",
      "/tmp/ipykernel_30906/941986394.py:5: UserWarning: pandas only supports SQLAlchemy connectable (engine/connection) or database string URI or sqlite3 DBAPI2 connection. Other DBAPI2 objects are not tested. Please consider using SQLAlchemy.\n",
      "  return pd.read_sql(query.format(cpf=cpf), conn)\n"
     ]
    }
   ],
   "source": []
  },
  {
   "cell_type": "code",
   "execution_count": null,
   "metadata": {},
   "outputs": [],
   "source": []
  }
 ],
 "metadata": {
  "kernelspec": {
   "display_name": ".venv",
   "language": "python",
   "name": "python3"
  },
  "language_info": {
   "codemirror_mode": {
    "name": "ipython",
    "version": 3
   },
   "file_extension": ".py",
   "mimetype": "text/x-python",
   "name": "python",
   "nbconvert_exporter": "python",
   "pygments_lexer": "ipython3",
   "version": "3.12.7"
  }
 },
 "nbformat": 4,
 "nbformat_minor": 2
}
