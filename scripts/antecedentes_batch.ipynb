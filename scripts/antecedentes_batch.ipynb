{
 "cells": [
  {
   "cell_type": "code",
   "execution_count": 1,
   "metadata": {},
   "outputs": [
    {
     "name": "stderr",
     "output_type": "stream",
     "text": [
      "/home/eduardo/Dev/ccd/.venv/lib/python3.12/site-packages/tqdm/auto.py:21: TqdmWarning: IProgress not found. Please update jupyter and ipywidgets. See https://ipywidgets.readthedocs.io/en/stable/user_install.html\n",
      "  from .autonotebook import tqdm as notebook_tqdm\n"
     ]
    }
   ],
   "source": [
    "import os\n",
    "import locale\n",
    "import math\n",
    "\n",
    "import pandas as pd\n",
    "import numpy as np\n",
    "\n",
    "from datetime import datetime\n",
    "from dotenv import load_dotenv\n",
    "from utils_ccd import get_connection\n",
    "from docxtpl import DocxTemplate\n",
    "\n",
    "load_dotenv()\n",
    "conn = get_connection()\n",
    "\n",
    "locale.setlocale(locale.LC_ALL, 'pt_BR.UTF-8')\n",
    "\n",
    "from antecedentes import create_antecedentes_doc\n",
    "\n",
    "import pypdf\n",
    "from pathlib import Path\n",
    "\n",
    "from langchain_openai import AzureOpenAI, AzureChatOpenAI\n",
    "from langchain.prompts import PromptTemplate, ChatPromptTemplate, FewShotChatMessagePromptTemplate\n",
    "\n",
    "from docx2pdf import convert"
   ]
  },
  {
   "cell_type": "code",
   "execution_count": 2,
   "metadata": {},
   "outputs": [],
   "source": [
    "import subprocess\n",
    "\n",
    "def generate_pdf(doc_path, path):\n",
    "\n",
    "    subprocess.call(['soffice',\n",
    "                  '--headless',\n",
    "                 '--convert-to',\n",
    "                 'pdf',\n",
    "                 '--outdir',\n",
    "                 path,\n",
    "                 doc_path])\n",
    "    return doc_path"
   ]
  },
  {
   "cell_type": "code",
   "execution_count": 3,
   "metadata": {},
   "outputs": [],
   "source": [
    "def get_file_path(row):\n",
    "    return Path('/media/informacoes_pdf/') / row['setor'].strip() / row['arquivo']\n"
   ]
  },
  {
   "cell_type": "code",
   "execution_count": 4,
   "metadata": {},
   "outputs": [],
   "source": [
    "def get_pdf_text(row):\n",
    "    arquivo = get_file_path(row)\n",
    "    print(f'File {arquivo} to pypdf text')\n",
    "    try:\n",
    "        pdf = pypdf.PdfReader(arquivo)\n",
    "        text = []\n",
    "        for page in pdf.pages:\n",
    "            text.append(page.extract_text())\n",
    "        return ' '.join(text)\n",
    "    except FileNotFoundError:\n",
    "        print(f'File not found: {arquivo}')\n",
    "        return ''"
   ]
  },
  {
   "cell_type": "code",
   "execution_count": 5,
   "metadata": {},
   "outputs": [
    {
     "name": "stderr",
     "output_type": "stream",
     "text": [
      "/tmp/ipykernel_128126/146702693.py:18: UserWarning: pandas only supports SQLAlchemy connectable (engine/connection) or database string URI or sqlite3 DBAPI2 connection. Other DBAPI2 objects are not tested. Please consider using SQLAlchemy.\n",
      "  processos_antecedentes = pd.read_sql(antecedentes_sql, conn)\n"
     ]
    }
   ],
   "source": [
    "antecedentes_sql = ''' \n",
    "\n",
    "SELECT DISTINCT pro.numero_processo,\n",
    "       pro.ano_processo,\n",
    "       pro.assunto,\n",
    "       pro.interessado,\n",
    "       pm.Descricao as marcador      \n",
    "       \n",
    "FROM processo.dbo.Processos pro\n",
    "INNER JOIN processo.dbo.Pro_MarcadorProcesso pmp ON pmp.IdProcesso = pro.IdProcesso\n",
    "INNER JOIN processo.dbo.Pro_Marcador pm ON pmp.IdMarcador = pm.IdMarcador\n",
    "LEFT JOIN processo.dbo.Exe_Debito ed ON ed.IdProcessoExecucao = pro.IdProcesso\n",
    "LEFT JOIN processo.dbo.Exe_DebitoPessoa edp ON edp.IDDebito = ed.IdDebito\n",
    "LEFT JOIN processo.dbo.GenPessoa gp ON gp.IdPessoa = edp.IDPessoa\n",
    "WHERE pro.setor_atual = 'CCD'\n",
    "AND lower(pm.Descricao) like '%antecedente%'\n",
    "'''\n",
    "processos_antecedentes = pd.read_sql(antecedentes_sql, conn)"
   ]
  },
  {
   "cell_type": "code",
   "execution_count": 6,
   "metadata": {},
   "outputs": [
    {
     "data": {
      "text/html": [
       "<div>\n",
       "<style scoped>\n",
       "    .dataframe tbody tr th:only-of-type {\n",
       "        vertical-align: middle;\n",
       "    }\n",
       "\n",
       "    .dataframe tbody tr th {\n",
       "        vertical-align: top;\n",
       "    }\n",
       "\n",
       "    .dataframe thead th {\n",
       "        text-align: right;\n",
       "    }\n",
       "</style>\n",
       "<table border=\"1\" class=\"dataframe\">\n",
       "  <thead>\n",
       "    <tr style=\"text-align: right;\">\n",
       "      <th></th>\n",
       "      <th>numero_processo</th>\n",
       "      <th>ano_processo</th>\n",
       "      <th>assunto</th>\n",
       "      <th>interessado</th>\n",
       "      <th>marcador</th>\n",
       "    </tr>\n",
       "  </thead>\n",
       "  <tbody>\n",
       "    <tr>\n",
       "      <th>0</th>\n",
       "      <td>003427</td>\n",
       "      <td>2023</td>\n",
       "      <td>APURAÇÃO DE RESPONSABILIDADE, REFERENTE AO PRO...</td>\n",
       "      <td>PREFEITURA MUNICIPAL DE JUCURUTU              ...</td>\n",
       "      <td>Antecedentes</td>\n",
       "    </tr>\n",
       "    <tr>\n",
       "      <th>1</th>\n",
       "      <td>004304</td>\n",
       "      <td>2024</td>\n",
       "      <td>CONTAS DO CHEFE DO PODER EXECUTIVO DA PREFEITU...</td>\n",
       "      <td>PREFEITURA MUNICIPAL DE CANGUARETAMA          ...</td>\n",
       "      <td>Antecedentes</td>\n",
       "    </tr>\n",
       "    <tr>\n",
       "      <th>2</th>\n",
       "      <td>004702</td>\n",
       "      <td>2024</td>\n",
       "      <td>CONTAS DO CHEFE DO PODER EXECUTIVO DA PREFEITU...</td>\n",
       "      <td>PREFEITURA MUNICIPAL DE BODÓ                  ...</td>\n",
       "      <td>Antecedentes</td>\n",
       "    </tr>\n",
       "    <tr>\n",
       "      <th>3</th>\n",
       "      <td>200063</td>\n",
       "      <td>2023</td>\n",
       "      <td>INADIMPLÊNCIA NA REMESSA DE SIAI DP NOVO      ...</td>\n",
       "      <td>PAULO CEZAR FLORENCIO DE SOUZA                ...</td>\n",
       "      <td>Antecedentes</td>\n",
       "    </tr>\n",
       "  </tbody>\n",
       "</table>\n",
       "</div>"
      ],
      "text/plain": [
       "  numero_processo ano_processo  \\\n",
       "0          003427         2023   \n",
       "1          004304         2024   \n",
       "2          004702         2024   \n",
       "3          200063         2023   \n",
       "\n",
       "                                             assunto  \\\n",
       "0  APURAÇÃO DE RESPONSABILIDADE, REFERENTE AO PRO...   \n",
       "1  CONTAS DO CHEFE DO PODER EXECUTIVO DA PREFEITU...   \n",
       "2  CONTAS DO CHEFE DO PODER EXECUTIVO DA PREFEITU...   \n",
       "3  INADIMPLÊNCIA NA REMESSA DE SIAI DP NOVO      ...   \n",
       "\n",
       "                                         interessado      marcador  \n",
       "0  PREFEITURA MUNICIPAL DE JUCURUTU              ...  Antecedentes  \n",
       "1  PREFEITURA MUNICIPAL DE CANGUARETAMA          ...  Antecedentes  \n",
       "2  PREFEITURA MUNICIPAL DE BODÓ                  ...  Antecedentes  \n",
       "3  PAULO CEZAR FLORENCIO DE SOUZA                ...  Antecedentes  "
      ]
     },
     "execution_count": 6,
     "metadata": {},
     "output_type": "execute_result"
    }
   ],
   "source": [
    "processos_antecedentes"
   ]
  },
  {
   "cell_type": "code",
   "execution_count": 7,
   "metadata": {},
   "outputs": [
    {
     "name": "stderr",
     "output_type": "stream",
     "text": [
      "/tmp/ipykernel_128126/3946558724.py:49: UserWarning: pandas only supports SQLAlchemy connectable (engine/connection) or database string URI or sqlite3 DBAPI2 connection. Other DBAPI2 objects are not tested. Please consider using SQLAlchemy.\n",
      "  df_info_gaana = pd.read_sql(sql_info_antecedentes_gaana, conn)\n"
     ]
    }
   ],
   "source": [
    "sql_info_antecedentes_gaana = ''' \n",
    "WITH RankedData AS (\n",
    "    SELECT \n",
    "    \tai.setor,\n",
    "        concat(pro.numero_processo, '/', pro.ano_processo) as processo,\n",
    "        pro.assunto,\n",
    "        pro.interessado,\n",
    "        concat(rtrim(ai.setor),'_',\n",
    "        ai.numero_processo ,'_',\n",
    "        ai.ano_processo,'_',RIGHT(concat('0000',ai.ordem),4),'.pdf') as arquivo,\n",
    "        ai.datapublicacao, \n",
    "        ppe.SequencialProcessoEvento, \n",
    "        ai.numero_processo, \n",
    "        ai.ano_processo,\n",
    "        ROW_NUMBER() OVER (\n",
    "            PARTITION BY CONCAT(ai.numero_processo, '/', ai.ano_processo)\n",
    "            ORDER BY ppe.SequencialProcessoEvento DESC\n",
    "        ) AS rn\n",
    "    FROM processo.dbo.vw_Ata_Informacao ai \n",
    "    LEFT JOIN processo.dbo.Pro_ProcessoEvento ppe \n",
    "        ON ai.idInformacao = ppe.IdInformacao\n",
    "    LEFT JOIN processo.dbo.Processos pro\n",
    "    \tON pro.numero_processo = ai.numero_processo AND pro.ano_processo = ai.ano_processo\n",
    "    WHERE CONCAT(ai.numero_processo, '/', ai.ano_processo) IN (\n",
    "        SELECT CONCAT(pro.numero_processo, '/', pro.ano_processo)\n",
    "        FROM processo.dbo.Processos pro\n",
    "        INNER JOIN processo.dbo.Pro_MarcadorProcesso pmp \n",
    "            ON pmp.IdProcesso = pro.IdProcesso\n",
    "        INNER JOIN processo.dbo.Pro_Marcador pm \n",
    "            ON pmp.IdMarcador = pm.IdMarcador\n",
    "        LEFT JOIN processo.dbo.Exe_Debito ed \n",
    "            ON ed.IdProcessoExecucao = pro.IdProcesso\n",
    "        LEFT JOIN processo.dbo.Exe_DebitoPessoa edp \n",
    "            ON edp.IDDebito = ed.IdDebito\n",
    "        LEFT JOIN processo.dbo.GenPessoa gp \n",
    "            ON gp.IdPessoa = edp.IDPessoa\n",
    "        WHERE pro.setor_atual = 'CCD'\n",
    "        AND lower(pm.Descricao) LIKE '%antecedente%'\n",
    "    )\n",
    "    AND ai.setor LIKE '%GAANA%'\n",
    ")\n",
    "SELECT * \n",
    "FROM RankedData \n",
    "WHERE rn = 1\n",
    "ORDER BY numero_processo, ano_processo;\n",
    "\n",
    "\n",
    "'''\n",
    "df_info_gaana = pd.read_sql(sql_info_antecedentes_gaana, conn)"
   ]
  },
  {
   "cell_type": "code",
   "execution_count": 8,
   "metadata": {},
   "outputs": [],
   "source": [
    "def get_transito(nome):\n",
    "    with open(\"consultas/processos_transito_cpf.sql\") as f:\n",
    "        query = f.read()\n",
    "    with get_connection() as conn:\n",
    "        q = query.format(nome=nome)\n",
    "        df = pd.read_sql(q, conn)\n",
    "        df['valor_original'] = df['valor_original'].apply(lambda x: locale.currency(x, grouping=True, symbol=False) if x and not math.isnan(x) else '-')\n",
    "        df['valor_atualizado'] = df['valor_atualizado'].apply(lambda x: locale.currency(x, grouping=True, symbol=False) if x and not math.isnan(x) else '-')\n",
    "        df.fillna('', inplace=True)\n",
    "        return df\n",
    "\n",
    "def get_cpf_responsavel(nome_pessoa, numero_processo, ano_processo):\n",
    "    query = f'''\n",
    "SELECT gp.Documento as cpf\n",
    "\tFROM Processo.dbo.Processos p\n",
    "\t\tINNER JOIN Processo.dbo.Pro_ProcessosResponsavelDespesa pprd \n",
    "\t\tON pprd.IdProcesso = p.IdProcesso\n",
    "\t\tINNER JOIN Processo.dbo.GenPessoa gp \n",
    "\t\tON gp.IdPessoa = pprd.IdPessoa\n",
    "\tWHERE p.numero_processo = '{numero_processo}'\n",
    "\tAND p.ano_processo = '{ano_processo}'\n",
    "\tAND lower(gp.Nome) = '{nome_pessoa.lower()}'\n",
    " '''\n",
    "    with get_connection() as conn:\n",
    "        df = pd.read_sql(query, conn)\n",
    "        if len(df) > 1:\n",
    "            raise ValueError(f'Mais de um CPF para {nome_pessoa}')\n",
    "        elif len(df) == 0:\n",
    "            return ''\n",
    "        return df['cpf'].values[0]\n",
    "    \n",
    "def get_valores_pessoa(row):\n",
    "    pessoa_strc = row['pessoas']\n",
    "    print(f'Pessoas: {pessoa_strc.pessoas}')\n",
    "    valores = []\n",
    "    for pessoa in pessoa_strc.pessoas:\n",
    "        nome_pessoa = pessoa.nome_pessoa\n",
    "        transitos = get_transito(nome_pessoa)\n",
    "        cpfs = transitos['cpf'].unique()\n",
    "        if len(cpfs) > 1:\n",
    "            raise ValueError(f'Mais de um {cpf} por pessoa')\n",
    "        elif len(cpfs) == 0:\n",
    "            cpf = get_cpf_responsavel(nome_pessoa, row['numero_processo'], row['ano_processo'])\n",
    "        else:\n",
    "            cpf = cpfs[0]\n",
    "        valores.append({'nome': nome_pessoa, 'cpf': cpf, 'transitos': transitos.to_dict(orient='records')})\n",
    "    return valores\n",
    "\n",
    "def is_vazio(valores):\n",
    "    return all([not bool(v['transitos']) for v in valores])\n",
    "    "
   ]
  },
  {
   "cell_type": "code",
   "execution_count": 9,
   "metadata": {},
   "outputs": [
    {
     "name": "stdout",
     "output_type": "stream",
     "text": [
      "File /media/informacoes_pdf/GAANA/GAANA_003427_2023_0036.pdf to pypdf text\n",
      "File /media/informacoes_pdf/GAANA/GAANA_004304_2024_0019.pdf to pypdf text\n",
      "File /media/informacoes_pdf/GAANA/GAANA_004702_2024_0015.pdf to pypdf text\n",
      "File /media/informacoes_pdf/GAANA/GAANA_200063_2023_0024.pdf to pypdf text\n"
     ]
    }
   ],
   "source": [
    "df_info_gaana['texto_pdf'] = df_info_gaana.apply(get_pdf_text, axis=1)"
   ]
  },
  {
   "cell_type": "code",
   "execution_count": 10,
   "metadata": {},
   "outputs": [],
   "source": [
    "llm = AzureChatOpenAI(model_name=\"gpt-4o\")\n",
    "\n",
    "from typing import List\n",
    "\n",
    "from pydantic import BaseModel, Field\n",
    "\n",
    "class PessoaAntecedentes(BaseModel):\n",
    "  \"\"\"Pessoa cujo antecedente deve ser buscado\"\"\"\n",
    "  nome_pessoa: str = Field(description=\"Nome da pessoa para buscar antecedentes\")\n",
    "\n",
    "class PessoasAntecedentes(BaseModel):\n",
    "  \"\"\"Lista de pessoas cujos antecedentes devem ser buscados\"\"\"\n",
    "  pessoas: List[PessoaAntecedentes] = Field(description=\"Lista de pessoas para buscar antecedentes\")\n",
    "  \n",
    "def get_pessoas_llm(texto_despacho):\n",
    "\n",
    "  prompt = PromptTemplate.from_template(\"\"\"\n",
    "    Você é um agente que identifica listas de pessoas em requisições de antecedentes. \n",
    "      Você recebeu uma requisição para buscar antecedentes de pessoas em um processo. Remova qualquer vocativo do nome da pessoa, tal como Sr., Sra., Dr., Dra., etc.\n",
    "      Não inclua nomes de conselheiros, advogados ou partes do processo. Ex: Sra. Conselheira Substituta Ana\n",
    "Paula de Oliveira Gomes\n",
    "      O texto da requisição é o seguinte:\n",
    "      \"{input}\"\n",
    "      Encontre os antecedentes das pessoas listadas na requisição.\n",
    "\n",
    "    Sua resposta:\n",
    "    \"\"\")\n",
    "\n",
    "  structured_llm = llm.with_structured_output(schema=PessoasAntecedentes)\n",
    "  chain = prompt | structured_llm\n",
    "  return chain.invoke(texto_despacho)"
   ]
  },
  {
   "cell_type": "code",
   "execution_count": 11,
   "metadata": {},
   "outputs": [],
   "source": [
    "df_info_gaana['pessoas'] = df_info_gaana['texto_pdf'].apply(get_pessoas_llm)"
   ]
  },
  {
   "cell_type": "code",
   "execution_count": 12,
   "metadata": {},
   "outputs": [
    {
     "name": "stdout",
     "output_type": "stream",
     "text": [
      "Pessoas: [PessoaAntecedentes(nome_pessoa='George Retlen Costa Queiroz')]\n"
     ]
    },
    {
     "name": "stderr",
     "output_type": "stream",
     "text": [
      "/tmp/ipykernel_128126/1674572162.py:6: UserWarning: pandas only supports SQLAlchemy connectable (engine/connection) or database string URI or sqlite3 DBAPI2 connection. Other DBAPI2 objects are not tested. Please consider using SQLAlchemy.\n",
      "  df = pd.read_sql(q, conn)\n",
      "/tmp/ipykernel_128126/1674572162.py:25: UserWarning: pandas only supports SQLAlchemy connectable (engine/connection) or database string URI or sqlite3 DBAPI2 connection. Other DBAPI2 objects are not tested. Please consider using SQLAlchemy.\n",
      "  df = pd.read_sql(query, conn)\n",
      "/tmp/ipykernel_128126/1674572162.py:6: UserWarning: pandas only supports SQLAlchemy connectable (engine/connection) or database string URI or sqlite3 DBAPI2 connection. Other DBAPI2 objects are not tested. Please consider using SQLAlchemy.\n",
      "  df = pd.read_sql(q, conn)\n"
     ]
    },
    {
     "name": "stdout",
     "output_type": "stream",
     "text": [
      "Pessoas: [PessoaAntecedentes(nome_pessoa='João Wilson de Andrade Ribeiro Filho')]\n"
     ]
    },
    {
     "name": "stderr",
     "output_type": "stream",
     "text": [
      "/tmp/ipykernel_128126/1674572162.py:25: UserWarning: pandas only supports SQLAlchemy connectable (engine/connection) or database string URI or sqlite3 DBAPI2 connection. Other DBAPI2 objects are not tested. Please consider using SQLAlchemy.\n",
      "  df = pd.read_sql(query, conn)\n",
      "/tmp/ipykernel_128126/1674572162.py:6: UserWarning: pandas only supports SQLAlchemy connectable (engine/connection) or database string URI or sqlite3 DBAPI2 connection. Other DBAPI2 objects are not tested. Please consider using SQLAlchemy.\n",
      "  df = pd.read_sql(q, conn)\n"
     ]
    },
    {
     "name": "stdout",
     "output_type": "stream",
     "text": [
      "Pessoas: [PessoaAntecedentes(nome_pessoa='Marcelo Mário Porto Filho')]\n",
      "Pessoas: [PessoaAntecedentes(nome_pessoa='Paulo Cezar Florencio de Souza')]\n"
     ]
    },
    {
     "name": "stderr",
     "output_type": "stream",
     "text": [
      "/tmp/ipykernel_128126/1674572162.py:6: UserWarning: pandas only supports SQLAlchemy connectable (engine/connection) or database string URI or sqlite3 DBAPI2 connection. Other DBAPI2 objects are not tested. Please consider using SQLAlchemy.\n",
      "  df = pd.read_sql(q, conn)\n",
      "/tmp/ipykernel_128126/1674572162.py:25: UserWarning: pandas only supports SQLAlchemy connectable (engine/connection) or database string URI or sqlite3 DBAPI2 connection. Other DBAPI2 objects are not tested. Please consider using SQLAlchemy.\n",
      "  df = pd.read_sql(query, conn)\n"
     ]
    }
   ],
   "source": [
    "df_info_gaana['valores'] = df_info_gaana.apply(get_valores_pessoa, axis=1)"
   ]
  },
  {
   "cell_type": "code",
   "execution_count": 13,
   "metadata": {},
   "outputs": [],
   "source": [
    "def valores_vazios(valores):\n",
    "    return all([not bool(v['transitos']) for v in valores])"
   ]
  },
  {
   "cell_type": "code",
   "execution_count": 14,
   "metadata": {},
   "outputs": [],
   "source": [
    "#df_info_gaana['len_valores'] = df_info_gaana['valores'].apply(lambda x: len(x))\n",
    "df_info_gaana['sem_valores'] = df_info_gaana['valores'].apply(valores_vazios)\n",
    "antecedentes = df_info_gaana"
   ]
  },
  {
   "cell_type": "code",
   "execution_count": 15,
   "metadata": {},
   "outputs": [
    {
     "name": "stderr",
     "output_type": "stream",
     "text": [
      "Warning: failed to launch javaldx - java may not function correctly\n"
     ]
    },
    {
     "name": "stdout",
     "output_type": "stream",
     "text": [
      "convert /home/eduardo/Dev/ccd/scripts/saidas/antecedentes/003427_2023.docx as a Writer document -> /home/eduardo/Dev/ccd/scripts/saidas/antecedentes/003427_2023.pdf using filter : writer_pdf_Export\n",
      "Gerado arquivo para o processo 003427/2023\n"
     ]
    },
    {
     "name": "stderr",
     "output_type": "stream",
     "text": [
      "Warning: failed to launch javaldx - java may not function correctly\n"
     ]
    },
    {
     "name": "stdout",
     "output_type": "stream",
     "text": [
      "convert /home/eduardo/Dev/ccd/scripts/saidas/antecedentes/004304_2024.docx as a Writer document -> /home/eduardo/Dev/ccd/scripts/saidas/antecedentes/004304_2024.pdf using filter : writer_pdf_Export\n",
      "Gerado arquivo para o processo 004304/2024\n"
     ]
    },
    {
     "name": "stderr",
     "output_type": "stream",
     "text": [
      "Warning: failed to launch javaldx - java may not function correctly\n"
     ]
    },
    {
     "name": "stdout",
     "output_type": "stream",
     "text": [
      "convert /home/eduardo/Dev/ccd/scripts/saidas/antecedentes/004702_2024.docx as a Writer document -> /home/eduardo/Dev/ccd/scripts/saidas/antecedentes/004702_2024.pdf using filter : writer_pdf_Export\n",
      "Gerado arquivo para o processo 004702/2024\n"
     ]
    },
    {
     "name": "stderr",
     "output_type": "stream",
     "text": [
      "Warning: failed to launch javaldx - java may not function correctly\n"
     ]
    },
    {
     "name": "stdout",
     "output_type": "stream",
     "text": [
      "convert /home/eduardo/Dev/ccd/scripts/saidas/antecedentes/200063_2023.docx as a Writer document -> /home/eduardo/Dev/ccd/scripts/saidas/antecedentes/200063_2023.pdf using filter : writer_pdf_Export\n",
      "Gerado arquivo para o processo 200063/2023\n"
     ]
    }
   ],
   "source": [
    "for row in antecedentes.itertuples():\n",
    "    doc = DocxTemplate(\"templates/antecedentes.docx\")\n",
    "    #valores = [v for v in row.valores if len(v['transitos']) > 0]\n",
    "    nomes = [v['nome'] for v in row.valores]\n",
    "    if len(nomes) > 1:\n",
    "        responsaveis = ', '.join(nomes[:-1]) + ' e ' + nomes[-1]\n",
    "    else:\n",
    "        responsaveis = nomes[0] if nomes else ''\n",
    "    for v in row.valores:\n",
    "        if v['cpf'] is None:\n",
    "            v['cpf'] = ''\n",
    "    context = {\n",
    "        'processo': row.processo,\n",
    "        'assunto': row.assunto,\n",
    "        'interessado': row.interessado,\n",
    "        'valores': row.valores,\n",
    "        'responsaveis': responsaveis,\n",
    "        'data': datetime.now().strftime(\"%d/%m/%Y\"),\n",
    "        'sem_valores': row.sem_valores\n",
    "    }\n",
    "    processo_underline = row.processo.replace('/', '_')\n",
    "\n",
    "    doc.render(context)\n",
    "    doc.save(f\"saidas/antecedentes/{processo_underline}.docx\")\n",
    "    generate_pdf(f\"saidas/antecedentes/{processo_underline}.docx\", f\"saidas/antecedentes/\")\n",
    "    print(f\"Gerado arquivo para o processo {row.processo}\")"
   ]
  },
  {
   "cell_type": "code",
   "execution_count": null,
   "metadata": {},
   "outputs": [],
   "source": []
  }
 ],
 "metadata": {
  "kernelspec": {
   "display_name": ".venv",
   "language": "python",
   "name": "python3"
  },
  "language_info": {
   "codemirror_mode": {
    "name": "ipython",
    "version": 3
   },
   "file_extension": ".py",
   "mimetype": "text/x-python",
   "name": "python",
   "nbconvert_exporter": "python",
   "pygments_lexer": "ipython3",
   "version": "3.12.3"
  }
 },
 "nbformat": 4,
 "nbformat_minor": 2
}
