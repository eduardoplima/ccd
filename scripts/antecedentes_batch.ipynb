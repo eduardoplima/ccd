{
 "cells": [
  {
   "cell_type": "code",
   "execution_count": 27,
   "metadata": {},
   "outputs": [],
   "source": [
    "import os\n",
    "import locale\n",
    "import math\n",
    "\n",
    "import pandas as pd\n",
    "import numpy as np\n",
    "\n",
    "from datetime import datetime\n",
    "from dotenv import load_dotenv\n",
    "from utils_ccd import get_connection\n",
    "from docxtpl import DocxTemplate\n",
    "\n",
    "load_dotenv()\n",
    "conn = get_connection()\n",
    "\n",
    "locale.setlocale(locale.LC_ALL, 'pt_BR.UTF-8')\n",
    "\n",
    "from antecedentes import create_antecedentes_doc\n",
    "\n",
    "import pypdf\n",
    "from pathlib import Path\n",
    "\n",
    "from langchain_openai import AzureOpenAI, AzureChatOpenAI\n",
    "from langchain.prompts import PromptTemplate, ChatPromptTemplate, FewShotChatMessagePromptTemplate\n",
    "\n",
    "from docx2pdf import convert"
   ]
  },
  {
   "cell_type": "code",
   "execution_count": 28,
   "metadata": {},
   "outputs": [],
   "source": [
    "import subprocess\n",
    "\n",
    "def generate_pdf(doc_path, path):\n",
    "\n",
    "    subprocess.call(['soffice',\n",
    "                  '--headless',\n",
    "                 '--convert-to',\n",
    "                 'pdf',\n",
    "                 '--outdir',\n",
    "                 path,\n",
    "                 doc_path])\n",
    "    return doc_path"
   ]
  },
  {
   "cell_type": "code",
   "execution_count": 29,
   "metadata": {},
   "outputs": [],
   "source": [
    "def get_file_path(row):\n",
    "    return Path('/media/informacoes_pdf/') / row['setor'].strip() / row['arquivo']\n"
   ]
  },
  {
   "cell_type": "code",
   "execution_count": 30,
   "metadata": {},
   "outputs": [],
   "source": [
    "def get_pdf_text(row):\n",
    "    arquivo = get_file_path(row)\n",
    "    print(f'File {arquivo} to pypdf text')\n",
    "    try:\n",
    "        pdf = pypdf.PdfReader(arquivo)\n",
    "        text = []\n",
    "        for page in pdf.pages:\n",
    "            text.append(page.extract_text())\n",
    "        return ' '.join(text)\n",
    "    except FileNotFoundError:\n",
    "        print(f'File not found: {arquivo}')\n",
    "        return ''"
   ]
  },
  {
   "cell_type": "code",
   "execution_count": 31,
   "metadata": {},
   "outputs": [
    {
     "name": "stderr",
     "output_type": "stream",
     "text": [
      "/tmp/ipykernel_31181/146702693.py:18: UserWarning: pandas only supports SQLAlchemy connectable (engine/connection) or database string URI or sqlite3 DBAPI2 connection. Other DBAPI2 objects are not tested. Please consider using SQLAlchemy.\n",
      "  processos_antecedentes = pd.read_sql(antecedentes_sql, conn)\n"
     ]
    }
   ],
   "source": [
    "antecedentes_sql = ''' \n",
    "\n",
    "SELECT DISTINCT pro.numero_processo,\n",
    "       pro.ano_processo,\n",
    "       pro.assunto,\n",
    "       pro.interessado,\n",
    "       pm.Descricao as marcador      \n",
    "       \n",
    "FROM processo.dbo.Processos pro\n",
    "INNER JOIN processo.dbo.Pro_MarcadorProcesso pmp ON pmp.IdProcesso = pro.IdProcesso\n",
    "INNER JOIN processo.dbo.Pro_Marcador pm ON pmp.IdMarcador = pm.IdMarcador\n",
    "LEFT JOIN processo.dbo.Exe_Debito ed ON ed.IdProcessoExecucao = pro.IdProcesso\n",
    "LEFT JOIN processo.dbo.Exe_DebitoPessoa edp ON edp.IDDebito = ed.IdDebito\n",
    "LEFT JOIN processo.dbo.GenPessoa gp ON gp.IdPessoa = edp.IDPessoa\n",
    "WHERE pro.setor_atual = 'CCD'\n",
    "AND lower(pm.Descricao) like '%antecedente%'\n",
    "'''\n",
    "processos_antecedentes = pd.read_sql(antecedentes_sql, conn)"
   ]
  },
  {
   "cell_type": "code",
   "execution_count": 32,
   "metadata": {},
   "outputs": [
    {
     "data": {
      "text/html": [
       "<div>\n",
       "<style scoped>\n",
       "    .dataframe tbody tr th:only-of-type {\n",
       "        vertical-align: middle;\n",
       "    }\n",
       "\n",
       "    .dataframe tbody tr th {\n",
       "        vertical-align: top;\n",
       "    }\n",
       "\n",
       "    .dataframe thead th {\n",
       "        text-align: right;\n",
       "    }\n",
       "</style>\n",
       "<table border=\"1\" class=\"dataframe\">\n",
       "  <thead>\n",
       "    <tr style=\"text-align: right;\">\n",
       "      <th></th>\n",
       "      <th>numero_processo</th>\n",
       "      <th>ano_processo</th>\n",
       "      <th>assunto</th>\n",
       "      <th>interessado</th>\n",
       "      <th>marcador</th>\n",
       "    </tr>\n",
       "  </thead>\n",
       "  <tbody>\n",
       "    <tr>\n",
       "      <th>0</th>\n",
       "      <td>000761</td>\n",
       "      <td>2022</td>\n",
       "      <td>APURAÇÃO DE RESPONSABILIDADE EM ATENDIMENTO AO...</td>\n",
       "      <td>PREFEITURA MUNICIPAL DE CANGUARETAMA          ...</td>\n",
       "      <td>Antecedentes</td>\n",
       "    </tr>\n",
       "    <tr>\n",
       "      <th>1</th>\n",
       "      <td>000913</td>\n",
       "      <td>2023</td>\n",
       "      <td>COMUNICAÇÃO DE IRREGULARIDADE                 ...</td>\n",
       "      <td>SIGILOSO                                      ...</td>\n",
       "      <td>Antecedentes</td>\n",
       "    </tr>\n",
       "    <tr>\n",
       "      <th>2</th>\n",
       "      <td>001749</td>\n",
       "      <td>2019</td>\n",
       "      <td>CONTAS DO CHEFE DO PODER EXECUTIVO MUNICIPAL, ...</td>\n",
       "      <td>PREFEITURA MUNICIPAL DE VIÇOSA                ...</td>\n",
       "      <td>Antecedentes</td>\n",
       "    </tr>\n",
       "    <tr>\n",
       "      <th>3</th>\n",
       "      <td>002923</td>\n",
       "      <td>2024</td>\n",
       "      <td>CONTAS DO CHEFE DO PODER EXECUTIVO DA PREFEITU...</td>\n",
       "      <td>PREFEITURA MUNICIPAL DE PILÕES                ...</td>\n",
       "      <td>Antecedentes</td>\n",
       "    </tr>\n",
       "    <tr>\n",
       "      <th>4</th>\n",
       "      <td>003277</td>\n",
       "      <td>2020</td>\n",
       "      <td>AUMENTO REMUNERATÓRIO DURANTE A PANDEMIA - REM...</td>\n",
       "      <td>CÂMARA MUNICIPAL DE ANTÔNIO MARTINS           ...</td>\n",
       "      <td>Antecedentes</td>\n",
       "    </tr>\n",
       "    <tr>\n",
       "      <th>5</th>\n",
       "      <td>003980</td>\n",
       "      <td>2022</td>\n",
       "      <td>APURAÇÃO DE RESPONSABILIDADE, REFERENTE AO PRO...</td>\n",
       "      <td>PREFEITURA MUNICIPAL DE CEARÁ-MIRIM           ...</td>\n",
       "      <td>Antecedentes</td>\n",
       "    </tr>\n",
       "    <tr>\n",
       "      <th>6</th>\n",
       "      <td>004072</td>\n",
       "      <td>2021</td>\n",
       "      <td>MONITORAMENTO                                 ...</td>\n",
       "      <td>AGÊNCIA DE FOMENTO DO RN S/A                  ...</td>\n",
       "      <td>Antecedentes</td>\n",
       "    </tr>\n",
       "    <tr>\n",
       "      <th>7</th>\n",
       "      <td>004728</td>\n",
       "      <td>2022</td>\n",
       "      <td>DENÚNCIA                                      ...</td>\n",
       "      <td>FRANCINALDO MOREIRA DA SILVA                  ...</td>\n",
       "      <td>Antecedentes</td>\n",
       "    </tr>\n",
       "    <tr>\n",
       "      <th>8</th>\n",
       "      <td>005119</td>\n",
       "      <td>2021</td>\n",
       "      <td>APURAÇÃO DE RESPONSABILIDADE REFERENTE A ATRAS...</td>\n",
       "      <td>SECRETARIA MUNICIPAL DE MEIO AMBIENTE E URBANI...</td>\n",
       "      <td>Antecedentes</td>\n",
       "    </tr>\n",
       "    <tr>\n",
       "      <th>9</th>\n",
       "      <td>005181</td>\n",
       "      <td>2020</td>\n",
       "      <td>AUDITORIA DE CONFORMIDADE-EXERCÍCIO 2018      ...</td>\n",
       "      <td>PREFEITURA MUNICIPAL DE MOSSORÓ               ...</td>\n",
       "      <td>Antecedentes</td>\n",
       "    </tr>\n",
       "    <tr>\n",
       "      <th>10</th>\n",
       "      <td>006621</td>\n",
       "      <td>2015</td>\n",
       "      <td>CONTAS DO CHEFE DO PODER EXECUTIVO REFERENTE A...</td>\n",
       "      <td>PREF.MUN.UPANEMA                              ...</td>\n",
       "      <td>Antecedentes</td>\n",
       "    </tr>\n",
       "    <tr>\n",
       "      <th>11</th>\n",
       "      <td>200086</td>\n",
       "      <td>2023</td>\n",
       "      <td>INADIMPLÊNCIA NA REMESSA DE SIAI DP NOVO      ...</td>\n",
       "      <td>CÂMARA MUNICIPAL DE AFONSO BEZERRA            ...</td>\n",
       "      <td>Antecedentes</td>\n",
       "    </tr>\n",
       "    <tr>\n",
       "      <th>12</th>\n",
       "      <td>200123</td>\n",
       "      <td>2023</td>\n",
       "      <td>INADIMPLÊNCIA NA REMESSA DE SIAI DP NOVO      ...</td>\n",
       "      <td>João Batista da Silva                         ...</td>\n",
       "      <td>Antecedentes</td>\n",
       "    </tr>\n",
       "  </tbody>\n",
       "</table>\n",
       "</div>"
      ],
      "text/plain": [
       "   numero_processo ano_processo  \\\n",
       "0           000761         2022   \n",
       "1           000913         2023   \n",
       "2           001749         2019   \n",
       "3           002923         2024   \n",
       "4           003277         2020   \n",
       "5           003980         2022   \n",
       "6           004072         2021   \n",
       "7           004728         2022   \n",
       "8           005119         2021   \n",
       "9           005181         2020   \n",
       "10          006621         2015   \n",
       "11          200086         2023   \n",
       "12          200123         2023   \n",
       "\n",
       "                                              assunto  \\\n",
       "0   APURAÇÃO DE RESPONSABILIDADE EM ATENDIMENTO AO...   \n",
       "1   COMUNICAÇÃO DE IRREGULARIDADE                 ...   \n",
       "2   CONTAS DO CHEFE DO PODER EXECUTIVO MUNICIPAL, ...   \n",
       "3   CONTAS DO CHEFE DO PODER EXECUTIVO DA PREFEITU...   \n",
       "4   AUMENTO REMUNERATÓRIO DURANTE A PANDEMIA - REM...   \n",
       "5   APURAÇÃO DE RESPONSABILIDADE, REFERENTE AO PRO...   \n",
       "6   MONITORAMENTO                                 ...   \n",
       "7   DENÚNCIA                                      ...   \n",
       "8   APURAÇÃO DE RESPONSABILIDADE REFERENTE A ATRAS...   \n",
       "9   AUDITORIA DE CONFORMIDADE-EXERCÍCIO 2018      ...   \n",
       "10  CONTAS DO CHEFE DO PODER EXECUTIVO REFERENTE A...   \n",
       "11  INADIMPLÊNCIA NA REMESSA DE SIAI DP NOVO      ...   \n",
       "12  INADIMPLÊNCIA NA REMESSA DE SIAI DP NOVO      ...   \n",
       "\n",
       "                                          interessado      marcador  \n",
       "0   PREFEITURA MUNICIPAL DE CANGUARETAMA          ...  Antecedentes  \n",
       "1   SIGILOSO                                      ...  Antecedentes  \n",
       "2   PREFEITURA MUNICIPAL DE VIÇOSA                ...  Antecedentes  \n",
       "3   PREFEITURA MUNICIPAL DE PILÕES                ...  Antecedentes  \n",
       "4   CÂMARA MUNICIPAL DE ANTÔNIO MARTINS           ...  Antecedentes  \n",
       "5   PREFEITURA MUNICIPAL DE CEARÁ-MIRIM           ...  Antecedentes  \n",
       "6   AGÊNCIA DE FOMENTO DO RN S/A                  ...  Antecedentes  \n",
       "7   FRANCINALDO MOREIRA DA SILVA                  ...  Antecedentes  \n",
       "8   SECRETARIA MUNICIPAL DE MEIO AMBIENTE E URBANI...  Antecedentes  \n",
       "9   PREFEITURA MUNICIPAL DE MOSSORÓ               ...  Antecedentes  \n",
       "10  PREF.MUN.UPANEMA                              ...  Antecedentes  \n",
       "11  CÂMARA MUNICIPAL DE AFONSO BEZERRA            ...  Antecedentes  \n",
       "12  João Batista da Silva                         ...  Antecedentes  "
      ]
     },
     "execution_count": 32,
     "metadata": {},
     "output_type": "execute_result"
    }
   ],
   "source": [
    "processos_antecedentes"
   ]
  },
  {
   "cell_type": "code",
   "execution_count": 33,
   "metadata": {},
   "outputs": [
    {
     "name": "stderr",
     "output_type": "stream",
     "text": [
      "/tmp/ipykernel_31181/3946558724.py:49: UserWarning: pandas only supports SQLAlchemy connectable (engine/connection) or database string URI or sqlite3 DBAPI2 connection. Other DBAPI2 objects are not tested. Please consider using SQLAlchemy.\n",
      "  df_info_gaana = pd.read_sql(sql_info_antecedentes_gaana, conn)\n"
     ]
    }
   ],
   "source": [
    "sql_info_antecedentes_gaana = ''' \n",
    "WITH RankedData AS (\n",
    "    SELECT \n",
    "    \tai.setor,\n",
    "        concat(pro.numero_processo, '/', pro.ano_processo) as processo,\n",
    "        pro.assunto,\n",
    "        pro.interessado,\n",
    "        concat(rtrim(ai.setor),'_',\n",
    "        ai.numero_processo ,'_',\n",
    "        ai.ano_processo,'_',RIGHT(concat('0000',ai.ordem),4),'.pdf') as arquivo,\n",
    "        ai.datapublicacao, \n",
    "        ppe.SequencialProcessoEvento, \n",
    "        ai.numero_processo, \n",
    "        ai.ano_processo,\n",
    "        ROW_NUMBER() OVER (\n",
    "            PARTITION BY CONCAT(ai.numero_processo, '/', ai.ano_processo)\n",
    "            ORDER BY ppe.SequencialProcessoEvento DESC\n",
    "        ) AS rn\n",
    "    FROM processo.dbo.vw_Ata_Informacao ai \n",
    "    LEFT JOIN processo.dbo.Pro_ProcessoEvento ppe \n",
    "        ON ai.idInformacao = ppe.IdInformacao\n",
    "    LEFT JOIN processo.dbo.Processos pro\n",
    "    \tON pro.numero_processo = ai.numero_processo AND pro.ano_processo = ai.ano_processo\n",
    "    WHERE CONCAT(ai.numero_processo, '/', ai.ano_processo) IN (\n",
    "        SELECT CONCAT(pro.numero_processo, '/', pro.ano_processo)\n",
    "        FROM processo.dbo.Processos pro\n",
    "        INNER JOIN processo.dbo.Pro_MarcadorProcesso pmp \n",
    "            ON pmp.IdProcesso = pro.IdProcesso\n",
    "        INNER JOIN processo.dbo.Pro_Marcador pm \n",
    "            ON pmp.IdMarcador = pm.IdMarcador\n",
    "        LEFT JOIN processo.dbo.Exe_Debito ed \n",
    "            ON ed.IdProcessoExecucao = pro.IdProcesso\n",
    "        LEFT JOIN processo.dbo.Exe_DebitoPessoa edp \n",
    "            ON edp.IDDebito = ed.IdDebito\n",
    "        LEFT JOIN processo.dbo.GenPessoa gp \n",
    "            ON gp.IdPessoa = edp.IDPessoa\n",
    "        WHERE pro.setor_atual = 'CCD'\n",
    "        AND lower(pm.Descricao) LIKE '%antecedente%'\n",
    "    )\n",
    "    AND ai.setor LIKE '%GAANA%'\n",
    ")\n",
    "SELECT * \n",
    "FROM RankedData \n",
    "WHERE rn = 1\n",
    "ORDER BY numero_processo, ano_processo;\n",
    "\n",
    "\n",
    "'''\n",
    "df_info_gaana = pd.read_sql(sql_info_antecedentes_gaana, conn)"
   ]
  },
  {
   "cell_type": "code",
   "execution_count": null,
   "metadata": {},
   "outputs": [],
   "source": []
  },
  {
   "cell_type": "code",
   "execution_count": 34,
   "metadata": {},
   "outputs": [],
   "source": [
    "def get_transito(nome):\n",
    "    with open(\"consultas/processos_transito_cpf.sql\") as f:\n",
    "        query = f.read()\n",
    "    with get_connection() as conn:\n",
    "        q = query.format(nome=nome)\n",
    "        #print(q)\n",
    "        df = pd.read_sql(q, conn)\n",
    "        df['valor_original'] = df['valor_original'].apply(lambda x: locale.currency(x, grouping=True, symbol=False) if x and not math.isnan(x) else '-')\n",
    "        df['valor_atualizado'] = df['valor_atualizado'].apply(lambda x: locale.currency(x, grouping=True, symbol=False) if x and not math.isnan(x) else '-')\n",
    "        df.fillna('', inplace=True)\n",
    "        return df.to_dict(orient='records')\n",
    "    \n",
    "def get_processos_transito_by_cpf(pessoas_cpfs):\n",
    "    transitos = []\n",
    "    for pessoa in pessoas_cpfs:\n",
    "        if pessoa['nome']:\n",
    "            transitos.append({'nome': pessoa['nome'], 'cpf': pessoa['cpf'], 'transitos': get_transito(pessoa['nome'])})\n",
    "    return transitos   \n",
    "\n",
    "def get_genpessoa(pessoa_strc):\n",
    "    cpfs = []\n",
    "    for pessoa in pessoa_strc.pessoas:\n",
    "        nome_pessoa = pessoa.nome_pessoa\n",
    "        sql = f'''\n",
    "        SELECT gp.Documento\n",
    "            FROM Processo.dbo.GenPessoa gp \n",
    "            WHERE lower(gp.nome) = '{nome_pessoa.lower()}'\n",
    "        '''\n",
    "        ret = pd.read_sql(sql, get_connection())\n",
    "        if ret.shape[0] == 0 or ret.shape[0] > 1:\n",
    "            cpfs.append({'nome': nome_pessoa, 'cpf': None})\n",
    "        else:\n",
    "            cpfs.append({'nome': nome_pessoa, 'cpf': ret.iloc[0]['Documento']})\n",
    "    return cpfs\n",
    "\n",
    "def is_vazio(valores):\n",
    "    return all([not bool(v['transitos']) for v in valores])\n",
    "    "
   ]
  },
  {
   "cell_type": "code",
   "execution_count": 35,
   "metadata": {},
   "outputs": [
    {
     "name": "stdout",
     "output_type": "stream",
     "text": [
      "File /media/informacoes_pdf/GAANA/GAANA_000761_2022_0028.pdf to pypdf text\n",
      "File /media/informacoes_pdf/GAANA/GAANA_000913_2023_0027.pdf to pypdf text\n",
      "File /media/informacoes_pdf/GAANA/GAANA_001749_2019_0042.pdf to pypdf text\n",
      "File /media/informacoes_pdf/GAANA/GAANA_002923_2024_0025.pdf to pypdf text\n",
      "File /media/informacoes_pdf/GAANA/GAANA_003277_2020_0124.pdf to pypdf text\n",
      "File /media/informacoes_pdf/GAANA/GAANA_003980_2022_0029.pdf to pypdf text\n",
      "File /media/informacoes_pdf/GAANA/GAANA_004072_2021_0039.pdf to pypdf text\n",
      "File /media/informacoes_pdf/GAANA/GAANA_004728_2022_0049.pdf to pypdf text\n",
      "File /media/informacoes_pdf/GAANA/GAANA_005119_2021_0016.pdf to pypdf text\n",
      "File /media/informacoes_pdf/GAANA/GAANA_005181_2020_0084.pdf to pypdf text\n",
      "File /media/informacoes_pdf/GAANA/GAANA_006621_2015_0037.pdf to pypdf text\n",
      "File /media/informacoes_pdf/GAANA/GAANA_200086_2023_0045.pdf to pypdf text\n",
      "File /media/informacoes_pdf/GAANA/GAANA_200123_2023_0038.pdf to pypdf text\n"
     ]
    }
   ],
   "source": [
    "df_info_gaana['texto_pdf'] = df_info_gaana.apply(get_pdf_text, axis=1)"
   ]
  },
  {
   "cell_type": "code",
   "execution_count": 36,
   "metadata": {},
   "outputs": [],
   "source": [
    "llm = AzureChatOpenAI(model_name=\"gpt-4o\")"
   ]
  },
  {
   "cell_type": "code",
   "execution_count": 37,
   "metadata": {},
   "outputs": [],
   "source": [
    "from typing import List\n",
    "\n",
    "from pydantic import BaseModel, Field\n",
    "\n",
    "class PessoaAntecedentes(BaseModel):\n",
    "  \"\"\"Pessoa cujo antecedente deve ser buscado\"\"\"\n",
    "  nome_pessoa: str = Field(description=\"Nome da pessoa para buscar antecedentes\")\n",
    "\n",
    "class PessoasAntecedentes(BaseModel):\n",
    "  \"\"\"Lista de pessoas cujos antecedentes devem ser buscados\"\"\"\n",
    "  pessoas: List[PessoaAntecedentes] = Field(description=\"Lista de pessoas para buscar antecedentes\")\n"
   ]
  },
  {
   "cell_type": "code",
   "execution_count": 38,
   "metadata": {},
   "outputs": [],
   "source": [
    "def get_pessoas_llm(texto_despacho):\n",
    "\n",
    "  prompt = PromptTemplate.from_template(\"\"\"\n",
    "    Você é um agente que identifica listas de pessoas em requisições de antecedentes. \n",
    "      Você recebeu uma requisição para buscar antecedentes de pessoas em um processo. Remova qualquer vocativo do nome da pessoa, tal como Sr., Sra., Dr., Dra., etc.\n",
    "      O texto da requisição é o seguinte:\n",
    "      \"{input}\"\n",
    "      Encontre os antecedentes das pessoas listadas na requisição.\n",
    "\n",
    "    Sua resposta:\n",
    "    \"\"\")\n",
    "\n",
    "  structured_llm = llm.with_structured_output(schema=PessoasAntecedentes)\n",
    "  chain = prompt | structured_llm\n",
    "  return chain.invoke(texto_despacho)"
   ]
  },
  {
   "cell_type": "code",
   "execution_count": 39,
   "metadata": {},
   "outputs": [],
   "source": [
    "df_info_gaana['pessoas'] = df_info_gaana['texto_pdf'].apply(get_pessoas_llm)"
   ]
  },
  {
   "cell_type": "code",
   "execution_count": 40,
   "metadata": {},
   "outputs": [
    {
     "name": "stderr",
     "output_type": "stream",
     "text": [
      "/tmp/ipykernel_31181/2334643007.py:29: UserWarning: pandas only supports SQLAlchemy connectable (engine/connection) or database string URI or sqlite3 DBAPI2 connection. Other DBAPI2 objects are not tested. Please consider using SQLAlchemy.\n",
      "  ret = pd.read_sql(sql, get_connection())\n",
      "/tmp/ipykernel_31181/2334643007.py:29: UserWarning: pandas only supports SQLAlchemy connectable (engine/connection) or database string URI or sqlite3 DBAPI2 connection. Other DBAPI2 objects are not tested. Please consider using SQLAlchemy.\n",
      "  ret = pd.read_sql(sql, get_connection())\n",
      "/tmp/ipykernel_31181/2334643007.py:29: UserWarning: pandas only supports SQLAlchemy connectable (engine/connection) or database string URI or sqlite3 DBAPI2 connection. Other DBAPI2 objects are not tested. Please consider using SQLAlchemy.\n",
      "  ret = pd.read_sql(sql, get_connection())\n",
      "/tmp/ipykernel_31181/2334643007.py:29: UserWarning: pandas only supports SQLAlchemy connectable (engine/connection) or database string URI or sqlite3 DBAPI2 connection. Other DBAPI2 objects are not tested. Please consider using SQLAlchemy.\n",
      "  ret = pd.read_sql(sql, get_connection())\n",
      "/tmp/ipykernel_31181/2334643007.py:29: UserWarning: pandas only supports SQLAlchemy connectable (engine/connection) or database string URI or sqlite3 DBAPI2 connection. Other DBAPI2 objects are not tested. Please consider using SQLAlchemy.\n",
      "  ret = pd.read_sql(sql, get_connection())\n",
      "/tmp/ipykernel_31181/2334643007.py:29: UserWarning: pandas only supports SQLAlchemy connectable (engine/connection) or database string URI or sqlite3 DBAPI2 connection. Other DBAPI2 objects are not tested. Please consider using SQLAlchemy.\n",
      "  ret = pd.read_sql(sql, get_connection())\n",
      "/tmp/ipykernel_31181/2334643007.py:29: UserWarning: pandas only supports SQLAlchemy connectable (engine/connection) or database string URI or sqlite3 DBAPI2 connection. Other DBAPI2 objects are not tested. Please consider using SQLAlchemy.\n",
      "  ret = pd.read_sql(sql, get_connection())\n",
      "/tmp/ipykernel_31181/2334643007.py:29: UserWarning: pandas only supports SQLAlchemy connectable (engine/connection) or database string URI or sqlite3 DBAPI2 connection. Other DBAPI2 objects are not tested. Please consider using SQLAlchemy.\n",
      "  ret = pd.read_sql(sql, get_connection())\n",
      "/tmp/ipykernel_31181/2334643007.py:29: UserWarning: pandas only supports SQLAlchemy connectable (engine/connection) or database string URI or sqlite3 DBAPI2 connection. Other DBAPI2 objects are not tested. Please consider using SQLAlchemy.\n",
      "  ret = pd.read_sql(sql, get_connection())\n",
      "/tmp/ipykernel_31181/2334643007.py:29: UserWarning: pandas only supports SQLAlchemy connectable (engine/connection) or database string URI or sqlite3 DBAPI2 connection. Other DBAPI2 objects are not tested. Please consider using SQLAlchemy.\n",
      "  ret = pd.read_sql(sql, get_connection())\n",
      "/tmp/ipykernel_31181/2334643007.py:29: UserWarning: pandas only supports SQLAlchemy connectable (engine/connection) or database string URI or sqlite3 DBAPI2 connection. Other DBAPI2 objects are not tested. Please consider using SQLAlchemy.\n",
      "  ret = pd.read_sql(sql, get_connection())\n",
      "/tmp/ipykernel_31181/2334643007.py:29: UserWarning: pandas only supports SQLAlchemy connectable (engine/connection) or database string URI or sqlite3 DBAPI2 connection. Other DBAPI2 objects are not tested. Please consider using SQLAlchemy.\n",
      "  ret = pd.read_sql(sql, get_connection())\n",
      "/tmp/ipykernel_31181/2334643007.py:29: UserWarning: pandas only supports SQLAlchemy connectable (engine/connection) or database string URI or sqlite3 DBAPI2 connection. Other DBAPI2 objects are not tested. Please consider using SQLAlchemy.\n",
      "  ret = pd.read_sql(sql, get_connection())\n",
      "/tmp/ipykernel_31181/2334643007.py:29: UserWarning: pandas only supports SQLAlchemy connectable (engine/connection) or database string URI or sqlite3 DBAPI2 connection. Other DBAPI2 objects are not tested. Please consider using SQLAlchemy.\n",
      "  ret = pd.read_sql(sql, get_connection())\n",
      "/tmp/ipykernel_31181/2334643007.py:29: UserWarning: pandas only supports SQLAlchemy connectable (engine/connection) or database string URI or sqlite3 DBAPI2 connection. Other DBAPI2 objects are not tested. Please consider using SQLAlchemy.\n",
      "  ret = pd.read_sql(sql, get_connection())\n",
      "/tmp/ipykernel_31181/2334643007.py:29: UserWarning: pandas only supports SQLAlchemy connectable (engine/connection) or database string URI or sqlite3 DBAPI2 connection. Other DBAPI2 objects are not tested. Please consider using SQLAlchemy.\n",
      "  ret = pd.read_sql(sql, get_connection())\n",
      "/tmp/ipykernel_31181/2334643007.py:29: UserWarning: pandas only supports SQLAlchemy connectable (engine/connection) or database string URI or sqlite3 DBAPI2 connection. Other DBAPI2 objects are not tested. Please consider using SQLAlchemy.\n",
      "  ret = pd.read_sql(sql, get_connection())\n",
      "/tmp/ipykernel_31181/2334643007.py:29: UserWarning: pandas only supports SQLAlchemy connectable (engine/connection) or database string URI or sqlite3 DBAPI2 connection. Other DBAPI2 objects are not tested. Please consider using SQLAlchemy.\n",
      "  ret = pd.read_sql(sql, get_connection())\n"
     ]
    }
   ],
   "source": [
    "df_info_gaana['cpf'] = df_info_gaana['pessoas'].apply(get_genpessoa)"
   ]
  },
  {
   "cell_type": "code",
   "execution_count": 41,
   "metadata": {},
   "outputs": [
    {
     "name": "stderr",
     "output_type": "stream",
     "text": [
      "/tmp/ipykernel_31181/2334643007.py:7: UserWarning: pandas only supports SQLAlchemy connectable (engine/connection) or database string URI or sqlite3 DBAPI2 connection. Other DBAPI2 objects are not tested. Please consider using SQLAlchemy.\n",
      "  df = pd.read_sql(q, conn)\n",
      "/tmp/ipykernel_31181/2334643007.py:7: UserWarning: pandas only supports SQLAlchemy connectable (engine/connection) or database string URI or sqlite3 DBAPI2 connection. Other DBAPI2 objects are not tested. Please consider using SQLAlchemy.\n",
      "  df = pd.read_sql(q, conn)\n",
      "/tmp/ipykernel_31181/2334643007.py:7: UserWarning: pandas only supports SQLAlchemy connectable (engine/connection) or database string URI or sqlite3 DBAPI2 connection. Other DBAPI2 objects are not tested. Please consider using SQLAlchemy.\n",
      "  df = pd.read_sql(q, conn)\n",
      "/tmp/ipykernel_31181/2334643007.py:7: UserWarning: pandas only supports SQLAlchemy connectable (engine/connection) or database string URI or sqlite3 DBAPI2 connection. Other DBAPI2 objects are not tested. Please consider using SQLAlchemy.\n",
      "  df = pd.read_sql(q, conn)\n",
      "/tmp/ipykernel_31181/2334643007.py:7: UserWarning: pandas only supports SQLAlchemy connectable (engine/connection) or database string URI or sqlite3 DBAPI2 connection. Other DBAPI2 objects are not tested. Please consider using SQLAlchemy.\n",
      "  df = pd.read_sql(q, conn)\n",
      "/tmp/ipykernel_31181/2334643007.py:7: UserWarning: pandas only supports SQLAlchemy connectable (engine/connection) or database string URI or sqlite3 DBAPI2 connection. Other DBAPI2 objects are not tested. Please consider using SQLAlchemy.\n",
      "  df = pd.read_sql(q, conn)\n",
      "/tmp/ipykernel_31181/2334643007.py:7: UserWarning: pandas only supports SQLAlchemy connectable (engine/connection) or database string URI or sqlite3 DBAPI2 connection. Other DBAPI2 objects are not tested. Please consider using SQLAlchemy.\n",
      "  df = pd.read_sql(q, conn)\n",
      "/tmp/ipykernel_31181/2334643007.py:7: UserWarning: pandas only supports SQLAlchemy connectable (engine/connection) or database string URI or sqlite3 DBAPI2 connection. Other DBAPI2 objects are not tested. Please consider using SQLAlchemy.\n",
      "  df = pd.read_sql(q, conn)\n",
      "/tmp/ipykernel_31181/2334643007.py:7: UserWarning: pandas only supports SQLAlchemy connectable (engine/connection) or database string URI or sqlite3 DBAPI2 connection. Other DBAPI2 objects are not tested. Please consider using SQLAlchemy.\n",
      "  df = pd.read_sql(q, conn)\n",
      "/tmp/ipykernel_31181/2334643007.py:7: UserWarning: pandas only supports SQLAlchemy connectable (engine/connection) or database string URI or sqlite3 DBAPI2 connection. Other DBAPI2 objects are not tested. Please consider using SQLAlchemy.\n",
      "  df = pd.read_sql(q, conn)\n",
      "/tmp/ipykernel_31181/2334643007.py:7: UserWarning: pandas only supports SQLAlchemy connectable (engine/connection) or database string URI or sqlite3 DBAPI2 connection. Other DBAPI2 objects are not tested. Please consider using SQLAlchemy.\n",
      "  df = pd.read_sql(q, conn)\n",
      "/tmp/ipykernel_31181/2334643007.py:7: UserWarning: pandas only supports SQLAlchemy connectable (engine/connection) or database string URI or sqlite3 DBAPI2 connection. Other DBAPI2 objects are not tested. Please consider using SQLAlchemy.\n",
      "  df = pd.read_sql(q, conn)\n",
      "/tmp/ipykernel_31181/2334643007.py:7: UserWarning: pandas only supports SQLAlchemy connectable (engine/connection) or database string URI or sqlite3 DBAPI2 connection. Other DBAPI2 objects are not tested. Please consider using SQLAlchemy.\n",
      "  df = pd.read_sql(q, conn)\n",
      "/tmp/ipykernel_31181/2334643007.py:7: UserWarning: pandas only supports SQLAlchemy connectable (engine/connection) or database string URI or sqlite3 DBAPI2 connection. Other DBAPI2 objects are not tested. Please consider using SQLAlchemy.\n",
      "  df = pd.read_sql(q, conn)\n",
      "/tmp/ipykernel_31181/2334643007.py:7: UserWarning: pandas only supports SQLAlchemy connectable (engine/connection) or database string URI or sqlite3 DBAPI2 connection. Other DBAPI2 objects are not tested. Please consider using SQLAlchemy.\n",
      "  df = pd.read_sql(q, conn)\n",
      "/tmp/ipykernel_31181/2334643007.py:7: UserWarning: pandas only supports SQLAlchemy connectable (engine/connection) or database string URI or sqlite3 DBAPI2 connection. Other DBAPI2 objects are not tested. Please consider using SQLAlchemy.\n",
      "  df = pd.read_sql(q, conn)\n",
      "/tmp/ipykernel_31181/2334643007.py:7: UserWarning: pandas only supports SQLAlchemy connectable (engine/connection) or database string URI or sqlite3 DBAPI2 connection. Other DBAPI2 objects are not tested. Please consider using SQLAlchemy.\n",
      "  df = pd.read_sql(q, conn)\n",
      "/tmp/ipykernel_31181/2334643007.py:7: UserWarning: pandas only supports SQLAlchemy connectable (engine/connection) or database string URI or sqlite3 DBAPI2 connection. Other DBAPI2 objects are not tested. Please consider using SQLAlchemy.\n",
      "  df = pd.read_sql(q, conn)\n"
     ]
    }
   ],
   "source": [
    "df_info_gaana['valores'] = df_info_gaana['cpf'].apply(get_processos_transito_by_cpf)"
   ]
  },
  {
   "cell_type": "code",
   "execution_count": null,
   "metadata": {},
   "outputs": [],
   "source": [
    "def valores_vazios(valores):\n",
    "    return all([not bool(v['transitos']) for v in valores])"
   ]
  },
  {
   "cell_type": "code",
   "execution_count": 74,
   "metadata": {},
   "outputs": [],
   "source": [
    "#df_info_gaana['len_valores'] = df_info_gaana['valores'].apply(lambda x: len(x))\n",
    "df_info_gaana['sem_valores'] = df_info_gaana['valores'].apply(valores_vazios)\n",
    "antecedentes = df_info_gaana"
   ]
  },
  {
   "cell_type": "code",
   "execution_count": 75,
   "metadata": {},
   "outputs": [
    {
     "name": "stdout",
     "output_type": "stream",
     "text": [
      "Gerado arquivo para o processo 000761/2022\n",
      "Gerado arquivo para o processo 000913/2023\n",
      "Gerado arquivo para o processo 001749/2019\n",
      "Gerado arquivo para o processo 002923/2024\n",
      "Gerado arquivo para o processo 003277/2020\n",
      "Gerado arquivo para o processo 003980/2022\n",
      "Gerado arquivo para o processo 004072/2021\n",
      "Gerado arquivo para o processo 004728/2022\n",
      "Gerado arquivo para o processo 005119/2021\n",
      "Gerado arquivo para o processo 005181/2020\n",
      "Gerado arquivo para o processo 006621/2015\n",
      "Gerado arquivo para o processo 200086/2023\n",
      "Gerado arquivo para o processo 200123/2023\n"
     ]
    }
   ],
   "source": [
    "for row in antecedentes.itertuples():\n",
    "    doc = DocxTemplate(\"templates/antecedentes.docx\")\n",
    "    #valores = [v for v in row.valores if len(v['transitos']) > 0]\n",
    "    nomes = [v['nome'] for v in row.valores]\n",
    "    if len(nomes) > 1:\n",
    "        responsaveis = ', '.join(nomes[:-1]) + ' e ' + nomes[-1]\n",
    "    else:\n",
    "        responsaveis = nomes[0] if nomes else ''\n",
    "    for v in row.valores:\n",
    "        if v['cpf'] is None:\n",
    "            v['cpf'] = ''\n",
    "    context = {\n",
    "        'processo': row.processo,\n",
    "        'assunto': row.assunto,\n",
    "        'interessado': row.interessado,\n",
    "        'valores': row.valores,\n",
    "        'responsaveis': responsaveis,\n",
    "        'data': datetime.now().strftime(\"%d/%m/%Y\"),\n",
    "        'sem_valores': row.sem_valores\n",
    "    }\n",
    "    processo_underline = row.processo.replace('/', '_')\n",
    "\n",
    "    doc.render(context)\n",
    "    doc.save(f\"saidas/antecedentes/{processo_underline}.docx\")\n",
    "    generate_pdf(f\"saidas/antecedentes/{processo_underline}.docx\", f\"saidas/antecedentes/\")\n",
    "    print(f\"Gerado arquivo para o processo {row.processo}\")"
   ]
  },
  {
   "cell_type": "code",
   "execution_count": 44,
   "metadata": {},
   "outputs": [
    {
     "data": {
      "text/plain": [
       "0     [{'nome': 'Maria de Fátima Borges Marinho', 'c...\n",
       "1     [{'nome': 'Samuel Oliveira de Souto', 'cpf': '...\n",
       "2     [{'nome': 'Antônio Gomes de Amorim', 'cpf': '1...\n",
       "3     [{'nome': 'Cícero Sabino Neto', 'cpf': '069759...\n",
       "4     [{'nome': 'Jorge Vinicius de Oliveira Fernande...\n",
       "5     [{'nome': 'José Walter Fernandes', 'cpf': '413...\n",
       "6     [{'nome': 'Edivane Vilar de Souza', 'cpf': '45...\n",
       "7     [{'nome': 'José Alexandre Sobrinho', 'cpf': ''...\n",
       "8     [{'nome': 'THIAGO DE PAULA NUNES MESQUITA', 'c...\n",
       "9     [{'nome': 'Sebastião Ronaldo Martins Cruz', 'c...\n",
       "10    [{'nome': 'Luiz Jairo Bezerra de Mendonça', 'c...\n",
       "11    [{'nome': 'Aldenor Bezerra da Costa', 'cpf': '...\n",
       "12    [{'nome': 'João Batista da Silva', 'cpf': '', ...\n",
       "Name: valores, dtype: object"
      ]
     },
     "execution_count": 44,
     "metadata": {},
     "output_type": "execute_result"
    }
   ],
   "source": [
    "antecedentes['valores']"
   ]
  },
  {
   "cell_type": "code",
   "execution_count": 45,
   "metadata": {},
   "outputs": [],
   "source": [
    "valores = antecedentes['valores'].values.tolist()"
   ]
  },
  {
   "cell_type": "code",
   "execution_count": 46,
   "metadata": {},
   "outputs": [
    {
     "data": {
      "text/plain": [
       "[{'nome': 'Maria de Fátima Borges Marinho',\n",
       "  'cpf': '12627690434',\n",
       "  'transitos': [{'processo_origem': '003047/2018',\n",
       "    'processo_execucao': '',\n",
       "    'tipo_debito': 'Multa',\n",
       "    'valor_original': '5.000,00',\n",
       "    'valor_atualizado': '-',\n",
       "    'transito_julgado': '21/07/2023',\n",
       "    'situacao_divida': 'Em Aberto',\n",
       "    'status_protesto': '',\n",
       "    'status_pge': ''},\n",
       "   {'processo_origem': '701373/2013',\n",
       "    'processo_execucao': '002597/2020',\n",
       "    'tipo_debito': 'Multa',\n",
       "    'valor_original': '4.997,06',\n",
       "    'valor_atualizado': '346,95',\n",
       "    'transito_julgado': '27/01/2020',\n",
       "    'situacao_divida': 'Pago Integralmente',\n",
       "    'status_protesto': 'Cancelada por Pagamento',\n",
       "    'status_pge': ''},\n",
       "   {'processo_origem': '010592/1999',\n",
       "    'processo_execucao': '000382/2020',\n",
       "    'tipo_debito': 'Ressarcimento ',\n",
       "    'valor_original': '7.698,62',\n",
       "    'valor_atualizado': '-',\n",
       "    'transito_julgado': '26/09/2016',\n",
       "    'situacao_divida': 'Cancelada por prescrição',\n",
       "    'status_protesto': '',\n",
       "    'status_pge': ''},\n",
       "   {'processo_origem': '003345/2009',\n",
       "    'processo_execucao': '016745/2016',\n",
       "    'tipo_debito': 'Ressarcimento ',\n",
       "    'valor_original': '4.511.262,51',\n",
       "    'valor_atualizado': '-',\n",
       "    'transito_julgado': '13/04/2015',\n",
       "    'situacao_divida': 'Em Aberto',\n",
       "    'status_protesto': '',\n",
       "    'status_pge': ''},\n",
       "   {'processo_origem': '003345/2009',\n",
       "    'processo_execucao': '016745/2016',\n",
       "    'tipo_debito': 'Multa',\n",
       "    'valor_original': '60.000,00',\n",
       "    'valor_atualizado': '-',\n",
       "    'transito_julgado': '13/04/2015',\n",
       "    'situacao_divida': 'Em Aberto',\n",
       "    'status_protesto': '',\n",
       "    'status_pge': ''}]}]"
      ]
     },
     "execution_count": 46,
     "metadata": {},
     "output_type": "execute_result"
    }
   ],
   "source": [
    "valores[0]"
   ]
  },
  {
   "cell_type": "code",
   "execution_count": 47,
   "metadata": {},
   "outputs": [
    {
     "data": {
      "text/plain": [
       "[{'nome': 'João Batista da Silva', 'cpf': '', 'transitos': []}]"
      ]
     },
     "execution_count": 47,
     "metadata": {},
     "output_type": "execute_result"
    }
   ],
   "source": [
    "row.valores"
   ]
  },
  {
   "cell_type": "code",
   "execution_count": 48,
   "metadata": {},
   "outputs": [
    {
     "data": {
      "text/plain": [
       "Pandas(Index=12, setor='GAANA', processo='200123/2023', assunto='INADIMPLÊNCIA NA REMESSA DE SIAI DP NOVO                                                                                                                                                                                                                       ', interessado='João Batista da Silva                                                                                                                                                                                                                                          ', arquivo='GAANA_200123_2023_0038.pdf', datapublicacao=Timestamp('2025-03-24 09:38:05.950000'), SequencialProcessoEvento=69, numero_processo='200123', ano_processo='2023', rn=1, texto_pdf='             \\n \\n1 \\n \\n \\nProcesso nº: 200123/2023 – TC  \\n \\n \\n \\n \\n \\nD E S P A C H O \\n \\nDe ordem da Exma. Sra. Conselheira Substituta Ana \\nPaula de Oliveira Gomes,  remeto o feito à Diretoria de \\nInstrução Processual e Controle de Decisões (DIP), a fim de \\nque informe se há condenações transit adas em julgado em \\ndesfavor do Sr. JOÃO BATISTA DA SIVA, no âmbito do TCE/RN. \\nEm caso positivo, informar os tipos de condenações, valores \\ncondenatórios envolvidos (ressarcimentos e multas) e as \\ndatas dos respectivos trânsitos em julgado. \\n \\n \\n \\n \\nSara Kalline da Silva \\nMat. 9.780-2  \\n \\n \\n \\n \\n \\n \\n \\n \\n \\n ', pessoas=PessoasAntecedentes(pessoas=[PessoaAntecedentes(nome_pessoa='João Batista da Silva')]), cpf=[{'nome': 'João Batista da Silva', 'cpf': None}], valores=[{'nome': 'João Batista da Silva', 'cpf': '', 'transitos': []}], len_valores=1)"
      ]
     },
     "execution_count": 48,
     "metadata": {},
     "output_type": "execute_result"
    }
   ],
   "source": [
    "row"
   ]
  },
  {
   "cell_type": "code",
   "execution_count": null,
   "metadata": {},
   "outputs": [],
   "source": []
  }
 ],
 "metadata": {
  "kernelspec": {
   "display_name": ".venv",
   "language": "python",
   "name": "python3"
  },
  "language_info": {
   "codemirror_mode": {
    "name": "ipython",
    "version": 3
   },
   "file_extension": ".py",
   "mimetype": "text/x-python",
   "name": "python",
   "nbconvert_exporter": "python",
   "pygments_lexer": "ipython3",
   "version": "3.12.7"
  }
 },
 "nbformat": 4,
 "nbformat_minor": 2
}
