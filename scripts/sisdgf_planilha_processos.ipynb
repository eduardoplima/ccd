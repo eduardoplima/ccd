{
 "cells": [
  {
   "cell_type": "markdown",
   "id": "5e32e097",
   "metadata": {},
   "source": []
  },
  {
   "cell_type": "code",
   "execution_count": 45,
   "id": "325e0507",
   "metadata": {},
   "outputs": [],
   "source": [
    "import pypdf\n",
    "\n",
    "import pandas as pd\n",
    "import numpy as np\n",
    "import matplotlib.pyplot as plt\n",
    "import seaborn as sns   \n",
    "\n",
    "from pathlib import Path\n",
    "\n",
    "from utils_ccd import get_connection\n",
    "\n",
    "conn = get_connection()"
   ]
  },
  {
   "cell_type": "code",
   "execution_count": 5,
   "id": "34ddeee5",
   "metadata": {},
   "outputs": [],
   "source": [
    "sql_processos = '''\n",
    "WITH tab AS (\n",
    "\tSELECT \n",
    "\t\tl2.IdProcesso\n",
    "\t\t,l2.[numero_processo]\n",
    "\t\t,l2.[ano_processo]\n",
    "\t\t,p.codigo_tipo_processo\n",
    "\t\t,p.assunto\n",
    "\t\t,p.interessado\n",
    "\t\t,rel.nome as relator\n",
    "\t\t,l1.[IdLote]\n",
    "\t\t,l1.[origem]\n",
    "\t\t,l1.[destino]\n",
    "\t\t,l1.[enviado_por]\n",
    "\t\t,l1.[enviado_em]\n",
    "\t\t,l1.[hora_envio]\n",
    "\t\t,l2.recebido_em\n",
    "\n",
    "\t  FROM [processo].[dbo].[Lotes] AS l1\n",
    "\t  LEFT JOIN [processo].[dbo].[Itens_Lote] AS l2 ON l1.IdLote = l2.IdLote\n",
    "\t  LEFT JOIN Processo.dbo.Processos AS p ON l2.IdProcesso = p.IdProcesso\n",
    "\t  LEFT JOIN Processo.dbo.Relator AS rel ON p.codigo_relator = rel.codigo\n",
    "\t  WHERE origem = 'ccd'\n",
    ")\n",
    "\n",
    "SELECT DISTINCT \n",
    "\tCONCAT(numero_processo, '/', ano_processo) as processo,\n",
    "\tinteressado as jurisdicionado,\n",
    "\trelator,\n",
    "\tassunto,\n",
    "\tFORMAT(recebido_em, 'd', 'pt-BR') as data_recebimento,\n",
    "\tFORMAT(enviado_em, 'd', 'pt-BR') as data_saida\n",
    "\t\n",
    "\tFROM tab\n",
    "\t\tWHERE YEAR(recebido_em) = 2025 AND MONTH(recebido_em) = 4\n",
    "'''"
   ]
  },
  {
   "cell_type": "code",
   "execution_count": 6,
   "id": "463973fd",
   "metadata": {},
   "outputs": [
    {
     "name": "stderr",
     "output_type": "stream",
     "text": [
      "/tmp/ipykernel_67962/2491845865.py:1: UserWarning: pandas only supports SQLAlchemy connectable (engine/connection) or database string URI or sqlite3 DBAPI2 connection. Other DBAPI2 objects are not tested. Please consider using SQLAlchemy.\n",
      "  processos_ccd = pd.read_sql(sql_processos, conn)\n"
     ]
    }
   ],
   "source": [
    "processos_ccd = pd.read_sql(sql_processos, conn)"
   ]
  },
  {
   "cell_type": "code",
   "execution_count": 7,
   "id": "9c230a9b",
   "metadata": {},
   "outputs": [
    {
     "data": {
      "text/html": [
       "<div>\n",
       "<style scoped>\n",
       "    .dataframe tbody tr th:only-of-type {\n",
       "        vertical-align: middle;\n",
       "    }\n",
       "\n",
       "    .dataframe tbody tr th {\n",
       "        vertical-align: top;\n",
       "    }\n",
       "\n",
       "    .dataframe thead th {\n",
       "        text-align: right;\n",
       "    }\n",
       "</style>\n",
       "<table border=\"1\" class=\"dataframe\">\n",
       "  <thead>\n",
       "    <tr style=\"text-align: right;\">\n",
       "      <th></th>\n",
       "      <th>processo</th>\n",
       "      <th>jurisdicionado</th>\n",
       "      <th>relator</th>\n",
       "      <th>assunto</th>\n",
       "      <th>data_recebimento</th>\n",
       "      <th>data_saida</th>\n",
       "    </tr>\n",
       "  </thead>\n",
       "  <tbody>\n",
       "    <tr>\n",
       "      <th>0</th>\n",
       "      <td>000064/2025</td>\n",
       "      <td>CAM.MUN.AREIA BRANCA                          ...</td>\n",
       "      <td>ANTONIO GILBERTO DE OLIVEIRA JALES</td>\n",
       "      <td>EXECUÇÃO DA DECISÃO PROFERIDA NOS AUTOS DO PRO...</td>\n",
       "      <td>29/04/2025</td>\n",
       "      <td>28/04/2025</td>\n",
       "    </tr>\n",
       "    <tr>\n",
       "      <th>1</th>\n",
       "      <td>000066/2025</td>\n",
       "      <td>JUNTA COMERCIAL DO ESTADO DO RN               ...</td>\n",
       "      <td>ANTONIO ED SOUZA SANTANA</td>\n",
       "      <td>EXECUÇÃO DA DECISÃO PROFERIDA NOS AUTOS DO PRO...</td>\n",
       "      <td>29/04/2025</td>\n",
       "      <td>28/04/2025</td>\n",
       "    </tr>\n",
       "    <tr>\n",
       "      <th>2</th>\n",
       "      <td>000080/2025</td>\n",
       "      <td>PREFEITURA MUNICIPAL DE ITAÚ                  ...</td>\n",
       "      <td>PAULO ROBERTO CHAVES ALVES</td>\n",
       "      <td>ENCAMINHA DOCUMENTAÇÃO COMPLEMENTAR REF. A NOT...</td>\n",
       "      <td>24/04/2025</td>\n",
       "      <td>24/04/2025</td>\n",
       "    </tr>\n",
       "    <tr>\n",
       "      <th>3</th>\n",
       "      <td>000086/2022</td>\n",
       "      <td>CÂMARA MUNICIPAL DE BODÓ                      ...</td>\n",
       "      <td>GEORGE MONTENEGRO SOARES</td>\n",
       "      <td>EXECUÇÃO DA DECISÃO PROFERIDA NOS AUTOS DO PRO...</td>\n",
       "      <td>29/04/2025</td>\n",
       "      <td>28/04/2025</td>\n",
       "    </tr>\n",
       "    <tr>\n",
       "      <th>4</th>\n",
       "      <td>000159/2025</td>\n",
       "      <td>COMPANHIA DE ÁGUAS E ESGOTOS DO RN - CAERN    ...</td>\n",
       "      <td>ANTONIO ED SOUZA SANTANA</td>\n",
       "      <td>RESPOSTA À COMUNICAÇÃO TIPO NOTIFICAÇÃO Nº 002...</td>\n",
       "      <td>15/04/2025</td>\n",
       "      <td>15/04/2025</td>\n",
       "    </tr>\n",
       "    <tr>\n",
       "      <th>...</th>\n",
       "      <td>...</td>\n",
       "      <td>...</td>\n",
       "      <td>...</td>\n",
       "      <td>...</td>\n",
       "      <td>...</td>\n",
       "      <td>...</td>\n",
       "    </tr>\n",
       "    <tr>\n",
       "      <th>235</th>\n",
       "      <td>702547/2012</td>\n",
       "      <td>PREF.MUN.PASSAGEM                             ...</td>\n",
       "      <td>GEORGE MONTENEGRO SOARES</td>\n",
       "      <td>PRESTAÇÃO DE CONTAS DE ACORDO COM A RESOLUÇÃO ...</td>\n",
       "      <td>24/04/2025</td>\n",
       "      <td>24/04/2025</td>\n",
       "    </tr>\n",
       "    <tr>\n",
       "      <th>236</th>\n",
       "      <td>702710/2011</td>\n",
       "      <td>PREF.MUN.LAGOA DE VELHOS                      ...</td>\n",
       "      <td>RENATO COSTA DIAS</td>\n",
       "      <td>PRESTAÇÃO DE CONTAS DE ACORDO COM A RESOLUÇÃO ...</td>\n",
       "      <td>24/04/2025</td>\n",
       "      <td>24/04/2025</td>\n",
       "    </tr>\n",
       "    <tr>\n",
       "      <th>237</th>\n",
       "      <td>703232/2011</td>\n",
       "      <td>PREF.MUN.LAGOA DE VELHOS                      ...</td>\n",
       "      <td>RENATO COSTA DIAS</td>\n",
       "      <td>PRESTAÇÃO DE CONTAS DE ACORDO COM A RESOLUÇÃO ...</td>\n",
       "      <td>24/04/2025</td>\n",
       "      <td>24/04/2025</td>\n",
       "    </tr>\n",
       "    <tr>\n",
       "      <th>238</th>\n",
       "      <td>703336/2012</td>\n",
       "      <td>PREF.MUN.PASSAGEM                             ...</td>\n",
       "      <td>GEORGE MONTENEGRO SOARES</td>\n",
       "      <td>PRESTAÇÃO DE CONTAS DE ACORDO COM A RESOLUÇÃO ...</td>\n",
       "      <td>24/04/2025</td>\n",
       "      <td>24/04/2025</td>\n",
       "    </tr>\n",
       "    <tr>\n",
       "      <th>239</th>\n",
       "      <td>997660/2012</td>\n",
       "      <td>PREF.MUN.PASSAGEM                             ...</td>\n",
       "      <td>GEORGE MONTENEGRO SOARES</td>\n",
       "      <td>PRESTAÇÃO DE CONTAS DE ACORDO COM A RESOLUÇÃO ...</td>\n",
       "      <td>24/04/2025</td>\n",
       "      <td>24/04/2025</td>\n",
       "    </tr>\n",
       "  </tbody>\n",
       "</table>\n",
       "<p>240 rows × 6 columns</p>\n",
       "</div>"
      ],
      "text/plain": [
       "        processo                                     jurisdicionado  \\\n",
       "0    000064/2025  CAM.MUN.AREIA BRANCA                          ...   \n",
       "1    000066/2025  JUNTA COMERCIAL DO ESTADO DO RN               ...   \n",
       "2    000080/2025  PREFEITURA MUNICIPAL DE ITAÚ                  ...   \n",
       "3    000086/2022  CÂMARA MUNICIPAL DE BODÓ                      ...   \n",
       "4    000159/2025  COMPANHIA DE ÁGUAS E ESGOTOS DO RN - CAERN    ...   \n",
       "..           ...                                                ...   \n",
       "235  702547/2012  PREF.MUN.PASSAGEM                             ...   \n",
       "236  702710/2011  PREF.MUN.LAGOA DE VELHOS                      ...   \n",
       "237  703232/2011  PREF.MUN.LAGOA DE VELHOS                      ...   \n",
       "238  703336/2012  PREF.MUN.PASSAGEM                             ...   \n",
       "239  997660/2012  PREF.MUN.PASSAGEM                             ...   \n",
       "\n",
       "                                relator  \\\n",
       "0    ANTONIO GILBERTO DE OLIVEIRA JALES   \n",
       "1              ANTONIO ED SOUZA SANTANA   \n",
       "2            PAULO ROBERTO CHAVES ALVES   \n",
       "3              GEORGE MONTENEGRO SOARES   \n",
       "4              ANTONIO ED SOUZA SANTANA   \n",
       "..                                  ...   \n",
       "235            GEORGE MONTENEGRO SOARES   \n",
       "236                   RENATO COSTA DIAS   \n",
       "237                   RENATO COSTA DIAS   \n",
       "238            GEORGE MONTENEGRO SOARES   \n",
       "239            GEORGE MONTENEGRO SOARES   \n",
       "\n",
       "                                               assunto data_recebimento  \\\n",
       "0    EXECUÇÃO DA DECISÃO PROFERIDA NOS AUTOS DO PRO...       29/04/2025   \n",
       "1    EXECUÇÃO DA DECISÃO PROFERIDA NOS AUTOS DO PRO...       29/04/2025   \n",
       "2    ENCAMINHA DOCUMENTAÇÃO COMPLEMENTAR REF. A NOT...       24/04/2025   \n",
       "3    EXECUÇÃO DA DECISÃO PROFERIDA NOS AUTOS DO PRO...       29/04/2025   \n",
       "4    RESPOSTA À COMUNICAÇÃO TIPO NOTIFICAÇÃO Nº 002...       15/04/2025   \n",
       "..                                                 ...              ...   \n",
       "235  PRESTAÇÃO DE CONTAS DE ACORDO COM A RESOLUÇÃO ...       24/04/2025   \n",
       "236  PRESTAÇÃO DE CONTAS DE ACORDO COM A RESOLUÇÃO ...       24/04/2025   \n",
       "237  PRESTAÇÃO DE CONTAS DE ACORDO COM A RESOLUÇÃO ...       24/04/2025   \n",
       "238  PRESTAÇÃO DE CONTAS DE ACORDO COM A RESOLUÇÃO ...       24/04/2025   \n",
       "239  PRESTAÇÃO DE CONTAS DE ACORDO COM A RESOLUÇÃO ...       24/04/2025   \n",
       "\n",
       "     data_saida  \n",
       "0    28/04/2025  \n",
       "1    28/04/2025  \n",
       "2    24/04/2025  \n",
       "3    28/04/2025  \n",
       "4    15/04/2025  \n",
       "..          ...  \n",
       "235  24/04/2025  \n",
       "236  24/04/2025  \n",
       "237  24/04/2025  \n",
       "238  24/04/2025  \n",
       "239  24/04/2025  \n",
       "\n",
       "[240 rows x 6 columns]"
      ]
     },
     "execution_count": 7,
     "metadata": {},
     "output_type": "execute_result"
    }
   ],
   "source": [
    "processos_ccd"
   ]
  },
  {
   "cell_type": "code",
   "execution_count": 15,
   "id": "cbfeff94",
   "metadata": {},
   "outputs": [
    {
     "name": "stderr",
     "output_type": "stream",
     "text": [
      "/tmp/ipykernel_67962/4171043796.py:9: UserWarning: pandas only supports SQLAlchemy connectable (engine/connection) or database string URI or sqlite3 DBAPI2 connection. Other DBAPI2 objects are not tested. Please consider using SQLAlchemy.\n",
      "  informacoes_processos = pd.read_sql(sql_informacoes_processos, conn)\n"
     ]
    }
   ],
   "source": [
    "sql_informacoes_processos = '''\n",
    "SELECT concat(rtrim(inf.setor),'_',inf.numero_processo ,'_',inf.ano_processo,'_',RIGHT(concat('0000',inf.ordem),4),'.pdf') as arquivo,\n",
    "*\n",
    "FROM processo.dbo.vw_ata_informacao inf\n",
    "WHERE CONCAT(numero_processo, '/', ano_processo) IN ({})\n",
    "'''.format(\n",
    "    ', '.join([\"'{}'\".format(p) for p in processos_ccd.processo.unique()])\n",
    ")\n",
    "informacoes_processos = pd.read_sql(sql_informacoes_processos, conn)"
   ]
  },
  {
   "cell_type": "code",
   "execution_count": 47,
   "id": "97acde24",
   "metadata": {},
   "outputs": [],
   "source": [
    "DIR_INFORMACOES = '/media/informacoes_pdf/'\n",
    "def get_file_path(row):\n",
    "    return Path(DIR_INFORMACOES) / row['setor'].strip() / row['arquivo']"
   ]
  },
  {
   "cell_type": "code",
   "execution_count": 50,
   "id": "ed547fce",
   "metadata": {},
   "outputs": [],
   "source": [
    "informacoes_processos['caminho_arquivo'] = informacoes_processos.apply(get_file_path, axis=1)"
   ]
  },
  {
   "cell_type": "code",
   "execution_count": 51,
   "id": "8e3518da",
   "metadata": {},
   "outputs": [],
   "source": [
    "informacoes_ccd = informacoes_processos[informacoes_processos['setor'] == 'CCD']"
   ]
  },
  {
   "cell_type": "code",
   "execution_count": 52,
   "id": "ef358896",
   "metadata": {},
   "outputs": [
    {
     "data": {
      "text/plain": [
       "240"
      ]
     },
     "execution_count": 52,
     "metadata": {},
     "output_type": "execute_result"
    }
   ],
   "source": [
    "len(processos_ccd)"
   ]
  },
  {
   "cell_type": "code",
   "execution_count": 53,
   "id": "9904fb2a",
   "metadata": {},
   "outputs": [
    {
     "name": "stderr",
     "output_type": "stream",
     "text": [
      "/tmp/ipykernel_67962/3746687965.py:1: SettingWithCopyWarning: \n",
      "A value is trying to be set on a copy of a slice from a DataFrame.\n",
      "Try using .loc[row_indexer,col_indexer] = value instead\n",
      "\n",
      "See the caveats in the documentation: https://pandas.pydata.org/pandas-docs/stable/user_guide/indexing.html#returning-a-view-versus-a-copy\n",
      "  informacoes_ccd['processo'] = informacoes_ccd['numero_processo'] + '/' + informacoes_ccd['ano_processo'].astype(str)\n"
     ]
    }
   ],
   "source": [
    "informacoes_ccd['processo'] = informacoes_ccd['numero_processo'] + '/' + informacoes_ccd['ano_processo'].astype(str)"
   ]
  },
  {
   "cell_type": "code",
   "execution_count": 54,
   "id": "a1762d62",
   "metadata": {},
   "outputs": [],
   "source": [
    "# get last information for each process by informacoes_ccd['DataPublicacao']\n",
    "\n",
    "informacoes_ccd_last = informacoes_ccd.sort_values(by='DataPublicacao').drop_duplicates(subset='processo', keep='last')"
   ]
  },
  {
   "cell_type": "code",
   "execution_count": 55,
   "id": "d32ed833",
   "metadata": {},
   "outputs": [
    {
     "data": {
      "text/plain": [
       "(26, 33, 240)"
      ]
     },
     "execution_count": 55,
     "metadata": {},
     "output_type": "execute_result"
    }
   ],
   "source": [
    "len(informacoes_ccd_last), len(informacoes_ccd), len(processos_ccd)"
   ]
  },
  {
   "cell_type": "code",
   "execution_count": 56,
   "id": "01d16e9d",
   "metadata": {},
   "outputs": [
    {
     "data": {
      "text/plain": [
       "2      000080/2025\n",
       "4      000159/2025\n",
       "5      000340/2025\n",
       "6      000422/2021\n",
       "7      000441/2018\n",
       "          ...     \n",
       "235    702547/2012\n",
       "236    702710/2011\n",
       "237    703232/2011\n",
       "238    703336/2012\n",
       "239    997660/2012\n",
       "Name: processo, Length: 214, dtype: object"
      ]
     },
     "execution_count": 56,
     "metadata": {},
     "output_type": "execute_result"
    }
   ],
   "source": [
    "processos_ccd[~processos_ccd['processo'].isin(informacoes_ccd_last['processo'])]['processo']"
   ]
  },
  {
   "cell_type": "code",
   "execution_count": 57,
   "id": "7bebf3a8",
   "metadata": {},
   "outputs": [
    {
     "data": {
      "text/plain": [
       "244.79999999999998"
      ]
     },
     "execution_count": 57,
     "metadata": {},
     "output_type": "execute_result"
    }
   ],
   "source": [
    "(3718-3463)*.96"
   ]
  },
  {
   "cell_type": "code",
   "execution_count": 58,
   "id": "da4642ad",
   "metadata": {},
   "outputs": [],
   "source": [
    "# put all texts from informacoes_ccd_last['caminho_arquivo'] into a string column 'texto'\n",
    "def extract_text_from_pdf(file_path):\n",
    "    try:\n",
    "        with open(file_path, 'rb') as f:\n",
    "            reader = pypdf.PdfReader(f)\n",
    "            text = ''\n",
    "            for page in reader.pages:\n",
    "                text += page.extract_text() or ''\n",
    "            return text\n",
    "    except Exception as e:\n",
    "        print(f\"Error reading {file_path}: {e}\")\n",
    "        return ''\n",
    "informacoes_ccd_last['texto'] = informacoes_ccd_last['caminho_arquivo'].apply(extract_text_from_pdf)"
   ]
  },
  {
   "cell_type": "code",
   "execution_count": 61,
   "id": "0b126ba6",
   "metadata": {},
   "outputs": [
    {
     "name": "stdout",
     "output_type": "stream",
     "text": [
      "CANCELAMENTO DE PARCELAMENTO\n",
      "Processo n°: 200069/2021\n",
      "Código da Dívida: 24.534\n",
      "Responsável(eis)\n",
      "Nome: GIVAGNO PATRESE DA SILVA BEZERRA (VEREADOR CPF/CNPJ: 07088099446\n",
      "CERTIFICO, para fins do disposto no artigo 20, § 3º, da Resolução nº 13/2015-TCE/RN, que o (s) \n",
      "responsável(eis) acima identificado (s) não efetuou (ram) o pagamento da parcela 3/20, com vencimento em \n",
      "31/12/2024 no valor de 473,46, referente à multa identificada pelo código 24.534, devida ao Fundo de \n",
      "Reaparelhamento e Aperfeiçoamento (FRAP), constituída nos autos do processo nº 200069/2021.\n",
      "CERTIFICO, ainda, que o parcelamento deferido anteriormente foi cancelado , vencendo-se \n",
      "antecipadamente as parcelas restantes.\n",
      "Data da Emissão do Cancelamento do Parcelamento: 09/01/2025\n",
      "Jumara Sasaki\n",
      "Assistente Técnico de Diretoria de Controle Externo - CC4\n",
      "Matrícula: 10.050-1\n",
      "______________________________________________________________________\n",
      "Av. Presidente Getúlio Vargas, 690 - Ed. Dr. Múcio Vilar Ribeiro Dantas\n",
      "CEP 59012-360 - Petrópolis, Natal/RN\n",
      "www.tce.rn.gov.br\n",
      "_____________________\n"
     ]
    }
   ],
   "source": [
    "print(informacoes_ccd_last['texto'].iloc[0])"
   ]
  },
  {
   "cell_type": "code",
   "execution_count": 63,
   "id": "826ba257",
   "metadata": {},
   "outputs": [],
   "source": [
    "def get_descricao_objeto(texto):\n",
    "    pass"
   ]
  },
  {
   "cell_type": "code",
   "execution_count": 64,
   "id": "a24ccd3f",
   "metadata": {},
   "outputs": [],
   "source": [
    "def get_descricao_encaminhamento(texto):\n",
    "    pass"
   ]
  },
  {
   "cell_type": "code",
   "execution_count": null,
   "id": "d4494678",
   "metadata": {},
   "outputs": [],
   "source": []
  }
 ],
 "metadata": {
  "kernelspec": {
   "display_name": ".venv",
   "language": "python",
   "name": "python3"
  },
  "language_info": {
   "codemirror_mode": {
    "name": "ipython",
    "version": 3
   },
   "file_extension": ".py",
   "mimetype": "text/x-python",
   "name": "python",
   "nbconvert_exporter": "python",
   "pygments_lexer": "ipython3",
   "version": "3.12.7"
  }
 },
 "nbformat": 4,
 "nbformat_minor": 5
}
