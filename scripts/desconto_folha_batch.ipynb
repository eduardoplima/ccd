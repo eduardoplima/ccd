{
 "cells": [
  {
   "cell_type": "code",
   "execution_count": 1,
   "metadata": {},
   "outputs": [
    {
     "name": "stderr",
     "output_type": "stream",
     "text": [
      "/home/eduardo/Dev/ccd/.venv/lib/python3.12/site-packages/tqdm/auto.py:21: TqdmWarning: IProgress not found. Please update jupyter and ipywidgets. See https://ipywidgets.readthedocs.io/en/stable/user_install.html\n",
      "  from .autonotebook import tqdm as notebook_tqdm\n"
     ]
    }
   ],
   "source": [
    "import os\n",
    "import pymssql\n",
    "\n",
    "import pandas as pd\n",
    "import numpy as np\n",
    "import locale\n",
    "\n",
    "from dotenv import load_dotenv\n",
    "from utils_ccd import get_connection\n",
    "from docxtpl import DocxTemplate\n",
    "\n",
    "\n",
    "load_dotenv()\n",
    "conn = get_connection()\n",
    "\n",
    "locale.setlocale(locale.LC_ALL, 'pt_BR.UTF-8')\n",
    "\n",
    "from num2words import num2words\n",
    "\n",
    "from docx2pdf import convert"
   ]
  },
  {
   "cell_type": "code",
   "execution_count": 2,
   "metadata": {},
   "outputs": [],
   "source": [
    "import subprocess\n",
    "\n",
    "def generate_pdf(doc_path, path):\n",
    "\n",
    "    subprocess.call(['soffice',\n",
    "                  '--headless',\n",
    "                 '--convert-to',\n",
    "                 'pdf',\n",
    "                 '--outdir',\n",
    "                 path,\n",
    "                 doc_path])\n",
    "    return doc_path"
   ]
  },
  {
   "cell_type": "code",
   "execution_count": 3,
   "metadata": {},
   "outputs": [
    {
     "name": "stderr",
     "output_type": "stream",
     "text": [
      "/tmp/ipykernel_268114/1758313218.py:36: UserWarning: pandas only supports SQLAlchemy connectable (engine/connection) or database string URI or sqlite3 DBAPI2 connection. Other DBAPI2 objects are not tested. Please consider using SQLAlchemy.\n",
      "  processos_descontos = pd.read_sql(descontos_sql, conn)\n"
     ]
    }
   ],
   "source": [
    "descontos_sql = ''' \n",
    "\n",
    "SELECT \n",
    "    pro.numero_processo,\n",
    "    pro.ano_processo,\n",
    "    pro.assunto,\n",
    "    pm.Descricao as descricao,\n",
    "    CONCAT(gp.Nome, ' (CPF: ', gp.Documento, ')') as nome,\n",
    "    processo.dbo.fn_Exe_RetornaValorAtualizado(ed.IdDebito) as valor_multa,\n",
    "    orgao_info.nome_orgao,\n",
    "    ed.CodigoStatusDivida as status_divida\n",
    "\n",
    "FROM processo.dbo.Processos pro\n",
    "INNER JOIN processo.dbo.Pro_MarcadorProcesso pmp \n",
    "    ON pmp.IdProcesso = pro.IdProcesso\n",
    "INNER JOIN processo.dbo.Pro_Marcador pm \n",
    "    ON pmp.IdMarcador = pm.IdMarcador\n",
    "LEFT JOIN processo.dbo.Exe_Debito ed \n",
    "    ON ed.IdProcessoExecucao = pro.IdProcesso\n",
    "LEFT JOIN processo.dbo.Exe_DebitoPessoa edp \n",
    "    ON edp.IDDebito = ed.IdDebito\n",
    "LEFT JOIN processo.dbo.GenPessoa gp \n",
    "    ON gp.IdPessoa = edp.IDPessoa\n",
    "OUTER APPLY (\n",
    "    SELECT TOP 1 vspfr.nome_orgao\n",
    "    FROM BdDIP.dbo.vwSiaiPessoalFolhaResumida vspfr\n",
    "    WHERE vspfr.cpf = gp.Documento COLLATE SQL_Latin1_General_CP1_CI_AS\n",
    "    ORDER BY vspfr.ano DESC, vspfr.mes DESC\n",
    ") AS orgao_info\n",
    "WHERE \n",
    "    pro.setor_atual = 'CCD'\n",
    "    AND pm.Descricao = 'DESCONTO EM FOLHA'\n",
    "    AND ed.CodigoTipoDebito NOT IN (1, 3)\n",
    "\n",
    "'''\n",
    "processos_descontos = pd.read_sql(descontos_sql, conn)"
   ]
  },
  {
   "cell_type": "code",
   "execution_count": 4,
   "metadata": {},
   "outputs": [
    {
     "data": {
      "text/html": [
       "<div>\n",
       "<style scoped>\n",
       "    .dataframe tbody tr th:only-of-type {\n",
       "        vertical-align: middle;\n",
       "    }\n",
       "\n",
       "    .dataframe tbody tr th {\n",
       "        vertical-align: top;\n",
       "    }\n",
       "\n",
       "    .dataframe thead th {\n",
       "        text-align: right;\n",
       "    }\n",
       "</style>\n",
       "<table border=\"1\" class=\"dataframe\">\n",
       "  <thead>\n",
       "    <tr style=\"text-align: right;\">\n",
       "      <th></th>\n",
       "      <th>numero_processo</th>\n",
       "      <th>ano_processo</th>\n",
       "      <th>assunto</th>\n",
       "      <th>descricao</th>\n",
       "      <th>nome</th>\n",
       "      <th>valor_multa</th>\n",
       "      <th>nome_orgao</th>\n",
       "      <th>status_divida</th>\n",
       "    </tr>\n",
       "  </thead>\n",
       "  <tbody>\n",
       "    <tr>\n",
       "      <th>0</th>\n",
       "      <td>011032</td>\n",
       "      <td>2016</td>\n",
       "      <td>EXECUÇÃO DA DECISÃO PROFERIDA NOS AUTOS DO PRO...</td>\n",
       "      <td>DESCONTO EM FOLHA</td>\n",
       "      <td>CARLOS JOSÉ FERNANDES (CPF: 76816591453)</td>\n",
       "      <td>225.1209</td>\n",
       "      <td>PREFEITURA MUNICIPAL DE MAJOR SALES</td>\n",
       "      <td>1</td>\n",
       "    </tr>\n",
       "    <tr>\n",
       "      <th>1</th>\n",
       "      <td>003636</td>\n",
       "      <td>2017</td>\n",
       "      <td>EXECUÇÃO DA DECISÃO PROFERIDA NOS AUTOS DO PRO...</td>\n",
       "      <td>DESCONTO EM FOLHA</td>\n",
       "      <td>JOÃO DIMAS BEZERRA (CPF: 02600404449)</td>\n",
       "      <td>15538.9192</td>\n",
       "      <td>None</td>\n",
       "      <td>3</td>\n",
       "    </tr>\n",
       "    <tr>\n",
       "      <th>2</th>\n",
       "      <td>003636</td>\n",
       "      <td>2017</td>\n",
       "      <td>EXECUÇÃO DA DECISÃO PROFERIDA NOS AUTOS DO PRO...</td>\n",
       "      <td>DESCONTO EM FOLHA</td>\n",
       "      <td>FRANCISCO DE ASSIS DE SOUZA (CPF: 50288032420)</td>\n",
       "      <td>35388.9372</td>\n",
       "      <td>PREFEITURA MUNICIPAL DE JARDIM DE ANGICOS</td>\n",
       "      <td>1</td>\n",
       "    </tr>\n",
       "    <tr>\n",
       "      <th>3</th>\n",
       "      <td>003636</td>\n",
       "      <td>2017</td>\n",
       "      <td>EXECUÇÃO DA DECISÃO PROFERIDA NOS AUTOS DO PRO...</td>\n",
       "      <td>DESCONTO EM FOLHA</td>\n",
       "      <td>Francisco Nobre Neto  (CPF: 77801172434)</td>\n",
       "      <td>55867.6200</td>\n",
       "      <td>CÂMARA MUNICIPAL DE JARDIM DE ANGICOS</td>\n",
       "      <td>3</td>\n",
       "    </tr>\n",
       "    <tr>\n",
       "      <th>4</th>\n",
       "      <td>003636</td>\n",
       "      <td>2017</td>\n",
       "      <td>EXECUÇÃO DA DECISÃO PROFERIDA NOS AUTOS DO PRO...</td>\n",
       "      <td>DESCONTO EM FOLHA</td>\n",
       "      <td>Francisco Nobre Neto  (CPF: 77801172434)</td>\n",
       "      <td>46556.3774</td>\n",
       "      <td>CÂMARA MUNICIPAL DE JARDIM DE ANGICOS</td>\n",
       "      <td>13</td>\n",
       "    </tr>\n",
       "    <tr>\n",
       "      <th>...</th>\n",
       "      <td>...</td>\n",
       "      <td>...</td>\n",
       "      <td>...</td>\n",
       "      <td>...</td>\n",
       "      <td>...</td>\n",
       "      <td>...</td>\n",
       "      <td>...</td>\n",
       "      <td>...</td>\n",
       "    </tr>\n",
       "    <tr>\n",
       "      <th>80</th>\n",
       "      <td>000852</td>\n",
       "      <td>2025</td>\n",
       "      <td>EXECUÇÃO DA DECISÃO PROFERIDA NOS AUTOS DO PRO...</td>\n",
       "      <td>DESCONTO EM FOLHA</td>\n",
       "      <td>Alexandre Magno de Montenegro Miranda (CPF: 15...</td>\n",
       "      <td>4333.2588</td>\n",
       "      <td>COMPANHIA DE SERVIÇOS URBANOS DE NATAL</td>\n",
       "      <td>1</td>\n",
       "    </tr>\n",
       "    <tr>\n",
       "      <th>81</th>\n",
       "      <td>000852</td>\n",
       "      <td>2025</td>\n",
       "      <td>EXECUÇÃO DA DECISÃO PROFERIDA NOS AUTOS DO PRO...</td>\n",
       "      <td>DESCONTO EM FOLHA</td>\n",
       "      <td>Maria Solange Ferreira da Silva (CPF: 40632890...</td>\n",
       "      <td>4299.5486</td>\n",
       "      <td>None</td>\n",
       "      <td>3</td>\n",
       "    </tr>\n",
       "    <tr>\n",
       "      <th>82</th>\n",
       "      <td>000852</td>\n",
       "      <td>2025</td>\n",
       "      <td>EXECUÇÃO DA DECISÃO PROFERIDA NOS AUTOS DO PRO...</td>\n",
       "      <td>DESCONTO EM FOLHA</td>\n",
       "      <td>Jonny Araujo da Costa (CPF: 20119178400)</td>\n",
       "      <td>1262.2736</td>\n",
       "      <td>COMPANHIA DE PROCESSAMENTO DE DADOS DO RN</td>\n",
       "      <td>2</td>\n",
       "    </tr>\n",
       "    <tr>\n",
       "      <th>83</th>\n",
       "      <td>000852</td>\n",
       "      <td>2025</td>\n",
       "      <td>EXECUÇÃO DA DECISÃO PROFERIDA NOS AUTOS DO PRO...</td>\n",
       "      <td>DESCONTO EM FOLHA</td>\n",
       "      <td>Maria Solange Ferreira da Silva (CPF: 40632890...</td>\n",
       "      <td>3846.9782</td>\n",
       "      <td>None</td>\n",
       "      <td>13</td>\n",
       "    </tr>\n",
       "    <tr>\n",
       "      <th>84</th>\n",
       "      <td>000852</td>\n",
       "      <td>2025</td>\n",
       "      <td>EXECUÇÃO DA DECISÃO PROFERIDA NOS AUTOS DO PRO...</td>\n",
       "      <td>DESCONTO EM FOLHA</td>\n",
       "      <td>Maria Solange Ferreira da Silva (CPF: 40632890...</td>\n",
       "      <td>3005.6261</td>\n",
       "      <td>None</td>\n",
       "      <td>2</td>\n",
       "    </tr>\n",
       "  </tbody>\n",
       "</table>\n",
       "<p>85 rows × 8 columns</p>\n",
       "</div>"
      ],
      "text/plain": [
       "   numero_processo ano_processo  \\\n",
       "0           011032         2016   \n",
       "1           003636         2017   \n",
       "2           003636         2017   \n",
       "3           003636         2017   \n",
       "4           003636         2017   \n",
       "..             ...          ...   \n",
       "80          000852         2025   \n",
       "81          000852         2025   \n",
       "82          000852         2025   \n",
       "83          000852         2025   \n",
       "84          000852         2025   \n",
       "\n",
       "                                              assunto          descricao  \\\n",
       "0   EXECUÇÃO DA DECISÃO PROFERIDA NOS AUTOS DO PRO...  DESCONTO EM FOLHA   \n",
       "1   EXECUÇÃO DA DECISÃO PROFERIDA NOS AUTOS DO PRO...  DESCONTO EM FOLHA   \n",
       "2   EXECUÇÃO DA DECISÃO PROFERIDA NOS AUTOS DO PRO...  DESCONTO EM FOLHA   \n",
       "3   EXECUÇÃO DA DECISÃO PROFERIDA NOS AUTOS DO PRO...  DESCONTO EM FOLHA   \n",
       "4   EXECUÇÃO DA DECISÃO PROFERIDA NOS AUTOS DO PRO...  DESCONTO EM FOLHA   \n",
       "..                                                ...                ...   \n",
       "80  EXECUÇÃO DA DECISÃO PROFERIDA NOS AUTOS DO PRO...  DESCONTO EM FOLHA   \n",
       "81  EXECUÇÃO DA DECISÃO PROFERIDA NOS AUTOS DO PRO...  DESCONTO EM FOLHA   \n",
       "82  EXECUÇÃO DA DECISÃO PROFERIDA NOS AUTOS DO PRO...  DESCONTO EM FOLHA   \n",
       "83  EXECUÇÃO DA DECISÃO PROFERIDA NOS AUTOS DO PRO...  DESCONTO EM FOLHA   \n",
       "84  EXECUÇÃO DA DECISÃO PROFERIDA NOS AUTOS DO PRO...  DESCONTO EM FOLHA   \n",
       "\n",
       "                                                 nome  valor_multa  \\\n",
       "0            CARLOS JOSÉ FERNANDES (CPF: 76816591453)     225.1209   \n",
       "1               JOÃO DIMAS BEZERRA (CPF: 02600404449)   15538.9192   \n",
       "2      FRANCISCO DE ASSIS DE SOUZA (CPF: 50288032420)   35388.9372   \n",
       "3            Francisco Nobre Neto  (CPF: 77801172434)   55867.6200   \n",
       "4            Francisco Nobre Neto  (CPF: 77801172434)   46556.3774   \n",
       "..                                                ...          ...   \n",
       "80  Alexandre Magno de Montenegro Miranda (CPF: 15...    4333.2588   \n",
       "81  Maria Solange Ferreira da Silva (CPF: 40632890...    4299.5486   \n",
       "82           Jonny Araujo da Costa (CPF: 20119178400)    1262.2736   \n",
       "83  Maria Solange Ferreira da Silva (CPF: 40632890...    3846.9782   \n",
       "84  Maria Solange Ferreira da Silva (CPF: 40632890...    3005.6261   \n",
       "\n",
       "                                   nome_orgao  status_divida  \n",
       "0         PREFEITURA MUNICIPAL DE MAJOR SALES              1  \n",
       "1                                        None              3  \n",
       "2   PREFEITURA MUNICIPAL DE JARDIM DE ANGICOS              1  \n",
       "3       CÂMARA MUNICIPAL DE JARDIM DE ANGICOS              3  \n",
       "4       CÂMARA MUNICIPAL DE JARDIM DE ANGICOS             13  \n",
       "..                                        ...            ...  \n",
       "80     COMPANHIA DE SERVIÇOS URBANOS DE NATAL              1  \n",
       "81                                       None              3  \n",
       "82  COMPANHIA DE PROCESSAMENTO DE DADOS DO RN              2  \n",
       "83                                       None             13  \n",
       "84                                       None              2  \n",
       "\n",
       "[85 rows x 8 columns]"
      ]
     },
     "execution_count": 4,
     "metadata": {},
     "output_type": "execute_result"
    }
   ],
   "source": [
    "processos_descontos"
   ]
  },
  {
   "cell_type": "code",
   "execution_count": 7,
   "metadata": {},
   "outputs": [],
   "source": [
    "def criar_valor_extenso(x):\n",
    "        if x and x > 1:\n",
    "            f = lambda c: num2words(int(c), lang='pt_BR')\n",
    "            return ' reais e '.join([f(y) for y in str('{:.2f}'.format(x)).split('.')]) + ' centavos'\n",
    "        else:\n",
    "            return ''\n",
    "\n",
    "def converter_valor(x):\n",
    "    if x:\n",
    "        return locale.currency(x, grouping=True) + ' (' + criar_valor_extenso(x) + ')'\n",
    "    else:\n",
    "        return 'R$ 0,00 (zero)'"
   ]
  },
  {
   "cell_type": "code",
   "execution_count": 10,
   "metadata": {},
   "outputs": [],
   "source": [
    "processos_descontos.fillna(0, inplace=True)"
   ]
  },
  {
   "cell_type": "code",
   "execution_count": 11,
   "metadata": {},
   "outputs": [],
   "source": [
    "processos_descontos['processo'] = processos_descontos['numero_processo'] + '/' + processos_descontos['ano_processo'].astype(str)\n",
    "processos_descontos['valor'] = processos_descontos['valor_multa'].apply(converter_valor)  "
   ]
  },
  {
   "cell_type": "code",
   "execution_count": 12,
   "metadata": {},
   "outputs": [],
   "source": [
    "descontos_aberto = processos_descontos[processos_descontos.status_divida == 1]"
   ]
  },
  {
   "cell_type": "code",
   "execution_count": 13,
   "metadata": {},
   "outputs": [
    {
     "data": {
      "text/html": [
       "<div>\n",
       "<style scoped>\n",
       "    .dataframe tbody tr th:only-of-type {\n",
       "        vertical-align: middle;\n",
       "    }\n",
       "\n",
       "    .dataframe tbody tr th {\n",
       "        vertical-align: top;\n",
       "    }\n",
       "\n",
       "    .dataframe thead th {\n",
       "        text-align: right;\n",
       "    }\n",
       "</style>\n",
       "<table border=\"1\" class=\"dataframe\">\n",
       "  <thead>\n",
       "    <tr style=\"text-align: right;\">\n",
       "      <th></th>\n",
       "      <th>numero_processo</th>\n",
       "      <th>ano_processo</th>\n",
       "      <th>assunto</th>\n",
       "      <th>descricao</th>\n",
       "      <th>nome</th>\n",
       "      <th>valor_multa</th>\n",
       "      <th>nome_orgao</th>\n",
       "      <th>status_divida</th>\n",
       "      <th>processo</th>\n",
       "      <th>valor</th>\n",
       "    </tr>\n",
       "  </thead>\n",
       "  <tbody>\n",
       "    <tr>\n",
       "      <th>0</th>\n",
       "      <td>011032</td>\n",
       "      <td>2016</td>\n",
       "      <td>EXECUÇÃO DA DECISÃO PROFERIDA NOS AUTOS DO PRO...</td>\n",
       "      <td>DESCONTO EM FOLHA</td>\n",
       "      <td>CARLOS JOSÉ FERNANDES (CPF: 76816591453)</td>\n",
       "      <td>2.251209e+02</td>\n",
       "      <td>PREFEITURA MUNICIPAL DE MAJOR SALES</td>\n",
       "      <td>1</td>\n",
       "      <td>011032/2016</td>\n",
       "      <td>R$ 225,12 (duzentos e vinte e cinco reais e do...</td>\n",
       "    </tr>\n",
       "    <tr>\n",
       "      <th>2</th>\n",
       "      <td>003636</td>\n",
       "      <td>2017</td>\n",
       "      <td>EXECUÇÃO DA DECISÃO PROFERIDA NOS AUTOS DO PRO...</td>\n",
       "      <td>DESCONTO EM FOLHA</td>\n",
       "      <td>FRANCISCO DE ASSIS DE SOUZA (CPF: 50288032420)</td>\n",
       "      <td>3.538894e+04</td>\n",
       "      <td>PREFEITURA MUNICIPAL DE JARDIM DE ANGICOS</td>\n",
       "      <td>1</td>\n",
       "      <td>003636/2017</td>\n",
       "      <td>R$ 35.388,94 (trinta e cinco mil, trezentos e ...</td>\n",
       "    </tr>\n",
       "    <tr>\n",
       "      <th>14</th>\n",
       "      <td>003636</td>\n",
       "      <td>2017</td>\n",
       "      <td>EXECUÇÃO DA DECISÃO PROFERIDA NOS AUTOS DO PRO...</td>\n",
       "      <td>DESCONTO EM FOLHA</td>\n",
       "      <td>Francisco Nobre Neto  (CPF: 77801172434)</td>\n",
       "      <td>4.102813e+04</td>\n",
       "      <td>CÂMARA MUNICIPAL DE JARDIM DE ANGICOS</td>\n",
       "      <td>1</td>\n",
       "      <td>003636/2017</td>\n",
       "      <td>R$ 41.028,13 (quarenta e um mil e vinte e oito...</td>\n",
       "    </tr>\n",
       "    <tr>\n",
       "      <th>30</th>\n",
       "      <td>003636</td>\n",
       "      <td>2017</td>\n",
       "      <td>EXECUÇÃO DA DECISÃO PROFERIDA NOS AUTOS DO PRO...</td>\n",
       "      <td>DESCONTO EM FOLHA</td>\n",
       "      <td>JOÃO DIMAS BEZERRA (CPF: 02600404449)</td>\n",
       "      <td>4.572236e+03</td>\n",
       "      <td>0</td>\n",
       "      <td>1</td>\n",
       "      <td>003636/2017</td>\n",
       "      <td>R$ 4.572,24 (quatro mil, quinhentos e setenta ...</td>\n",
       "    </tr>\n",
       "    <tr>\n",
       "      <th>31</th>\n",
       "      <td>002138</td>\n",
       "      <td>2019</td>\n",
       "      <td>EXECUÇÃO DA DECISÃO PROFERIDA NOS AUTOS DO PRO...</td>\n",
       "      <td>DESCONTO EM FOLHA</td>\n",
       "      <td>ABEL BELARMINO DE AMORIM FILHO (CPF: 30732921449)</td>\n",
       "      <td>2.162631e+04</td>\n",
       "      <td>PREFEITURA MUNICIPAL DE RAFAEL GODEIRO</td>\n",
       "      <td>1</td>\n",
       "      <td>002138/2019</td>\n",
       "      <td>R$ 21.626,31 (vinte e um mil, seiscentos e vin...</td>\n",
       "    </tr>\n",
       "    <tr>\n",
       "      <th>32</th>\n",
       "      <td>002138</td>\n",
       "      <td>2019</td>\n",
       "      <td>EXECUÇÃO DA DECISÃO PROFERIDA NOS AUTOS DO PRO...</td>\n",
       "      <td>DESCONTO EM FOLHA</td>\n",
       "      <td>LUDMILA CARLOS AMORIM DE ARAÚJO ROSADO (CPF: 0...</td>\n",
       "      <td>2.162631e+04</td>\n",
       "      <td>PREFEITURA MUNICIPAL DE RAFAEL GODEIRO</td>\n",
       "      <td>1</td>\n",
       "      <td>002138/2019</td>\n",
       "      <td>R$ 21.626,31 (vinte e um mil, seiscentos e vin...</td>\n",
       "    </tr>\n",
       "    <tr>\n",
       "      <th>40</th>\n",
       "      <td>000088</td>\n",
       "      <td>2021</td>\n",
       "      <td>EXECUÇÃO DA DECISÃO PROFERIDA NOS AUTOS DO PRO...</td>\n",
       "      <td>DESCONTO EM FOLHA</td>\n",
       "      <td>JOSINALDO AMARO DE LIMA  (CPF: 73694940472)</td>\n",
       "      <td>3.488608e+03</td>\n",
       "      <td>PREFEITURA MUNICIPAL DE SAO TOME</td>\n",
       "      <td>1</td>\n",
       "      <td>000088/2021</td>\n",
       "      <td>R$ 3.488,61 (três mil, quatrocentos e oitenta ...</td>\n",
       "    </tr>\n",
       "    <tr>\n",
       "      <th>41</th>\n",
       "      <td>001434</td>\n",
       "      <td>2023</td>\n",
       "      <td>EXECUÇÃO DA DECISÃO PROFERIDA NOS AUTOS DO PRO...</td>\n",
       "      <td>DESCONTO EM FOLHA</td>\n",
       "      <td>Antônio Carlos Peixoto Nunes (CPF: 00789686406)</td>\n",
       "      <td>5.812417e+03</td>\n",
       "      <td>PREFEITURA MUNICIPAL DE PARAÚ</td>\n",
       "      <td>1</td>\n",
       "      <td>001434/2023</td>\n",
       "      <td>R$ 5.812,42 (cinco mil, oitocentos e doze reai...</td>\n",
       "    </tr>\n",
       "    <tr>\n",
       "      <th>42</th>\n",
       "      <td>001434</td>\n",
       "      <td>2023</td>\n",
       "      <td>EXECUÇÃO DA DECISÃO PROFERIDA NOS AUTOS DO PRO...</td>\n",
       "      <td>DESCONTO EM FOLHA</td>\n",
       "      <td>Antônio Carlos Peixoto Nunes (CPF: 00789686406)</td>\n",
       "      <td>1.453104e+03</td>\n",
       "      <td>PREFEITURA MUNICIPAL DE PARAÚ</td>\n",
       "      <td>1</td>\n",
       "      <td>001434/2023</td>\n",
       "      <td>R$ 1.453,10 (mil, quatrocentos e cinquenta e t...</td>\n",
       "    </tr>\n",
       "    <tr>\n",
       "      <th>43</th>\n",
       "      <td>001434</td>\n",
       "      <td>2023</td>\n",
       "      <td>EXECUÇÃO DA DECISÃO PROFERIDA NOS AUTOS DO PRO...</td>\n",
       "      <td>DESCONTO EM FOLHA</td>\n",
       "      <td>Antônio Carlos Peixoto Nunes (CPF: 00789686406)</td>\n",
       "      <td>5.231175e+04</td>\n",
       "      <td>PREFEITURA MUNICIPAL DE PARAÚ</td>\n",
       "      <td>1</td>\n",
       "      <td>001434/2023</td>\n",
       "      <td>R$ 52.311,75 (cinquenta e dois mil, trezentos ...</td>\n",
       "    </tr>\n",
       "    <tr>\n",
       "      <th>44</th>\n",
       "      <td>002011</td>\n",
       "      <td>2024</td>\n",
       "      <td>EXECUÇÃO DA DECISÃO PROFERIDA NOS AUTOS DO PRO...</td>\n",
       "      <td>DESCONTO EM FOLHA</td>\n",
       "      <td>Josiane de Lima Rodrigues (CPF: 81334702420)</td>\n",
       "      <td>1.491025e+04</td>\n",
       "      <td>CÂMARA MUNICIPAL DE RIO DO FOGO</td>\n",
       "      <td>1</td>\n",
       "      <td>002011/2024</td>\n",
       "      <td>R$ 14.910,25 (catorze mil, novecentos e dez re...</td>\n",
       "    </tr>\n",
       "    <tr>\n",
       "      <th>49</th>\n",
       "      <td>002033</td>\n",
       "      <td>2024</td>\n",
       "      <td>EXECUÇÃO DA DECISÃO PROFERIDA NOS AUTOS DO PRO...</td>\n",
       "      <td>DESCONTO EM FOLHA</td>\n",
       "      <td>HAROLDO GOMES DA SILVA (CPF: 45536996487)</td>\n",
       "      <td>5.716374e+03</td>\n",
       "      <td>SECRETARIA DE ESTADO DO TRABALHO, DA HABITAÇÃO...</td>\n",
       "      <td>1</td>\n",
       "      <td>002033/2024</td>\n",
       "      <td>R$ 5.716,37 (cinco mil, setecentos e dezesseis...</td>\n",
       "    </tr>\n",
       "    <tr>\n",
       "      <th>54</th>\n",
       "      <td>002035</td>\n",
       "      <td>2024</td>\n",
       "      <td>EXECUÇÃO DA DECISÃO PROFERIDA NOS AUTOS DO PRO...</td>\n",
       "      <td>DESCONTO EM FOLHA</td>\n",
       "      <td>HAROLDO GOMES DA SILVA (CPF: 45536996487)</td>\n",
       "      <td>5.939399e+03</td>\n",
       "      <td>SECRETARIA DE ESTADO DO TRABALHO, DA HABITAÇÃO...</td>\n",
       "      <td>1</td>\n",
       "      <td>002035/2024</td>\n",
       "      <td>R$ 5.939,40 (cinco mil, novecentos e trinta e ...</td>\n",
       "    </tr>\n",
       "    <tr>\n",
       "      <th>56</th>\n",
       "      <td>002578</td>\n",
       "      <td>2024</td>\n",
       "      <td>EXECUÇÃO DA DECISÃO PROFERIDA NOS AUTOS DO PRO...</td>\n",
       "      <td>DESCONTO EM FOLHA</td>\n",
       "      <td>THALIA CRISTINA DA SILVA FIGUEIREDO (CPF: 0716...</td>\n",
       "      <td>0.000000e+00</td>\n",
       "      <td>REGIME PRÓPRIO DE PREVIDÊNCIA SOCIAL DO MUNICÍ...</td>\n",
       "      <td>1</td>\n",
       "      <td>002578/2024</td>\n",
       "      <td>R$ 0,00 (zero)</td>\n",
       "    </tr>\n",
       "    <tr>\n",
       "      <th>62</th>\n",
       "      <td>003368</td>\n",
       "      <td>2024</td>\n",
       "      <td>EXECUÇÃO DA DECISÃO PROFERIDA NOS AUTOS DO PRO...</td>\n",
       "      <td>DESCONTO EM FOLHA</td>\n",
       "      <td>Alexandre Pereira de Araujo Montenegro(vereado...</td>\n",
       "      <td>1.042398e+04</td>\n",
       "      <td>CÂMARA MUNICIPAL DE PENDÊNCIAS</td>\n",
       "      <td>1</td>\n",
       "      <td>003368/2024</td>\n",
       "      <td>R$ 10.423,98 (dez mil, quatrocentos e vinte e ...</td>\n",
       "    </tr>\n",
       "    <tr>\n",
       "      <th>63</th>\n",
       "      <td>003400</td>\n",
       "      <td>2024</td>\n",
       "      <td>EXECUÇÃO DA DECISÃO PROFERIDA NOS AUTOS DO PRO...</td>\n",
       "      <td>DESCONTO EM FOLHA</td>\n",
       "      <td>Sandra Maria Garcia de Oliveira (CPF: 01971759...</td>\n",
       "      <td>2.055542e+07</td>\n",
       "      <td>0</td>\n",
       "      <td>1</td>\n",
       "      <td>003400/2024</td>\n",
       "      <td>R$ 20.555.417,54 (vinte milhões, quinhentos e ...</td>\n",
       "    </tr>\n",
       "    <tr>\n",
       "      <th>64</th>\n",
       "      <td>003400</td>\n",
       "      <td>2024</td>\n",
       "      <td>EXECUÇÃO DA DECISÃO PROFERIDA NOS AUTOS DO PRO...</td>\n",
       "      <td>DESCONTO EM FOLHA</td>\n",
       "      <td>MARIA AUXILIADORA PRAXEDES DE FREITAS (CPF: 22...</td>\n",
       "      <td>2.055542e+07</td>\n",
       "      <td>UNIVERSIDADE DO ESTADO DO RIO GRANDE DO NORTE</td>\n",
       "      <td>1</td>\n",
       "      <td>003400/2024</td>\n",
       "      <td>R$ 20.555.417,54 (vinte milhões, quinhentos e ...</td>\n",
       "    </tr>\n",
       "    <tr>\n",
       "      <th>65</th>\n",
       "      <td>003400</td>\n",
       "      <td>2024</td>\n",
       "      <td>EXECUÇÃO DA DECISÃO PROFERIDA NOS AUTOS DO PRO...</td>\n",
       "      <td>DESCONTO EM FOLHA</td>\n",
       "      <td>MARIA AUXILIADORA PRAXEDES DE FREITAS (CPF: 22...</td>\n",
       "      <td>1.139023e+04</td>\n",
       "      <td>UNIVERSIDADE DO ESTADO DO RIO GRANDE DO NORTE</td>\n",
       "      <td>1</td>\n",
       "      <td>003400/2024</td>\n",
       "      <td>R$ 11.390,23 (onze mil, trezentos e noventa re...</td>\n",
       "    </tr>\n",
       "    <tr>\n",
       "      <th>66</th>\n",
       "      <td>003400</td>\n",
       "      <td>2024</td>\n",
       "      <td>EXECUÇÃO DA DECISÃO PROFERIDA NOS AUTOS DO PRO...</td>\n",
       "      <td>DESCONTO EM FOLHA</td>\n",
       "      <td>Sandra Maria Garcia de Oliveira (CPF: 01971759...</td>\n",
       "      <td>1.126717e+04</td>\n",
       "      <td>0</td>\n",
       "      <td>1</td>\n",
       "      <td>003400/2024</td>\n",
       "      <td>R$ 11.267,17 (onze mil, duzentos e sessenta e ...</td>\n",
       "    </tr>\n",
       "    <tr>\n",
       "      <th>68</th>\n",
       "      <td>003413</td>\n",
       "      <td>2024</td>\n",
       "      <td>EXECUÇÃO DA DECISÃO PROFERIDA NOS AUTOS DO PRO...</td>\n",
       "      <td>DESCONTO EM FOLHA</td>\n",
       "      <td>João Maria Montenegro da Silva (CPF: 48148750459)</td>\n",
       "      <td>4.641800e+03</td>\n",
       "      <td>PREFEITURA MUNICIPAL DE SAO BENTO DO NORTE</td>\n",
       "      <td>1</td>\n",
       "      <td>003413/2024</td>\n",
       "      <td>R$ 4.641,80 (quatro mil, seiscentos e quarenta...</td>\n",
       "    </tr>\n",
       "    <tr>\n",
       "      <th>69</th>\n",
       "      <td>004871</td>\n",
       "      <td>2024</td>\n",
       "      <td>EXECUÇÃO DA DECISÃO PROFERIDA NOS AUTOS DO PRO...</td>\n",
       "      <td>DESCONTO EM FOLHA</td>\n",
       "      <td>CARLOS JOSÉ FERNANDES (CPF: 76816591453)</td>\n",
       "      <td>4.592174e+04</td>\n",
       "      <td>PREFEITURA MUNICIPAL DE MAJOR SALES</td>\n",
       "      <td>1</td>\n",
       "      <td>004871/2024</td>\n",
       "      <td>R$ 45.921,74 (quarenta e cinco mil, novecentos...</td>\n",
       "    </tr>\n",
       "    <tr>\n",
       "      <th>70</th>\n",
       "      <td>004871</td>\n",
       "      <td>2024</td>\n",
       "      <td>EXECUÇÃO DA DECISÃO PROFERIDA NOS AUTOS DO PRO...</td>\n",
       "      <td>DESCONTO EM FOLHA</td>\n",
       "      <td>FRANCISCO TADEU NUNES (CPF: 10772359415)</td>\n",
       "      <td>8.728708e+04</td>\n",
       "      <td>SECRETARIA DE ESTADO DA SAÚDE PUBLICA</td>\n",
       "      <td>1</td>\n",
       "      <td>004871/2024</td>\n",
       "      <td>R$ 87.287,08 (oitenta e sete mil, duzentos e o...</td>\n",
       "    </tr>\n",
       "    <tr>\n",
       "      <th>71</th>\n",
       "      <td>004887</td>\n",
       "      <td>2024</td>\n",
       "      <td>EXECUÇÃO DA DECISÃO PROFERIDA NOS AUTOS DO PRO...</td>\n",
       "      <td>DESCONTO EM FOLHA</td>\n",
       "      <td>BRENNO OLIVEIRA QUEIROGA DE MORAIS (CPF: 00925...</td>\n",
       "      <td>6.683840e+03</td>\n",
       "      <td>PREFEITURA MUNICIPAL DE NATAL</td>\n",
       "      <td>1</td>\n",
       "      <td>004887/2024</td>\n",
       "      <td>R$ 6.683,84 (seis mil, seiscentos e oitenta e ...</td>\n",
       "    </tr>\n",
       "    <tr>\n",
       "      <th>72</th>\n",
       "      <td>004923</td>\n",
       "      <td>2024</td>\n",
       "      <td>EXECUÇÃO DA DECISÃO PROFERIDA NOS AUTOS DO PRO...</td>\n",
       "      <td>DESCONTO EM FOLHA</td>\n",
       "      <td>SONYARA DE SOUZA RIBEIRO, PREFEITA (CPF: 01083...</td>\n",
       "      <td>8.428212e+03</td>\n",
       "      <td>PREFEITURA MUNICIPAL DE PASSAGEM</td>\n",
       "      <td>1</td>\n",
       "      <td>004923/2024</td>\n",
       "      <td>R$ 8.428,21 (oito mil, quatrocentos e vinte e ...</td>\n",
       "    </tr>\n",
       "    <tr>\n",
       "      <th>73</th>\n",
       "      <td>000060</td>\n",
       "      <td>2025</td>\n",
       "      <td>EXECUÇÃO DA DECISÃO PROFERIDA NOS AUTOS DO PRO...</td>\n",
       "      <td>DESCONTO EM FOLHA</td>\n",
       "      <td>KLAUSS FRANCISCO TORQUATO RÊGO (CPF: 50277464404)</td>\n",
       "      <td>3.597120e+03</td>\n",
       "      <td>PREFEITURA MUNICIPAL DE CEARÁ-MIRIM</td>\n",
       "      <td>1</td>\n",
       "      <td>000060/2025</td>\n",
       "      <td>R$ 3.597,12 (três mil, quinhentos e noventa e ...</td>\n",
       "    </tr>\n",
       "    <tr>\n",
       "      <th>74</th>\n",
       "      <td>000061</td>\n",
       "      <td>2025</td>\n",
       "      <td>EXECUÇÃO DA DECISÃO PROFERIDA NOS AUTOS DO PRO...</td>\n",
       "      <td>DESCONTO EM FOLHA</td>\n",
       "      <td>Luiz Carvalho de Oliveira (CPF: 07103793824)</td>\n",
       "      <td>6.653791e+03</td>\n",
       "      <td>CÂMARA MUNICIPAL DE RAFAEL FERNANDES</td>\n",
       "      <td>1</td>\n",
       "      <td>000061/2025</td>\n",
       "      <td>R$ 6.653,79 (seis mil, seiscentos e cinquenta ...</td>\n",
       "    </tr>\n",
       "    <tr>\n",
       "      <th>75</th>\n",
       "      <td>000061</td>\n",
       "      <td>2025</td>\n",
       "      <td>EXECUÇÃO DA DECISÃO PROFERIDA NOS AUTOS DO PRO...</td>\n",
       "      <td>DESCONTO EM FOLHA</td>\n",
       "      <td>Jório Cezar Chaves Damião (CPF: 00900778490)</td>\n",
       "      <td>2.593648e+04</td>\n",
       "      <td>CÂMARA MUNICIPAL DE RAFAEL FERNANDES</td>\n",
       "      <td>1</td>\n",
       "      <td>000061/2025</td>\n",
       "      <td>R$ 25.936,48 (vinte e cinco mil, novecentos e ...</td>\n",
       "    </tr>\n",
       "    <tr>\n",
       "      <th>76</th>\n",
       "      <td>000062</td>\n",
       "      <td>2025</td>\n",
       "      <td>EXECUÇÃO DA DECISÃO PROFERIDA NOS AUTOS DO PRO...</td>\n",
       "      <td>DESCONTO EM FOLHA</td>\n",
       "      <td>RONALDO DE OLIVEIRA TEIXEIRA (CPF: 42362385787)</td>\n",
       "      <td>4.128346e+03</td>\n",
       "      <td>INSTITUTO DE PREVIDÊNCIA DOS SERVIDORES DO RN</td>\n",
       "      <td>1</td>\n",
       "      <td>000062/2025</td>\n",
       "      <td>R$ 4.128,35 (quatro mil, cento e vinte e oito ...</td>\n",
       "    </tr>\n",
       "    <tr>\n",
       "      <th>77</th>\n",
       "      <td>000065</td>\n",
       "      <td>2025</td>\n",
       "      <td>EXECUÇÃO DA DECISÃO PROFERIDA NOS AUTOS DO PRO...</td>\n",
       "      <td>DESCONTO EM FOLHA</td>\n",
       "      <td>JOÃO BATISTA GOMES GONÇALVES - PREFEITO (CPF: ...</td>\n",
       "      <td>6.256822e+04</td>\n",
       "      <td>PREFEITURA MUNICIPAL DE BREJINHO</td>\n",
       "      <td>1</td>\n",
       "      <td>000065/2025</td>\n",
       "      <td>R$ 62.568,22 (sessenta e dois mil, quinhentos ...</td>\n",
       "    </tr>\n",
       "    <tr>\n",
       "      <th>78</th>\n",
       "      <td>000067</td>\n",
       "      <td>2025</td>\n",
       "      <td>EXECUÇÃO DA DECISÃO PROFERIDA NOS AUTOS DO PRO...</td>\n",
       "      <td>DESCONTO EM FOLHA</td>\n",
       "      <td>JOÃO EVANGELISTA DE MENEZES FILHO (CPF: 022898...</td>\n",
       "      <td>8.826636e+03</td>\n",
       "      <td>SECRETARIA DE ESTADO DA EDUCAÇÃO, DA CULTURA, ...</td>\n",
       "      <td>1</td>\n",
       "      <td>000067/2025</td>\n",
       "      <td>R$ 8.826,64 (oito mil, oitocentos e vinte e se...</td>\n",
       "    </tr>\n",
       "    <tr>\n",
       "      <th>79</th>\n",
       "      <td>002013</td>\n",
       "      <td>2025</td>\n",
       "      <td>EXECUÇÃO DA DECISÃO PROFERIDA NOS AUTOS DO PRO...</td>\n",
       "      <td>DESCONTO EM FOLHA</td>\n",
       "      <td>SERGIO EDUARDO BEZERRA TEODORO (CPF: 15706141487)</td>\n",
       "      <td>1.196894e+04</td>\n",
       "      <td>SECRETARIA DE ESTADO DA EDUCAÇÃO, DA CULTURA, ...</td>\n",
       "      <td>1</td>\n",
       "      <td>002013/2025</td>\n",
       "      <td>R$ 11.968,94 (onze mil, novecentos e sessenta ...</td>\n",
       "    </tr>\n",
       "    <tr>\n",
       "      <th>80</th>\n",
       "      <td>000852</td>\n",
       "      <td>2025</td>\n",
       "      <td>EXECUÇÃO DA DECISÃO PROFERIDA NOS AUTOS DO PRO...</td>\n",
       "      <td>DESCONTO EM FOLHA</td>\n",
       "      <td>Alexandre Magno de Montenegro Miranda (CPF: 15...</td>\n",
       "      <td>4.333259e+03</td>\n",
       "      <td>COMPANHIA DE SERVIÇOS URBANOS DE NATAL</td>\n",
       "      <td>1</td>\n",
       "      <td>000852/2025</td>\n",
       "      <td>R$ 4.333,26 (quatro mil, trezentos e trinta e ...</td>\n",
       "    </tr>\n",
       "  </tbody>\n",
       "</table>\n",
       "</div>"
      ],
      "text/plain": [
       "   numero_processo ano_processo  \\\n",
       "0           011032         2016   \n",
       "2           003636         2017   \n",
       "14          003636         2017   \n",
       "30          003636         2017   \n",
       "31          002138         2019   \n",
       "32          002138         2019   \n",
       "40          000088         2021   \n",
       "41          001434         2023   \n",
       "42          001434         2023   \n",
       "43          001434         2023   \n",
       "44          002011         2024   \n",
       "49          002033         2024   \n",
       "54          002035         2024   \n",
       "56          002578         2024   \n",
       "62          003368         2024   \n",
       "63          003400         2024   \n",
       "64          003400         2024   \n",
       "65          003400         2024   \n",
       "66          003400         2024   \n",
       "68          003413         2024   \n",
       "69          004871         2024   \n",
       "70          004871         2024   \n",
       "71          004887         2024   \n",
       "72          004923         2024   \n",
       "73          000060         2025   \n",
       "74          000061         2025   \n",
       "75          000061         2025   \n",
       "76          000062         2025   \n",
       "77          000065         2025   \n",
       "78          000067         2025   \n",
       "79          002013         2025   \n",
       "80          000852         2025   \n",
       "\n",
       "                                              assunto          descricao  \\\n",
       "0   EXECUÇÃO DA DECISÃO PROFERIDA NOS AUTOS DO PRO...  DESCONTO EM FOLHA   \n",
       "2   EXECUÇÃO DA DECISÃO PROFERIDA NOS AUTOS DO PRO...  DESCONTO EM FOLHA   \n",
       "14  EXECUÇÃO DA DECISÃO PROFERIDA NOS AUTOS DO PRO...  DESCONTO EM FOLHA   \n",
       "30  EXECUÇÃO DA DECISÃO PROFERIDA NOS AUTOS DO PRO...  DESCONTO EM FOLHA   \n",
       "31  EXECUÇÃO DA DECISÃO PROFERIDA NOS AUTOS DO PRO...  DESCONTO EM FOLHA   \n",
       "32  EXECUÇÃO DA DECISÃO PROFERIDA NOS AUTOS DO PRO...  DESCONTO EM FOLHA   \n",
       "40  EXECUÇÃO DA DECISÃO PROFERIDA NOS AUTOS DO PRO...  DESCONTO EM FOLHA   \n",
       "41  EXECUÇÃO DA DECISÃO PROFERIDA NOS AUTOS DO PRO...  DESCONTO EM FOLHA   \n",
       "42  EXECUÇÃO DA DECISÃO PROFERIDA NOS AUTOS DO PRO...  DESCONTO EM FOLHA   \n",
       "43  EXECUÇÃO DA DECISÃO PROFERIDA NOS AUTOS DO PRO...  DESCONTO EM FOLHA   \n",
       "44  EXECUÇÃO DA DECISÃO PROFERIDA NOS AUTOS DO PRO...  DESCONTO EM FOLHA   \n",
       "49  EXECUÇÃO DA DECISÃO PROFERIDA NOS AUTOS DO PRO...  DESCONTO EM FOLHA   \n",
       "54  EXECUÇÃO DA DECISÃO PROFERIDA NOS AUTOS DO PRO...  DESCONTO EM FOLHA   \n",
       "56  EXECUÇÃO DA DECISÃO PROFERIDA NOS AUTOS DO PRO...  DESCONTO EM FOLHA   \n",
       "62  EXECUÇÃO DA DECISÃO PROFERIDA NOS AUTOS DO PRO...  DESCONTO EM FOLHA   \n",
       "63  EXECUÇÃO DA DECISÃO PROFERIDA NOS AUTOS DO PRO...  DESCONTO EM FOLHA   \n",
       "64  EXECUÇÃO DA DECISÃO PROFERIDA NOS AUTOS DO PRO...  DESCONTO EM FOLHA   \n",
       "65  EXECUÇÃO DA DECISÃO PROFERIDA NOS AUTOS DO PRO...  DESCONTO EM FOLHA   \n",
       "66  EXECUÇÃO DA DECISÃO PROFERIDA NOS AUTOS DO PRO...  DESCONTO EM FOLHA   \n",
       "68  EXECUÇÃO DA DECISÃO PROFERIDA NOS AUTOS DO PRO...  DESCONTO EM FOLHA   \n",
       "69  EXECUÇÃO DA DECISÃO PROFERIDA NOS AUTOS DO PRO...  DESCONTO EM FOLHA   \n",
       "70  EXECUÇÃO DA DECISÃO PROFERIDA NOS AUTOS DO PRO...  DESCONTO EM FOLHA   \n",
       "71  EXECUÇÃO DA DECISÃO PROFERIDA NOS AUTOS DO PRO...  DESCONTO EM FOLHA   \n",
       "72  EXECUÇÃO DA DECISÃO PROFERIDA NOS AUTOS DO PRO...  DESCONTO EM FOLHA   \n",
       "73  EXECUÇÃO DA DECISÃO PROFERIDA NOS AUTOS DO PRO...  DESCONTO EM FOLHA   \n",
       "74  EXECUÇÃO DA DECISÃO PROFERIDA NOS AUTOS DO PRO...  DESCONTO EM FOLHA   \n",
       "75  EXECUÇÃO DA DECISÃO PROFERIDA NOS AUTOS DO PRO...  DESCONTO EM FOLHA   \n",
       "76  EXECUÇÃO DA DECISÃO PROFERIDA NOS AUTOS DO PRO...  DESCONTO EM FOLHA   \n",
       "77  EXECUÇÃO DA DECISÃO PROFERIDA NOS AUTOS DO PRO...  DESCONTO EM FOLHA   \n",
       "78  EXECUÇÃO DA DECISÃO PROFERIDA NOS AUTOS DO PRO...  DESCONTO EM FOLHA   \n",
       "79  EXECUÇÃO DA DECISÃO PROFERIDA NOS AUTOS DO PRO...  DESCONTO EM FOLHA   \n",
       "80  EXECUÇÃO DA DECISÃO PROFERIDA NOS AUTOS DO PRO...  DESCONTO EM FOLHA   \n",
       "\n",
       "                                                 nome   valor_multa  \\\n",
       "0            CARLOS JOSÉ FERNANDES (CPF: 76816591453)  2.251209e+02   \n",
       "2      FRANCISCO DE ASSIS DE SOUZA (CPF: 50288032420)  3.538894e+04   \n",
       "14           Francisco Nobre Neto  (CPF: 77801172434)  4.102813e+04   \n",
       "30              JOÃO DIMAS BEZERRA (CPF: 02600404449)  4.572236e+03   \n",
       "31  ABEL BELARMINO DE AMORIM FILHO (CPF: 30732921449)  2.162631e+04   \n",
       "32  LUDMILA CARLOS AMORIM DE ARAÚJO ROSADO (CPF: 0...  2.162631e+04   \n",
       "40        JOSINALDO AMARO DE LIMA  (CPF: 73694940472)  3.488608e+03   \n",
       "41    Antônio Carlos Peixoto Nunes (CPF: 00789686406)  5.812417e+03   \n",
       "42    Antônio Carlos Peixoto Nunes (CPF: 00789686406)  1.453104e+03   \n",
       "43    Antônio Carlos Peixoto Nunes (CPF: 00789686406)  5.231175e+04   \n",
       "44       Josiane de Lima Rodrigues (CPF: 81334702420)  1.491025e+04   \n",
       "49          HAROLDO GOMES DA SILVA (CPF: 45536996487)  5.716374e+03   \n",
       "54          HAROLDO GOMES DA SILVA (CPF: 45536996487)  5.939399e+03   \n",
       "56  THALIA CRISTINA DA SILVA FIGUEIREDO (CPF: 0716...  0.000000e+00   \n",
       "62  Alexandre Pereira de Araujo Montenegro(vereado...  1.042398e+04   \n",
       "63  Sandra Maria Garcia de Oliveira (CPF: 01971759...  2.055542e+07   \n",
       "64  MARIA AUXILIADORA PRAXEDES DE FREITAS (CPF: 22...  2.055542e+07   \n",
       "65  MARIA AUXILIADORA PRAXEDES DE FREITAS (CPF: 22...  1.139023e+04   \n",
       "66  Sandra Maria Garcia de Oliveira (CPF: 01971759...  1.126717e+04   \n",
       "68  João Maria Montenegro da Silva (CPF: 48148750459)  4.641800e+03   \n",
       "69           CARLOS JOSÉ FERNANDES (CPF: 76816591453)  4.592174e+04   \n",
       "70           FRANCISCO TADEU NUNES (CPF: 10772359415)  8.728708e+04   \n",
       "71  BRENNO OLIVEIRA QUEIROGA DE MORAIS (CPF: 00925...  6.683840e+03   \n",
       "72  SONYARA DE SOUZA RIBEIRO, PREFEITA (CPF: 01083...  8.428212e+03   \n",
       "73  KLAUSS FRANCISCO TORQUATO RÊGO (CPF: 50277464404)  3.597120e+03   \n",
       "74       Luiz Carvalho de Oliveira (CPF: 07103793824)  6.653791e+03   \n",
       "75       Jório Cezar Chaves Damião (CPF: 00900778490)  2.593648e+04   \n",
       "76    RONALDO DE OLIVEIRA TEIXEIRA (CPF: 42362385787)  4.128346e+03   \n",
       "77  JOÃO BATISTA GOMES GONÇALVES - PREFEITO (CPF: ...  6.256822e+04   \n",
       "78  JOÃO EVANGELISTA DE MENEZES FILHO (CPF: 022898...  8.826636e+03   \n",
       "79  SERGIO EDUARDO BEZERRA TEODORO (CPF: 15706141487)  1.196894e+04   \n",
       "80  Alexandre Magno de Montenegro Miranda (CPF: 15...  4.333259e+03   \n",
       "\n",
       "                                           nome_orgao  status_divida  \\\n",
       "0                 PREFEITURA MUNICIPAL DE MAJOR SALES              1   \n",
       "2           PREFEITURA MUNICIPAL DE JARDIM DE ANGICOS              1   \n",
       "14              CÂMARA MUNICIPAL DE JARDIM DE ANGICOS              1   \n",
       "30                                                  0              1   \n",
       "31             PREFEITURA MUNICIPAL DE RAFAEL GODEIRO              1   \n",
       "32             PREFEITURA MUNICIPAL DE RAFAEL GODEIRO              1   \n",
       "40                   PREFEITURA MUNICIPAL DE SAO TOME              1   \n",
       "41                      PREFEITURA MUNICIPAL DE PARAÚ              1   \n",
       "42                      PREFEITURA MUNICIPAL DE PARAÚ              1   \n",
       "43                      PREFEITURA MUNICIPAL DE PARAÚ              1   \n",
       "44                    CÂMARA MUNICIPAL DE RIO DO FOGO              1   \n",
       "49  SECRETARIA DE ESTADO DO TRABALHO, DA HABITAÇÃO...              1   \n",
       "54  SECRETARIA DE ESTADO DO TRABALHO, DA HABITAÇÃO...              1   \n",
       "56  REGIME PRÓPRIO DE PREVIDÊNCIA SOCIAL DO MUNICÍ...              1   \n",
       "62                     CÂMARA MUNICIPAL DE PENDÊNCIAS              1   \n",
       "63                                                  0              1   \n",
       "64      UNIVERSIDADE DO ESTADO DO RIO GRANDE DO NORTE              1   \n",
       "65      UNIVERSIDADE DO ESTADO DO RIO GRANDE DO NORTE              1   \n",
       "66                                                  0              1   \n",
       "68         PREFEITURA MUNICIPAL DE SAO BENTO DO NORTE              1   \n",
       "69                PREFEITURA MUNICIPAL DE MAJOR SALES              1   \n",
       "70              SECRETARIA DE ESTADO DA SAÚDE PUBLICA              1   \n",
       "71                      PREFEITURA MUNICIPAL DE NATAL              1   \n",
       "72                   PREFEITURA MUNICIPAL DE PASSAGEM              1   \n",
       "73                PREFEITURA MUNICIPAL DE CEARÁ-MIRIM              1   \n",
       "74               CÂMARA MUNICIPAL DE RAFAEL FERNANDES              1   \n",
       "75               CÂMARA MUNICIPAL DE RAFAEL FERNANDES              1   \n",
       "76      INSTITUTO DE PREVIDÊNCIA DOS SERVIDORES DO RN              1   \n",
       "77                   PREFEITURA MUNICIPAL DE BREJINHO              1   \n",
       "78  SECRETARIA DE ESTADO DA EDUCAÇÃO, DA CULTURA, ...              1   \n",
       "79  SECRETARIA DE ESTADO DA EDUCAÇÃO, DA CULTURA, ...              1   \n",
       "80             COMPANHIA DE SERVIÇOS URBANOS DE NATAL              1   \n",
       "\n",
       "       processo                                              valor  \n",
       "0   011032/2016  R$ 225,12 (duzentos e vinte e cinco reais e do...  \n",
       "2   003636/2017  R$ 35.388,94 (trinta e cinco mil, trezentos e ...  \n",
       "14  003636/2017  R$ 41.028,13 (quarenta e um mil e vinte e oito...  \n",
       "30  003636/2017  R$ 4.572,24 (quatro mil, quinhentos e setenta ...  \n",
       "31  002138/2019  R$ 21.626,31 (vinte e um mil, seiscentos e vin...  \n",
       "32  002138/2019  R$ 21.626,31 (vinte e um mil, seiscentos e vin...  \n",
       "40  000088/2021  R$ 3.488,61 (três mil, quatrocentos e oitenta ...  \n",
       "41  001434/2023  R$ 5.812,42 (cinco mil, oitocentos e doze reai...  \n",
       "42  001434/2023  R$ 1.453,10 (mil, quatrocentos e cinquenta e t...  \n",
       "43  001434/2023  R$ 52.311,75 (cinquenta e dois mil, trezentos ...  \n",
       "44  002011/2024  R$ 14.910,25 (catorze mil, novecentos e dez re...  \n",
       "49  002033/2024  R$ 5.716,37 (cinco mil, setecentos e dezesseis...  \n",
       "54  002035/2024  R$ 5.939,40 (cinco mil, novecentos e trinta e ...  \n",
       "56  002578/2024                                     R$ 0,00 (zero)  \n",
       "62  003368/2024  R$ 10.423,98 (dez mil, quatrocentos e vinte e ...  \n",
       "63  003400/2024  R$ 20.555.417,54 (vinte milhões, quinhentos e ...  \n",
       "64  003400/2024  R$ 20.555.417,54 (vinte milhões, quinhentos e ...  \n",
       "65  003400/2024  R$ 11.390,23 (onze mil, trezentos e noventa re...  \n",
       "66  003400/2024  R$ 11.267,17 (onze mil, duzentos e sessenta e ...  \n",
       "68  003413/2024  R$ 4.641,80 (quatro mil, seiscentos e quarenta...  \n",
       "69  004871/2024  R$ 45.921,74 (quarenta e cinco mil, novecentos...  \n",
       "70  004871/2024  R$ 87.287,08 (oitenta e sete mil, duzentos e o...  \n",
       "71  004887/2024  R$ 6.683,84 (seis mil, seiscentos e oitenta e ...  \n",
       "72  004923/2024  R$ 8.428,21 (oito mil, quatrocentos e vinte e ...  \n",
       "73  000060/2025  R$ 3.597,12 (três mil, quinhentos e noventa e ...  \n",
       "74  000061/2025  R$ 6.653,79 (seis mil, seiscentos e cinquenta ...  \n",
       "75  000061/2025  R$ 25.936,48 (vinte e cinco mil, novecentos e ...  \n",
       "76  000062/2025  R$ 4.128,35 (quatro mil, cento e vinte e oito ...  \n",
       "77  000065/2025  R$ 62.568,22 (sessenta e dois mil, quinhentos ...  \n",
       "78  000067/2025  R$ 8.826,64 (oito mil, oitocentos e vinte e se...  \n",
       "79  002013/2025  R$ 11.968,94 (onze mil, novecentos e sessenta ...  \n",
       "80  000852/2025  R$ 4.333,26 (quatro mil, trezentos e trinta e ...  "
      ]
     },
     "execution_count": 13,
     "metadata": {},
     "output_type": "execute_result"
    }
   ],
   "source": [
    "descontos_aberto"
   ]
  },
  {
   "cell_type": "code",
   "execution_count": 24,
   "metadata": {},
   "outputs": [
    {
     "name": "stderr",
     "output_type": "stream",
     "text": [
      "Warning: failed to launch javaldx - java may not function correctly\n"
     ]
    },
    {
     "name": "stdout",
     "output_type": "stream",
     "text": [
      "convert /home/eduardo/Dev/ccd/scripts/saidas/desconto_folha/011032_2016_carlos.docx as a Writer document -> /home/eduardo/Dev/ccd/scripts/saidas/desconto_folha/011032_2016_carlos.pdf using filter : writer_pdf_Export\n",
      "Gerado arquivo para o processo 011032/2016\n"
     ]
    },
    {
     "name": "stderr",
     "output_type": "stream",
     "text": [
      "Warning: failed to launch javaldx - java may not function correctly\n"
     ]
    },
    {
     "name": "stdout",
     "output_type": "stream",
     "text": [
      "convert /home/eduardo/Dev/ccd/scripts/saidas/desconto_folha/003636_2017_francisco.docx as a Writer document -> /home/eduardo/Dev/ccd/scripts/saidas/desconto_folha/003636_2017_francisco.pdf using filter : writer_pdf_Export\n",
      "Gerado arquivo para o processo 003636/2017\n"
     ]
    },
    {
     "name": "stderr",
     "output_type": "stream",
     "text": [
      "Warning: failed to launch javaldx - java may not function correctly\n"
     ]
    },
    {
     "name": "stdout",
     "output_type": "stream",
     "text": [
      "convert /home/eduardo/Dev/ccd/scripts/saidas/desconto_folha/003636_2017_francisco.docx as a Writer document -> /home/eduardo/Dev/ccd/scripts/saidas/desconto_folha/003636_2017_francisco.pdf using filter : writer_pdf_Export\n",
      "Overwriting: /home/eduardo/Dev/ccd/scripts/saidas/desconto_folha/003636_2017_francisco.pdf\n",
      "Gerado arquivo para o processo 003636/2017\n"
     ]
    },
    {
     "name": "stderr",
     "output_type": "stream",
     "text": [
      "Warning: failed to launch javaldx - java may not function correctly\n"
     ]
    },
    {
     "name": "stdout",
     "output_type": "stream",
     "text": [
      "convert /home/eduardo/Dev/ccd/scripts/saidas/desconto_folha/003636_2017_joão.docx as a Writer document -> /home/eduardo/Dev/ccd/scripts/saidas/desconto_folha/003636_2017_joão.pdf using filter : writer_pdf_Export\n",
      "Gerado arquivo para o processo 003636/2017\n"
     ]
    },
    {
     "name": "stderr",
     "output_type": "stream",
     "text": [
      "Warning: failed to launch javaldx - java may not function correctly\n"
     ]
    },
    {
     "name": "stdout",
     "output_type": "stream",
     "text": [
      "convert /home/eduardo/Dev/ccd/scripts/saidas/desconto_folha/002138_2019_abel.docx as a Writer document -> /home/eduardo/Dev/ccd/scripts/saidas/desconto_folha/002138_2019_abel.pdf using filter : writer_pdf_Export\n",
      "Gerado arquivo para o processo 002138/2019\n"
     ]
    },
    {
     "name": "stderr",
     "output_type": "stream",
     "text": [
      "Warning: failed to launch javaldx - java may not function correctly\n"
     ]
    },
    {
     "name": "stdout",
     "output_type": "stream",
     "text": [
      "convert /home/eduardo/Dev/ccd/scripts/saidas/desconto_folha/002138_2019_ludmila.docx as a Writer document -> /home/eduardo/Dev/ccd/scripts/saidas/desconto_folha/002138_2019_ludmila.pdf using filter : writer_pdf_Export\n",
      "Gerado arquivo para o processo 002138/2019\n"
     ]
    },
    {
     "name": "stderr",
     "output_type": "stream",
     "text": [
      "Warning: failed to launch javaldx - java may not function correctly\n"
     ]
    },
    {
     "name": "stdout",
     "output_type": "stream",
     "text": [
      "convert /home/eduardo/Dev/ccd/scripts/saidas/desconto_folha/000088_2021_josinaldo.docx as a Writer document -> /home/eduardo/Dev/ccd/scripts/saidas/desconto_folha/000088_2021_josinaldo.pdf using filter : writer_pdf_Export\n",
      "Gerado arquivo para o processo 000088/2021\n"
     ]
    },
    {
     "name": "stderr",
     "output_type": "stream",
     "text": [
      "Warning: failed to launch javaldx - java may not function correctly\n"
     ]
    },
    {
     "name": "stdout",
     "output_type": "stream",
     "text": [
      "convert /home/eduardo/Dev/ccd/scripts/saidas/desconto_folha/001434_2023_antônio.docx as a Writer document -> /home/eduardo/Dev/ccd/scripts/saidas/desconto_folha/001434_2023_antônio.pdf using filter : writer_pdf_Export\n",
      "Gerado arquivo para o processo 001434/2023\n"
     ]
    },
    {
     "name": "stderr",
     "output_type": "stream",
     "text": [
      "Warning: failed to launch javaldx - java may not function correctly\n"
     ]
    },
    {
     "name": "stdout",
     "output_type": "stream",
     "text": [
      "convert /home/eduardo/Dev/ccd/scripts/saidas/desconto_folha/001434_2023_antônio.docx as a Writer document -> /home/eduardo/Dev/ccd/scripts/saidas/desconto_folha/001434_2023_antônio.pdf using filter : writer_pdf_Export\n",
      "Overwriting: /home/eduardo/Dev/ccd/scripts/saidas/desconto_folha/001434_2023_antônio.pdf\n",
      "Gerado arquivo para o processo 001434/2023\n"
     ]
    },
    {
     "name": "stderr",
     "output_type": "stream",
     "text": [
      "Warning: failed to launch javaldx - java may not function correctly\n"
     ]
    },
    {
     "name": "stdout",
     "output_type": "stream",
     "text": [
      "convert /home/eduardo/Dev/ccd/scripts/saidas/desconto_folha/001434_2023_antônio.docx as a Writer document -> /home/eduardo/Dev/ccd/scripts/saidas/desconto_folha/001434_2023_antônio.pdf using filter : writer_pdf_Export\n",
      "Overwriting: /home/eduardo/Dev/ccd/scripts/saidas/desconto_folha/001434_2023_antônio.pdf\n",
      "Gerado arquivo para o processo 001434/2023\n"
     ]
    },
    {
     "name": "stderr",
     "output_type": "stream",
     "text": [
      "Warning: failed to launch javaldx - java may not function correctly\n"
     ]
    },
    {
     "name": "stdout",
     "output_type": "stream",
     "text": [
      "convert /home/eduardo/Dev/ccd/scripts/saidas/desconto_folha/002011_2024_josiane.docx as a Writer document -> /home/eduardo/Dev/ccd/scripts/saidas/desconto_folha/002011_2024_josiane.pdf using filter : writer_pdf_Export\n",
      "Gerado arquivo para o processo 002011/2024\n"
     ]
    },
    {
     "name": "stderr",
     "output_type": "stream",
     "text": [
      "Warning: failed to launch javaldx - java may not function correctly\n"
     ]
    },
    {
     "name": "stdout",
     "output_type": "stream",
     "text": [
      "convert /home/eduardo/Dev/ccd/scripts/saidas/desconto_folha/002033_2024_haroldo.docx as a Writer document -> /home/eduardo/Dev/ccd/scripts/saidas/desconto_folha/002033_2024_haroldo.pdf using filter : writer_pdf_Export\n",
      "Gerado arquivo para o processo 002033/2024\n"
     ]
    },
    {
     "name": "stderr",
     "output_type": "stream",
     "text": [
      "Warning: failed to launch javaldx - java may not function correctly\n"
     ]
    },
    {
     "name": "stdout",
     "output_type": "stream",
     "text": [
      "convert /home/eduardo/Dev/ccd/scripts/saidas/desconto_folha/002035_2024_haroldo.docx as a Writer document -> /home/eduardo/Dev/ccd/scripts/saidas/desconto_folha/002035_2024_haroldo.pdf using filter : writer_pdf_Export\n",
      "Gerado arquivo para o processo 002035/2024\n"
     ]
    },
    {
     "name": "stderr",
     "output_type": "stream",
     "text": [
      "Warning: failed to launch javaldx - java may not function correctly\n"
     ]
    },
    {
     "name": "stdout",
     "output_type": "stream",
     "text": [
      "convert /home/eduardo/Dev/ccd/scripts/saidas/desconto_folha/002578_2024_thalia.docx as a Writer document -> /home/eduardo/Dev/ccd/scripts/saidas/desconto_folha/002578_2024_thalia.pdf using filter : writer_pdf_Export\n",
      "Gerado arquivo para o processo 002578/2024\n"
     ]
    },
    {
     "name": "stderr",
     "output_type": "stream",
     "text": [
      "Warning: failed to launch javaldx - java may not function correctly\n"
     ]
    },
    {
     "name": "stdout",
     "output_type": "stream",
     "text": [
      "convert /home/eduardo/Dev/ccd/scripts/saidas/desconto_folha/003368_2024_alexandre.docx as a Writer document -> /home/eduardo/Dev/ccd/scripts/saidas/desconto_folha/003368_2024_alexandre.pdf using filter : writer_pdf_Export\n",
      "Gerado arquivo para o processo 003368/2024\n"
     ]
    },
    {
     "name": "stderr",
     "output_type": "stream",
     "text": [
      "Warning: failed to launch javaldx - java may not function correctly\n"
     ]
    },
    {
     "name": "stdout",
     "output_type": "stream",
     "text": [
      "convert /home/eduardo/Dev/ccd/scripts/saidas/desconto_folha/003400_2024_sandra.docx as a Writer document -> /home/eduardo/Dev/ccd/scripts/saidas/desconto_folha/003400_2024_sandra.pdf using filter : writer_pdf_Export\n",
      "Gerado arquivo para o processo 003400/2024\n"
     ]
    },
    {
     "name": "stderr",
     "output_type": "stream",
     "text": [
      "Warning: failed to launch javaldx - java may not function correctly\n"
     ]
    },
    {
     "name": "stdout",
     "output_type": "stream",
     "text": [
      "convert /home/eduardo/Dev/ccd/scripts/saidas/desconto_folha/003400_2024_maria.docx as a Writer document -> /home/eduardo/Dev/ccd/scripts/saidas/desconto_folha/003400_2024_maria.pdf using filter : writer_pdf_Export\n",
      "Gerado arquivo para o processo 003400/2024\n"
     ]
    },
    {
     "name": "stderr",
     "output_type": "stream",
     "text": [
      "Warning: failed to launch javaldx - java may not function correctly\n"
     ]
    },
    {
     "name": "stdout",
     "output_type": "stream",
     "text": [
      "convert /home/eduardo/Dev/ccd/scripts/saidas/desconto_folha/003400_2024_maria.docx as a Writer document -> /home/eduardo/Dev/ccd/scripts/saidas/desconto_folha/003400_2024_maria.pdf using filter : writer_pdf_Export\n",
      "Overwriting: /home/eduardo/Dev/ccd/scripts/saidas/desconto_folha/003400_2024_maria.pdf\n",
      "Gerado arquivo para o processo 003400/2024\n"
     ]
    },
    {
     "name": "stderr",
     "output_type": "stream",
     "text": [
      "Warning: failed to launch javaldx - java may not function correctly\n"
     ]
    },
    {
     "name": "stdout",
     "output_type": "stream",
     "text": [
      "convert /home/eduardo/Dev/ccd/scripts/saidas/desconto_folha/003400_2024_sandra.docx as a Writer document -> /home/eduardo/Dev/ccd/scripts/saidas/desconto_folha/003400_2024_sandra.pdf using filter : writer_pdf_Export\n",
      "Overwriting: /home/eduardo/Dev/ccd/scripts/saidas/desconto_folha/003400_2024_sandra.pdf\n",
      "Gerado arquivo para o processo 003400/2024\n"
     ]
    },
    {
     "name": "stderr",
     "output_type": "stream",
     "text": [
      "Warning: failed to launch javaldx - java may not function correctly\n"
     ]
    },
    {
     "name": "stdout",
     "output_type": "stream",
     "text": [
      "convert /home/eduardo/Dev/ccd/scripts/saidas/desconto_folha/003413_2024_joão.docx as a Writer document -> /home/eduardo/Dev/ccd/scripts/saidas/desconto_folha/003413_2024_joão.pdf using filter : writer_pdf_Export\n",
      "Gerado arquivo para o processo 003413/2024\n"
     ]
    },
    {
     "name": "stderr",
     "output_type": "stream",
     "text": [
      "Warning: failed to launch javaldx - java may not function correctly\n"
     ]
    },
    {
     "name": "stdout",
     "output_type": "stream",
     "text": [
      "convert /home/eduardo/Dev/ccd/scripts/saidas/desconto_folha/004871_2024_carlos.docx as a Writer document -> /home/eduardo/Dev/ccd/scripts/saidas/desconto_folha/004871_2024_carlos.pdf using filter : writer_pdf_Export\n",
      "Gerado arquivo para o processo 004871/2024\n"
     ]
    },
    {
     "name": "stderr",
     "output_type": "stream",
     "text": [
      "Warning: failed to launch javaldx - java may not function correctly\n"
     ]
    },
    {
     "name": "stdout",
     "output_type": "stream",
     "text": [
      "convert /home/eduardo/Dev/ccd/scripts/saidas/desconto_folha/004871_2024_francisco.docx as a Writer document -> /home/eduardo/Dev/ccd/scripts/saidas/desconto_folha/004871_2024_francisco.pdf using filter : writer_pdf_Export\n",
      "Gerado arquivo para o processo 004871/2024\n"
     ]
    },
    {
     "name": "stderr",
     "output_type": "stream",
     "text": [
      "Warning: failed to launch javaldx - java may not function correctly\n"
     ]
    },
    {
     "name": "stdout",
     "output_type": "stream",
     "text": [
      "convert /home/eduardo/Dev/ccd/scripts/saidas/desconto_folha/004887_2024_brenno.docx as a Writer document -> /home/eduardo/Dev/ccd/scripts/saidas/desconto_folha/004887_2024_brenno.pdf using filter : writer_pdf_Export\n",
      "Gerado arquivo para o processo 004887/2024\n"
     ]
    },
    {
     "name": "stderr",
     "output_type": "stream",
     "text": [
      "Warning: failed to launch javaldx - java may not function correctly\n"
     ]
    },
    {
     "name": "stdout",
     "output_type": "stream",
     "text": [
      "convert /home/eduardo/Dev/ccd/scripts/saidas/desconto_folha/004923_2024_sonyara.docx as a Writer document -> /home/eduardo/Dev/ccd/scripts/saidas/desconto_folha/004923_2024_sonyara.pdf using filter : writer_pdf_Export\n",
      "Gerado arquivo para o processo 004923/2024\n"
     ]
    },
    {
     "name": "stderr",
     "output_type": "stream",
     "text": [
      "Warning: failed to launch javaldx - java may not function correctly\n"
     ]
    },
    {
     "name": "stdout",
     "output_type": "stream",
     "text": [
      "convert /home/eduardo/Dev/ccd/scripts/saidas/desconto_folha/000060_2025_klauss.docx as a Writer document -> /home/eduardo/Dev/ccd/scripts/saidas/desconto_folha/000060_2025_klauss.pdf using filter : writer_pdf_Export\n",
      "Gerado arquivo para o processo 000060/2025\n"
     ]
    },
    {
     "name": "stderr",
     "output_type": "stream",
     "text": [
      "Warning: failed to launch javaldx - java may not function correctly\n"
     ]
    },
    {
     "name": "stdout",
     "output_type": "stream",
     "text": [
      "convert /home/eduardo/Dev/ccd/scripts/saidas/desconto_folha/000061_2025_luiz.docx as a Writer document -> /home/eduardo/Dev/ccd/scripts/saidas/desconto_folha/000061_2025_luiz.pdf using filter : writer_pdf_Export\n",
      "Gerado arquivo para o processo 000061/2025\n"
     ]
    },
    {
     "name": "stderr",
     "output_type": "stream",
     "text": [
      "Warning: failed to launch javaldx - java may not function correctly\n"
     ]
    },
    {
     "name": "stdout",
     "output_type": "stream",
     "text": [
      "convert /home/eduardo/Dev/ccd/scripts/saidas/desconto_folha/000061_2025_jório.docx as a Writer document -> /home/eduardo/Dev/ccd/scripts/saidas/desconto_folha/000061_2025_jório.pdf using filter : writer_pdf_Export\n",
      "Gerado arquivo para o processo 000061/2025\n"
     ]
    },
    {
     "name": "stderr",
     "output_type": "stream",
     "text": [
      "Warning: failed to launch javaldx - java may not function correctly\n"
     ]
    },
    {
     "name": "stdout",
     "output_type": "stream",
     "text": [
      "convert /home/eduardo/Dev/ccd/scripts/saidas/desconto_folha/000062_2025_ronaldo.docx as a Writer document -> /home/eduardo/Dev/ccd/scripts/saidas/desconto_folha/000062_2025_ronaldo.pdf using filter : writer_pdf_Export\n",
      "Gerado arquivo para o processo 000062/2025\n"
     ]
    },
    {
     "name": "stderr",
     "output_type": "stream",
     "text": [
      "Warning: failed to launch javaldx - java may not function correctly\n"
     ]
    },
    {
     "name": "stdout",
     "output_type": "stream",
     "text": [
      "convert /home/eduardo/Dev/ccd/scripts/saidas/desconto_folha/000065_2025_joão.docx as a Writer document -> /home/eduardo/Dev/ccd/scripts/saidas/desconto_folha/000065_2025_joão.pdf using filter : writer_pdf_Export\n",
      "Gerado arquivo para o processo 000065/2025\n"
     ]
    },
    {
     "name": "stderr",
     "output_type": "stream",
     "text": [
      "Warning: failed to launch javaldx - java may not function correctly\n"
     ]
    },
    {
     "name": "stdout",
     "output_type": "stream",
     "text": [
      "convert /home/eduardo/Dev/ccd/scripts/saidas/desconto_folha/000067_2025_joão.docx as a Writer document -> /home/eduardo/Dev/ccd/scripts/saidas/desconto_folha/000067_2025_joão.pdf using filter : writer_pdf_Export\n",
      "Gerado arquivo para o processo 000067/2025\n"
     ]
    },
    {
     "name": "stderr",
     "output_type": "stream",
     "text": [
      "Warning: failed to launch javaldx - java may not function correctly\n"
     ]
    },
    {
     "name": "stdout",
     "output_type": "stream",
     "text": [
      "convert /home/eduardo/Dev/ccd/scripts/saidas/desconto_folha/002013_2025_sergio.docx as a Writer document -> /home/eduardo/Dev/ccd/scripts/saidas/desconto_folha/002013_2025_sergio.pdf using filter : writer_pdf_Export\n",
      "Gerado arquivo para o processo 002013/2025\n"
     ]
    },
    {
     "name": "stderr",
     "output_type": "stream",
     "text": [
      "Warning: failed to launch javaldx - java may not function correctly\n"
     ]
    },
    {
     "name": "stdout",
     "output_type": "stream",
     "text": [
      "convert /home/eduardo/Dev/ccd/scripts/saidas/desconto_folha/000852_2025_alexandre.docx as a Writer document -> /home/eduardo/Dev/ccd/scripts/saidas/desconto_folha/000852_2025_alexandre.pdf using filter : writer_pdf_Export\n",
      "Gerado arquivo para o processo 000852/2025\n"
     ]
    }
   ],
   "source": [
    "for desconto in descontos_aberto.itertuples():\n",
    "    doc = DocxTemplate(\"templates/desconto_folha.docx\")\n",
    "    context = {\n",
    "        'processo': desconto.processo,\n",
    "        'assunto': desconto.assunto,\n",
    "        'nome': desconto.nome,\n",
    "        'orgao': desconto.nome_orgao,\n",
    "        'valor': desconto.valor\n",
    "    }\n",
    "    nome = desconto.nome.split()[0].lower()\n",
    "    processo_underline = desconto.processo.replace('/', '_')\n",
    "\n",
    "    doc.render(context)\n",
    "    doc.save(f\"saidas/desconto_folha/{processo_underline}_{nome}.docx\")\n",
    "    generate_pdf(f\"saidas/desconto_folha/{processo_underline}_{nome}.docx\", f\"saidas/desconto_folha/\")\n",
    "    print(f\"Gerado arquivo para o processo {desconto.processo}\")"
   ]
  },
  {
   "cell_type": "code",
   "execution_count": null,
   "metadata": {},
   "outputs": [],
   "source": []
  }
 ],
 "metadata": {
  "kernelspec": {
   "display_name": ".venv",
   "language": "python",
   "name": "python3"
  },
  "language_info": {
   "codemirror_mode": {
    "name": "ipython",
    "version": 3
   },
   "file_extension": ".py",
   "mimetype": "text/x-python",
   "name": "python",
   "nbconvert_exporter": "python",
   "pygments_lexer": "ipython3",
   "version": "3.12.3"
  }
 },
 "nbformat": 4,
 "nbformat_minor": 2
}
