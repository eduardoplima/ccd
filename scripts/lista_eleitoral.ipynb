{
 "cells": [
  {
   "cell_type": "markdown",
   "id": "4a8f5d6d",
   "metadata": {},
   "source": [
    "# Script para planilha de lista eleitoral"
   ]
  },
  {
   "cell_type": "code",
   "execution_count": 11,
   "id": "d981980e",
   "metadata": {},
   "outputs": [],
   "source": [
    "import pypdf\n",
    "import datetime\n",
    "\n",
    "import pandas as pd\n",
    "import numpy as np\n",
    "import matplotlib.pyplot as plt\n",
    "import seaborn as sns   \n",
    "\n",
    "from pathlib import Path\n",
    "from functools import partial\n",
    "from langchain_openai import  AzureChatOpenAI\n",
    "from langchain.prompts import PromptTemplate\n",
    "from utils_ccd import get_connection, extract_text_from_pdf, get_file_path\n",
    "\n",
    "conn = get_connection()"
   ]
  },
  {
   "cell_type": "code",
   "execution_count": 2,
   "id": "c68ef3f4",
   "metadata": {},
   "outputs": [
    {
     "name": "stderr",
     "output_type": "stream",
     "text": [
      "/tmp/ipykernel_186959/1476759274.py:9: UserWarning: pandas only supports SQLAlchemy connectable (engine/connection) or database string URI or sqlite3 DBAPI2 connection. Other DBAPI2 objects are not tested. Please consider using SQLAlchemy.\n",
      "  df_processo = pd.read_sql(sql_processo, conn)\n",
      "/tmp/ipykernel_186959/1476759274.py:20: UserWarning: pandas only supports SQLAlchemy connectable (engine/connection) or database string URI or sqlite3 DBAPI2 connection. Other DBAPI2 objects are not tested. Please consider using SQLAlchemy.\n",
      "  all_informacoes_processos = pd.read_sql(sql_all_informacoes_processos, conn)\n"
     ]
    }
   ],
   "source": [
    "df_lista = pd.read_excel(\"docs/lista_eleitoral_250527.xlsx\")\n",
    "processos = ','.join(map(lambda x: f\"'{x}'\", df_lista['NUM_PROCESSO']))\n",
    "\n",
    "sql_processo = f''' \n",
    "SELECT *\n",
    "FROM processo.dbo.Processos p\n",
    "WHERE CONCAT(p.numero_processo, '/', p.ano_processo) IN ({processos});\n",
    "'''\n",
    "df_processo = pd.read_sql(sql_processo, conn)\n",
    "\n",
    "sql_all_informacoes_processos = f'''\n",
    "    SELECT concat(rtrim(inf.setor),'_',inf.numero_processo ,'_',inf.ano_processo,'_',RIGHT(concat('0000',inf.ordem),4),'.pdf') as arquivo,\n",
    "    ppe.SequencialProcessoEvento as evento,\n",
    "    CONCAT(inf.numero_processo,'/', inf.ano_processo) as processo,\n",
    "    inf.*\n",
    "    FROM processo.dbo.vw_ata_informacao inf INNER JOIN processo.dbo.Pro_ProcessoEvento ppe \n",
    "        ON inf.idinformacao = ppe.idinformacao\n",
    "    WHERE concat(inf.numero_processo, '/', inf.ano_processo) in ({processos})\n",
    "'''\n",
    "all_informacoes_processos = pd.read_sql(sql_all_informacoes_processos, conn)\n",
    "\n",
    "def filter_infos(df):\n",
    "    df = df.copy()\n",
    "    df = df[~df['resumo'].str.contains('capa', case=False, na=False)]\n",
    "    df = df[~df['resumo'].str.contains('digitalizado', case=False, na=False)]\n",
    "    return df\n"
   ]
  },
  {
   "cell_type": "code",
   "execution_count": 22,
   "id": "c4d3ead6",
   "metadata": {},
   "outputs": [],
   "source": [
    "llm = AzureChatOpenAI(model_name=\"gpt-4o\")\n",
    "def is_parecer_previo(texto):\n",
    "    try:\n",
    "        prompt = PromptTemplate.from_template(\"\"\"\n",
    "        Você é um agente que analisa e resume informações de processos do Tribunal de Contas do Estado do Rio Grande do Norte.\n",
    "\n",
    "        O texto da informação é o seguinte:\n",
    "        \"{input}\"\n",
    "                                              \n",
    "        Defina se a informação é um parecer prévio ou não.\n",
    "        Responda apenas com \"Sim\" ou \"Não\". Não forneça explicações ou justificativas.                                           \n",
    "\n",
    "        Sua resposta:\n",
    "        \"\"\")\n",
    "\n",
    "        chain = prompt | llm\n",
    "        msg_obj = chain.invoke(texto)\n",
    "        return msg_obj.content\n",
    "    except Exception as e:\n",
    "        print(f\"Error processing {texto}: {e}\")\n",
    "        return None"
   ]
  },
  {
   "cell_type": "code",
   "execution_count": null,
   "id": "d98df439",
   "metadata": {},
   "outputs": [],
   "source": []
  },
  {
   "cell_type": "code",
   "execution_count": null,
   "id": "0f1dd53a",
   "metadata": {},
   "outputs": [],
   "source": []
  },
  {
   "cell_type": "code",
   "execution_count": null,
   "id": "4162dc46",
   "metadata": {},
   "outputs": [],
   "source": []
  },
  {
   "cell_type": "code",
   "execution_count": null,
   "id": "a7d0dab6",
   "metadata": {},
   "outputs": [],
   "source": []
  },
  {
   "cell_type": "code",
   "execution_count": null,
   "id": "cf97a3a1",
   "metadata": {},
   "outputs": [],
   "source": []
  },
  {
   "cell_type": "code",
   "execution_count": null,
   "id": "255af57b",
   "metadata": {},
   "outputs": [],
   "source": []
  },
  {
   "cell_type": "code",
   "execution_count": 3,
   "id": "3fd4d631",
   "metadata": {},
   "outputs": [
    {
     "data": {
      "text/plain": [
       "'000270/2005'"
      ]
     },
     "execution_count": 3,
     "metadata": {},
     "output_type": "execute_result"
    }
   ],
   "source": [
    "processo = processos.split(',')[0].replace(\"'\", \"\")\n",
    "processo"
   ]
  },
  {
   "cell_type": "code",
   "execution_count": 4,
   "id": "0a1f69c0",
   "metadata": {},
   "outputs": [],
   "source": [
    "info_processo = all_informacoes_processos[all_informacoes_processos['processo'] == processo]"
   ]
  },
  {
   "cell_type": "code",
   "execution_count": 5,
   "id": "3fcf6336",
   "metadata": {},
   "outputs": [],
   "source": [
    "info_processo = filter_infos(info_processo)"
   ]
  },
  {
   "cell_type": "code",
   "execution_count": 13,
   "id": "6f1c288d",
   "metadata": {},
   "outputs": [],
   "source": [
    "info_processo['caminho_arquivo'] = info_processo.apply(get_file_path, axis=1)"
   ]
  },
  {
   "cell_type": "code",
   "execution_count": 16,
   "id": "3e524e0f",
   "metadata": {},
   "outputs": [
    {
     "data": {
      "text/plain": [
       "2432    /media/informacoes_pdf/GCREN/GCREN_000270_2005...\n",
       "2452    /media/informacoes_pdf/DAE_SEI/DAE_SEI_000270_...\n",
       "Name: caminho_arquivo, dtype: object"
      ]
     },
     "execution_count": 16,
     "metadata": {},
     "output_type": "execute_result"
    }
   ],
   "source": [
    "info_processo['caminho_arquivo']"
   ]
  },
  {
   "cell_type": "code",
   "execution_count": 18,
   "id": "90f3efe0",
   "metadata": {},
   "outputs": [],
   "source": [
    "info_processo['texto'] = info_processo['caminho_arquivo'].apply(extract_text_from_pdf)"
   ]
  },
  {
   "cell_type": "code",
   "execution_count": 20,
   "id": "c8573bdd",
   "metadata": {},
   "outputs": [
    {
     "name": "stdout",
     "output_type": "stream",
     "text": [
      " \n",
      " \n",
      " \n",
      " \n",
      " \n",
      " \n",
      " \n",
      " \n",
      "PROCESSO Nº.: 270/2005-TC. \n",
      "ASSUNTO: DOCUMENTAÇÃO COMPROBATÓRIA DE DESPESA ANO 200 3- \n",
      "DILIGÊNCIA 3384-DAE. \n",
      "INTERESSADO: CÂMARA  MUNICIPAL DE SÃO PEDRO. \n",
      "CONSELHEIRO RELATOR: RENATO COSTA DIAS  \n",
      " \n",
      " \n",
      " \n",
      " \n",
      " \n",
      "DESPACHO \n",
      "Natal – RN, 11/07/2018 \n",
      " \n",
      " \n",
      " \n",
      " \n",
      "  \n",
      "Acato o Despac ho da Diretoria de Atos e Execuções - DAE,  evento \n",
      "12, e tendo em vista a devida formalização do procedimento au tônomo de \n",
      "execução (Proc.  nº 6334/2018-TC),  determino o encaminhamento do presente \n",
      "processo ao Arquivo Geral desta Corte de Contas, para arquiv amento. \n",
      " \n",
      " \n",
      " \n",
      " \n",
      "RENATO COSTA DIAS \n",
      "Conselheiro-Relator \n",
      "Gabinete do Conselheiro Renato Costa Dias \n"
     ]
    }
   ],
   "source": [
    "print(info_processo['texto'].iloc[0])"
   ]
  },
  {
   "cell_type": "code",
   "execution_count": null,
   "id": "e20e1366",
   "metadata": {},
   "outputs": [],
   "source": []
  }
 ],
 "metadata": {
  "kernelspec": {
   "display_name": ".venv",
   "language": "python",
   "name": "python3"
  },
  "language_info": {
   "codemirror_mode": {
    "name": "ipython",
    "version": 3
   },
   "file_extension": ".py",
   "mimetype": "text/x-python",
   "name": "python",
   "nbconvert_exporter": "python",
   "pygments_lexer": "ipython3",
   "version": "3.12.7"
  }
 },
 "nbformat": 4,
 "nbformat_minor": 5
}
