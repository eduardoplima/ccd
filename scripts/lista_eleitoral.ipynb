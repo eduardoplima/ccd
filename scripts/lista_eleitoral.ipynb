{
 "cells": [
  {
   "cell_type": "markdown",
   "id": "4a8f5d6d",
   "metadata": {},
   "source": [
    "# Script para planilha de lista eleitoral"
   ]
  },
  {
   "cell_type": "code",
   "execution_count": 13,
   "id": "d981980e",
   "metadata": {},
   "outputs": [],
   "source": [
    "import pypdf\n",
    "import datetime\n",
    "\n",
    "import pandas as pd\n",
    "import numpy as np\n",
    "import matplotlib.pyplot as plt\n",
    "import seaborn as sns   \n",
    "\n",
    "from pathlib import Path\n",
    "from functools import partial\n",
    "from langchain_openai import  AzureChatOpenAI\n",
    "from langchain.prompts import PromptTemplate\n",
    "from utils_ccd import get_connection, extract_text_from_pdf\n",
    "from pathlib import Path\n",
    "\n",
    "DIR_INFORMACOES = '/media/informacoes_pdf/'\n",
    "def get_info_file_path(row):\n",
    "    return Path(DIR_INFORMACOES) / row['setor'].strip() / row['arquivo']\n",
    "\n",
    "conn = get_connection()"
   ]
  },
  {
   "cell_type": "code",
   "execution_count": 2,
   "id": "c68ef3f4",
   "metadata": {},
   "outputs": [
    {
     "name": "stderr",
     "output_type": "stream",
     "text": [
      "/tmp/ipykernel_18255/1476759274.py:9: UserWarning: pandas only supports SQLAlchemy connectable (engine/connection) or database string URI or sqlite3 DBAPI2 connection. Other DBAPI2 objects are not tested. Please consider using SQLAlchemy.\n",
      "  df_processo = pd.read_sql(sql_processo, conn)\n",
      "/tmp/ipykernel_18255/1476759274.py:20: UserWarning: pandas only supports SQLAlchemy connectable (engine/connection) or database string URI or sqlite3 DBAPI2 connection. Other DBAPI2 objects are not tested. Please consider using SQLAlchemy.\n",
      "  all_informacoes_processos = pd.read_sql(sql_all_informacoes_processos, conn)\n"
     ]
    }
   ],
   "source": [
    "df_lista = pd.read_excel(\"docs/lista_eleitoral_250527.xlsx\")\n",
    "processos = ','.join(map(lambda x: f\"'{x}'\", df_lista['NUM_PROCESSO']))\n",
    "\n",
    "sql_processo = f''' \n",
    "SELECT *\n",
    "FROM processo.dbo.Processos p\n",
    "WHERE CONCAT(p.numero_processo, '/', p.ano_processo) IN ({processos});\n",
    "'''\n",
    "df_processo = pd.read_sql(sql_processo, conn)\n",
    "\n",
    "sql_all_informacoes_processos = f'''\n",
    "    SELECT concat(rtrim(inf.setor),'_',inf.numero_processo ,'_',inf.ano_processo,'_',RIGHT(concat('0000',inf.ordem),4),'.pdf') as arquivo,\n",
    "    ppe.SequencialProcessoEvento as evento,\n",
    "    CONCAT(inf.numero_processo,'/', inf.ano_processo) as processo,\n",
    "    inf.*\n",
    "    FROM processo.dbo.vw_ata_informacao inf INNER JOIN processo.dbo.Pro_ProcessoEvento ppe \n",
    "        ON inf.idinformacao = ppe.idinformacao\n",
    "    WHERE concat(inf.numero_processo, '/', inf.ano_processo) in ({processos})\n",
    "'''\n",
    "all_informacoes_processos = pd.read_sql(sql_all_informacoes_processos, conn)\n",
    "\n",
    "def filter_infos(df):\n",
    "    df = df.copy()\n",
    "    df = df[~df['resumo'].str.contains('capa', case=False, na=False)]\n",
    "    df = df[~df['resumo'].str.contains('digitalizado', case=False, na=False)]\n",
    "    return df\n"
   ]
  },
  {
   "cell_type": "code",
   "execution_count": 27,
   "id": "3765c75b",
   "metadata": {},
   "outputs": [],
   "source": [
    "all_informacoes_processos = filter_infos(all_informacoes_processos)"
   ]
  },
  {
   "cell_type": "code",
   "execution_count": null,
   "id": "d8171ea2",
   "metadata": {},
   "outputs": [],
   "source": [
    "all_informacoes_processos['caminho_arquivo'] = all_informacoes_processos.apply(get_info_file_path, axis=1)"
   ]
  },
  {
   "cell_type": "code",
   "execution_count": null,
   "id": "7d90eb29",
   "metadata": {},
   "outputs": [],
   "source": []
  },
  {
   "cell_type": "code",
   "execution_count": null,
   "id": "e642d151",
   "metadata": {},
   "outputs": [],
   "source": [
    "all_informacoes_processos['texto'] = all_informacoes_processos['caminho_arquivo'].apply(extract_text_from_pdf)"
   ]
  },
  {
   "cell_type": "code",
   "execution_count": 3,
   "id": "c4d3ead6",
   "metadata": {},
   "outputs": [],
   "source": [
    "llm = AzureChatOpenAI(model_name=\"gpt-4o\")\n",
    "def is_parecer_previo(texto):\n",
    "    try:\n",
    "        prompt = PromptTemplate.from_template(\"\"\"\n",
    "        Você é um agente que analisa e resume informações de processos do Tribunal de Contas do Estado do Rio Grande do Norte.\n",
    "\n",
    "        O texto da informação é o seguinte:\n",
    "        \"{input}\"\n",
    "                                              \n",
    "        Defina se a informação é um parecer prévio ou não.\n",
    "        Responda apenas com \"Sim\" ou \"Não\". Não forneça explicações ou justificativas.                                           \n",
    "\n",
    "        Sua resposta:\n",
    "        \"\"\")\n",
    "\n",
    "        chain = prompt | llm\n",
    "        msg_obj = chain.invoke(texto)\n",
    "        return msg_obj.content\n",
    "    except Exception as e:\n",
    "        print(f\"Error processing {texto}: {e}\")\n",
    "        return None"
   ]
  },
  {
   "cell_type": "code",
   "execution_count": 26,
   "id": "cd0082a7",
   "metadata": {},
   "outputs": [],
   "source": [
    "import re\n",
    "\n",
    "def is_parecer_previo_regex(texto):\n",
    "    try:\n",
    "        # Regex pattern to match \"parecer prévio\" or similar phrases\n",
    "        pattern = r'\\b(parecer prévio|parecer prévio do tribunal|parecer prévio do tce)\\b'\n",
    "        if re.search(pattern, texto, re.IGNORECASE):\n",
    "            return 'Sim'\n",
    "        else:\n",
    "            return 'Não'\n",
    "    except Exception as e:\n",
    "        print(f\"Error processing {texto}: {e}\")\n",
    "        return None"
   ]
  },
  {
   "cell_type": "code",
   "execution_count": 29,
   "id": "0f1dd53a",
   "metadata": {},
   "outputs": [],
   "source": [
    "all_informacoes_processos['parecer_previo'] = all_informacoes_processos['texto'].apply(is_parecer_previo_regex)"
   ]
  },
  {
   "cell_type": "code",
   "execution_count": 31,
   "id": "4162dc46",
   "metadata": {},
   "outputs": [
    {
     "data": {
      "text/plain": [
       "Não    10547\n",
       "Sim      275\n",
       "Name: parecer_previo, dtype: int64"
      ]
     },
     "execution_count": 31,
     "metadata": {},
     "output_type": "execute_result"
    }
   ],
   "source": [
    "all_informacoes_processos['parecer_previo'].value_counts()"
   ]
  }
 ],
 "metadata": {
  "kernelspec": {
   "display_name": ".venv",
   "language": "python",
   "name": "python3"
  },
  "language_info": {
   "codemirror_mode": {
    "name": "ipython",
    "version": 3
   },
   "file_extension": ".py",
   "mimetype": "text/x-python",
   "name": "python",
   "nbconvert_exporter": "python",
   "pygments_lexer": "ipython3",
   "version": "3.12.7"
  }
 },
 "nbformat": 4,
 "nbformat_minor": 5
}
