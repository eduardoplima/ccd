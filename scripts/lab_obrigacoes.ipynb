{
 "cells": [
  {
   "cell_type": "code",
   "execution_count": 8,
   "metadata": {},
   "outputs": [],
   "source": [
    "import os\n",
    "\n",
    "from dotenv import load_dotenv\n",
    "\n",
    "from langchain_openai import AzureOpenAI, AzureChatOpenAI\n",
    "from langchain.prompts import PromptTemplate, ChatPromptTemplate, FewShotChatMessagePromptTemplate\n"
   ]
  },
  {
   "cell_type": "code",
   "execution_count": 9,
   "metadata": {},
   "outputs": [
    {
     "data": {
      "text/plain": [
       "True"
      ]
     },
     "execution_count": 9,
     "metadata": {},
     "output_type": "execute_result"
    }
   ],
   "source": [
    "load_dotenv()"
   ]
  },
  {
   "cell_type": "code",
   "execution_count": 10,
   "metadata": {},
   "outputs": [],
   "source": [
    "openai = AzureChatOpenAI(model_name=\"gpt-4o\")"
   ]
  },
  {
   "cell_type": "code",
   "execution_count": 5,
   "metadata": {},
   "outputs": [
    {
     "data": {
      "text/plain": [
       "AIMessage(content='Hello, John! It\\'s great to hear that you\\'re working on a project to create a new programming language—what an exciting endeavor! I’d be happy to help you with tools and ideas to assist in generating code snippets. Here are some possible tools and approaches you can consider:\\n\\n---\\n\\n### 1. **Code Generation Tools**\\nYou can use existing tools and libraries tailored for generating code programmatically:\\n\\n- **ANTLR (Another Tool for Language Recognition)**  \\n  ANTLR is a powerful parser generator that allows you to define the grammar of your new language and build parsers, interpreters, or compilers. You can adapt it to generate code snippets as part of your language toolchain.  \\n  [Website](https://www.antlr.org/)\\n\\n- **Xtext**  \\n  Xtext is a framework for developing domain-specific programming languages and integrates with Eclipse for development. It can help generate editors, interpreters, and code scaffolding for your language.  \\n  [Website](https://www.eclipse.org/Xtext/)\\n\\n- **CodeDom in .NET**  \\n  If you’re working in the .NET ecosystem, CodeDom provides utilities for programmatically generating language-specific code snippets in a structured manner.  \\n  [Docs](https://docs.microsoft.com/en-us/dotnet/framework/reflection-and-codedom/)\\n\\n- **LLVM**  \\n  If your language gets compiled, LLVM provides low-level tools for generating intermediate and machine-level code, which might be suitable if you’re targeting performance.  \\n  [Website](https://llvm.org/)\\n\\n---\\n\\n### 2. **Custom Code Generators with Templates**\\nYou can build your own tool to generate code snippets using templating libraries:\\n\\n- **String Substitution in Your Host Language**  \\n  Many programming languages (like Python, JavaScript, or Ruby) have string templating libraries that you could use to dynamically build code snippets based on rules. For example, in Python:\\n  ```python\\n  template = \"def {function_name}():\\\\n    print(\\'{message}\\')\"\\n  code = template.format(function_name=\"hello_world\", message=\"Hello, World!\")\\n  print(code)\\n  ```\\n  \\n- **Jinja2 (Python)**  \\n  A popular templating engine in Python, Jinja2, can help you create complex rules and structured code snippets.  \\n  ```python\\n  from jinja2 import Template\\n\\n  template = Template(\"def {{ name }}():\\\\n    print(\\'{{ message }}\\')\")\\n  code = template.render(name=\\'my_function\\', message=\\'Hello Code!\\')\\n  print(code)\\n  ```\\n\\n- **Mustache or Handlebars for Generic Templating**  \\n  These are lightweight, language-agnostic templating engines (used in many languages) that could help you design reusable patterns for generating sample code.\\n\\n---\\n\\n### 3. **AI-Powered Code Generators**\\nRecent AI technologies are also excellent for prototyping and generating code:\\n\\n- **OpenAI Codex (via ChatGPT or GitHub Copilot)**  \\n  You can use an AI like ChatGPT or GitHub Copilot to provide sample code snippets in your language. Start by describing the structure or behavior of the program, and then use the AI tool to generate ideas and examples.\\n\\n- **DSL-Specific Generators**  \\n  Once your programming language has a defined syntax and grammar, you could train a custom AI model to generate meaningful snippets by feeding it examples of your language.\\n\\n---\\n\\n### 4. **Grammar and AST-Based Code Generators**\\nYou can design tools that generate abstract syntax trees (ASTs) and transform them into code snippets for your language:\\n\\n- **Tree-Sitter**  \\n  An efficient parser-generator tool for text editor integration (like providing syntax highlighting and code generation). You could modify its rules to generate your language\\'s snippets.  \\n  [Website](https://tree-sitter.github.io/tree-sitter/)\\n\\n- **Custom AST Walkers**  \\n  Once your language grammar is defined, you can write code in your implementation language (e.g., Python) to traverse an AST and generate example source code:\\n  ```python\\n  class Node:\\n      def __init__(self, type, value=None):\\n          self.type = type\\n          self.value = value\\n          self.children = []\\n\\n  def generate_code(node):\\n      if node.type == \"function\":\\n          return f\"def {node.value}():\\\\n    pass\\\\n\"\\n      return \"\"\\n\\n  ast = Node(type=\"function\", value=\"my_function\")\\n  print(generate_code(ast))\\n  ```\\n\\n---\\n\\n### 5. **Integrated Development Environments (IDEs)**\\nAs you finalize your language syntax, consider integrating directly with existing IDEs or building your own:\\n\\n- **IntelliJ Platform**  \\n  You can use the OpenAPI from IntelliJ to create language support plugins, including code snippet templates.  \\n  [Docs](https://plugins.jetbrains.com/docs/intellij/welcome.html)\\n\\n- **Visual Studio Code Extensions**  \\n  VS Code has an extension API where you can create syntax definitions, code snippets, and even autocompletions for your new language.  \\n  [Docs](https://code.visualstudio.com/api)\\n\\n---\\n\\n### What’s Next?\\nIf you tell me more about your programming language—like its purpose, paradigm (functional, object-oriented, etc.), and syntax—I can provide more specific suggestions or even help you write a starter code generator.', additional_kwargs={'refusal': None}, response_metadata={'token_usage': {'completion_tokens': 1096, 'prompt_tokens': 57, 'total_tokens': 1153, 'completion_tokens_details': {'accepted_prediction_tokens': 0, 'audio_tokens': 0, 'reasoning_tokens': 0, 'rejected_prediction_tokens': 0}, 'prompt_tokens_details': {'audio_tokens': 0, 'cached_tokens': 0}}, 'model_name': 'gpt-4o-2024-11-20', 'system_fingerprint': 'fp_b705f0c291', 'prompt_filter_results': [{'prompt_index': 0, 'content_filter_results': {'hate': {'filtered': False, 'severity': 'safe'}, 'jailbreak': {'filtered': False, 'detected': False}, 'self_harm': {'filtered': False, 'severity': 'safe'}, 'sexual': {'filtered': False, 'severity': 'safe'}, 'violence': {'filtered': False, 'severity': 'safe'}}}], 'finish_reason': 'stop', 'logprobs': None, 'content_filter_results': {'hate': {'filtered': False, 'severity': 'safe'}, 'protected_material_code': {'filtered': False, 'detected': False}, 'protected_material_text': {'filtered': False, 'detected': False}, 'self_harm': {'filtered': False, 'severity': 'safe'}, 'sexual': {'filtered': False, 'severity': 'safe'}, 'violence': {'filtered': False, 'severity': 'safe'}}}, id='run-ceb76358-919b-4e0f-8627-8dc2290f74b5-0', usage_metadata={'input_tokens': 57, 'output_tokens': 1096, 'total_tokens': 1153, 'input_token_details': {'audio': 0, 'cache_read': 0}, 'output_token_details': {'audio': 0, 'reasoning': 0}})"
      ]
     },
     "execution_count": 5,
     "metadata": {},
     "output_type": "execute_result"
    }
   ],
   "source": [
    "openai.invoke(\"Hello, my name is John and I am a software developer. I am working on a project to build a new programming language. I am looking for a tool that can help me generate code snippets for my project. Can you help me with that?\")"
   ]
  },
  {
   "cell_type": "code",
   "execution_count": null,
   "metadata": {},
   "outputs": [],
   "source": []
  }
 ],
 "metadata": {
  "kernelspec": {
   "display_name": ".venv",
   "language": "python",
   "name": "python3"
  },
  "language_info": {
   "codemirror_mode": {
    "name": "ipython",
    "version": 3
   },
   "file_extension": ".py",
   "mimetype": "text/x-python",
   "name": "python",
   "nbconvert_exporter": "python",
   "pygments_lexer": "ipython3",
   "version": "3.12.7"
  }
 },
 "nbformat": 4,
 "nbformat_minor": 2
}
