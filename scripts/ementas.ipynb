{
 "cells": [
  {
   "cell_type": "markdown",
   "id": "6d4d7e12",
   "metadata": {},
   "source": []
  },
  {
   "cell_type": "code",
   "execution_count": null,
   "id": "376b7ea6",
   "metadata": {},
   "outputs": [],
   "source": [
    "import pypdf\n",
    "import datetime\n",
    "\n",
    "import pandas as pd\n",
    "import numpy as np\n",
    "import matplotlib.pyplot as plt\n",
    "import seaborn as sns   \n",
    "\n",
    "from pathlib import Path\n",
    "from functools import partial\n",
    "from langchain_openai import  AzureChatOpenAI\n",
    "from langchain.prompts import PromptTemplate\n",
    "from utils_ccd import get_connection\n",
    "\n",
    "conn = get_connection()"
   ]
  },
  {
   "cell_type": "code",
   "execution_count": null,
   "id": "236cf68d",
   "metadata": {},
   "outputs": [],
   "source": [
    "llm = AzureChatOpenAI(model_name=\"gpt-4o\")\n",
    "\n",
    "def get_ementa(texto):\n",
    "    try:\n",
    "        prompt = PromptTemplate.from_template(\"\"\"\n",
    "        Você é um agente que analisa e resume informações de processos do Tribunal de Contas do Estado do Rio Grande do Norte.\n",
    "\n",
    "        O texto da informação é o seguinte:\n",
    "        \"{input}\"\n",
    "        Defina a Descrição resumida do objeto/assunto principal. \n",
    "        Seja sucinto e claro, não é necessário mencionar valores ou números de processos ou leis.\n",
    "        Deve ser uma frase com no máximo 7 palavras, sem muitos detalhes.\n",
    "                                              \n",
    "        Por exemplo: \n",
    "            Cancelamento por prescrição. \n",
    "            Atualização do CADINQ. \n",
    "            Implantação de débito de desconto em folha.\n",
    "            Instauração de Processo de Execução.  \n",
    "\n",
    "        Sua resposta:\n",
    "        \"\"\")\n",
    "\n",
    "        chain = prompt | llm\n",
    "        msg_obj = chain.invoke(texto)\n",
    "        return msg_obj.content\n",
    "    except Exception as e:\n",
    "        print(f\"Error processing {texto}: {e}\")\n",
    "        return None"
   ]
  }
 ],
 "metadata": {
  "kernelspec": {
   "display_name": ".venv",
   "language": "python",
   "name": "python3"
  },
  "language_info": {
   "name": "python",
   "version": "3.12.7"
  }
 },
 "nbformat": 4,
 "nbformat_minor": 5
}
