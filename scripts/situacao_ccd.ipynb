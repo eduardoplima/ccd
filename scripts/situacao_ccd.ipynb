{
 "cells": [
  {
   "cell_type": "markdown",
   "id": "7afc062b",
   "metadata": {},
   "source": [
    "# Notebook para gerenciar estoque processual da CCD"
   ]
  },
  {
   "cell_type": "code",
   "execution_count": 2,
   "id": "c90b1195",
   "metadata": {},
   "outputs": [],
   "source": [
    "import pandas as pd\n",
    "import numpy as np\n",
    "import matplotlib.pyplot as plt\n",
    "import seaborn as sns   \n",
    "\n",
    "from utils_ccd import get_connection, get_info_file_path, extract_text_from_pdf\n",
    "\n",
    "from langchain_openai import  AzureChatOpenAI\n",
    "from langchain.prompts import PromptTemplate\n",
    "\n",
    "conn = get_connection()"
   ]
  },
  {
   "cell_type": "code",
   "execution_count": 7,
   "id": "38b1f3d1",
   "metadata": {},
   "outputs": [
    {
     "name": "stderr",
     "output_type": "stream",
     "text": [
      "C:\\Users\\05911205424\\AppData\\Local\\Temp\\ipykernel_3468\\4120982869.py:8: UserWarning: pandas only supports SQLAlchemy connectable (engine/connection) or database string URI or sqlite3 DBAPI2 connection. Other DBAPI2 objects are not tested. Please consider using SQLAlchemy.\n",
      "  df_infos = pd.read_sql(consulta_informacoes, conn)\n"
     ]
    }
   ],
   "source": [
    "consulta_informacoes = '''\n",
    "SELECT ai.*\n",
    "FROM processo.dbo.vw_ata_informacao ai\n",
    "WHERE year(ai.datainclusao) = 2025\n",
    "AND ai.setor = 'CCD'\n",
    "'''\n",
    "\n",
    "df_infos = pd.read_sql(consulta_informacoes, conn)"
   ]
  },
  {
   "cell_type": "code",
   "execution_count": 11,
   "id": "255760d0",
   "metadata": {},
   "outputs": [],
   "source": [
    "counts = df_infos.resumo.value_counts().reset_index()"
   ]
  },
  {
   "cell_type": "code",
   "execution_count": 17,
   "id": "34ada414",
   "metadata": {},
   "outputs": [],
   "source": [
    "counts = counts[~counts['resumo'].str.contains('Pagamento', case=False)]\n",
    "counts = counts[~counts['resumo'].str.contains('Evento', case=False)]\n",
    "counts = counts[~counts['resumo'].str.contains('Protesto', case=False)]"
   ]
  },
  {
   "cell_type": "code",
   "execution_count": null,
   "id": "b2c8254e",
   "metadata": {},
   "outputs": [],
   "source": []
  }
 ],
 "metadata": {
  "kernelspec": {
   "display_name": ".venv",
   "language": "python",
   "name": "python3"
  },
  "language_info": {
   "codemirror_mode": {
    "name": "ipython",
    "version": 3
   },
   "file_extension": ".py",
   "mimetype": "text/x-python",
   "name": "python",
   "nbconvert_exporter": "python",
   "pygments_lexer": "ipython3",
   "version": "3.12.10"
  }
 },
 "nbformat": 4,
 "nbformat_minor": 5
}
