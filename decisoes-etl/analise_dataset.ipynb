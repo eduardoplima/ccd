{
 "cells": [
  {
   "cell_type": "code",
   "execution_count": 1,
   "metadata": {},
   "outputs": [],
   "source": [
    "import pandas as pd"
   ]
  },
  {
   "cell_type": "code",
   "execution_count": 2,
   "metadata": {},
   "outputs": [],
   "source": [
    "df = pd.read_json('output.json')"
   ]
  },
  {
   "cell_type": "code",
   "execution_count": 4,
   "metadata": {},
   "outputs": [],
   "source": [
    "df['texto'] = df['texto'].apply(lambda x: ''.join(x))"
   ]
  },
  {
   "cell_type": "code",
   "execution_count": 9,
   "metadata": {},
   "outputs": [
    {
     "name": "stdout",
     "output_type": "stream",
     "text": [
      "Processo Nº 001231 / 2023 - TC (001231/2023-TC)\n",
      "SESSÃO ORDINÁRIA 00004ª, DE 15 DE FEVEREIRO DE 2024 - 1ª CÂMARA.\n",
      "Interessado(s):   PREFEITURA MUNICIPAL DE NÍSIA FLORESTA/RN                                                                                                                                                                                                                      \n",
      "  \n",
      "Assunto:  DENÚNCIA\n",
      "Relator(a):  MARCO ANTÔNIO DE MORAES RÊGO MONTENEGRO\n",
      "EMENTA: DENÚNCIA. AUSÊNCIA DE LASTRO PROBATÓRIO MÍNIMO PARA \n",
      "O DESENVOLVIMENTO REGULAR DO PROCESSO.  ADMISSIBILIDADE \n",
      "PREJUDICADA. INTELIGÊNCIA DO ARTIGO 80, § 1º, DA LOTCE . \n",
      "ARQUIV AMENTO DO PRESENTE FEITO.\n",
      "ACÓRDÃO No. 40/2024 - TC\n",
      "               Vistos, relatados e discutidos estes autos, em consonância ao posicionamento do \n",
      "Corpo técnico e do Ministério Público de Contas, ACORDAM os Conselheiros, nos termos \n",
      "do voto proposto pelo Conselheiro Relator, julgar a inadmissibilidade da presente denúncia e \n",
      "o seu conseqüente arquivamento, com fulcro nos art. 12 do Provimento 002/2020 – \n",
      "CORREG/TCE, aprovado pela Resolução 016/2020 – TCE e artigo 80, § 1º, da LOTCE. \n",
      "E ainda, Pela expedição de RECOMENDAÇÃO, nos termos do art. 301, III da Resolução \n",
      "009/2012 (RITCE/RN) c/c art. 13, II da Resolução 16/2020 –TCE/RN, ao Executivo \n",
      "Municipal de Nísia Floresta /RN, com cópia para o respectivo órgão de controle interno, ou \n",
      "setor responsável pelas publicações oficiais, lastreada na Constituição Federal de 88/ Art. 37, \n",
      "a fim de que promova e deixe claro os seguintes comportamentos em suas postagens:\n",
      "a) As atividades e ações oficiais por meio da rede social devem seguir os imperativos do \n",
      "mencionado § 1º do artigo 37, no sentido de ostentarem natureza educativa e informativa , \n",
      "requerendo do agente, o máximo de cuidado e bom senso ao utilizar -se de tal meio de \n",
      "comunicação;\n",
      "b) Não repassar informações oficiais de maneira antecipada, deturpar informações ou fazer \n",
      "uso de informações oficiais para promoção pessoal;\n",
      "c) Quanto as postagens feitas utilizando -se a ferramenta Collab do Instagram, que sejam \n",
      "excluídas, com o fito de não confundir o eleitor /cidadão acerca da titularidade do conteúdo \n",
      "produzido, sabendo-se que primeiro o conteúdo deve ser postado e produzido pelo perfil \n",
      "oficial do município e só então pode o Prefeito respostar no seu Perfil Pessoal, pois, embora \n",
      "sabendo que a legislação não aborda esse detalhe, tendo em vista novel conceito sobre \n",
      "publicidade, considera-se, a nosso sentir, uma boa prática adotada tanto pelo gestor, como \n",
      "pelo município.\n",
      "RelAcordao.rpt\n",
      "Av. Presidente Getúlio Vargas, 690 - Ed. Dr. Múcio Vilar Ribeiro Dantas\n",
      "CEP 59012-360 - Petrópolis, Natal/RN\n",
      "www.tce.rn.gov.bATA da Sessão Ordinária nº 00004/2024 de 15/02/2024\n",
      "Presentes: o Excelentíssimo Sr. Conselheiro Presidente em substituição legal  Tarcísio Costa e os \n",
      "Conselheiros:  Marco Antônio de Moraes Rêgo Montenegro (em Substituição Legal ), Francisco Potiguar \n",
      "Cavalcanti Júnior e  a Conselheira Substituta Ana Paula de Oliveira Gomes.\n",
      "Decisão tomada: Por unanimidade.\n",
      "Representante do MP: O(A) Procurador(a)  Othon Moreno de Medeiros Alves.\n",
      "Sala das Sessões, 15 de Fevereiro de 2024.\n",
      "MARCO ANTÔNIO DE MORAES RÊGO MONTENEGRO\n",
      "Conselheiro(a) Relator(a) \n",
      "RelAcordao.rpt\n",
      "Av. Presidente Getúlio Vargas, 690 - Ed. Dr. Múcio Vilar Ribeiro Dantas\n",
      "CEP 59012-360 - Petrópolis, Natal/RN\n",
      "www.tce.rn.gov.b\n"
     ]
    }
   ],
   "source": [
    "print(df.iloc[20]['texto'])"
   ]
  },
  {
   "cell_type": "code",
   "execution_count": null,
   "metadata": {},
   "outputs": [],
   "source": []
  }
 ],
 "metadata": {
  "kernelspec": {
   "display_name": ".venv",
   "language": "python",
   "name": "python3"
  },
  "language_info": {
   "codemirror_mode": {
    "name": "ipython",
    "version": 3
   },
   "file_extension": ".py",
   "mimetype": "text/x-python",
   "name": "python",
   "nbconvert_exporter": "python",
   "pygments_lexer": "ipython3",
   "version": "3.12.3"
  }
 },
 "nbformat": 4,
 "nbformat_minor": 2
}
